{
  "nbformat": 4,
  "nbformat_minor": 0,
  "metadata": {
    "colab": {
      "provenance": []
    },
    "kernelspec": {
      "name": "python3",
      "display_name": "Python 3"
    },
    "language_info": {
      "name": "python"
    }
  },
  "cells": [
    {
      "cell_type": "code",
      "source": [
        "!pip install duckdb --quiet\n",
        "!pip install -q condacolab --quiet\n",
        "import condacolab\n",
        "condacolab.install()\n",
        "\n",
        "# Mount Google Drive\n",
        "from google.colab import drive\n",
        "drive.mount('/content/drive')"
      ],
      "metadata": {
        "id": "gtNY1-X-GuL7"
      },
      "execution_count": null,
      "outputs": []
    },
    {
      "cell_type": "code",
      "source": [
        "!unzip project.zip"
      ],
      "metadata": {
        "id": "OPr6PVWNFmYE"
      },
      "execution_count": null,
      "outputs": []
    },
    {
      "cell_type": "code",
      "source": [
        "!mamba env create -f project/environment.yml"
      ],
      "metadata": {
        "id": "rDgVY1oRHBaN"
      },
      "execution_count": null,
      "outputs": []
    },
    {
      "cell_type": "code",
      "execution_count": null,
      "metadata": {
        "id": "6nEnvAS8cswA"
      },
      "outputs": [],
      "source": [
        "from project import run_pipeline_on_unseen_data\n",
        "import duckdb\n",
        "import pandas as pd\n",
        "import numpy as np\n",
        "import matplotlib.pyplot as plt"
      ]
    },
    {
      "cell_type": "code",
      "source": [
        "drive_path = '/content/drive/MyDrive/MIMIC-III' # MIMIC-III shortcut path in your drive (change accordingly)\n",
        "con = duckdb.connect(f'{drive_path}/mimiciii.duckdb')"
      ],
      "metadata": {
        "id": "BiwM1c7DcYzW"
      },
      "execution_count": null,
      "outputs": []
    },
    {
      "cell_type": "code",
      "source": [
        "test = pd.read_csv('test_example.csv')\n",
        "predction_df = run_pipeline_on_unseen_data(test['subject_id'].to_list(), con)"
      ],
      "metadata": {
        "id": "Ulgr7EFET6zA"
      },
      "execution_count": null,
      "outputs": []
    },
    {
      "cell_type": "code",
      "source": [
        "# @title Validate Shape\n",
        "assert(isinstance(predction_df, pd.DataFrame))\n",
        "assert(predction_df.shape[1] == 4)\n",
        "assert(set(predction_df.columns) == set(['subject_id', 'mortality_proba', 'prolonged_LOS_proba', 'readmission_proba']))"
      ],
      "metadata": {
        "id": "EPg1LaSrhK3k"
      },
      "execution_count": null,
      "outputs": []
    },
    {
      "cell_type": "code",
      "source": [
        "# @title Show Data Sample\n",
        "predction_df.head()"
      ],
      "metadata": {
        "id": "dBLPWFnNj_gz"
      },
      "execution_count": null,
      "outputs": []
    },
    {
      "cell_type": "code",
      "source": [
        "# @title Probability Plots\n",
        "import matplotlib.pyplot as plt\n",
        "\n",
        "fig, ax = plt.subplots()\n",
        "ax.hist(predction_df['mortality_proba'], range=(0, 1), bins=10)\n",
        "ax.set_xlabel('Mortality Probabilities')\n",
        "ax.set_ylabel('Count')\n",
        "\n",
        "fig, ax = plt.subplots()\n",
        "ax.hist(predction_df['prolonged_LOS_proba'], range=(0, 1), bins=10)\n",
        "ax.set_xlabel('Prolonged Length of Stay Probabilities')\n",
        "ax.set_ylabel('Count')\n",
        "\n",
        "fig, ax = plt.subplots()\n",
        "ax.hist(predction_df['readmission_proba'], range=(0, 1), bins=10)\n",
        "ax.set_xlabel('Readmission Probabilities')\n",
        "ax.set_ylabel('Count')\n",
        "\n",
        "plt.show()"
      ],
      "metadata": {
        "id": "nrYHApXji5p_"
      },
      "execution_count": null,
      "outputs": []
    }
  ]
}