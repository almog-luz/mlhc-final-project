{
 "cells": [
  {
   "cell_type": "markdown",
   "id": "fe6a8a0b",
   "metadata": {},
   "source": [
    "# Inference Parity Validation\n",
    "This notebook validates that `run_pipeline_on_unseen_data` uses the exact same scoring logic as the training/evaluation pipeline by delegating to `shared_inference.score_features`."
   ]
  },
  {
   "cell_type": "code",
   "execution_count": 1,
   "id": "44025cb6",
   "metadata": {},
   "outputs": [
    {
     "data": {
      "text/plain": [
       "<module 'project.features' from 'c:\\\\Users\\\\Almog Luz\\\\Documents\\\\GitHub\\\\mlhc-final-project\\\\project\\\\features.py'>"
      ]
     },
     "execution_count": 1,
     "metadata": {},
     "output_type": "execute_result"
    }
   ],
   "source": [
    "# Setup: imports (duckdb connection creation left to user environment)\n",
    "import duckdb, pandas as pd, importlib, os\n",
    "from project.unseen_data_evaluation import run_pipeline_on_unseen_data\n",
    "from project.shared_inference import score_features, _resolve_models_dir\n",
    "from project import features as features_mod\n",
    "importlib.reload(features_mod)  # ensure fresh features logic"
   ]
  },
  {
   "cell_type": "code",
   "execution_count": 2,
   "id": "9fafd193",
   "metadata": {},
   "outputs": [],
   "source": [
    "# Example connection (requires loaded MIMIC tables) - adapt as needed\n",
    "con = duckdb.connect(database=':memory:')\n",
    "# TODO: attach or create the required tables before running pipeline\n",
    "\n",
    "# Placeholder subject IDs (replace with valid ones in your environment)\n",
    "subject_ids = [10006, 10011, 10023]"
   ]
  },
  {
   "cell_type": "code",
   "execution_count": 5,
   "id": "2cbadda3",
   "metadata": {},
   "outputs": [
    {
     "name": "stdout",
     "output_type": "stream",
     "text": [
      "Synthetic minimal tables registered for debugging.\n"
     ]
    }
   ],
   "source": [
    "# (Temporary) Minimal synthetic tables for parity debugging (drop when real MIMIC attached)\n",
    "import pandas as pd, datetime\n",
    "if 'admissions' not in con.execute(\"SHOW TABLES\").fetchdf().name.values:\n",
    "    adm_synth = pd.DataFrame({\n",
    "        'subject_id': subject_ids,\n",
    "        'hadm_id': [s*10 for s in subject_ids],\n",
    "        'admittime': [pd.Timestamp('2020-01-01')]*len(subject_ids),\n",
    "        'dischtime': [pd.Timestamp('2020-01-04')]*len(subject_ids),  # 72h -> passes LOS >=54h\n",
    "        'deathtime': [None]*len(subject_ids),\n",
    "        'admission_type': ['EMERGENCY']*len(subject_ids),\n",
    "        'admission_location': ['EMERGENCY ROOM']*len(subject_ids),\n",
    "        'discharge_location': ['HOME']*len(subject_ids),\n",
    "        'diagnosis': ['SYNTH']*len(subject_ids),\n",
    "        'insurance': ['Medicare']*len(subject_ids),\n",
    "        'language': ['ENGLISH']*len(subject_ids),\n",
    "        'marital_status': ['SINGLE']*len(subject_ids),\n",
    "        'ethnicity': ['WHITE']*len(subject_ids)\n",
    "    })\n",
    "    con.register('admissions', adm_synth)\n",
    "    pats = pd.DataFrame({\n",
    "        'subject_id': subject_ids,\n",
    "        'gender': ['M']*len(subject_ids),\n",
    "        'dob': [pd.Timestamp('1980-01-01')]*len(subject_ids),\n",
    "        'dod': [None]*len(subject_ids),\n",
    "        'expire_flag': [0]*len(subject_ids)\n",
    "    })\n",
    "    con.register('patients', pats)\n",
    "    # Empty modality tables (kept minimal)\n",
    "    con.register('chartevents', pd.DataFrame(columns=['subject_id','hadm_id','charttime','itemid','valuenum','valueuom']))\n",
    "    con.register('labevents', pd.DataFrame(columns=['subject_id','hadm_id','charttime','itemid','valuenum','value','valueuom','flag']))\n",
    "    con.register('prescriptions', pd.DataFrame(columns=['subject_id','hadm_id','startdate','enddate','drug','drug_type','formulary_drug_cd','route']))\n",
    "    con.register('procedureevents_mv', pd.DataFrame(columns=['subject_id','hadm_id','starttime','endtime','itemid','ordercategoryname','ordercategorydescription','location']))\n",
    "    print('Synthetic minimal tables registered for debugging.')\n",
    "else:\n",
    "    print('Skipping synthetic table creation (admissions already present).')"
   ]
  },
  {
   "cell_type": "code",
   "execution_count": 6,
   "id": "f725f532",
   "metadata": {},
   "outputs": [
    {
     "name": "stdout",
     "output_type": "stream",
     "text": [
      "DEBUG: client_module=_duckdb, client_class=DuckDBPyConnection, requested_subjects=3\n",
      "DEBUG: resolved backend -> duckdb=True, bigquery=False\n",
      "DEBUG: first_adm.shape -> (3, 13)\n",
      "DEBUG: remaining after LOS filter -> 3\n",
      "DEBUG: modality sizes -> demo: 3 vitals: 0 labs: 0 rx: 0 proc: 0\n",
      "DEBUG(build_features): first_adm columns -> ['subject_id', 'hadm_id', 'admittime', 'dischtime', 'deathtime', 'admission_type', 'admission_location', 'discharge_location', 'diagnosis', 'insurance', 'language', 'marital_status', 'ethnicity', 'los_hours']\n",
      "DEBUG(build_features): demo columns -> ['subject_id', 'gender', 'dob', 'dod', 'expire_flag']\n",
      "DEBUG: raw features shape -> (3, 7)\n",
      "DEBUG: invoking shared_inference.score_features for unified parity scoring\n"
     ]
    },
    {
     "ename": "RuntimeError",
     "evalue": "Feature extraction incomplete; 1422 required columns missing. First few: ['eth_ASIAN', 'eth_BLACK', 'eth_HISPANIC', 'eth_OTHER', 'aprotinin cc/hr__mean', 'aprotinin ml/hr__mean', 'art bp diastolic__mean', 'art bp systolic__mean', 'arterial blood pressure diastolic__mean', 'arterial blood pressure systolic__mean']",
     "output_type": "error",
     "traceback": [
      "\u001b[31m---------------------------------------------------------------------------\u001b[39m",
      "\u001b[31mRuntimeError\u001b[39m                              Traceback (most recent call last)",
      "\u001b[36mCell\u001b[39m\u001b[36m \u001b[39m\u001b[32mIn[6]\u001b[39m\u001b[32m, line 17\u001b[39m\n\u001b[32m     15\u001b[39m \u001b[38;5;28;01mif\u001b[39;00m missing:\n\u001b[32m     16\u001b[39m     \u001b[38;5;28mprint\u001b[39m(\u001b[33m'\u001b[39m\u001b[33mWARNING: Missing expected artifacts:\u001b[39m\u001b[33m'\u001b[39m, missing)\n\u001b[32m---> \u001b[39m\u001b[32m17\u001b[39m pipeline_df = \u001b[43mrun_pipeline_on_unseen_data\u001b[49m\u001b[43m(\u001b[49m\u001b[43msubject_ids\u001b[49m\u001b[43m,\u001b[49m\u001b[43m \u001b[49m\u001b[43mcon\u001b[49m\u001b[43m)\u001b[49m\n\u001b[32m     18\u001b[39m \u001b[38;5;28mprint\u001b[39m(\u001b[33m'\u001b[39m\u001b[33mPipeline output shape:\u001b[39m\u001b[33m'\u001b[39m, pipeline_df.shape)\n\u001b[32m     19\u001b[39m \u001b[38;5;28mprint\u001b[39m(\u001b[33m'\u001b[39m\u001b[33mColumns:\u001b[39m\u001b[33m'\u001b[39m, \u001b[38;5;28mlist\u001b[39m(pipeline_df.columns))\n",
      "\u001b[36mFile \u001b[39m\u001b[32mc:\\Users\\Almog Luz\\Documents\\GitHub\\mlhc-final-project\\project\\unseen_data_evaluation.py:157\u001b[39m, in \u001b[36mrun_pipeline_on_unseen_data\u001b[39m\u001b[34m(subject_ids, client)\u001b[39m\n\u001b[32m    155\u001b[39m \u001b[38;5;66;03m# 4-6) Unified scoring (feature alignment + model loading + prediction)\u001b[39;00m\n\u001b[32m    156\u001b[39m \u001b[38;5;28mprint\u001b[39m(\u001b[33m'\u001b[39m\u001b[33mDEBUG: invoking shared_inference.score_features for unified parity scoring\u001b[39m\u001b[33m'\u001b[39m)\n\u001b[32m--> \u001b[39m\u001b[32m157\u001b[39m scored = \u001b[43mscore_features\u001b[49m\u001b[43m(\u001b[49m\u001b[43mfeatures\u001b[49m\u001b[43m)\u001b[49m\n\u001b[32m    159\u001b[39m \u001b[38;5;66;03m# 7) Build output (retain subject ordering)\u001b[39;00m\n\u001b[32m    160\u001b[39m out = scored.copy()\n",
      "\u001b[36mFile \u001b[39m\u001b[32mc:\\Users\\Almog Luz\\Documents\\GitHub\\mlhc-final-project\\project\\shared_inference.py:103\u001b[39m, in \u001b[36mscore_features\u001b[39m\u001b[34m(features, models_dir)\u001b[39m\n\u001b[32m    101\u001b[39m missing_cols = [c \u001b[38;5;28;01mfor\u001b[39;00m c \u001b[38;5;129;01min\u001b[39;00m feature_cols \u001b[38;5;28;01mif\u001b[39;00m c \u001b[38;5;129;01mnot\u001b[39;00m \u001b[38;5;129;01min\u001b[39;00m features.columns]\n\u001b[32m    102\u001b[39m \u001b[38;5;28;01mif\u001b[39;00m missing_cols:\n\u001b[32m--> \u001b[39m\u001b[32m103\u001b[39m     \u001b[38;5;28;01mraise\u001b[39;00m \u001b[38;5;167;01mRuntimeError\u001b[39;00m(\n\u001b[32m    104\u001b[39m         \u001b[33mf\u001b[39m\u001b[33m\"\u001b[39m\u001b[33mFeature extraction incomplete; \u001b[39m\u001b[38;5;132;01m{\u001b[39;00m\u001b[38;5;28mlen\u001b[39m(missing_cols)\u001b[38;5;132;01m}\u001b[39;00m\u001b[33m required columns missing. First few: \u001b[39m\u001b[38;5;132;01m{\u001b[39;00mmissing_cols[:\u001b[32m10\u001b[39m]\u001b[38;5;132;01m}\u001b[39;00m\u001b[33m\"\u001b[39m\n\u001b[32m    105\u001b[39m     )\n\u001b[32m    106\u001b[39m X = features.reindex(columns=feature_cols, fill_value=\u001b[32m0\u001b[39m)\n\u001b[32m    107\u001b[39m \u001b[38;5;66;03m# Store a copy (lightweight; mostly numeric) for downstream parity checks\u001b[39;00m\n",
      "\u001b[31mRuntimeError\u001b[39m: Feature extraction incomplete; 1422 required columns missing. First few: ['eth_ASIAN', 'eth_BLACK', 'eth_HISPANIC', 'eth_OTHER', 'aprotinin cc/hr__mean', 'aprotinin ml/hr__mean', 'art bp diastolic__mean', 'art bp systolic__mean', 'arterial blood pressure diastolic__mean', 'arterial blood pressure systolic__mean']"
     ]
    }
   ],
   "source": [
    "# Run pipeline scoring (uses shared_inference internally)\n",
    "from pathlib import Path\n",
    "from project.shared_inference import _resolve_models_dir\n",
    "models_dir = _resolve_models_dir()\n",
    "needed = [\n",
    "    'model_readmission.joblib',\n",
    "    'isotonic_readmission.joblib',\n",
    "    'model_mortality.joblib',\n",
    "    'isotonic_mortality.joblib',\n",
    "    'model_prolonged_los.joblib',\n",
    "    'isotonic_prolonged_los.joblib',\n",
    "    'feature_columns.json'\n",
    " ]\n",
    "missing = [n for n in needed if not (Path(models_dir)/n).exists()]\n",
    "if missing:\n",
    "    print('WARNING: Missing expected artifacts:', missing)\n",
    "pipeline_df = run_pipeline_on_unseen_data(subject_ids, con)\n",
    "print('Pipeline output shape:', pipeline_df.shape)\n",
    "print('Columns:', list(pipeline_df.columns))\n",
    "display(pipeline_df.head())\n",
    "pipeline_df"
   ]
  },
  {
   "cell_type": "code",
   "execution_count": 7,
   "id": "29aed83a",
   "metadata": {},
   "outputs": [
    {
     "name": "stdout",
     "output_type": "stream",
     "text": [
      "Total required feature columns (artifact): 1429\n",
      "Sample first 25: ['age', 'gender_M', 'gender_F', 'eth_ASIAN', 'eth_BLACK', 'eth_HISPANIC', 'eth_OTHER', 'eth_WHITE', 'aprotinin cc/hr__mean', 'aprotinin ml/hr__mean', 'art bp diastolic__mean', 'art bp systolic__mean', 'arterial blood pressure diastolic__mean', 'arterial blood pressure systolic__mean', 'arterial bp #2 [diastolic]__mean', 'arterial bp #2 [systolic]__mean', 'arterial bp [diastolic]__mean', 'arterial bp [systolic]__mean', 'arterial o2 saturation__mean', 'atr sens thresh mv__mean', 'atr stim thresh ma__mean', 'atrial pacemaker threshold [value]__mean', 'baseline current/ma__mean', 'blood temperature cco (c)__mean', 'bp cuff [diastolic]__mean']\n"
     ]
    }
   ],
   "source": [
    "# Diagnostics for missing feature columns\n",
    "from pathlib import Path\n",
    "import json\n",
    "feat_cols_path = Path(models_dir)/'feature_columns.json'\n",
    "if feat_cols_path.exists():\n",
    "    feature_cols_artifact = json.loads(feat_cols_path.read_text())\n",
    "    print('Total required feature columns (artifact):', len(feature_cols_artifact))\n",
    "    print('Sample first 25:', feature_cols_artifact[:25])\n",
    "else:\n",
    "    print('feature_columns.json missing; cannot list required feature set.')"
   ]
  },
  {
   "cell_type": "code",
   "execution_count": null,
   "id": "79994499",
   "metadata": {},
   "outputs": [],
   "source": [
    "# Parity self-check: Columns present and non-null\n",
    "cols = ['mortality_proba','prolonged_LOS_proba','readmission_proba']\n",
    "assert pipeline_df[cols].notna().all().all(), 'NaNs present in probability outputs'\n",
    "print('Parity OK: probabilities populated via shared scorer.')"
   ]
  },
  {
   "cell_type": "code",
   "execution_count": null,
   "id": "be7ecf8b",
   "metadata": {},
   "outputs": [],
   "source": [
    "# Canonicalize probability column names & debug\n",
    "import re, numpy as np, pandas as pd\n",
    "prob_cols = [c for c in pipeline_df.columns if c.lower().endswith('_proba')]\n",
    "print('Discovered probability columns:', prob_cols)\n",
    "canonical_map = {}\n",
    "for c in prob_cols:\n",
    "    base = re.sub(r'_proba$','', c, flags=re.IGNORECASE)\n",
    "    base_lower = base.lower()\n",
    "    if base_lower in ('prolonged_los','prolonged-los','prolonged_los_label'):\n",
    "        base_lower = 'prolonged_los'\n",
    "    elif base_lower in ('readmit','readmission'):\n",
    "        base_lower = 'readmission'\n",
    "    elif base_lower in ('mort','mortality'):\n",
    "        base_lower = 'mortality'\n",
    "    canonical_map[c] = f'{base_lower}_proba'\n",
    "if canonical_map:\n",
    "    pipeline_df = pipeline_df.rename(columns=canonical_map)\n",
    "expected = ['readmission_proba','mortality_proba','prolonged_los_proba']\n",
    "missing_expected = [c for c in expected if c not in pipeline_df.columns]\n",
    "if missing_expected:\n",
    "    print('ERROR: Missing expected probability columns:', missing_expected)\n",
    "else:\n",
    "    print('All expected probability columns present.')\n",
    "display(pipeline_df.head())"
   ]
  },
  {
   "cell_type": "code",
   "execution_count": null,
   "id": "de6b70e1",
   "metadata": {},
   "outputs": [],
   "source": [
    "# (Optional) If you expose intermediate features from pipeline, you could re-score them directly.\n",
    "# For now we just demonstrate idempotence: scoring the same features via score_features matches pipeline output.\n",
    "from project.shared_inference import score_features\n",
    "\n",
    "# Without direct access to feature DF here (pipeline encapsulates it), we perform a no-op parity:\n",
    "# Re-score by reconstructing a minimal DF from probabilities (illustrative). In practice, expose features.\n",
    "# assert (pipeline_df.set_index('subject_id')[cols] - pipeline_df.set_index('subject_id')[cols]).abs().max().max() < 1e-12\n",
    "print('Calibration-aware parity path active. To perform strict matrix parity, expose features from pipeline.')"
   ]
  },
  {
   "cell_type": "code",
   "execution_count": null,
   "id": "af621850",
   "metadata": {},
   "outputs": [],
   "source": [
    "# Strict calibrated parity check (robust)\n",
    "from project.shared_inference import get_last_aligned_features, score_features\n",
    "import numpy as np\n",
    "aligned = get_last_aligned_features()\n",
    "if aligned is None:\n",
    "    raise RuntimeError('No aligned features captured. Ensure pipeline scoring called shared scorer.')\n",
    "# Re-score using exact aligned matrix\n",
    "rescore_df = score_features(aligned)\n",
    "print('Rescore columns:', list(rescore_df.columns))\n",
    "# Prepare pipeline subset\n",
    "pipe_idx = pipeline_df.set_index('subject_id').loc[aligned.index]\n",
    "# Identify probability columns in both\n",
    "pipe_prob_cols = [c for c in pipe_idx.columns if c.lower().endswith('_proba')]\n",
    "rescore_prob_cols = [c for c in rescore_df.columns if c.lower().endswith('_proba')]\n",
    "def norm(s): return s.lower()\n",
    "pipe_norm = {norm(c): c for c in pipe_prob_cols}\n",
    "rescore_norm = {norm(c): c for c in rescore_prob_cols}\n",
    "overlap = sorted(set(pipe_norm.keys()) & set(rescore_norm.keys()))\n",
    "if not overlap:\n",
    "    raise RuntimeError(f'No overlapping probability columns between pipeline {pipe_prob_cols} and rescore {rescore_prob_cols}.')\n",
    "col_report = []\n",
    "for n in overlap:\n",
    "    pc = pipe_norm[n]; rc = rescore_norm[n]\n",
    "    pv = pipe_idx[pc].to_numpy(); rv = rescore_df[rc].to_numpy()\n",
    "    if pv.shape != rv.shape:\n",
    "        raise RuntimeError(f'Shape mismatch for {pc} vs {rc}: {pv.shape} vs {rv.shape}')\n",
    "    diff = np.abs(pv - rv)\n",
    "    col_report.append((pc, float(diff.max()), float(diff.mean())))\n",
    "max_abs = max(r[1] for r in col_report)\n",
    "mean_abs = sum(r[2] for r in col_report)/len(col_report)\n",
    "print('Per-column diffs:')\n",
    "for name, mx, mn in col_report:\n",
    "    print(f'  {name}: max={mx:.3e} mean={mn:.3e}')\n",
    "print(f'Global max abs diff: {max_abs:.3e} | global mean abs diff: {mean_abs:.3e}')\n",
    "assert max_abs < 1e-12, f'Parity failure: max diff {max_abs}'\n",
    "print('Calibrated prediction parity confirmed (<=1e-12).')"
   ]
  }
 ],
 "metadata": {
  "kernelspec": {
   "display_name": ".venv (3.13.3)",
   "language": "python",
   "name": "python3"
  },
  "language_info": {
   "codemirror_mode": {
    "name": "ipython",
    "version": 3
   },
   "file_extension": ".py",
   "mimetype": "text/x-python",
   "name": "python",
   "nbconvert_exporter": "python",
   "pygments_lexer": "ipython3",
   "version": "3.13.3"
  }
 },
 "nbformat": 4,
 "nbformat_minor": 5
}
