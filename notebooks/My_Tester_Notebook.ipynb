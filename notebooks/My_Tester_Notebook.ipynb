{
 "cells": [
  {
   "cell_type": "markdown",
   "metadata": {},
   "source": [
    "# Minimal Local Tester Notebook\n",
    "# Mirrors original Tester_Notebook; only difference: local path variable instead of Colab drive."
   ]
  },
  {
   "cell_type": "code",
   "execution_count": null,
   "metadata": {},
   "outputs": [
    {
     "name": "stdout",
     "output_type": "stream",
     "text": [
      "Imports ready.\n"
     ]
    }
   ],
   "source": [
    "# Imports (minimal, like original)\n",
    "from project import run_pipeline_on_unseen_data\n",
    "import duckdb\n",
    "import pandas as pd\n",
    "import numpy as np\n",
    "import matplotlib.pyplot as plt"
   ]
  },
  {
   "cell_type": "code",
   "execution_count": null,
   "metadata": {},
   "outputs": [
    {
     "name": "stdout",
     "output_type": "stream",
     "text": [
      "Connection established.\n",
      "Using test subject file: ..\\data\\test_example.csv\n"
     ]
    }
   ],
   "source": [
    "# Local path to mimiciii.duckdb (replace if stored elsewhere)\n",
    "mimic_path = '../data/mimiciii.duckdb'\n",
    "con = duckdb.connect(mimic_path)"
   ]
  },
  {
   "cell_type": "code",
   "execution_count": null,
   "metadata": {},
   "outputs": [
    {
     "name": "stdout",
     "output_type": "stream",
     "text": [
      "Running new calibrated pipeline for 50 subjects...\n"
     ]
    },
    {
     "data": {
      "application/vnd.jupyter.widget-view+json": {
       "model_id": "1f2ec1eadd7847288965c9d5122395e6",
       "version_major": 2,
       "version_minor": 0
      },
      "text/plain": [
       "FloatProgress(value=0.0, layout=Layout(width='auto'), style=ProgressStyle(bar_color='black'))"
      ]
     },
     "metadata": {},
     "output_type": "display_data"
    },
    {
     "name": "stdout",
     "output_type": "stream",
     "text": [
      "DEBUG(build_features): first_adm columns -> ['subject_id', 'hadm_id', 'admittime', 'dischtime', 'deathtime', 'admission_type', 'admission_location', 'discharge_location', 'diagnosis', 'insurance', 'language', 'marital_status', 'ethnicity', 'los_hours']\n",
      "DEBUG(build_features): demo columns -> ['SUBJECT_ID', 'GENDER', 'DOB', 'DOD', 'EXPIRE_FLAG']\n",
      "DEBUG(build_features): age computation failed -> Overflow in int64 addition\n",
      "Pipeline completed.\n",
      "Pipeline completed.\n"
     ]
    },
    {
     "name": "stderr",
     "output_type": "stream",
     "text": [
      "C:\\Users\\Almog Luz\\AppData\\Local\\Temp\\ipykernel_17092\\3908593904.py:133: FutureWarning: The behavior of DataFrame concatenation with empty or all-NA entries is deprecated. In a future version, this will no longer exclude empty or all-NA columns when determining the result dtypes. To retain the old behavior, exclude the relevant entries before the concat operation.\n",
      "  out = pd.concat([\n"
     ]
    },
    {
     "data": {
      "application/vnd.microsoft.datawrangler.viewer.v0+json": {
       "columns": [
        {
         "name": "index",
         "rawType": "int64",
         "type": "integer"
        },
        {
         "name": "subject_id",
         "rawType": "int64",
         "type": "integer"
        },
        {
         "name": "mortality_proba",
         "rawType": "float32",
         "type": "float"
        },
        {
         "name": "prolonged_LOS_proba",
         "rawType": "float32",
         "type": "float"
        },
        {
         "name": "readmission_proba",
         "rawType": "float32",
         "type": "float"
        }
       ],
       "ref": "980c8587-a69e-4d27-801e-306d710035a6",
       "rows": [
        [
         "0",
         "1046",
         "0.15282393",
         "0.87994146",
         "0.05111111"
        ],
        [
         "1",
         "1597",
         "0.15282393",
         "0.8135593",
         "0.05111111"
        ],
        [
         "2",
         "1728",
         "0.15282393",
         "0.8135593",
         "0.05111111"
        ],
        [
         "3",
         "1844",
         "0.08371041",
         "0.87994146",
         "0.05111111"
        ],
        [
         "4",
         "3329",
         "0.08371041",
         "0.78651685",
         "0.056836903"
        ]
       ],
       "shape": {
        "columns": 4,
        "rows": 5
       }
      },
      "text/html": [
       "<div>\n",
       "<style scoped>\n",
       "    .dataframe tbody tr th:only-of-type {\n",
       "        vertical-align: middle;\n",
       "    }\n",
       "\n",
       "    .dataframe tbody tr th {\n",
       "        vertical-align: top;\n",
       "    }\n",
       "\n",
       "    .dataframe thead th {\n",
       "        text-align: right;\n",
       "    }\n",
       "</style>\n",
       "<table border=\"1\" class=\"dataframe\">\n",
       "  <thead>\n",
       "    <tr style=\"text-align: right;\">\n",
       "      <th></th>\n",
       "      <th>subject_id</th>\n",
       "      <th>mortality_proba</th>\n",
       "      <th>prolonged_LOS_proba</th>\n",
       "      <th>readmission_proba</th>\n",
       "    </tr>\n",
       "  </thead>\n",
       "  <tbody>\n",
       "    <tr>\n",
       "      <th>0</th>\n",
       "      <td>1046</td>\n",
       "      <td>0.152824</td>\n",
       "      <td>0.879941</td>\n",
       "      <td>0.051111</td>\n",
       "    </tr>\n",
       "    <tr>\n",
       "      <th>1</th>\n",
       "      <td>1597</td>\n",
       "      <td>0.152824</td>\n",
       "      <td>0.813559</td>\n",
       "      <td>0.051111</td>\n",
       "    </tr>\n",
       "    <tr>\n",
       "      <th>2</th>\n",
       "      <td>1728</td>\n",
       "      <td>0.152824</td>\n",
       "      <td>0.813559</td>\n",
       "      <td>0.051111</td>\n",
       "    </tr>\n",
       "    <tr>\n",
       "      <th>3</th>\n",
       "      <td>1844</td>\n",
       "      <td>0.083710</td>\n",
       "      <td>0.879941</td>\n",
       "      <td>0.051111</td>\n",
       "    </tr>\n",
       "    <tr>\n",
       "      <th>4</th>\n",
       "      <td>3329</td>\n",
       "      <td>0.083710</td>\n",
       "      <td>0.786517</td>\n",
       "      <td>0.056837</td>\n",
       "    </tr>\n",
       "  </tbody>\n",
       "</table>\n",
       "</div>"
      ],
      "text/plain": [
       "   subject_id  mortality_proba  prolonged_LOS_proba  readmission_proba\n",
       "0        1046         0.152824             0.879941           0.051111\n",
       "1        1597         0.152824             0.813559           0.051111\n",
       "2        1728         0.152824             0.813559           0.051111\n",
       "3        1844         0.083710             0.879941           0.051111\n",
       "4        3329         0.083710             0.786517           0.056837"
      ]
     },
     "execution_count": 4,
     "metadata": {},
     "output_type": "execute_result"
    }
   ],
   "source": [
    "# Run pipeline (mirrors original)\n",
    "test = pd.read_csv('../data/test_example.csv')\n",
    "predction_df = run_pipeline_on_unseen_data(test['subject_id'].to_list(), con)"
   ]
  },
  {
   "cell_type": "code",
   "execution_count": null,
   "metadata": {},
   "outputs": [
    {
     "name": "stdout",
     "output_type": "stream",
     "text": [
      "Shape & columns validated.\n"
     ]
    }
   ],
   "source": [
    "# Validate Shape\n",
    "assert(isinstance(predction_df, pd.DataFrame))\n",
    "assert(predction_df.shape[1] == 4)\n",
    "assert(set(predction_df.columns) == set(['subject_id', 'mortality_proba', 'prolonged_LOS_proba', 'readmission_proba']))"
   ]
  },
  {
   "cell_type": "code",
   "execution_count": null,
   "metadata": {},
   "outputs": [
    {
     "data": {
      "application/vnd.microsoft.datawrangler.viewer.v0+json": {
       "columns": [
        {
         "name": "index",
         "rawType": "int64",
         "type": "integer"
        },
        {
         "name": "subject_id",
         "rawType": "int64",
         "type": "integer"
        },
        {
         "name": "mortality_proba",
         "rawType": "float32",
         "type": "float"
        },
        {
         "name": "prolonged_LOS_proba",
         "rawType": "float32",
         "type": "float"
        },
        {
         "name": "readmission_proba",
         "rawType": "float32",
         "type": "float"
        }
       ],
       "ref": "4e6c5051-ded1-498a-b4ec-2b433edcddcb",
       "rows": [
        [
         "0",
         "1046",
         "0.15282393",
         "0.87994146",
         "0.05111111"
        ],
        [
         "1",
         "1597",
         "0.15282393",
         "0.8135593",
         "0.05111111"
        ],
        [
         "2",
         "1728",
         "0.15282393",
         "0.8135593",
         "0.05111111"
        ],
        [
         "3",
         "1844",
         "0.08371041",
         "0.87994146",
         "0.05111111"
        ],
        [
         "4",
         "3329",
         "0.08371041",
         "0.78651685",
         "0.056836903"
        ],
        [
         "5",
         "5456",
         "0.15282393",
         "0.8135593",
         "0.056836903"
        ],
        [
         "6",
         "6141",
         "0.08371041",
         "0.78651685",
         "0.056836903"
        ],
        [
         "7",
         "7800",
         "0.08371041",
         "0.78651685",
         "0.056836903"
        ],
        [
         "8",
         "8763",
         null,
         null,
         null
        ],
        [
         "9",
         "9347",
         "0.15282393",
         "0.78651685",
         "0.056836903"
        ]
       ],
       "shape": {
        "columns": 4,
        "rows": 10
       }
      },
      "text/html": [
       "<div>\n",
       "<style scoped>\n",
       "    .dataframe tbody tr th:only-of-type {\n",
       "        vertical-align: middle;\n",
       "    }\n",
       "\n",
       "    .dataframe tbody tr th {\n",
       "        vertical-align: top;\n",
       "    }\n",
       "\n",
       "    .dataframe thead th {\n",
       "        text-align: right;\n",
       "    }\n",
       "</style>\n",
       "<table border=\"1\" class=\"dataframe\">\n",
       "  <thead>\n",
       "    <tr style=\"text-align: right;\">\n",
       "      <th></th>\n",
       "      <th>subject_id</th>\n",
       "      <th>mortality_proba</th>\n",
       "      <th>prolonged_LOS_proba</th>\n",
       "      <th>readmission_proba</th>\n",
       "    </tr>\n",
       "  </thead>\n",
       "  <tbody>\n",
       "    <tr>\n",
       "      <th>0</th>\n",
       "      <td>1046</td>\n",
       "      <td>0.152824</td>\n",
       "      <td>0.879941</td>\n",
       "      <td>0.051111</td>\n",
       "    </tr>\n",
       "    <tr>\n",
       "      <th>1</th>\n",
       "      <td>1597</td>\n",
       "      <td>0.152824</td>\n",
       "      <td>0.813559</td>\n",
       "      <td>0.051111</td>\n",
       "    </tr>\n",
       "    <tr>\n",
       "      <th>2</th>\n",
       "      <td>1728</td>\n",
       "      <td>0.152824</td>\n",
       "      <td>0.813559</td>\n",
       "      <td>0.051111</td>\n",
       "    </tr>\n",
       "    <tr>\n",
       "      <th>3</th>\n",
       "      <td>1844</td>\n",
       "      <td>0.083710</td>\n",
       "      <td>0.879941</td>\n",
       "      <td>0.051111</td>\n",
       "    </tr>\n",
       "    <tr>\n",
       "      <th>4</th>\n",
       "      <td>3329</td>\n",
       "      <td>0.083710</td>\n",
       "      <td>0.786517</td>\n",
       "      <td>0.056837</td>\n",
       "    </tr>\n",
       "    <tr>\n",
       "      <th>5</th>\n",
       "      <td>5456</td>\n",
       "      <td>0.152824</td>\n",
       "      <td>0.813559</td>\n",
       "      <td>0.056837</td>\n",
       "    </tr>\n",
       "    <tr>\n",
       "      <th>6</th>\n",
       "      <td>6141</td>\n",
       "      <td>0.083710</td>\n",
       "      <td>0.786517</td>\n",
       "      <td>0.056837</td>\n",
       "    </tr>\n",
       "    <tr>\n",
       "      <th>7</th>\n",
       "      <td>7800</td>\n",
       "      <td>0.083710</td>\n",
       "      <td>0.786517</td>\n",
       "      <td>0.056837</td>\n",
       "    </tr>\n",
       "    <tr>\n",
       "      <th>8</th>\n",
       "      <td>8763</td>\n",
       "      <td>NaN</td>\n",
       "      <td>NaN</td>\n",
       "      <td>NaN</td>\n",
       "    </tr>\n",
       "    <tr>\n",
       "      <th>9</th>\n",
       "      <td>9347</td>\n",
       "      <td>0.152824</td>\n",
       "      <td>0.786517</td>\n",
       "      <td>0.056837</td>\n",
       "    </tr>\n",
       "  </tbody>\n",
       "</table>\n",
       "</div>"
      ],
      "text/plain": [
       "   subject_id  mortality_proba  prolonged_LOS_proba  readmission_proba\n",
       "0        1046         0.152824             0.879941           0.051111\n",
       "1        1597         0.152824             0.813559           0.051111\n",
       "2        1728         0.152824             0.813559           0.051111\n",
       "3        1844         0.083710             0.879941           0.051111\n",
       "4        3329         0.083710             0.786517           0.056837\n",
       "5        5456         0.152824             0.813559           0.056837\n",
       "6        6141         0.083710             0.786517           0.056837\n",
       "7        7800         0.083710             0.786517           0.056837\n",
       "8        8763              NaN                  NaN                NaN\n",
       "9        9347         0.152824             0.786517           0.056837"
      ]
     },
     "execution_count": 6,
     "metadata": {},
     "output_type": "execute_result"
    }
   ],
   "source": [
    "# Show Data Sample\n",
    "predction_df.head()"
   ]
  },
  {
   "cell_type": "code",
   "execution_count": null,
   "metadata": {},
   "outputs": [
    {
     "data": {
      "image/png": "[encoded data removed]",
      "text/plain": [
       "<Figure size 1200x300 with 3 Axes>"
      ]
     },
     "metadata": {},
     "output_type": "display_data"
    }
   ],
   "source": [
    "# Probability Plots\n",
    "fig, ax = plt.subplots()\n",
    "ax.hist(predction_df['mortality_proba'], range=(0, 1), bins=10)\n",
    "ax.set_xlabel('Mortality Probabilities')\n",
    "ax.set_ylabel('Count')\n",
    "\n",
    "fig, ax = plt.subplots()\n",
    "ax.hist(predction_df['prolonged_LOS_proba'], range=(0, 1), bins=10)\n",
    "ax.set_xlabel('Prolonged Length of Stay Probabilities')\n",
    "ax.set_ylabel('Count')\n",
    "\n",
    "fig, ax = plt.subplots()\n",
    "ax.hist(predction_df['readmission_proba'], range=(0, 1), bins=10)\n",
    "ax.set_xlabel('Readmission Probabilities')\n",
    "ax.set_ylabel('Count')\n",
    "plt.show()"
   ]
  }
 ],
 "metadata": {
  "colab": {
   "provenance": []
  },
  "kernelspec": {
   "display_name": ".venv (3.13.3)",
   "language": "python",
   "name": "python3"
  },
  "language_info": {
   "codemirror_mode": {
    "name": "ipython",
    "version": 3
   },
   "file_extension": ".py",
   "mimetype": "text/x-python",
   "name": "python",
   "nbconvert_exporter": "python",
   "pygments_lexer": "ipython3",
   "version": "3.13.3"
  }
 },
 "nbformat": 4,
 "nbformat_minor": 0
}
