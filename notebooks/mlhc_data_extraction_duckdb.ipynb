{
 "cells": [
  {
   "cell_type": "markdown",
   "id": "4c371067",
   "metadata": {},
   "source": [
    "# DuckDB Extraction Pipeline (0-48h Feature Build)\n",
    "\n",
    "This notebook extracts early (first 48h) multimodal data for the cohort in `data/initial_cohort.csv` using a local DuckDB database (`data/mimicii.duckdb`), applies the same inclusion criteria (first admission, LOS ≥54h), aggregates features via `project/features.py`, and saves standardized artifacts into `project/artifacts/`:\n",
    "- `features_full.parquet`\n",
    "- `feature_columns.json`\n",
    "- `feature_provenance.json`\n",
    "\n",
    "**Adjustable parameters:** set a subject sample limit or run full cohort."
   ]
  },
  {
   "cell_type": "code",
   "execution_count": 1,
   "id": "8fe53f89",
   "metadata": {},
   "outputs": [
    {
     "name": "stdout",
     "output_type": "stream",
     "text": [
      "Imports ready.\n"
     ]
    }
   ],
   "source": [
    "# Environment & Imports (local)\n",
    "import os, sys, pathlib\n",
    "from importlib.util import find_spec\n",
    "\n",
    "# Add project root to path if notebook is under notebooks/\n",
    "ROOT = pathlib.Path(__file__).resolve().parents[1] if '__file__' in globals() else pathlib.Path.cwd().parents[0]\n",
    "if str(ROOT) not in sys.path: sys.path.insert(0, str(ROOT))\n",
    "\n",
    "missing = []\n",
    "for pkg in ['duckdb','pandas','matplotlib']:\n",
    "    if find_spec(pkg) is None: missing.append(pkg)\n",
    "if missing:\n",
    "    print('Missing packages detected:', missing)\n",
    "    print('Install them (example): pip install ' + ' '.join(missing))\n",
    "\n",
    "import pandas as pd\n",
    "import matplotlib.pyplot as plt\n",
    "try:\n",
    "    import duckdb\n",
    "except ModuleNotFoundError:\n",
    "    raise RuntimeError('duckdb not installed. Please install and re-run.')\n",
    "\n",
    "from project import run_pipeline_on_unseen_data\n",
    "print('Imports ready.')"
   ]
  },
  {
   "cell_type": "code",
   "execution_count": 2,
   "id": "c1fde18a",
   "metadata": {},
   "outputs": [
    {
     "name": "stdout",
     "output_type": "stream",
     "text": [
      "PROJECT_ROOT: c:\\Users\\Almog Luz\\Documents\\GitHub\\mlhc-final-project\n",
      "DuckDB path exists: True\n"
     ]
    }
   ],
   "source": [
    "# Imports & configuration\n",
    "from pathlib import Path\n",
    "import pandas as pd, numpy as np\n",
    "import duckdb, json, math, sys, datetime\n",
    "from importlib import reload\n",
    "PROJECT_ROOT = Path.cwd().parent if Path.cwd().name == 'notebooks' else Path.cwd()\n",
    "DATA_DIR = PROJECT_ROOT / 'data'\n",
    "ARTIFACTS_DIR = PROJECT_ROOT / 'project' / 'artifacts'\n",
    "DB_PATH = DATA_DIR / 'mimiciii.duckdb'  # Adjust if your filename differs\n",
    "SUBJECT_SAMPLE_LIMIT = None  # e.g., 500 for a quick run; set None for full\n",
    "RANDOM_SEED = 42\n",
    "print('PROJECT_ROOT:', PROJECT_ROOT)\n",
    "print('DuckDB path exists:', DB_PATH.exists())\n",
    "ARTIFACTS_DIR.mkdir(parents=True, exist_ok=True)"
   ]
  },
  {
   "cell_type": "markdown",
   "id": "78fdb89d",
   "metadata": {},
   "source": [
    "## 1. Load Cohort"
   ]
  },
  {
   "cell_type": "code",
   "execution_count": 3,
   "id": "62da08a5",
   "metadata": {},
   "outputs": [
    {
     "name": "stdout",
     "output_type": "stream",
     "text": [
      "Cohort size (after optional sample): 32513\n"
     ]
    },
    {
     "data": {
      "application/vnd.microsoft.datawrangler.viewer.v0+json": {
       "columns": [
        {
         "name": "index",
         "rawType": "int64",
         "type": "integer"
        },
        {
         "name": "subject_id",
         "rawType": "int64",
         "type": "integer"
        }
       ],
       "ref": "ce584057-13b2-4374-b527-e7a34aab302b",
       "rows": [
        [
         "0",
         "22392"
        ],
        [
         "1",
         "2847"
        ],
        [
         "2",
         "12056"
        ],
        [
         "3",
         "25600"
        ],
        [
         "4",
         "73125"
        ]
       ],
       "shape": {
        "columns": 1,
        "rows": 5
       }
      },
      "text/html": [
       "<div>\n",
       "<style scoped>\n",
       "    .dataframe tbody tr th:only-of-type {\n",
       "        vertical-align: middle;\n",
       "    }\n",
       "\n",
       "    .dataframe tbody tr th {\n",
       "        vertical-align: top;\n",
       "    }\n",
       "\n",
       "    .dataframe thead th {\n",
       "        text-align: right;\n",
       "    }\n",
       "</style>\n",
       "<table border=\"1\" class=\"dataframe\">\n",
       "  <thead>\n",
       "    <tr style=\"text-align: right;\">\n",
       "      <th></th>\n",
       "      <th>subject_id</th>\n",
       "    </tr>\n",
       "  </thead>\n",
       "  <tbody>\n",
       "    <tr>\n",
       "      <th>0</th>\n",
       "      <td>22392</td>\n",
       "    </tr>\n",
       "    <tr>\n",
       "      <th>1</th>\n",
       "      <td>2847</td>\n",
       "    </tr>\n",
       "    <tr>\n",
       "      <th>2</th>\n",
       "      <td>12056</td>\n",
       "    </tr>\n",
       "    <tr>\n",
       "      <th>3</th>\n",
       "      <td>25600</td>\n",
       "    </tr>\n",
       "    <tr>\n",
       "      <th>4</th>\n",
       "      <td>73125</td>\n",
       "    </tr>\n",
       "  </tbody>\n",
       "</table>\n",
       "</div>"
      ],
      "text/plain": [
       "   subject_id\n",
       "0       22392\n",
       "1        2847\n",
       "2       12056\n",
       "3       25600\n",
       "4       73125"
      ]
     },
     "execution_count": 3,
     "metadata": {},
     "output_type": "execute_result"
    }
   ],
   "source": [
    "cohort_path = DATA_DIR / 'initial_cohort.csv'\n",
    "if not cohort_path.exists():\n",
    "    raise FileNotFoundError(f'Missing cohort file: {cohort_path}')\n",
    "cohort = pd.read_csv(cohort_path)\n",
    "if 'subject_id' not in cohort.columns:\n",
    "    raise ValueError('`subject_id` column missing in cohort CSV')\n",
    "cohort = cohort.dropna(subset=['subject_id'])\n",
    "cohort['subject_id'] = cohort['subject_id'].astype(int)\n",
    "if SUBJECT_SAMPLE_LIMIT is not None:\n",
    "    cohort = cohort.sample(n=min(SUBJECT_SAMPLE_LIMIT, len(cohort)), random_state=RANDOM_SEED)\n",
    "print('Cohort size (after optional sample):', len(cohort))\n",
    "cohort.head()"
   ]
  },
  {
   "cell_type": "markdown",
   "id": "eccbbfce",
   "metadata": {},
   "source": [
    "## 2. Connect to DuckDB"
   ]
  },
  {
   "cell_type": "code",
   "execution_count": 4,
   "id": "f4e2fb23",
   "metadata": {},
   "outputs": [
    {
     "name": "stdout",
     "output_type": "stream",
     "text": [
      "Connected to DuckDB.\n",
      "Available tables: ['ADMISSIONS', 'CALLOUT', 'CAREGIVERS', 'CHARTEVENTS', 'CPTEVENTS', 'DATETIMEEVENTS', 'DIAGNOSES_ICD', 'DRGCODES', 'D_CPT', 'D_ICD_DIAGNOSES', 'D_ICD_PROCEDURES', 'D_ITEMS', 'D_LABITEMS', 'ICUSTAYS', 'INPUTEVENTS_CV', 'INPUTEVENTS_MV', 'LABEVENTS', 'MICROBIOLOGYEVENTS', 'NOTEEVENTS', 'OUTPUTEVENTS', 'PATIENTS', 'PRESCRIPTIONS', 'PROCEDUREEVENTS_MV', 'PROCEDURES_ICD', 'SERVICES', 'TRANSFERS']\n"
     ]
    }
   ],
   "source": [
    "con = duckdb.connect(str(DB_PATH))\n",
    "print('Connected to DuckDB.')\n",
    "# (Optional) list tables to verify schema\n",
    "try:\n",
    "    tbls = con.execute(\"SHOW TABLES\").fetchdf()\n",
    "    print('Available tables:', tbls['name'].tolist())\n",
    "except Exception as e:\n",
    "    print('Could not list tables:', e)"
   ]
  },
  {
   "cell_type": "markdown",
   "id": "6170efe9",
   "metadata": {},
   "source": [
    "## 3. Extract Admissions (First Admission + LOS Filter)"
   ]
  },
  {
   "cell_type": "code",
   "execution_count": 5,
   "id": "becf94bd",
   "metadata": {},
   "outputs": [
    {
     "name": "stdout",
     "output_type": "stream",
     "text": [
      "Raw admissions rows: 41244\n",
      "First admissions retained >=54h: 28473 / 32513\n"
     ]
    },
    {
     "data": {
      "application/vnd.microsoft.datawrangler.viewer.v0+json": {
       "columns": [
        {
         "name": "index",
         "rawType": "int64",
         "type": "integer"
        },
        {
         "name": "subject_id",
         "rawType": "object",
         "type": "string"
        },
        {
         "name": "hadm_id",
         "rawType": "object",
         "type": "string"
        },
        {
         "name": "admittime",
         "rawType": "datetime64[ns]",
         "type": "datetime"
        },
        {
         "name": "dischtime",
         "rawType": "datetime64[ns]",
         "type": "datetime"
        },
        {
         "name": "deathtime",
         "rawType": "object",
         "type": "unknown"
        },
        {
         "name": "admission_type",
         "rawType": "object",
         "type": "string"
        },
        {
         "name": "admission_location",
         "rawType": "object",
         "type": "string"
        },
        {
         "name": "discharge_location",
         "rawType": "object",
         "type": "string"
        },
        {
         "name": "diagnosis",
         "rawType": "object",
         "type": "string"
        },
        {
         "name": "insurance",
         "rawType": "object",
         "type": "string"
        },
        {
         "name": "language",
         "rawType": "object",
         "type": "unknown"
        },
        {
         "name": "marital_status",
         "rawType": "object",
         "type": "unknown"
        },
        {
         "name": "ethnicity",
         "rawType": "object",
         "type": "string"
        },
        {
         "name": "los_hours",
         "rawType": "float64",
         "type": "float"
        }
       ],
       "ref": "3682a5b0-5c46-4fb9-86b2-991df0ff8cec",
       "rows": [
        [
         "0",
         "1000",
         "143040",
         "2144-01-19 20:15:00",
         "2144-02-25 06:05:00",
         "2144-02-25 06:05:00",
         "URGENT",
         "TRANSFER FROM HOSP/EXTRAM",
         "DEAD/EXPIRED",
         "HEART FAILURE",
         "Private",
         null,
         "MARRIED",
         "UNKNOWN/NOT SPECIFIED",
         "873.8333333333334"
        ],
        [
         "1",
         "10000",
         "187813",
         "2186-08-10 21:57:00",
         "2186-08-31 17:00:00",
         null,
         "EMERGENCY",
         "TRANSFER FROM HOSP/EXTRAM",
         "SHORT TERM HOSPITAL",
         "END STAGE LIVER DISEASE;END STAGE KIDNEY DISEASE",
         "Self Pay",
         "SPAN",
         null,
         "HISPANIC OR LATINO",
         "499.05"
        ],
        [
         "3",
         "10003",
         "144039",
         "2111-11-21 23:47:00",
         "2111-12-02 16:34:00",
         null,
         "EMERGENCY",
         "EMERGENCY ROOM ADMIT",
         "HOME",
         "HEMOTHORAX/RIB FX",
         "Private",
         null,
         "MARRIED",
         "BLACK/AFRICAN AMERICAN",
         "256.78333333333336"
        ],
        [
         "4",
         "10004",
         "164713",
         "2182-11-02 13:27:00",
         "2182-11-19 16:30:00",
         null,
         "EMERGENCY",
         "EMERGENCY ROOM ADMIT",
         "SNF",
         "S/P FALL;ICH",
         "Medicare",
         "ENGL",
         "MARRIED",
         "WHITE",
         "411.05"
        ],
        [
         "5",
         "10005",
         "181146",
         "2155-02-27 06:00:00",
         "2155-03-01 13:40:00",
         null,
         "NEWBORN",
         "PHYS REFERRAL/NORMAL DELI",
         "HOME",
         "NEWBORN",
         "Medicaid",
         null,
         "SINGLE",
         "WHITE",
         "55.666666666666664"
        ]
       ],
       "shape": {
        "columns": 14,
        "rows": 5
       }
      },
      "text/html": [
       "<div>\n",
       "<style scoped>\n",
       "    .dataframe tbody tr th:only-of-type {\n",
       "        vertical-align: middle;\n",
       "    }\n",
       "\n",
       "    .dataframe tbody tr th {\n",
       "        vertical-align: top;\n",
       "    }\n",
       "\n",
       "    .dataframe thead th {\n",
       "        text-align: right;\n",
       "    }\n",
       "</style>\n",
       "<table border=\"1\" class=\"dataframe\">\n",
       "  <thead>\n",
       "    <tr style=\"text-align: right;\">\n",
       "      <th></th>\n",
       "      <th>subject_id</th>\n",
       "      <th>hadm_id</th>\n",
       "      <th>admittime</th>\n",
       "      <th>dischtime</th>\n",
       "      <th>deathtime</th>\n",
       "      <th>admission_type</th>\n",
       "      <th>admission_location</th>\n",
       "      <th>discharge_location</th>\n",
       "      <th>diagnosis</th>\n",
       "      <th>insurance</th>\n",
       "      <th>language</th>\n",
       "      <th>marital_status</th>\n",
       "      <th>ethnicity</th>\n",
       "      <th>los_hours</th>\n",
       "    </tr>\n",
       "  </thead>\n",
       "  <tbody>\n",
       "    <tr>\n",
       "      <th>0</th>\n",
       "      <td>1000</td>\n",
       "      <td>143040</td>\n",
       "      <td>2144-01-19 20:15:00</td>\n",
       "      <td>2144-02-25 06:05:00</td>\n",
       "      <td>2144-02-25 06:05:00</td>\n",
       "      <td>URGENT</td>\n",
       "      <td>TRANSFER FROM HOSP/EXTRAM</td>\n",
       "      <td>DEAD/EXPIRED</td>\n",
       "      <td>HEART FAILURE</td>\n",
       "      <td>Private</td>\n",
       "      <td>None</td>\n",
       "      <td>MARRIED</td>\n",
       "      <td>UNKNOWN/NOT SPECIFIED</td>\n",
       "      <td>873.833333</td>\n",
       "    </tr>\n",
       "    <tr>\n",
       "      <th>1</th>\n",
       "      <td>10000</td>\n",
       "      <td>187813</td>\n",
       "      <td>2186-08-10 21:57:00</td>\n",
       "      <td>2186-08-31 17:00:00</td>\n",
       "      <td>None</td>\n",
       "      <td>EMERGENCY</td>\n",
       "      <td>TRANSFER FROM HOSP/EXTRAM</td>\n",
       "      <td>SHORT TERM HOSPITAL</td>\n",
       "      <td>END STAGE LIVER DISEASE;END STAGE KIDNEY DISEASE</td>\n",
       "      <td>Self Pay</td>\n",
       "      <td>SPAN</td>\n",
       "      <td>None</td>\n",
       "      <td>HISPANIC OR LATINO</td>\n",
       "      <td>499.050000</td>\n",
       "    </tr>\n",
       "    <tr>\n",
       "      <th>3</th>\n",
       "      <td>10003</td>\n",
       "      <td>144039</td>\n",
       "      <td>2111-11-21 23:47:00</td>\n",
       "      <td>2111-12-02 16:34:00</td>\n",
       "      <td>None</td>\n",
       "      <td>EMERGENCY</td>\n",
       "      <td>EMERGENCY ROOM ADMIT</td>\n",
       "      <td>HOME</td>\n",
       "      <td>HEMOTHORAX/RIB FX</td>\n",
       "      <td>Private</td>\n",
       "      <td>None</td>\n",
       "      <td>MARRIED</td>\n",
       "      <td>BLACK/AFRICAN AMERICAN</td>\n",
       "      <td>256.783333</td>\n",
       "    </tr>\n",
       "    <tr>\n",
       "      <th>4</th>\n",
       "      <td>10004</td>\n",
       "      <td>164713</td>\n",
       "      <td>2182-11-02 13:27:00</td>\n",
       "      <td>2182-11-19 16:30:00</td>\n",
       "      <td>None</td>\n",
       "      <td>EMERGENCY</td>\n",
       "      <td>EMERGENCY ROOM ADMIT</td>\n",
       "      <td>SNF</td>\n",
       "      <td>S/P FALL;ICH</td>\n",
       "      <td>Medicare</td>\n",
       "      <td>ENGL</td>\n",
       "      <td>MARRIED</td>\n",
       "      <td>WHITE</td>\n",
       "      <td>411.050000</td>\n",
       "    </tr>\n",
       "    <tr>\n",
       "      <th>5</th>\n",
       "      <td>10005</td>\n",
       "      <td>181146</td>\n",
       "      <td>2155-02-27 06:00:00</td>\n",
       "      <td>2155-03-01 13:40:00</td>\n",
       "      <td>None</td>\n",
       "      <td>NEWBORN</td>\n",
       "      <td>PHYS REFERRAL/NORMAL DELI</td>\n",
       "      <td>HOME</td>\n",
       "      <td>NEWBORN</td>\n",
       "      <td>Medicaid</td>\n",
       "      <td>None</td>\n",
       "      <td>SINGLE</td>\n",
       "      <td>WHITE</td>\n",
       "      <td>55.666667</td>\n",
       "    </tr>\n",
       "  </tbody>\n",
       "</table>\n",
       "</div>"
      ],
      "text/plain": [
       "  subject_id hadm_id           admittime           dischtime  \\\n",
       "0       1000  143040 2144-01-19 20:15:00 2144-02-25 06:05:00   \n",
       "1      10000  187813 2186-08-10 21:57:00 2186-08-31 17:00:00   \n",
       "3      10003  144039 2111-11-21 23:47:00 2111-12-02 16:34:00   \n",
       "4      10004  164713 2182-11-02 13:27:00 2182-11-19 16:30:00   \n",
       "5      10005  181146 2155-02-27 06:00:00 2155-03-01 13:40:00   \n",
       "\n",
       "             deathtime admission_type         admission_location  \\\n",
       "0  2144-02-25 06:05:00         URGENT  TRANSFER FROM HOSP/EXTRAM   \n",
       "1                 None      EMERGENCY  TRANSFER FROM HOSP/EXTRAM   \n",
       "3                 None      EMERGENCY       EMERGENCY ROOM ADMIT   \n",
       "4                 None      EMERGENCY       EMERGENCY ROOM ADMIT   \n",
       "5                 None        NEWBORN  PHYS REFERRAL/NORMAL DELI   \n",
       "\n",
       "    discharge_location                                         diagnosis  \\\n",
       "0         DEAD/EXPIRED                                     HEART FAILURE   \n",
       "1  SHORT TERM HOSPITAL  END STAGE LIVER DISEASE;END STAGE KIDNEY DISEASE   \n",
       "3                 HOME                                 HEMOTHORAX/RIB FX   \n",
       "4                  SNF                                      S/P FALL;ICH   \n",
       "5                 HOME                                           NEWBORN   \n",
       "\n",
       "  insurance language marital_status               ethnicity   los_hours  \n",
       "0   Private     None        MARRIED   UNKNOWN/NOT SPECIFIED  873.833333  \n",
       "1  Self Pay     SPAN           None      HISPANIC OR LATINO  499.050000  \n",
       "3   Private     None        MARRIED  BLACK/AFRICAN AMERICAN  256.783333  \n",
       "4  Medicare     ENGL        MARRIED                   WHITE  411.050000  \n",
       "5  Medicaid     None         SINGLE                   WHITE   55.666667  "
      ]
     },
     "execution_count": 5,
     "metadata": {},
     "output_type": "execute_result"
    }
   ],
   "source": [
    "sid_csv = ','.join(map(str, cohort['subject_id'].tolist()))\n",
    "adm_sql = f\"\"\"\n",
    "SELECT subject_id, hadm_id, admittime, dischtime, deathtime, admission_type,\n",
    "       admission_location, discharge_location, diagnosis, insurance, language,\n",
    "       marital_status, ethnicity\n",
    "FROM admissions\n",
    "WHERE subject_id IN ({sid_csv})\n",
    "ORDER BY subject_id, admittime\n",
    "\"\"\"\n",
    "admissions_all = con.execute(adm_sql).fetchdf()\n",
    "print('Raw admissions rows:', len(admissions_all))\n",
    "if admissions_all.empty:\n",
    "    raise RuntimeError('Admissions query returned zero rows; verify DuckDB schema and table population.')\n",
    "# Normalize column names to lower for safety\n",
    "admissions_all.columns = [c.lower() for c in admissions_all.columns]\n",
    "first_adm = (admissions_all.sort_values(['subject_id','admittime'])\n",
    "    .groupby('subject_id', as_index=False)\n",
    "    .first())\n",
    "first_adm['admittime'] = pd.to_datetime(first_adm['admittime'])\n",
    "first_adm['dischtime'] = pd.to_datetime(first_adm['dischtime'])\n",
    "first_adm['los_hours'] = (first_adm['dischtime'] - first_adm['admittime']).dt.total_seconds()/3600.0\n",
    "pre_filter_n = len(first_adm)\n",
    "first_adm = first_adm[first_adm['los_hours'] >= 54].copy()\n",
    "print(f'First admissions retained >=54h: {len(first_adm)} / {pre_filter_n}')\n",
    "hadm_ids = first_adm['hadm_id'].dropna().astype(int).tolist()\n",
    "hadm_csv = ','.join(map(str, hadm_ids)) if hadm_ids else '-1'\n",
    "first_adm.head()"
   ]
  },
  {
   "cell_type": "markdown",
   "id": "0a24fab5",
   "metadata": {},
   "source": [
    "## 3a. Label Regeneration & Cohort Filtering (Enforce 48h + 6h Gap)\n",
    "This step rebuilds labels early (DuckDB) so that all subsequent modality extraction & feature engineering only operate on temporally valid subjects:\n",
    "- Keeps only first admissions with LOS >= 54h\n",
    "- Excludes subjects with death, discharge, or next admission (readmission) within 54h of index admission\n",
    "Outputs:\n",
    "- `project/artifacts/labels.csv`\n",
    "- In-memory filtered `first_adm` and `subject_ids` used downstream.\n",
    "\n",
    "If you adjust inclusion criteria, re-run this cell to refresh downstream derivations."
   ]
  },
  {
   "cell_type": "code",
   "execution_count": null,
   "id": "59bcdab7",
   "metadata": {},
   "outputs": [],
   "source": [
    "# Build labels early & filter cohort\n",
    "from project.labels import build_labels_duckdb\n",
    "import pandas as pd, pathlib, duckdb\n",
    "\n",
    "DB_PATH = pathlib.Path('../data/mimiciii.duckdb')\n",
    "con = duckdb.connect(str(DB_PATH), read_only=True)\n",
    "\n",
    "# Use current cohort subject_ids\n",
    "subject_ids = first_adm['subject_id'].astype(int).tolist()\n",
    "labels_df = build_labels_duckdb(con, subject_ids)\n",
    "print(f\"Labels built: {len(labels_df)} subjects (after LOS>=54h & early-event exclusion)\")\n",
    "\n",
    "# Persist labels\n",
    "labels_path = pathlib.Path('../project/artifacts/labels.csv')\n",
    "labels_path.parent.mkdir(parents=True, exist_ok=True)\n",
    "labels_df.to_csv(labels_path, index=False)\n",
    "print('Wrote labels to', labels_path)\n",
    "\n",
    "# Filter first_adm and update subject_ids for downstream extractions\n",
    "keep = set(labels_df['subject_id'].tolist())\n",
    "pre = len(first_adm)\n",
    "first_adm = first_adm[first_adm['subject_id'].isin(keep)].copy()\n",
    "print(f'Filtered first_adm: {pre} -> {len(first_adm)}')\n",
    "subject_ids = first_adm['subject_id'].astype(int).tolist()\n",
    "print('Subject IDs prepared for downstream modality extraction:', len(subject_ids))"
   ]
  },
  {
   "cell_type": "markdown",
   "id": "9f96d84e",
   "metadata": {},
   "source": [
    "## 4. Extract Early (0–48h) Modalities"
   ]
  },
  {
   "cell_type": "code",
   "execution_count": 6,
   "id": "3d3de028",
   "metadata": {},
   "outputs": [
    {
     "name": "stdout",
     "output_type": "stream",
     "text": [
      "First admissions retained (LOS>=54h): 28473 / 32513\n",
      "Querying demographics...\n",
      "Querying vitals...\n",
      "Querying vitals...\n",
      "Querying labs...\n",
      "Querying labs...\n",
      "Querying prescriptions...\n",
      "Querying prescriptions...\n",
      "Querying procedures...\n",
      "Querying procedures...\n",
      "Modalities non-empty flags: {'demo': True, 'vitals': True, 'labs': True, 'rx': True, 'proc': True}\n",
      "WARNING: Observed vital rows outside 0-48h range.\n",
      "Extraction via original extract.py functions complete.\n",
      "Modalities non-empty flags: {'demo': True, 'vitals': True, 'labs': True, 'rx': True, 'proc': True}\n",
      "WARNING: Observed vital rows outside 0-48h range.\n",
      "Extraction via original extract.py functions complete.\n"
     ]
    }
   ],
   "source": [
    "# Use original BigQuery extraction functions directly (no local rewrites)\n",
    "# NOTE: These require a configured BigQuery client (`google.cloud.bigquery.Client`).\n",
    "# If you only have DuckDB locally, skip executing this cell or adapt a separate local path.\n",
    "from project.extract import (\n",
    "    get_first_admissions,\n",
    "    get_demographics,\n",
    "    get_vitals_48h,\n",
    "    get_labs_48h,\n",
    "    get_prescriptions_48h,\n",
    "    get_procedures_48h,\n",
    ")\n",
    "\n",
    "try:\n",
    "    from google.cloud import bigquery as bq  # type: ignore\n",
    "except ImportError:\n",
    "    raise RuntimeError(\"google-cloud-bigquery not installed. Install it to run original extract.py functions.\")\n",
    "\n",
    "# Instantiate client (assumes credentials are configured in environment, e.g. GOOGLE_APPLICATION_CREDENTIALS)\n",
    "client = bq.Client()\n",
    "\n",
    "subject_ids = cohort['subject_id'].astype(int).tolist()\n",
    "first_adm = get_first_admissions(client, subject_ids)\n",
    "if first_adm.empty:\n",
    "    raise RuntimeError('No admissions returned from BigQuery for provided subject_ids.')\n",
    "\n",
    "# Compute LOS and apply >=54h filter (mirroring earlier logic)\n",
    "first_adm['admittime'] = pd.to_datetime(first_adm['admittime'])\n",
    "first_adm['dischtime'] = pd.to_datetime(first_adm['dischtime'])\n",
    "first_adm['los_hours'] = (first_adm['dischtime'] - first_adm['admittime']).dt.total_seconds()/3600.0\n",
    "pre_filter = len(first_adm)\n",
    "first_adm = first_adm[first_adm['los_hours'] >= 54].copy()\n",
    "print(f'First admissions retained (LOS>=54h): {len(first_adm)} / {pre_filter}')\n",
    "\n",
    "hadm_ids = first_adm['hadm_id'].dropna().astype(int).tolist()\n",
    "\n",
    "# Modalities\n",
    "print('Querying demographics...')\n",
    "demo = get_demographics(client, subject_ids)\n",
    "print('Querying vitals...')\n",
    "vitals = get_vitals_48h(client, hadm_ids)\n",
    "print('Querying labs...')\n",
    "labs = get_labs_48h(client, hadm_ids)\n",
    "print('Querying prescriptions...')\n",
    "rx = get_prescriptions_48h(client, hadm_ids)\n",
    "print('Querying procedures...')\n",
    "proc = get_procedures_48h(client, hadm_ids)\n",
    "\n",
    "mods = {'demo': demo, 'vitals': vitals, 'labs': labs, 'rx': rx, 'proc': proc}\n",
    "print('Modalities non-empty flags:', {k: (not v.empty) for k,v in mods.items()})\n",
    "\n",
    "# Optional sanity check: window adherence in vitals\n",
    "if not first_adm.empty and not vitals.empty and 'charttime' in vitals.columns:\n",
    "    sample = vitals.head(10000).merge(first_adm[['hadm_id','admittime']], on='hadm_id', how='left')\n",
    "    sample['charttime'] = pd.to_datetime(sample['charttime'], errors='coerce')\n",
    "    delta_hr = (sample['charttime'] - sample['admittime']).dt.total_seconds()/3600.0\n",
    "    if (delta_hr.dropna() > 48).any():\n",
    "        print('WARNING: Observed vital rows outside 0-48h range.')\n",
    "\n",
    "print('Extraction via original extract.py functions complete.')"
   ]
  },
  {
   "cell_type": "markdown",
   "id": "e50c5d0a",
   "metadata": {},
   "source": [
    "## 5. Build Feature Matrix"
   ]
  },
  {
   "cell_type": "code",
   "execution_count": 7,
   "id": "9cf6fa8c",
   "metadata": {},
   "outputs": [
    {
     "name": "stdout",
     "output_type": "stream",
     "text": [
      "DEBUG(build_features): first_adm columns -> ['subject_id', 'hadm_id', 'admittime', 'dischtime', 'deathtime', 'admission_type', 'admission_location', 'discharge_location', 'diagnosis', 'insurance', 'language', 'marital_status', 'ethnicity', 'los_hours']\n",
      "DEBUG(build_features): demo columns -> ['subject_id', 'gender', 'dob', 'dod', 'expire_flag']\n",
      "Feature matrix shape: (28473, 1429)\n",
      "Feature matrix shape: (28473, 1429)\n"
     ]
    },
    {
     "data": {
      "application/vnd.microsoft.datawrangler.viewer.v0+json": {
       "columns": [
        {
         "name": "subject_id",
         "rawType": "Int64",
         "type": "integer"
        },
        {
         "name": "age",
         "rawType": "float64",
         "type": "float"
        },
        {
         "name": "gender_M",
         "rawType": "int64",
         "type": "integer"
        },
        {
         "name": "gender_F",
         "rawType": "int64",
         "type": "integer"
        },
        {
         "name": "eth_ASIAN",
         "rawType": "int64",
         "type": "integer"
        },
        {
         "name": "eth_BLACK",
         "rawType": "int64",
         "type": "integer"
        },
        {
         "name": "eth_HISPANIC",
         "rawType": "int64",
         "type": "integer"
        },
        {
         "name": "eth_OTHER",
         "rawType": "int64",
         "type": "integer"
        },
        {
         "name": "eth_WHITE",
         "rawType": "int64",
         "type": "integer"
        },
        {
         "name": "aprotinin cc/hr__mean",
         "rawType": "float64",
         "type": "float"
        },
        {
         "name": "aprotinin ml/hr__mean",
         "rawType": "float64",
         "type": "float"
        },
        {
         "name": "art bp diastolic__mean",
         "rawType": "float64",
         "type": "float"
        },
        {
         "name": "art bp systolic__mean",
         "rawType": "float64",
         "type": "float"
        },
        {
         "name": "arterial blood pressure diastolic__mean",
         "rawType": "float64",
         "type": "float"
        },
        {
         "name": "arterial blood pressure systolic__mean",
         "rawType": "float64",
         "type": "float"
        },
        {
         "name": "arterial bp #2 [diastolic]__mean",
         "rawType": "float64",
         "type": "float"
        },
        {
         "name": "arterial bp #2 [systolic]__mean",
         "rawType": "float64",
         "type": "float"
        },
        {
         "name": "arterial bp [diastolic]__mean",
         "rawType": "float64",
         "type": "float"
        },
        {
         "name": "arterial bp [systolic]__mean",
         "rawType": "float64",
         "type": "float"
        },
        {
         "name": "arterial o2 saturation__mean",
         "rawType": "float64",
         "type": "float"
        },
        {
         "name": "atr sens thresh mv__mean",
         "rawType": "float64",
         "type": "float"
        },
        {
         "name": "atr stim thresh ma__mean",
         "rawType": "float64",
         "type": "float"
        },
        {
         "name": "atrial pacemaker threshold [value]__mean",
         "rawType": "float64",
         "type": "float"
        },
        {
         "name": "baseline current/ma__mean",
         "rawType": "float64",
         "type": "float"
        },
        {
         "name": "blood temperature cco (c)__mean",
         "rawType": "float64",
         "type": "float"
        },
        {
         "name": "bp cuff [diastolic]__mean",
         "rawType": "float64",
         "type": "float"
        },
        {
         "name": "bp cuff [systolic]__mean",
         "rawType": "float64",
         "type": "float"
        },
        {
         "name": "bp left arm [diastolic]__mean",
         "rawType": "float64",
         "type": "float"
        },
        {
         "name": "bp left arm [systolic]__mean",
         "rawType": "float64",
         "type": "float"
        },
        {
         "name": "bp left leg [diastolic]__mean",
         "rawType": "float64",
         "type": "float"
        },
        {
         "name": "bp left leg [systolic]__mean",
         "rawType": "float64",
         "type": "float"
        },
        {
         "name": "bp pal [diastolic]__mean",
         "rawType": "float64",
         "type": "float"
        },
        {
         "name": "bp pal [systolic]__mean",
         "rawType": "float64",
         "type": "float"
        },
        {
         "name": "bp right arm [diastolic]__mean",
         "rawType": "float64",
         "type": "float"
        },
        {
         "name": "bp right arm [systolic]__mean",
         "rawType": "float64",
         "type": "float"
        },
        {
         "name": "bp right leg [diastolic]__mean",
         "rawType": "float64",
         "type": "float"
        },
        {
         "name": "bp right leg [systolic]__mean",
         "rawType": "float64",
         "type": "float"
        },
        {
         "name": "bp uac [diastolic]__mean",
         "rawType": "float64",
         "type": "float"
        },
        {
         "name": "bp uac [systolic]__mean",
         "rawType": "float64",
         "type": "float"
        },
        {
         "name": "ca gluc gm/hr__mean",
         "rawType": "float64",
         "type": "float"
        },
        {
         "name": "cariporide cc/hr__mean",
         "rawType": "float64",
         "type": "float"
        },
        {
         "name": "cariporide ml/hr__mean",
         "rawType": "float64",
         "type": "float"
        },
        {
         "name": "changes in temperature__mean",
         "rawType": "float64",
         "type": "float"
        },
        {
         "name": "cisatracu mg/kg/hr__mean",
         "rawType": "float64",
         "type": "float"
        },
        {
         "name": "current goal__mean",
         "rawType": "float64",
         "type": "float"
        },
        {
         "name": "current used/ma__mean",
         "rawType": "float64",
         "type": "float"
        },
        {
         "name": "currently experiencing pain__mean",
         "rawType": "float64",
         "type": "float"
        },
        {
         "name": "dialysate flow ml/hr__mean",
         "rawType": "float64",
         "type": "float"
        },
        {
         "name": "diastolic unloading__mean",
         "rawType": "float64",
         "type": "float"
        },
        {
         "name": "epidural infusion rate (ml/hr)__mean",
         "rawType": "float64",
         "type": "float"
        },
        {
         "name": "gait/transferring__mean",
         "rawType": "float64",
         "type": "float"
        },
        {
         "name": "heart rate__mean",
         "rawType": "float64",
         "type": "float"
        },
        {
         "name": "heart rate alarm - high__mean",
         "rawType": "float64",
         "type": "float"
        },
        {
         "name": "heart rate alarm - low__mean",
         "rawType": "float64",
         "type": "float"
        },
        {
         "name": "hr alarm [high]__mean",
         "rawType": "float64",
         "type": "float"
        },
        {
         "name": "hr alarm [low]__mean",
         "rawType": "float64",
         "type": "float"
        },
        {
         "name": "lowest heart rate__mean",
         "rawType": "float64",
         "type": "float"
        },
        {
         "name": "manual blood pressure diastolic left__mean",
         "rawType": "float64",
         "type": "float"
        },
        {
         "name": "manual blood pressure diastolic right__mean",
         "rawType": "float64",
         "type": "float"
        },
        {
         "name": "manual blood pressure systolic left__mean",
         "rawType": "float64",
         "type": "float"
        },
        {
         "name": "manual blood pressure systolic right__mean",
         "rawType": "float64",
         "type": "float"
        },
        {
         "name": "manual bp [diastolic]__mean",
         "rawType": "float64",
         "type": "float"
        },
        {
         "name": "manual bp [systolic]__mean",
         "rawType": "float64",
         "type": "float"
        },
        {
         "name": "mucomyst       mg/hr__mean",
         "rawType": "float64",
         "type": "float"
        },
        {
         "name": "mucomyst mg/hr__mean",
         "rawType": "float64",
         "type": "float"
        },
        {
         "name": "nbp [diastolic]__mean",
         "rawType": "float64",
         "type": "float"
        },
        {
         "name": "nbp [systolic]__mean",
         "rawType": "float64",
         "type": "float"
        },
        {
         "name": "nicardipine mg/hr__mean",
         "rawType": "float64",
         "type": "float"
        },
        {
         "name": "nicardipine--mg/hr__mean",
         "rawType": "float64",
         "type": "float"
        },
        {
         "name": "non invasive blood pressure diastolic__mean",
         "rawType": "float64",
         "type": "float"
        },
        {
         "name": "non invasive blood pressure systolic__mean",
         "rawType": "float64",
         "type": "float"
        },
        {
         "name": "o2 saturation pulseoxymetry__mean",
         "rawType": "float64",
         "type": "float"
        },
        {
         "name": "o2 saturation pulseoxymetry alarm - high__mean",
         "rawType": "float64",
         "type": "float"
        },
        {
         "name": "o2 saturation pulseoxymetry alarm - low__mean",
         "rawType": "float64",
         "type": "float"
        },
        {
         "name": "orthostat bp sitting [diastolic]__mean",
         "rawType": "float64",
         "type": "float"
        },
        {
         "name": "orthostat bp sitting [systolic]__mean",
         "rawType": "float64",
         "type": "float"
        },
        {
         "name": "orthostat hr sitting__mean",
         "rawType": "float64",
         "type": "float"
        },
        {
         "name": "orthostatbp standing [diastolic]__mean",
         "rawType": "float64",
         "type": "float"
        },
        {
         "name": "orthostatbp standing [systolic]__mean",
         "rawType": "float64",
         "type": "float"
        },
        {
         "name": "orthostathr standing__mean",
         "rawType": "float64",
         "type": "float"
        },
        {
         "name": "orthostatic bp lying [diastolic]__mean",
         "rawType": "float64",
         "type": "float"
        },
        {
         "name": "orthostatic bp lying [systolic]__mean",
         "rawType": "float64",
         "type": "float"
        },
        {
         "name": "orthostatic hr lying__mean",
         "rawType": "float64",
         "type": "float"
        },
        {
         "name": "orthostatic hr sitting__mean",
         "rawType": "float64",
         "type": "float"
        },
        {
         "name": "orthostatic hr standing__mean",
         "rawType": "float64",
         "type": "float"
        },
        {
         "name": "pantoprazole   mg/hr__mean",
         "rawType": "float64",
         "type": "float"
        },
        {
         "name": "pantoprazole  mg/hr__mean",
         "rawType": "float64",
         "type": "float"
        },
        {
         "name": "pap [diastolic]__mean",
         "rawType": "float64",
         "type": "float"
        },
        {
         "name": "pap [systolic]__mean",
         "rawType": "float64",
         "type": "float"
        },
        {
         "name": "par-oxygen saturation__mean",
         "rawType": "float64",
         "type": "float"
        },
        {
         "name": "pca 1 hr limit (mg)__mean",
         "rawType": "float64",
         "type": "float"
        },
        {
         "name": "prothrombin time__mean",
         "rawType": "float64",
         "type": "float"
        },
        {
         "name": "protonix mg/hr__mean",
         "rawType": "float64",
         "type": "float"
        },
        {
         "name": "pulmonary artery pressure diastolic__mean",
         "rawType": "float64",
         "type": "float"
        },
        {
         "name": "pulmonary artery pressure systolic__mean",
         "rawType": "float64",
         "type": "float"
        },
        {
         "name": "replace rate ml/hr__mean",
         "rawType": "float64",
         "type": "float"
        },
        {
         "name": "respiratory rate__mean",
         "rawType": "float64",
         "type": "float"
        },
        {
         "name": "respiratory rate (set)__mean",
         "rawType": "float64",
         "type": "float"
        },
        {
         "name": "respiratory rate (spontaneous)__mean",
         "rawType": "float64",
         "type": "float"
        },
        {
         "name": "respiratory rate (total)__mean",
         "rawType": "float64",
         "type": "float"
        },
        {
         "name": "respiratory rate set__mean",
         "rawType": "float64",
         "type": "float"
        },
        {
         "name": "smoking cessation info offered through bidmc inpatient guide__mean",
         "rawType": "float64",
         "type": "float"
        },
        {
         "name": "solumedrol mg/hr__mean",
         "rawType": "float64",
         "type": "float"
        },
        {
         "name": "solumedrol mg/kg/hr__mean",
         "rawType": "float64",
         "type": "float"
        },
        {
         "name": "spo2__mean",
         "rawType": "float64",
         "type": "float"
        },
        {
         "name": "spo2 alarm [high]__mean",
         "rawType": "float64",
         "type": "float"
        },
        {
         "name": "spo2 alarm [low]__mean",
         "rawType": "float64",
         "type": "float"
        },
        {
         "name": "spo2 desat limit__mean",
         "rawType": "float64",
         "type": "float"
        },
        {
         "name": "spon rr (mech.)__mean",
         "rawType": "float64",
         "type": "float"
        },
        {
         "name": "spont rr__mean",
         "rawType": "float64",
         "type": "float"
        },
        {
         "name": "systolic unloading__mean",
         "rawType": "float64",
         "type": "float"
        },
        {
         "name": "tcpcv-map__mean",
         "rawType": "float64",
         "type": "float"
        },
        {
         "name": "temp/iso/warmer [temperature, degrees c]__mean",
         "rawType": "float64",
         "type": "float"
        },
        {
         "name": "temperature c__mean",
         "rawType": "float64",
         "type": "float"
        },
        {
         "name": "temperature c (calc)__mean",
         "rawType": "float64",
         "type": "float"
        },
        {
         "name": "temperature celsius__mean",
         "rawType": "float64",
         "type": "float"
        },
        {
         "name": "temperature f__mean",
         "rawType": "float64",
         "type": "float"
        },
        {
         "name": "temperature f (calc)__mean",
         "rawType": "float64",
         "type": "float"
        },
        {
         "name": "temperature fahrenheit__mean",
         "rawType": "float64",
         "type": "float"
        },
        {
         "name": "temporary atrial sens threshold mv__mean",
         "rawType": "float64",
         "type": "float"
        },
        {
         "name": "temporary atrial stim threshold ma__mean",
         "rawType": "float64",
         "type": "float"
        },
        {
         "name": "temporary venticular sens threshold mv__mean",
         "rawType": "float64",
         "type": "float"
        },
        {
         "name": "temporary venticular stim threshold ma__mean",
         "rawType": "float64",
         "type": "float"
        },
        {
         "name": "thrombin__mean",
         "rawType": "float64",
         "type": "float"
        },
        {
         "name": "tpa mg/hr__mean",
         "rawType": "float64",
         "type": "float"
        },
        {
         "name": "vent sens thresh mv__mean",
         "rawType": "float64",
         "type": "float"
        },
        {
         "name": "vent stim thresh ma__mean",
         "rawType": "float64",
         "type": "float"
        },
        {
         "name": "ventricular pacemaker threshold [value]__mean",
         "rawType": "float64",
         "type": "float"
        },
        {
         "name": "xigris mcg/kg/hr__mean",
         "rawType": "float64",
         "type": "float"
        },
        {
         "name": "aprotinin cc/hr__std",
         "rawType": "float64",
         "type": "float"
        },
        {
         "name": "aprotinin ml/hr__std",
         "rawType": "float64",
         "type": "float"
        },
        {
         "name": "art bp diastolic__std",
         "rawType": "float64",
         "type": "float"
        },
        {
         "name": "art bp systolic__std",
         "rawType": "float64",
         "type": "float"
        },
        {
         "name": "arterial blood pressure diastolic__std",
         "rawType": "float64",
         "type": "float"
        },
        {
         "name": "arterial blood pressure systolic__std",
         "rawType": "float64",
         "type": "float"
        },
        {
         "name": "arterial bp #2 [diastolic]__std",
         "rawType": "float64",
         "type": "float"
        },
        {
         "name": "arterial bp #2 [systolic]__std",
         "rawType": "float64",
         "type": "float"
        },
        {
         "name": "arterial bp [diastolic]__std",
         "rawType": "float64",
         "type": "float"
        },
        {
         "name": "arterial bp [systolic]__std",
         "rawType": "float64",
         "type": "float"
        },
        {
         "name": "arterial o2 saturation__std",
         "rawType": "float64",
         "type": "float"
        },
        {
         "name": "atr sens thresh mv__std",
         "rawType": "float64",
         "type": "float"
        },
        {
         "name": "atr stim thresh ma__std",
         "rawType": "float64",
         "type": "float"
        },
        {
         "name": "atrial pacemaker threshold [value]__std",
         "rawType": "float64",
         "type": "float"
        },
        {
         "name": "baseline current/ma__std",
         "rawType": "float64",
         "type": "float"
        },
        {
         "name": "blood temperature cco (c)__std",
         "rawType": "float64",
         "type": "float"
        },
        {
         "name": "bp cuff [diastolic]__std",
         "rawType": "float64",
         "type": "float"
        },
        {
         "name": "bp cuff [systolic]__std",
         "rawType": "float64",
         "type": "float"
        },
        {
         "name": "bp left arm [diastolic]__std",
         "rawType": "float64",
         "type": "float"
        },
        {
         "name": "bp left arm [systolic]__std",
         "rawType": "float64",
         "type": "float"
        },
        {
         "name": "bp left leg [diastolic]__std",
         "rawType": "float64",
         "type": "float"
        },
        {
         "name": "bp left leg [systolic]__std",
         "rawType": "float64",
         "type": "float"
        },
        {
         "name": "bp pal [diastolic]__std",
         "rawType": "float64",
         "type": "float"
        },
        {
         "name": "bp pal [systolic]__std",
         "rawType": "float64",
         "type": "float"
        },
        {
         "name": "bp right arm [diastolic]__std",
         "rawType": "float64",
         "type": "float"
        },
        {
         "name": "bp right arm [systolic]__std",
         "rawType": "float64",
         "type": "float"
        },
        {
         "name": "bp right leg [diastolic]__std",
         "rawType": "float64",
         "type": "float"
        },
        {
         "name": "bp right leg [systolic]__std",
         "rawType": "float64",
         "type": "float"
        },
        {
         "name": "bp uac [diastolic]__std",
         "rawType": "float64",
         "type": "float"
        },
        {
         "name": "bp uac [systolic]__std",
         "rawType": "float64",
         "type": "float"
        },
        {
         "name": "ca gluc gm/hr__std",
         "rawType": "float64",
         "type": "float"
        },
        {
         "name": "cariporide cc/hr__std",
         "rawType": "float64",
         "type": "float"
        },
        {
         "name": "cariporide ml/hr__std",
         "rawType": "float64",
         "type": "float"
        },
        {
         "name": "changes in temperature__std",
         "rawType": "float64",
         "type": "float"
        },
        {
         "name": "cisatracu mg/kg/hr__std",
         "rawType": "float64",
         "type": "float"
        },
        {
         "name": "current goal__std",
         "rawType": "float64",
         "type": "float"
        },
        {
         "name": "current used/ma__std",
         "rawType": "float64",
         "type": "float"
        },
        {
         "name": "currently experiencing pain__std",
         "rawType": "float64",
         "type": "float"
        },
        {
         "name": "dialysate flow ml/hr__std",
         "rawType": "float64",
         "type": "float"
        },
        {
         "name": "diastolic unloading__std",
         "rawType": "float64",
         "type": "float"
        },
        {
         "name": "epidural infusion rate (ml/hr)__std",
         "rawType": "float64",
         "type": "float"
        },
        {
         "name": "gait/transferring__std",
         "rawType": "float64",
         "type": "float"
        },
        {
         "name": "heart rate__std",
         "rawType": "float64",
         "type": "float"
        },
        {
         "name": "heart rate alarm - high__std",
         "rawType": "float64",
         "type": "float"
        },
        {
         "name": "heart rate alarm - low__std",
         "rawType": "float64",
         "type": "float"
        },
        {
         "name": "hr alarm [high]__std",
         "rawType": "float64",
         "type": "float"
        },
        {
         "name": "hr alarm [low]__std",
         "rawType": "float64",
         "type": "float"
        },
        {
         "name": "lowest heart rate__std",
         "rawType": "float64",
         "type": "float"
        },
        {
         "name": "manual blood pressure diastolic left__std",
         "rawType": "float64",
         "type": "float"
        },
        {
         "name": "manual blood pressure diastolic right__std",
         "rawType": "float64",
         "type": "float"
        },
        {
         "name": "manual blood pressure systolic left__std",
         "rawType": "float64",
         "type": "float"
        },
        {
         "name": "manual blood pressure systolic right__std",
         "rawType": "float64",
         "type": "float"
        },
        {
         "name": "manual bp [diastolic]__std",
         "rawType": "float64",
         "type": "float"
        },
        {
         "name": "manual bp [systolic]__std",
         "rawType": "float64",
         "type": "float"
        },
        {
         "name": "mucomyst       mg/hr__std",
         "rawType": "float64",
         "type": "float"
        },
        {
         "name": "mucomyst mg/hr__std",
         "rawType": "float64",
         "type": "float"
        },
        {
         "name": "nbp [diastolic]__std",
         "rawType": "float64",
         "type": "float"
        },
        {
         "name": "nbp [systolic]__std",
         "rawType": "float64",
         "type": "float"
        },
        {
         "name": "nicardipine mg/hr__std",
         "rawType": "float64",
         "type": "float"
        },
        {
         "name": "nicardipine--mg/hr__std",
         "rawType": "float64",
         "type": "float"
        },
        {
         "name": "non invasive blood pressure diastolic__std",
         "rawType": "float64",
         "type": "float"
        },
        {
         "name": "non invasive blood pressure systolic__std",
         "rawType": "float64",
         "type": "float"
        },
        {
         "name": "o2 saturation pulseoxymetry__std",
         "rawType": "float64",
         "type": "float"
        },
        {
         "name": "o2 saturation pulseoxymetry alarm - high__std",
         "rawType": "float64",
         "type": "float"
        },
        {
         "name": "o2 saturation pulseoxymetry alarm - low__std",
         "rawType": "float64",
         "type": "float"
        },
        {
         "name": "orthostat bp sitting [diastolic]__std",
         "rawType": "float64",
         "type": "float"
        },
        {
         "name": "orthostat bp sitting [systolic]__std",
         "rawType": "float64",
         "type": "float"
        },
        {
         "name": "orthostat hr sitting__std",
         "rawType": "float64",
         "type": "float"
        },
        {
         "name": "orthostatbp standing [diastolic]__std",
         "rawType": "float64",
         "type": "float"
        },
        {
         "name": "orthostatbp standing [systolic]__std",
         "rawType": "float64",
         "type": "float"
        },
        {
         "name": "orthostathr standing__std",
         "rawType": "float64",
         "type": "float"
        },
        {
         "name": "orthostatic bp lying [diastolic]__std",
         "rawType": "float64",
         "type": "float"
        },
        {
         "name": "orthostatic bp lying [systolic]__std",
         "rawType": "float64",
         "type": "float"
        },
        {
         "name": "orthostatic hr lying__std",
         "rawType": "float64",
         "type": "float"
        },
        {
         "name": "orthostatic hr sitting__std",
         "rawType": "float64",
         "type": "float"
        },
        {
         "name": "orthostatic hr standing__std",
         "rawType": "float64",
         "type": "float"
        },
        {
         "name": "pantoprazole   mg/hr__std",
         "rawType": "float64",
         "type": "float"
        },
        {
         "name": "pantoprazole  mg/hr__std",
         "rawType": "float64",
         "type": "float"
        },
        {
         "name": "pap [diastolic]__std",
         "rawType": "float64",
         "type": "float"
        },
        {
         "name": "pap [systolic]__std",
         "rawType": "float64",
         "type": "float"
        },
        {
         "name": "par-oxygen saturation__std",
         "rawType": "float64",
         "type": "float"
        },
        {
         "name": "pca 1 hr limit (mg)__std",
         "rawType": "float64",
         "type": "float"
        },
        {
         "name": "prothrombin time__std",
         "rawType": "float64",
         "type": "float"
        },
        {
         "name": "protonix mg/hr__std",
         "rawType": "float64",
         "type": "float"
        },
        {
         "name": "pulmonary artery pressure diastolic__std",
         "rawType": "float64",
         "type": "float"
        },
        {
         "name": "pulmonary artery pressure systolic__std",
         "rawType": "float64",
         "type": "float"
        },
        {
         "name": "replace rate ml/hr__std",
         "rawType": "float64",
         "type": "float"
        },
        {
         "name": "respiratory rate__std",
         "rawType": "float64",
         "type": "float"
        },
        {
         "name": "respiratory rate (set)__std",
         "rawType": "float64",
         "type": "float"
        },
        {
         "name": "respiratory rate (spontaneous)__std",
         "rawType": "float64",
         "type": "float"
        },
        {
         "name": "respiratory rate (total)__std",
         "rawType": "float64",
         "type": "float"
        },
        {
         "name": "respiratory rate set__std",
         "rawType": "float64",
         "type": "float"
        },
        {
         "name": "smoking cessation info offered through bidmc inpatient guide__std",
         "rawType": "float64",
         "type": "float"
        },
        {
         "name": "solumedrol mg/hr__std",
         "rawType": "float64",
         "type": "float"
        },
        {
         "name": "solumedrol mg/kg/hr__std",
         "rawType": "float64",
         "type": "float"
        },
        {
         "name": "spo2__std",
         "rawType": "float64",
         "type": "float"
        },
        {
         "name": "spo2 alarm [high]__std",
         "rawType": "float64",
         "type": "float"
        },
        {
         "name": "spo2 alarm [low]__std",
         "rawType": "float64",
         "type": "float"
        },
        {
         "name": "spo2 desat limit__std",
         "rawType": "float64",
         "type": "float"
        },
        {
         "name": "spon rr (mech.)__std",
         "rawType": "float64",
         "type": "float"
        },
        {
         "name": "spont rr__std",
         "rawType": "float64",
         "type": "float"
        },
        {
         "name": "systolic unloading__std",
         "rawType": "float64",
         "type": "float"
        },
        {
         "name": "tcpcv-map__std",
         "rawType": "float64",
         "type": "float"
        },
        {
         "name": "temp/iso/warmer [temperature, degrees c]__std",
         "rawType": "float64",
         "type": "float"
        },
        {
         "name": "temperature c__std",
         "rawType": "float64",
         "type": "float"
        },
        {
         "name": "temperature c (calc)__std",
         "rawType": "float64",
         "type": "float"
        },
        {
         "name": "temperature celsius__std",
         "rawType": "float64",
         "type": "float"
        },
        {
         "name": "temperature f__std",
         "rawType": "float64",
         "type": "float"
        },
        {
         "name": "temperature f (calc)__std",
         "rawType": "float64",
         "type": "float"
        },
        {
         "name": "temperature fahrenheit__std",
         "rawType": "float64",
         "type": "float"
        },
        {
         "name": "temporary atrial sens threshold mv__std",
         "rawType": "float64",
         "type": "float"
        },
        {
         "name": "temporary atrial stim threshold ma__std",
         "rawType": "float64",
         "type": "float"
        },
        {
         "name": "temporary venticular sens threshold mv__std",
         "rawType": "float64",
         "type": "float"
        },
        {
         "name": "temporary venticular stim threshold ma__std",
         "rawType": "float64",
         "type": "float"
        },
        {
         "name": "thrombin__std",
         "rawType": "float64",
         "type": "float"
        },
        {
         "name": "tpa mg/hr__std",
         "rawType": "float64",
         "type": "float"
        },
        {
         "name": "vent sens thresh mv__std",
         "rawType": "float64",
         "type": "float"
        },
        {
         "name": "vent stim thresh ma__std",
         "rawType": "float64",
         "type": "float"
        },
        {
         "name": "ventricular pacemaker threshold [value]__std",
         "rawType": "float64",
         "type": "float"
        },
        {
         "name": "xigris mcg/kg/hr__std",
         "rawType": "float64",
         "type": "float"
        },
        {
         "name": "aprotinin cc/hr__min",
         "rawType": "float64",
         "type": "float"
        },
        {
         "name": "aprotinin ml/hr__min",
         "rawType": "float64",
         "type": "float"
        },
        {
         "name": "art bp diastolic__min",
         "rawType": "float64",
         "type": "float"
        },
        {
         "name": "art bp systolic__min",
         "rawType": "float64",
         "type": "float"
        },
        {
         "name": "arterial blood pressure diastolic__min",
         "rawType": "float64",
         "type": "float"
        },
        {
         "name": "arterial blood pressure systolic__min",
         "rawType": "float64",
         "type": "float"
        },
        {
         "name": "arterial bp #2 [diastolic]__min",
         "rawType": "float64",
         "type": "float"
        },
        {
         "name": "arterial bp #2 [systolic]__min",
         "rawType": "float64",
         "type": "float"
        },
        {
         "name": "arterial bp [diastolic]__min",
         "rawType": "float64",
         "type": "float"
        },
        {
         "name": "arterial bp [systolic]__min",
         "rawType": "float64",
         "type": "float"
        },
        {
         "name": "arterial o2 saturation__min",
         "rawType": "float64",
         "type": "float"
        },
        {
         "name": "atr sens thresh mv__min",
         "rawType": "float64",
         "type": "float"
        },
        {
         "name": "atr stim thresh ma__min",
         "rawType": "float64",
         "type": "float"
        },
        {
         "name": "atrial pacemaker threshold [value]__min",
         "rawType": "float64",
         "type": "float"
        },
        {
         "name": "baseline current/ma__min",
         "rawType": "float64",
         "type": "float"
        },
        {
         "name": "blood temperature cco (c)__min",
         "rawType": "float64",
         "type": "float"
        },
        {
         "name": "bp cuff [diastolic]__min",
         "rawType": "float64",
         "type": "float"
        },
        {
         "name": "bp cuff [systolic]__min",
         "rawType": "float64",
         "type": "float"
        },
        {
         "name": "bp left arm [diastolic]__min",
         "rawType": "float64",
         "type": "float"
        },
        {
         "name": "bp left arm [systolic]__min",
         "rawType": "float64",
         "type": "float"
        },
        {
         "name": "bp left leg [diastolic]__min",
         "rawType": "float64",
         "type": "float"
        },
        {
         "name": "bp left leg [systolic]__min",
         "rawType": "float64",
         "type": "float"
        },
        {
         "name": "bp pal [diastolic]__min",
         "rawType": "float64",
         "type": "float"
        },
        {
         "name": "bp pal [systolic]__min",
         "rawType": "float64",
         "type": "float"
        },
        {
         "name": "bp right arm [diastolic]__min",
         "rawType": "float64",
         "type": "float"
        },
        {
         "name": "bp right arm [systolic]__min",
         "rawType": "float64",
         "type": "float"
        },
        {
         "name": "bp right leg [diastolic]__min",
         "rawType": "float64",
         "type": "float"
        },
        {
         "name": "bp right leg [systolic]__min",
         "rawType": "float64",
         "type": "float"
        },
        {
         "name": "bp uac [diastolic]__min",
         "rawType": "float64",
         "type": "float"
        },
        {
         "name": "bp uac [systolic]__min",
         "rawType": "float64",
         "type": "float"
        },
        {
         "name": "ca gluc gm/hr__min",
         "rawType": "float64",
         "type": "float"
        },
        {
         "name": "cariporide cc/hr__min",
         "rawType": "float64",
         "type": "float"
        },
        {
         "name": "cariporide ml/hr__min",
         "rawType": "float64",
         "type": "float"
        },
        {
         "name": "changes in temperature__min",
         "rawType": "float64",
         "type": "float"
        },
        {
         "name": "cisatracu mg/kg/hr__min",
         "rawType": "float64",
         "type": "float"
        },
        {
         "name": "current goal__min",
         "rawType": "float64",
         "type": "float"
        },
        {
         "name": "current used/ma__min",
         "rawType": "float64",
         "type": "float"
        },
        {
         "name": "currently experiencing pain__min",
         "rawType": "float64",
         "type": "float"
        },
        {
         "name": "dialysate flow ml/hr__min",
         "rawType": "float64",
         "type": "float"
        },
        {
         "name": "diastolic unloading__min",
         "rawType": "float64",
         "type": "float"
        },
        {
         "name": "epidural infusion rate (ml/hr)__min",
         "rawType": "float64",
         "type": "float"
        },
        {
         "name": "gait/transferring__min",
         "rawType": "float64",
         "type": "float"
        },
        {
         "name": "heart rate__min",
         "rawType": "float64",
         "type": "float"
        },
        {
         "name": "heart rate alarm - high__min",
         "rawType": "float64",
         "type": "float"
        },
        {
         "name": "heart rate alarm - low__min",
         "rawType": "float64",
         "type": "float"
        },
        {
         "name": "hr alarm [high]__min",
         "rawType": "float64",
         "type": "float"
        },
        {
         "name": "hr alarm [low]__min",
         "rawType": "float64",
         "type": "float"
        },
        {
         "name": "lowest heart rate__min",
         "rawType": "float64",
         "type": "float"
        },
        {
         "name": "manual blood pressure diastolic left__min",
         "rawType": "float64",
         "type": "float"
        },
        {
         "name": "manual blood pressure diastolic right__min",
         "rawType": "float64",
         "type": "float"
        },
        {
         "name": "manual blood pressure systolic left__min",
         "rawType": "float64",
         "type": "float"
        },
        {
         "name": "manual blood pressure systolic right__min",
         "rawType": "float64",
         "type": "float"
        },
        {
         "name": "manual bp [diastolic]__min",
         "rawType": "float64",
         "type": "float"
        },
        {
         "name": "manual bp [systolic]__min",
         "rawType": "float64",
         "type": "float"
        },
        {
         "name": "mucomyst       mg/hr__min",
         "rawType": "float64",
         "type": "float"
        },
        {
         "name": "mucomyst mg/hr__min",
         "rawType": "float64",
         "type": "float"
        },
        {
         "name": "nbp [diastolic]__min",
         "rawType": "float64",
         "type": "float"
        },
        {
         "name": "nbp [systolic]__min",
         "rawType": "float64",
         "type": "float"
        },
        {
         "name": "nicardipine mg/hr__min",
         "rawType": "float64",
         "type": "float"
        },
        {
         "name": "nicardipine--mg/hr__min",
         "rawType": "float64",
         "type": "float"
        },
        {
         "name": "non invasive blood pressure diastolic__min",
         "rawType": "float64",
         "type": "float"
        },
        {
         "name": "non invasive blood pressure systolic__min",
         "rawType": "float64",
         "type": "float"
        },
        {
         "name": "o2 saturation pulseoxymetry__min",
         "rawType": "float64",
         "type": "float"
        },
        {
         "name": "o2 saturation pulseoxymetry alarm - high__min",
         "rawType": "float64",
         "type": "float"
        },
        {
         "name": "o2 saturation pulseoxymetry alarm - low__min",
         "rawType": "float64",
         "type": "float"
        },
        {
         "name": "orthostat bp sitting [diastolic]__min",
         "rawType": "float64",
         "type": "float"
        },
        {
         "name": "orthostat bp sitting [systolic]__min",
         "rawType": "float64",
         "type": "float"
        },
        {
         "name": "orthostat hr sitting__min",
         "rawType": "float64",
         "type": "float"
        },
        {
         "name": "orthostatbp standing [diastolic]__min",
         "rawType": "float64",
         "type": "float"
        },
        {
         "name": "orthostatbp standing [systolic]__min",
         "rawType": "float64",
         "type": "float"
        },
        {
         "name": "orthostathr standing__min",
         "rawType": "float64",
         "type": "float"
        },
        {
         "name": "orthostatic bp lying [diastolic]__min",
         "rawType": "float64",
         "type": "float"
        },
        {
         "name": "orthostatic bp lying [systolic]__min",
         "rawType": "float64",
         "type": "float"
        },
        {
         "name": "orthostatic hr lying__min",
         "rawType": "float64",
         "type": "float"
        },
        {
         "name": "orthostatic hr sitting__min",
         "rawType": "float64",
         "type": "float"
        },
        {
         "name": "orthostatic hr standing__min",
         "rawType": "float64",
         "type": "float"
        },
        {
         "name": "pantoprazole   mg/hr__min",
         "rawType": "float64",
         "type": "float"
        },
        {
         "name": "pantoprazole  mg/hr__min",
         "rawType": "float64",
         "type": "float"
        },
        {
         "name": "pap [diastolic]__min",
         "rawType": "float64",
         "type": "float"
        },
        {
         "name": "pap [systolic]__min",
         "rawType": "float64",
         "type": "float"
        },
        {
         "name": "par-oxygen saturation__min",
         "rawType": "float64",
         "type": "float"
        },
        {
         "name": "pca 1 hr limit (mg)__min",
         "rawType": "float64",
         "type": "float"
        },
        {
         "name": "prothrombin time__min",
         "rawType": "float64",
         "type": "float"
        },
        {
         "name": "protonix mg/hr__min",
         "rawType": "float64",
         "type": "float"
        },
        {
         "name": "pulmonary artery pressure diastolic__min",
         "rawType": "float64",
         "type": "float"
        },
        {
         "name": "pulmonary artery pressure systolic__min",
         "rawType": "float64",
         "type": "float"
        },
        {
         "name": "replace rate ml/hr__min",
         "rawType": "float64",
         "type": "float"
        },
        {
         "name": "respiratory rate__min",
         "rawType": "float64",
         "type": "float"
        },
        {
         "name": "respiratory rate (set)__min",
         "rawType": "float64",
         "type": "float"
        },
        {
         "name": "respiratory rate (spontaneous)__min",
         "rawType": "float64",
         "type": "float"
        },
        {
         "name": "respiratory rate (total)__min",
         "rawType": "float64",
         "type": "float"
        },
        {
         "name": "respiratory rate set__min",
         "rawType": "float64",
         "type": "float"
        },
        {
         "name": "smoking cessation info offered through bidmc inpatient guide__min",
         "rawType": "float64",
         "type": "float"
        },
        {
         "name": "solumedrol mg/hr__min",
         "rawType": "float64",
         "type": "float"
        },
        {
         "name": "solumedrol mg/kg/hr__min",
         "rawType": "float64",
         "type": "float"
        },
        {
         "name": "spo2__min",
         "rawType": "float64",
         "type": "float"
        },
        {
         "name": "spo2 alarm [high]__min",
         "rawType": "float64",
         "type": "float"
        },
        {
         "name": "spo2 alarm [low]__min",
         "rawType": "float64",
         "type": "float"
        },
        {
         "name": "spo2 desat limit__min",
         "rawType": "float64",
         "type": "float"
        },
        {
         "name": "spon rr (mech.)__min",
         "rawType": "float64",
         "type": "float"
        },
        {
         "name": "spont rr__min",
         "rawType": "float64",
         "type": "float"
        },
        {
         "name": "systolic unloading__min",
         "rawType": "float64",
         "type": "float"
        },
        {
         "name": "tcpcv-map__min",
         "rawType": "float64",
         "type": "float"
        },
        {
         "name": "temp/iso/warmer [temperature, degrees c]__min",
         "rawType": "float64",
         "type": "float"
        },
        {
         "name": "temperature c__min",
         "rawType": "float64",
         "type": "float"
        },
        {
         "name": "temperature c (calc)__min",
         "rawType": "float64",
         "type": "float"
        },
        {
         "name": "temperature celsius__min",
         "rawType": "float64",
         "type": "float"
        },
        {
         "name": "temperature f__min",
         "rawType": "float64",
         "type": "float"
        },
        {
         "name": "temperature f (calc)__min",
         "rawType": "float64",
         "type": "float"
        },
        {
         "name": "temperature fahrenheit__min",
         "rawType": "float64",
         "type": "float"
        },
        {
         "name": "temporary atrial sens threshold mv__min",
         "rawType": "float64",
         "type": "float"
        },
        {
         "name": "temporary atrial stim threshold ma__min",
         "rawType": "float64",
         "type": "float"
        },
        {
         "name": "temporary venticular sens threshold mv__min",
         "rawType": "float64",
         "type": "float"
        },
        {
         "name": "temporary venticular stim threshold ma__min",
         "rawType": "float64",
         "type": "float"
        },
        {
         "name": "thrombin__min",
         "rawType": "float64",
         "type": "float"
        },
        {
         "name": "tpa mg/hr__min",
         "rawType": "float64",
         "type": "float"
        },
        {
         "name": "vent sens thresh mv__min",
         "rawType": "float64",
         "type": "float"
        },
        {
         "name": "vent stim thresh ma__min",
         "rawType": "float64",
         "type": "float"
        },
        {
         "name": "ventricular pacemaker threshold [value]__min",
         "rawType": "float64",
         "type": "float"
        },
        {
         "name": "xigris mcg/kg/hr__min",
         "rawType": "float64",
         "type": "float"
        },
        {
         "name": "aprotinin cc/hr__max",
         "rawType": "float64",
         "type": "float"
        },
        {
         "name": "aprotinin ml/hr__max",
         "rawType": "float64",
         "type": "float"
        },
        {
         "name": "art bp diastolic__max",
         "rawType": "float64",
         "type": "float"
        },
        {
         "name": "art bp systolic__max",
         "rawType": "float64",
         "type": "float"
        },
        {
         "name": "arterial blood pressure diastolic__max",
         "rawType": "float64",
         "type": "float"
        },
        {
         "name": "arterial blood pressure systolic__max",
         "rawType": "float64",
         "type": "float"
        },
        {
         "name": "arterial bp #2 [diastolic]__max",
         "rawType": "float64",
         "type": "float"
        },
        {
         "name": "arterial bp #2 [systolic]__max",
         "rawType": "float64",
         "type": "float"
        },
        {
         "name": "arterial bp [diastolic]__max",
         "rawType": "float64",
         "type": "float"
        },
        {
         "name": "arterial bp [systolic]__max",
         "rawType": "float64",
         "type": "float"
        },
        {
         "name": "arterial o2 saturation__max",
         "rawType": "float64",
         "type": "float"
        },
        {
         "name": "atr sens thresh mv__max",
         "rawType": "float64",
         "type": "float"
        },
        {
         "name": "atr stim thresh ma__max",
         "rawType": "float64",
         "type": "float"
        },
        {
         "name": "atrial pacemaker threshold [value]__max",
         "rawType": "float64",
         "type": "float"
        },
        {
         "name": "baseline current/ma__max",
         "rawType": "float64",
         "type": "float"
        },
        {
         "name": "blood temperature cco (c)__max",
         "rawType": "float64",
         "type": "float"
        },
        {
         "name": "bp cuff [diastolic]__max",
         "rawType": "float64",
         "type": "float"
        },
        {
         "name": "bp cuff [systolic]__max",
         "rawType": "float64",
         "type": "float"
        },
        {
         "name": "bp left arm [diastolic]__max",
         "rawType": "float64",
         "type": "float"
        },
        {
         "name": "bp left arm [systolic]__max",
         "rawType": "float64",
         "type": "float"
        },
        {
         "name": "bp left leg [diastolic]__max",
         "rawType": "float64",
         "type": "float"
        },
        {
         "name": "bp left leg [systolic]__max",
         "rawType": "float64",
         "type": "float"
        },
        {
         "name": "bp pal [diastolic]__max",
         "rawType": "float64",
         "type": "float"
        },
        {
         "name": "bp pal [systolic]__max",
         "rawType": "float64",
         "type": "float"
        },
        {
         "name": "bp right arm [diastolic]__max",
         "rawType": "float64",
         "type": "float"
        },
        {
         "name": "bp right arm [systolic]__max",
         "rawType": "float64",
         "type": "float"
        },
        {
         "name": "bp right leg [diastolic]__max",
         "rawType": "float64",
         "type": "float"
        },
        {
         "name": "bp right leg [systolic]__max",
         "rawType": "float64",
         "type": "float"
        },
        {
         "name": "bp uac [diastolic]__max",
         "rawType": "float64",
         "type": "float"
        },
        {
         "name": "bp uac [systolic]__max",
         "rawType": "float64",
         "type": "float"
        },
        {
         "name": "ca gluc gm/hr__max",
         "rawType": "float64",
         "type": "float"
        },
        {
         "name": "cariporide cc/hr__max",
         "rawType": "float64",
         "type": "float"
        },
        {
         "name": "cariporide ml/hr__max",
         "rawType": "float64",
         "type": "float"
        },
        {
         "name": "changes in temperature__max",
         "rawType": "float64",
         "type": "float"
        },
        {
         "name": "cisatracu mg/kg/hr__max",
         "rawType": "float64",
         "type": "float"
        },
        {
         "name": "current goal__max",
         "rawType": "float64",
         "type": "float"
        },
        {
         "name": "current used/ma__max",
         "rawType": "float64",
         "type": "float"
        },
        {
         "name": "currently experiencing pain__max",
         "rawType": "float64",
         "type": "float"
        },
        {
         "name": "dialysate flow ml/hr__max",
         "rawType": "float64",
         "type": "float"
        },
        {
         "name": "diastolic unloading__max",
         "rawType": "float64",
         "type": "float"
        },
        {
         "name": "epidural infusion rate (ml/hr)__max",
         "rawType": "float64",
         "type": "float"
        },
        {
         "name": "gait/transferring__max",
         "rawType": "float64",
         "type": "float"
        },
        {
         "name": "heart rate__max",
         "rawType": "float64",
         "type": "float"
        },
        {
         "name": "heart rate alarm - high__max",
         "rawType": "float64",
         "type": "float"
        },
        {
         "name": "heart rate alarm - low__max",
         "rawType": "float64",
         "type": "float"
        },
        {
         "name": "hr alarm [high]__max",
         "rawType": "float64",
         "type": "float"
        },
        {
         "name": "hr alarm [low]__max",
         "rawType": "float64",
         "type": "float"
        },
        {
         "name": "lowest heart rate__max",
         "rawType": "float64",
         "type": "float"
        },
        {
         "name": "manual blood pressure diastolic left__max",
         "rawType": "float64",
         "type": "float"
        },
        {
         "name": "manual blood pressure diastolic right__max",
         "rawType": "float64",
         "type": "float"
        },
        {
         "name": "manual blood pressure systolic left__max",
         "rawType": "float64",
         "type": "float"
        },
        {
         "name": "manual blood pressure systolic right__max",
         "rawType": "float64",
         "type": "float"
        },
        {
         "name": "manual bp [diastolic]__max",
         "rawType": "float64",
         "type": "float"
        },
        {
         "name": "manual bp [systolic]__max",
         "rawType": "float64",
         "type": "float"
        },
        {
         "name": "mucomyst       mg/hr__max",
         "rawType": "float64",
         "type": "float"
        },
        {
         "name": "mucomyst mg/hr__max",
         "rawType": "float64",
         "type": "float"
        },
        {
         "name": "nbp [diastolic]__max",
         "rawType": "float64",
         "type": "float"
        },
        {
         "name": "nbp [systolic]__max",
         "rawType": "float64",
         "type": "float"
        },
        {
         "name": "nicardipine mg/hr__max",
         "rawType": "float64",
         "type": "float"
        },
        {
         "name": "nicardipine--mg/hr__max",
         "rawType": "float64",
         "type": "float"
        },
        {
         "name": "non invasive blood pressure diastolic__max",
         "rawType": "float64",
         "type": "float"
        },
        {
         "name": "non invasive blood pressure systolic__max",
         "rawType": "float64",
         "type": "float"
        },
        {
         "name": "o2 saturation pulseoxymetry__max",
         "rawType": "float64",
         "type": "float"
        },
        {
         "name": "o2 saturation pulseoxymetry alarm - high__max",
         "rawType": "float64",
         "type": "float"
        },
        {
         "name": "o2 saturation pulseoxymetry alarm - low__max",
         "rawType": "float64",
         "type": "float"
        },
        {
         "name": "orthostat bp sitting [diastolic]__max",
         "rawType": "float64",
         "type": "float"
        },
        {
         "name": "orthostat bp sitting [systolic]__max",
         "rawType": "float64",
         "type": "float"
        },
        {
         "name": "orthostat hr sitting__max",
         "rawType": "float64",
         "type": "float"
        },
        {
         "name": "orthostatbp standing [diastolic]__max",
         "rawType": "float64",
         "type": "float"
        },
        {
         "name": "orthostatbp standing [systolic]__max",
         "rawType": "float64",
         "type": "float"
        },
        {
         "name": "orthostathr standing__max",
         "rawType": "float64",
         "type": "float"
        },
        {
         "name": "orthostatic bp lying [diastolic]__max",
         "rawType": "float64",
         "type": "float"
        },
        {
         "name": "orthostatic bp lying [systolic]__max",
         "rawType": "float64",
         "type": "float"
        },
        {
         "name": "orthostatic hr lying__max",
         "rawType": "float64",
         "type": "float"
        },
        {
         "name": "orthostatic hr sitting__max",
         "rawType": "float64",
         "type": "float"
        },
        {
         "name": "orthostatic hr standing__max",
         "rawType": "float64",
         "type": "float"
        },
        {
         "name": "pantoprazole   mg/hr__max",
         "rawType": "float64",
         "type": "float"
        },
        {
         "name": "pantoprazole  mg/hr__max",
         "rawType": "float64",
         "type": "float"
        },
        {
         "name": "pap [diastolic]__max",
         "rawType": "float64",
         "type": "float"
        },
        {
         "name": "pap [systolic]__max",
         "rawType": "float64",
         "type": "float"
        },
        {
         "name": "par-oxygen saturation__max",
         "rawType": "float64",
         "type": "float"
        },
        {
         "name": "pca 1 hr limit (mg)__max",
         "rawType": "float64",
         "type": "float"
        },
        {
         "name": "prothrombin time__max",
         "rawType": "float64",
         "type": "float"
        },
        {
         "name": "protonix mg/hr__max",
         "rawType": "float64",
         "type": "float"
        },
        {
         "name": "pulmonary artery pressure diastolic__max",
         "rawType": "float64",
         "type": "float"
        },
        {
         "name": "pulmonary artery pressure systolic__max",
         "rawType": "float64",
         "type": "float"
        },
        {
         "name": "replace rate ml/hr__max",
         "rawType": "float64",
         "type": "float"
        },
        {
         "name": "respiratory rate__max",
         "rawType": "float64",
         "type": "float"
        },
        {
         "name": "respiratory rate (set)__max",
         "rawType": "float64",
         "type": "float"
        },
        {
         "name": "respiratory rate (spontaneous)__max",
         "rawType": "float64",
         "type": "float"
        },
        {
         "name": "respiratory rate (total)__max",
         "rawType": "float64",
         "type": "float"
        },
        {
         "name": "respiratory rate set__max",
         "rawType": "float64",
         "type": "float"
        },
        {
         "name": "smoking cessation info offered through bidmc inpatient guide__max",
         "rawType": "float64",
         "type": "float"
        },
        {
         "name": "solumedrol mg/hr__max",
         "rawType": "float64",
         "type": "float"
        },
        {
         "name": "solumedrol mg/kg/hr__max",
         "rawType": "float64",
         "type": "float"
        },
        {
         "name": "spo2__max",
         "rawType": "float64",
         "type": "float"
        },
        {
         "name": "spo2 alarm [high]__max",
         "rawType": "float64",
         "type": "float"
        },
        {
         "name": "spo2 alarm [low]__max",
         "rawType": "float64",
         "type": "float"
        },
        {
         "name": "spo2 desat limit__max",
         "rawType": "float64",
         "type": "float"
        },
        {
         "name": "spon rr (mech.)__max",
         "rawType": "float64",
         "type": "float"
        },
        {
         "name": "spont rr__max",
         "rawType": "float64",
         "type": "float"
        },
        {
         "name": "systolic unloading__max",
         "rawType": "float64",
         "type": "float"
        },
        {
         "name": "tcpcv-map__max",
         "rawType": "float64",
         "type": "float"
        },
        {
         "name": "temp/iso/warmer [temperature, degrees c]__max",
         "rawType": "float64",
         "type": "float"
        },
        {
         "name": "temperature c__max",
         "rawType": "float64",
         "type": "float"
        },
        {
         "name": "temperature c (calc)__max",
         "rawType": "float64",
         "type": "float"
        },
        {
         "name": "temperature celsius__max",
         "rawType": "float64",
         "type": "float"
        },
        {
         "name": "temperature f__max",
         "rawType": "float64",
         "type": "float"
        },
        {
         "name": "temperature f (calc)__max",
         "rawType": "float64",
         "type": "float"
        },
        {
         "name": "temperature fahrenheit__max",
         "rawType": "float64",
         "type": "float"
        },
        {
         "name": "temporary atrial sens threshold mv__max",
         "rawType": "float64",
         "type": "float"
        },
        {
         "name": "temporary atrial stim threshold ma__max",
         "rawType": "float64",
         "type": "float"
        },
        {
         "name": "temporary venticular sens threshold mv__max",
         "rawType": "float64",
         "type": "float"
        },
        {
         "name": "temporary venticular stim threshold ma__max",
         "rawType": "float64",
         "type": "float"
        },
        {
         "name": "thrombin__max",
         "rawType": "float64",
         "type": "float"
        },
        {
         "name": "tpa mg/hr__max",
         "rawType": "float64",
         "type": "float"
        },
        {
         "name": "vent sens thresh mv__max",
         "rawType": "float64",
         "type": "float"
        },
        {
         "name": "vent stim thresh ma__max",
         "rawType": "float64",
         "type": "float"
        },
        {
         "name": "ventricular pacemaker threshold [value]__max",
         "rawType": "float64",
         "type": "float"
        },
        {
         "name": "xigris mcg/kg/hr__max",
         "rawType": "float64",
         "type": "float"
        },
        {
         "name": "aprotinin cc/hr__range",
         "rawType": "float64",
         "type": "float"
        },
        {
         "name": "aprotinin ml/hr__range",
         "rawType": "float64",
         "type": "float"
        },
        {
         "name": "art bp diastolic__range",
         "rawType": "float64",
         "type": "float"
        },
        {
         "name": "art bp systolic__range",
         "rawType": "float64",
         "type": "float"
        },
        {
         "name": "arterial blood pressure diastolic__range",
         "rawType": "float64",
         "type": "float"
        },
        {
         "name": "arterial blood pressure systolic__range",
         "rawType": "float64",
         "type": "float"
        },
        {
         "name": "arterial bp #2 [diastolic]__range",
         "rawType": "float64",
         "type": "float"
        },
        {
         "name": "arterial bp #2 [systolic]__range",
         "rawType": "float64",
         "type": "float"
        },
        {
         "name": "arterial bp [diastolic]__range",
         "rawType": "float64",
         "type": "float"
        },
        {
         "name": "arterial bp [systolic]__range",
         "rawType": "float64",
         "type": "float"
        },
        {
         "name": "arterial o2 saturation__range",
         "rawType": "float64",
         "type": "float"
        },
        {
         "name": "atr sens thresh mv__range",
         "rawType": "float64",
         "type": "float"
        },
        {
         "name": "atr stim thresh ma__range",
         "rawType": "float64",
         "type": "float"
        },
        {
         "name": "atrial pacemaker threshold [value]__range",
         "rawType": "float64",
         "type": "float"
        },
        {
         "name": "baseline current/ma__range",
         "rawType": "float64",
         "type": "float"
        },
        {
         "name": "blood temperature cco (c)__range",
         "rawType": "float64",
         "type": "float"
        },
        {
         "name": "bp cuff [diastolic]__range",
         "rawType": "float64",
         "type": "float"
        },
        {
         "name": "bp cuff [systolic]__range",
         "rawType": "float64",
         "type": "float"
        },
        {
         "name": "bp left arm [diastolic]__range",
         "rawType": "float64",
         "type": "float"
        },
        {
         "name": "bp left arm [systolic]__range",
         "rawType": "float64",
         "type": "float"
        },
        {
         "name": "bp left leg [diastolic]__range",
         "rawType": "float64",
         "type": "float"
        },
        {
         "name": "bp left leg [systolic]__range",
         "rawType": "float64",
         "type": "float"
        },
        {
         "name": "bp pal [diastolic]__range",
         "rawType": "float64",
         "type": "float"
        },
        {
         "name": "bp pal [systolic]__range",
         "rawType": "float64",
         "type": "float"
        },
        {
         "name": "bp right arm [diastolic]__range",
         "rawType": "float64",
         "type": "float"
        },
        {
         "name": "bp right arm [systolic]__range",
         "rawType": "float64",
         "type": "float"
        },
        {
         "name": "bp right leg [diastolic]__range",
         "rawType": "float64",
         "type": "float"
        },
        {
         "name": "bp right leg [systolic]__range",
         "rawType": "float64",
         "type": "float"
        },
        {
         "name": "bp uac [diastolic]__range",
         "rawType": "float64",
         "type": "float"
        },
        {
         "name": "bp uac [systolic]__range",
         "rawType": "float64",
         "type": "float"
        },
        {
         "name": "ca gluc gm/hr__range",
         "rawType": "float64",
         "type": "float"
        },
        {
         "name": "cariporide cc/hr__range",
         "rawType": "float64",
         "type": "float"
        },
        {
         "name": "cariporide ml/hr__range",
         "rawType": "float64",
         "type": "float"
        },
        {
         "name": "changes in temperature__range",
         "rawType": "float64",
         "type": "float"
        },
        {
         "name": "cisatracu mg/kg/hr__range",
         "rawType": "float64",
         "type": "float"
        },
        {
         "name": "current goal__range",
         "rawType": "float64",
         "type": "float"
        },
        {
         "name": "current used/ma__range",
         "rawType": "float64",
         "type": "float"
        },
        {
         "name": "currently experiencing pain__range",
         "rawType": "float64",
         "type": "float"
        },
        {
         "name": "dialysate flow ml/hr__range",
         "rawType": "float64",
         "type": "float"
        },
        {
         "name": "diastolic unloading__range",
         "rawType": "float64",
         "type": "float"
        },
        {
         "name": "epidural infusion rate (ml/hr)__range",
         "rawType": "float64",
         "type": "float"
        },
        {
         "name": "gait/transferring__range",
         "rawType": "float64",
         "type": "float"
        },
        {
         "name": "heart rate__range",
         "rawType": "float64",
         "type": "float"
        },
        {
         "name": "heart rate alarm - high__range",
         "rawType": "float64",
         "type": "float"
        },
        {
         "name": "heart rate alarm - low__range",
         "rawType": "float64",
         "type": "float"
        },
        {
         "name": "hr alarm [high]__range",
         "rawType": "float64",
         "type": "float"
        },
        {
         "name": "hr alarm [low]__range",
         "rawType": "float64",
         "type": "float"
        },
        {
         "name": "lowest heart rate__range",
         "rawType": "float64",
         "type": "float"
        },
        {
         "name": "manual blood pressure diastolic left__range",
         "rawType": "float64",
         "type": "float"
        },
        {
         "name": "manual blood pressure diastolic right__range",
         "rawType": "float64",
         "type": "float"
        },
        {
         "name": "manual blood pressure systolic left__range",
         "rawType": "float64",
         "type": "float"
        },
        {
         "name": "manual blood pressure systolic right__range",
         "rawType": "float64",
         "type": "float"
        },
        {
         "name": "manual bp [diastolic]__range",
         "rawType": "float64",
         "type": "float"
        },
        {
         "name": "manual bp [systolic]__range",
         "rawType": "float64",
         "type": "float"
        },
        {
         "name": "mucomyst       mg/hr__range",
         "rawType": "float64",
         "type": "float"
        },
        {
         "name": "mucomyst mg/hr__range",
         "rawType": "float64",
         "type": "float"
        },
        {
         "name": "nbp [diastolic]__range",
         "rawType": "float64",
         "type": "float"
        },
        {
         "name": "nbp [systolic]__range",
         "rawType": "float64",
         "type": "float"
        },
        {
         "name": "nicardipine mg/hr__range",
         "rawType": "float64",
         "type": "float"
        },
        {
         "name": "nicardipine--mg/hr__range",
         "rawType": "float64",
         "type": "float"
        },
        {
         "name": "non invasive blood pressure diastolic__range",
         "rawType": "float64",
         "type": "float"
        },
        {
         "name": "non invasive blood pressure systolic__range",
         "rawType": "float64",
         "type": "float"
        },
        {
         "name": "o2 saturation pulseoxymetry__range",
         "rawType": "float64",
         "type": "float"
        },
        {
         "name": "o2 saturation pulseoxymetry alarm - high__range",
         "rawType": "float64",
         "type": "float"
        },
        {
         "name": "o2 saturation pulseoxymetry alarm - low__range",
         "rawType": "float64",
         "type": "float"
        },
        {
         "name": "orthostat bp sitting [diastolic]__range",
         "rawType": "float64",
         "type": "float"
        },
        {
         "name": "orthostat bp sitting [systolic]__range",
         "rawType": "float64",
         "type": "float"
        },
        {
         "name": "orthostat hr sitting__range",
         "rawType": "float64",
         "type": "float"
        },
        {
         "name": "orthostatbp standing [diastolic]__range",
         "rawType": "float64",
         "type": "float"
        },
        {
         "name": "orthostatbp standing [systolic]__range",
         "rawType": "float64",
         "type": "float"
        },
        {
         "name": "orthostathr standing__range",
         "rawType": "float64",
         "type": "float"
        },
        {
         "name": "orthostatic bp lying [diastolic]__range",
         "rawType": "float64",
         "type": "float"
        },
        {
         "name": "orthostatic bp lying [systolic]__range",
         "rawType": "float64",
         "type": "float"
        },
        {
         "name": "orthostatic hr lying__range",
         "rawType": "float64",
         "type": "float"
        },
        {
         "name": "orthostatic hr sitting__range",
         "rawType": "float64",
         "type": "float"
        },
        {
         "name": "orthostatic hr standing__range",
         "rawType": "float64",
         "type": "float"
        },
        {
         "name": "pantoprazole   mg/hr__range",
         "rawType": "float64",
         "type": "float"
        },
        {
         "name": "pantoprazole  mg/hr__range",
         "rawType": "float64",
         "type": "float"
        },
        {
         "name": "pap [diastolic]__range",
         "rawType": "float64",
         "type": "float"
        },
        {
         "name": "pap [systolic]__range",
         "rawType": "float64",
         "type": "float"
        },
        {
         "name": "par-oxygen saturation__range",
         "rawType": "float64",
         "type": "float"
        },
        {
         "name": "pca 1 hr limit (mg)__range",
         "rawType": "float64",
         "type": "float"
        },
        {
         "name": "prothrombin time__range",
         "rawType": "float64",
         "type": "float"
        },
        {
         "name": "protonix mg/hr__range",
         "rawType": "float64",
         "type": "float"
        },
        {
         "name": "pulmonary artery pressure diastolic__range",
         "rawType": "float64",
         "type": "float"
        },
        {
         "name": "pulmonary artery pressure systolic__range",
         "rawType": "float64",
         "type": "float"
        },
        {
         "name": "replace rate ml/hr__range",
         "rawType": "float64",
         "type": "float"
        },
        {
         "name": "respiratory rate__range",
         "rawType": "float64",
         "type": "float"
        },
        {
         "name": "respiratory rate (set)__range",
         "rawType": "float64",
         "type": "float"
        },
        {
         "name": "respiratory rate (spontaneous)__range",
         "rawType": "float64",
         "type": "float"
        },
        {
         "name": "respiratory rate (total)__range",
         "rawType": "float64",
         "type": "float"
        },
        {
         "name": "respiratory rate set__range",
         "rawType": "float64",
         "type": "float"
        },
        {
         "name": "smoking cessation info offered through bidmc inpatient guide__range",
         "rawType": "float64",
         "type": "float"
        },
        {
         "name": "solumedrol mg/hr__range",
         "rawType": "float64",
         "type": "float"
        },
        {
         "name": "solumedrol mg/kg/hr__range",
         "rawType": "float64",
         "type": "float"
        },
        {
         "name": "spo2__range",
         "rawType": "float64",
         "type": "float"
        },
        {
         "name": "spo2 alarm [high]__range",
         "rawType": "float64",
         "type": "float"
        },
        {
         "name": "spo2 alarm [low]__range",
         "rawType": "float64",
         "type": "float"
        },
        {
         "name": "spo2 desat limit__range",
         "rawType": "float64",
         "type": "float"
        },
        {
         "name": "spon rr (mech.)__range",
         "rawType": "float64",
         "type": "float"
        },
        {
         "name": "spont rr__range",
         "rawType": "float64",
         "type": "float"
        },
        {
         "name": "systolic unloading__range",
         "rawType": "float64",
         "type": "float"
        },
        {
         "name": "tcpcv-map__range",
         "rawType": "float64",
         "type": "float"
        },
        {
         "name": "temp/iso/warmer [temperature, degrees c]__range",
         "rawType": "float64",
         "type": "float"
        },
        {
         "name": "temperature c__range",
         "rawType": "float64",
         "type": "float"
        },
        {
         "name": "temperature c (calc)__range",
         "rawType": "float64",
         "type": "float"
        },
        {
         "name": "temperature celsius__range",
         "rawType": "float64",
         "type": "float"
        },
        {
         "name": "temperature f__range",
         "rawType": "float64",
         "type": "float"
        },
        {
         "name": "temperature f (calc)__range",
         "rawType": "float64",
         "type": "float"
        },
        {
         "name": "temperature fahrenheit__range",
         "rawType": "float64",
         "type": "float"
        },
        {
         "name": "temporary atrial sens threshold mv__range",
         "rawType": "float64",
         "type": "float"
        },
        {
         "name": "temporary atrial stim threshold ma__range",
         "rawType": "float64",
         "type": "float"
        },
        {
         "name": "temporary venticular sens threshold mv__range",
         "rawType": "float64",
         "type": "float"
        },
        {
         "name": "temporary venticular stim threshold ma__range",
         "rawType": "float64",
         "type": "float"
        },
        {
         "name": "thrombin__range",
         "rawType": "float64",
         "type": "float"
        },
        {
         "name": "tpa mg/hr__range",
         "rawType": "float64",
         "type": "float"
        },
        {
         "name": "vent sens thresh mv__range",
         "rawType": "float64",
         "type": "float"
        },
        {
         "name": "vent stim thresh ma__range",
         "rawType": "float64",
         "type": "float"
        },
        {
         "name": "ventricular pacemaker threshold [value]__range",
         "rawType": "float64",
         "type": "float"
        },
        {
         "name": "xigris mcg/kg/hr__range",
         "rawType": "float64",
         "type": "float"
        },
        {
         "name": "aprotinin cc/hr__last",
         "rawType": "float64",
         "type": "float"
        },
        {
         "name": "aprotinin ml/hr__last",
         "rawType": "float64",
         "type": "float"
        },
        {
         "name": "art bp diastolic__last",
         "rawType": "float64",
         "type": "float"
        },
        {
         "name": "art bp systolic__last",
         "rawType": "float64",
         "type": "float"
        },
        {
         "name": "arterial blood pressure diastolic__last",
         "rawType": "float64",
         "type": "float"
        },
        {
         "name": "arterial blood pressure systolic__last",
         "rawType": "float64",
         "type": "float"
        },
        {
         "name": "arterial bp #2 [diastolic]__last",
         "rawType": "float64",
         "type": "float"
        },
        {
         "name": "arterial bp #2 [systolic]__last",
         "rawType": "float64",
         "type": "float"
        },
        {
         "name": "arterial bp [diastolic]__last",
         "rawType": "float64",
         "type": "float"
        },
        {
         "name": "arterial bp [systolic]__last",
         "rawType": "float64",
         "type": "float"
        },
        {
         "name": "arterial o2 saturation__last",
         "rawType": "float64",
         "type": "float"
        },
        {
         "name": "atr sens thresh mv__last",
         "rawType": "float64",
         "type": "float"
        },
        {
         "name": "atr stim thresh ma__last",
         "rawType": "float64",
         "type": "float"
        },
        {
         "name": "atrial pacemaker threshold [value]__last",
         "rawType": "float64",
         "type": "float"
        },
        {
         "name": "baseline current/ma__last",
         "rawType": "float64",
         "type": "float"
        },
        {
         "name": "blood temperature cco (c)__last",
         "rawType": "float64",
         "type": "float"
        },
        {
         "name": "bp cuff [diastolic]__last",
         "rawType": "float64",
         "type": "float"
        },
        {
         "name": "bp cuff [systolic]__last",
         "rawType": "float64",
         "type": "float"
        },
        {
         "name": "bp left arm [diastolic]__last",
         "rawType": "float64",
         "type": "float"
        },
        {
         "name": "bp left arm [systolic]__last",
         "rawType": "float64",
         "type": "float"
        },
        {
         "name": "bp left leg [diastolic]__last",
         "rawType": "float64",
         "type": "float"
        },
        {
         "name": "bp left leg [systolic]__last",
         "rawType": "float64",
         "type": "float"
        },
        {
         "name": "bp pal [diastolic]__last",
         "rawType": "float64",
         "type": "float"
        },
        {
         "name": "bp pal [systolic]__last",
         "rawType": "float64",
         "type": "float"
        },
        {
         "name": "bp right arm [diastolic]__last",
         "rawType": "float64",
         "type": "float"
        },
        {
         "name": "bp right arm [systolic]__last",
         "rawType": "float64",
         "type": "float"
        },
        {
         "name": "bp right leg [diastolic]__last",
         "rawType": "float64",
         "type": "float"
        },
        {
         "name": "bp right leg [systolic]__last",
         "rawType": "float64",
         "type": "float"
        },
        {
         "name": "bp uac [diastolic]__last",
         "rawType": "float64",
         "type": "float"
        },
        {
         "name": "bp uac [systolic]__last",
         "rawType": "float64",
         "type": "float"
        },
        {
         "name": "ca gluc gm/hr__last",
         "rawType": "float64",
         "type": "float"
        },
        {
         "name": "cariporide cc/hr__last",
         "rawType": "float64",
         "type": "float"
        },
        {
         "name": "cariporide ml/hr__last",
         "rawType": "float64",
         "type": "float"
        },
        {
         "name": "changes in temperature__last",
         "rawType": "float64",
         "type": "float"
        },
        {
         "name": "cisatracu mg/kg/hr__last",
         "rawType": "float64",
         "type": "float"
        },
        {
         "name": "current goal__last",
         "rawType": "float64",
         "type": "float"
        },
        {
         "name": "current used/ma__last",
         "rawType": "float64",
         "type": "float"
        },
        {
         "name": "currently experiencing pain__last",
         "rawType": "float64",
         "type": "float"
        },
        {
         "name": "dialysate flow ml/hr__last",
         "rawType": "float64",
         "type": "float"
        },
        {
         "name": "diastolic unloading__last",
         "rawType": "float64",
         "type": "float"
        },
        {
         "name": "epidural infusion rate (ml/hr)__last",
         "rawType": "float64",
         "type": "float"
        },
        {
         "name": "gait/transferring__last",
         "rawType": "float64",
         "type": "float"
        },
        {
         "name": "heart rate__last",
         "rawType": "float64",
         "type": "float"
        },
        {
         "name": "heart rate alarm - high__last",
         "rawType": "float64",
         "type": "float"
        },
        {
         "name": "heart rate alarm - low__last",
         "rawType": "float64",
         "type": "float"
        },
        {
         "name": "hr alarm [high]__last",
         "rawType": "float64",
         "type": "float"
        },
        {
         "name": "hr alarm [low]__last",
         "rawType": "float64",
         "type": "float"
        },
        {
         "name": "lowest heart rate__last",
         "rawType": "float64",
         "type": "float"
        },
        {
         "name": "manual blood pressure diastolic left__last",
         "rawType": "float64",
         "type": "float"
        },
        {
         "name": "manual blood pressure diastolic right__last",
         "rawType": "float64",
         "type": "float"
        },
        {
         "name": "manual blood pressure systolic left__last",
         "rawType": "float64",
         "type": "float"
        },
        {
         "name": "manual blood pressure systolic right__last",
         "rawType": "float64",
         "type": "float"
        },
        {
         "name": "manual bp [diastolic]__last",
         "rawType": "float64",
         "type": "float"
        },
        {
         "name": "manual bp [systolic]__last",
         "rawType": "float64",
         "type": "float"
        },
        {
         "name": "mucomyst       mg/hr__last",
         "rawType": "float64",
         "type": "float"
        },
        {
         "name": "mucomyst mg/hr__last",
         "rawType": "float64",
         "type": "float"
        },
        {
         "name": "nbp [diastolic]__last",
         "rawType": "float64",
         "type": "float"
        },
        {
         "name": "nbp [systolic]__last",
         "rawType": "float64",
         "type": "float"
        },
        {
         "name": "nicardipine mg/hr__last",
         "rawType": "float64",
         "type": "float"
        },
        {
         "name": "nicardipine--mg/hr__last",
         "rawType": "float64",
         "type": "float"
        },
        {
         "name": "non invasive blood pressure diastolic__last",
         "rawType": "float64",
         "type": "float"
        },
        {
         "name": "non invasive blood pressure systolic__last",
         "rawType": "float64",
         "type": "float"
        },
        {
         "name": "o2 saturation pulseoxymetry__last",
         "rawType": "float64",
         "type": "float"
        },
        {
         "name": "o2 saturation pulseoxymetry alarm - high__last",
         "rawType": "float64",
         "type": "float"
        },
        {
         "name": "o2 saturation pulseoxymetry alarm - low__last",
         "rawType": "float64",
         "type": "float"
        },
        {
         "name": "orthostat bp sitting [diastolic]__last",
         "rawType": "float64",
         "type": "float"
        },
        {
         "name": "orthostat bp sitting [systolic]__last",
         "rawType": "float64",
         "type": "float"
        },
        {
         "name": "orthostat hr sitting__last",
         "rawType": "float64",
         "type": "float"
        },
        {
         "name": "orthostatbp standing [diastolic]__last",
         "rawType": "float64",
         "type": "float"
        },
        {
         "name": "orthostatbp standing [systolic]__last",
         "rawType": "float64",
         "type": "float"
        },
        {
         "name": "orthostathr standing__last",
         "rawType": "float64",
         "type": "float"
        },
        {
         "name": "orthostatic bp lying [diastolic]__last",
         "rawType": "float64",
         "type": "float"
        },
        {
         "name": "orthostatic bp lying [systolic]__last",
         "rawType": "float64",
         "type": "float"
        },
        {
         "name": "orthostatic hr lying__last",
         "rawType": "float64",
         "type": "float"
        },
        {
         "name": "orthostatic hr sitting__last",
         "rawType": "float64",
         "type": "float"
        },
        {
         "name": "orthostatic hr standing__last",
         "rawType": "float64",
         "type": "float"
        },
        {
         "name": "pantoprazole   mg/hr__last",
         "rawType": "float64",
         "type": "float"
        },
        {
         "name": "pantoprazole  mg/hr__last",
         "rawType": "float64",
         "type": "float"
        },
        {
         "name": "pap [diastolic]__last",
         "rawType": "float64",
         "type": "float"
        },
        {
         "name": "pap [systolic]__last",
         "rawType": "float64",
         "type": "float"
        },
        {
         "name": "par-oxygen saturation__last",
         "rawType": "float64",
         "type": "float"
        },
        {
         "name": "pca 1 hr limit (mg)__last",
         "rawType": "float64",
         "type": "float"
        },
        {
         "name": "prothrombin time__last",
         "rawType": "float64",
         "type": "float"
        },
        {
         "name": "protonix mg/hr__last",
         "rawType": "float64",
         "type": "float"
        },
        {
         "name": "pulmonary artery pressure diastolic__last",
         "rawType": "float64",
         "type": "float"
        },
        {
         "name": "pulmonary artery pressure systolic__last",
         "rawType": "float64",
         "type": "float"
        },
        {
         "name": "replace rate ml/hr__last",
         "rawType": "float64",
         "type": "float"
        },
        {
         "name": "respiratory rate__last",
         "rawType": "float64",
         "type": "float"
        },
        {
         "name": "respiratory rate (set)__last",
         "rawType": "float64",
         "type": "float"
        },
        {
         "name": "respiratory rate (spontaneous)__last",
         "rawType": "float64",
         "type": "float"
        },
        {
         "name": "respiratory rate (total)__last",
         "rawType": "float64",
         "type": "float"
        },
        {
         "name": "respiratory rate set__last",
         "rawType": "float64",
         "type": "float"
        },
        {
         "name": "smoking cessation info offered through bidmc inpatient guide__last",
         "rawType": "float64",
         "type": "float"
        },
        {
         "name": "solumedrol mg/hr__last",
         "rawType": "float64",
         "type": "float"
        },
        {
         "name": "solumedrol mg/kg/hr__last",
         "rawType": "float64",
         "type": "float"
        },
        {
         "name": "spo2__last",
         "rawType": "float64",
         "type": "float"
        },
        {
         "name": "spo2 alarm [high]__last",
         "rawType": "float64",
         "type": "float"
        },
        {
         "name": "spo2 alarm [low]__last",
         "rawType": "float64",
         "type": "float"
        },
        {
         "name": "spo2 desat limit__last",
         "rawType": "float64",
         "type": "float"
        },
        {
         "name": "spon rr (mech.)__last",
         "rawType": "float64",
         "type": "float"
        },
        {
         "name": "spont rr__last",
         "rawType": "float64",
         "type": "float"
        },
        {
         "name": "systolic unloading__last",
         "rawType": "float64",
         "type": "float"
        },
        {
         "name": "tcpcv-map__last",
         "rawType": "float64",
         "type": "float"
        },
        {
         "name": "temp/iso/warmer [temperature, degrees c]__last",
         "rawType": "float64",
         "type": "float"
        },
        {
         "name": "temperature c__last",
         "rawType": "float64",
         "type": "float"
        },
        {
         "name": "temperature c (calc)__last",
         "rawType": "float64",
         "type": "float"
        },
        {
         "name": "temperature celsius__last",
         "rawType": "float64",
         "type": "float"
        },
        {
         "name": "temperature f__last",
         "rawType": "float64",
         "type": "float"
        },
        {
         "name": "temperature f (calc)__last",
         "rawType": "float64",
         "type": "float"
        },
        {
         "name": "temperature fahrenheit__last",
         "rawType": "float64",
         "type": "float"
        },
        {
         "name": "temporary atrial sens threshold mv__last",
         "rawType": "float64",
         "type": "float"
        },
        {
         "name": "temporary atrial stim threshold ma__last",
         "rawType": "float64",
         "type": "float"
        },
        {
         "name": "temporary venticular sens threshold mv__last",
         "rawType": "float64",
         "type": "float"
        },
        {
         "name": "temporary venticular stim threshold ma__last",
         "rawType": "float64",
         "type": "float"
        },
        {
         "name": "thrombin__last",
         "rawType": "float64",
         "type": "float"
        },
        {
         "name": "tpa mg/hr__last",
         "rawType": "float64",
         "type": "float"
        },
        {
         "name": "vent sens thresh mv__last",
         "rawType": "float64",
         "type": "float"
        },
        {
         "name": "vent stim thresh ma__last",
         "rawType": "float64",
         "type": "float"
        },
        {
         "name": "ventricular pacemaker threshold [value]__last",
         "rawType": "float64",
         "type": "float"
        },
        {
         "name": "xigris mcg/kg/hr__last",
         "rawType": "float64",
         "type": "float"
        },
        {
         "name": "aprotinin cc/hr__count",
         "rawType": "float64",
         "type": "float"
        },
        {
         "name": "aprotinin ml/hr__count",
         "rawType": "float64",
         "type": "float"
        },
        {
         "name": "art bp diastolic__count",
         "rawType": "float64",
         "type": "float"
        },
        {
         "name": "art bp systolic__count",
         "rawType": "float64",
         "type": "float"
        },
        {
         "name": "arterial blood pressure diastolic__count",
         "rawType": "float64",
         "type": "float"
        },
        {
         "name": "arterial blood pressure systolic__count",
         "rawType": "float64",
         "type": "float"
        },
        {
         "name": "arterial bp #2 [diastolic]__count",
         "rawType": "float64",
         "type": "float"
        },
        {
         "name": "arterial bp #2 [systolic]__count",
         "rawType": "float64",
         "type": "float"
        },
        {
         "name": "arterial bp [diastolic]__count",
         "rawType": "float64",
         "type": "float"
        },
        {
         "name": "arterial bp [systolic]__count",
         "rawType": "float64",
         "type": "float"
        },
        {
         "name": "arterial o2 saturation__count",
         "rawType": "float64",
         "type": "float"
        },
        {
         "name": "atr sens thresh mv__count",
         "rawType": "float64",
         "type": "float"
        },
        {
         "name": "atr stim thresh ma__count",
         "rawType": "float64",
         "type": "float"
        },
        {
         "name": "atrial pacemaker threshold [value]__count",
         "rawType": "float64",
         "type": "float"
        },
        {
         "name": "baseline current/ma__count",
         "rawType": "float64",
         "type": "float"
        },
        {
         "name": "blood temperature cco (c)__count",
         "rawType": "float64",
         "type": "float"
        },
        {
         "name": "bp cuff [diastolic]__count",
         "rawType": "float64",
         "type": "float"
        },
        {
         "name": "bp cuff [systolic]__count",
         "rawType": "float64",
         "type": "float"
        },
        {
         "name": "bp left arm [diastolic]__count",
         "rawType": "float64",
         "type": "float"
        },
        {
         "name": "bp left arm [systolic]__count",
         "rawType": "float64",
         "type": "float"
        },
        {
         "name": "bp left leg [diastolic]__count",
         "rawType": "float64",
         "type": "float"
        },
        {
         "name": "bp left leg [systolic]__count",
         "rawType": "float64",
         "type": "float"
        },
        {
         "name": "bp pal [diastolic]__count",
         "rawType": "float64",
         "type": "float"
        },
        {
         "name": "bp pal [systolic]__count",
         "rawType": "float64",
         "type": "float"
        },
        {
         "name": "bp right arm [diastolic]__count",
         "rawType": "float64",
         "type": "float"
        },
        {
         "name": "bp right arm [systolic]__count",
         "rawType": "float64",
         "type": "float"
        },
        {
         "name": "bp right leg [diastolic]__count",
         "rawType": "float64",
         "type": "float"
        },
        {
         "name": "bp right leg [systolic]__count",
         "rawType": "float64",
         "type": "float"
        },
        {
         "name": "bp uac [diastolic]__count",
         "rawType": "float64",
         "type": "float"
        },
        {
         "name": "bp uac [systolic]__count",
         "rawType": "float64",
         "type": "float"
        },
        {
         "name": "ca gluc gm/hr__count",
         "rawType": "float64",
         "type": "float"
        },
        {
         "name": "cariporide cc/hr__count",
         "rawType": "float64",
         "type": "float"
        },
        {
         "name": "cariporide ml/hr__count",
         "rawType": "float64",
         "type": "float"
        },
        {
         "name": "changes in temperature__count",
         "rawType": "float64",
         "type": "float"
        },
        {
         "name": "cisatracu mg/kg/hr__count",
         "rawType": "float64",
         "type": "float"
        },
        {
         "name": "current goal__count",
         "rawType": "float64",
         "type": "float"
        },
        {
         "name": "current used/ma__count",
         "rawType": "float64",
         "type": "float"
        },
        {
         "name": "currently experiencing pain__count",
         "rawType": "float64",
         "type": "float"
        },
        {
         "name": "dialysate flow ml/hr__count",
         "rawType": "float64",
         "type": "float"
        },
        {
         "name": "diastolic unloading__count",
         "rawType": "float64",
         "type": "float"
        },
        {
         "name": "epidural infusion rate (ml/hr)__count",
         "rawType": "float64",
         "type": "float"
        },
        {
         "name": "gait/transferring__count",
         "rawType": "float64",
         "type": "float"
        },
        {
         "name": "heart rate__count",
         "rawType": "float64",
         "type": "float"
        },
        {
         "name": "heart rate alarm - high__count",
         "rawType": "float64",
         "type": "float"
        },
        {
         "name": "heart rate alarm - low__count",
         "rawType": "float64",
         "type": "float"
        },
        {
         "name": "hr alarm [high]__count",
         "rawType": "float64",
         "type": "float"
        },
        {
         "name": "hr alarm [low]__count",
         "rawType": "float64",
         "type": "float"
        },
        {
         "name": "lowest heart rate__count",
         "rawType": "float64",
         "type": "float"
        },
        {
         "name": "manual blood pressure diastolic left__count",
         "rawType": "float64",
         "type": "float"
        },
        {
         "name": "manual blood pressure diastolic right__count",
         "rawType": "float64",
         "type": "float"
        },
        {
         "name": "manual blood pressure systolic left__count",
         "rawType": "float64",
         "type": "float"
        },
        {
         "name": "manual blood pressure systolic right__count",
         "rawType": "float64",
         "type": "float"
        },
        {
         "name": "manual bp [diastolic]__count",
         "rawType": "float64",
         "type": "float"
        },
        {
         "name": "manual bp [systolic]__count",
         "rawType": "float64",
         "type": "float"
        },
        {
         "name": "mucomyst       mg/hr__count",
         "rawType": "float64",
         "type": "float"
        },
        {
         "name": "mucomyst mg/hr__count",
         "rawType": "float64",
         "type": "float"
        },
        {
         "name": "nbp [diastolic]__count",
         "rawType": "float64",
         "type": "float"
        },
        {
         "name": "nbp [systolic]__count",
         "rawType": "float64",
         "type": "float"
        },
        {
         "name": "nicardipine mg/hr__count",
         "rawType": "float64",
         "type": "float"
        },
        {
         "name": "nicardipine--mg/hr__count",
         "rawType": "float64",
         "type": "float"
        },
        {
         "name": "non invasive blood pressure diastolic__count",
         "rawType": "float64",
         "type": "float"
        },
        {
         "name": "non invasive blood pressure systolic__count",
         "rawType": "float64",
         "type": "float"
        },
        {
         "name": "o2 saturation pulseoxymetry__count",
         "rawType": "float64",
         "type": "float"
        },
        {
         "name": "o2 saturation pulseoxymetry alarm - high__count",
         "rawType": "float64",
         "type": "float"
        },
        {
         "name": "o2 saturation pulseoxymetry alarm - low__count",
         "rawType": "float64",
         "type": "float"
        },
        {
         "name": "orthostat bp sitting [diastolic]__count",
         "rawType": "float64",
         "type": "float"
        },
        {
         "name": "orthostat bp sitting [systolic]__count",
         "rawType": "float64",
         "type": "float"
        },
        {
         "name": "orthostat hr sitting__count",
         "rawType": "float64",
         "type": "float"
        },
        {
         "name": "orthostatbp standing [diastolic]__count",
         "rawType": "float64",
         "type": "float"
        },
        {
         "name": "orthostatbp standing [systolic]__count",
         "rawType": "float64",
         "type": "float"
        },
        {
         "name": "orthostathr standing__count",
         "rawType": "float64",
         "type": "float"
        },
        {
         "name": "orthostatic bp lying [diastolic]__count",
         "rawType": "float64",
         "type": "float"
        },
        {
         "name": "orthostatic bp lying [systolic]__count",
         "rawType": "float64",
         "type": "float"
        },
        {
         "name": "orthostatic hr lying__count",
         "rawType": "float64",
         "type": "float"
        },
        {
         "name": "orthostatic hr sitting__count",
         "rawType": "float64",
         "type": "float"
        },
        {
         "name": "orthostatic hr standing__count",
         "rawType": "float64",
         "type": "float"
        },
        {
         "name": "pantoprazole   mg/hr__count",
         "rawType": "float64",
         "type": "float"
        },
        {
         "name": "pantoprazole  mg/hr__count",
         "rawType": "float64",
         "type": "float"
        },
        {
         "name": "pap [diastolic]__count",
         "rawType": "float64",
         "type": "float"
        },
        {
         "name": "pap [systolic]__count",
         "rawType": "float64",
         "type": "float"
        },
        {
         "name": "par-oxygen saturation__count",
         "rawType": "float64",
         "type": "float"
        },
        {
         "name": "pca 1 hr limit (mg)__count",
         "rawType": "float64",
         "type": "float"
        },
        {
         "name": "prothrombin time__count",
         "rawType": "float64",
         "type": "float"
        },
        {
         "name": "protonix mg/hr__count",
         "rawType": "float64",
         "type": "float"
        },
        {
         "name": "pulmonary artery pressure diastolic__count",
         "rawType": "float64",
         "type": "float"
        },
        {
         "name": "pulmonary artery pressure systolic__count",
         "rawType": "float64",
         "type": "float"
        },
        {
         "name": "replace rate ml/hr__count",
         "rawType": "float64",
         "type": "float"
        },
        {
         "name": "respiratory rate__count",
         "rawType": "float64",
         "type": "float"
        },
        {
         "name": "respiratory rate (set)__count",
         "rawType": "float64",
         "type": "float"
        },
        {
         "name": "respiratory rate (spontaneous)__count",
         "rawType": "float64",
         "type": "float"
        },
        {
         "name": "respiratory rate (total)__count",
         "rawType": "float64",
         "type": "float"
        },
        {
         "name": "respiratory rate set__count",
         "rawType": "float64",
         "type": "float"
        },
        {
         "name": "smoking cessation info offered through bidmc inpatient guide__count",
         "rawType": "float64",
         "type": "float"
        },
        {
         "name": "solumedrol mg/hr__count",
         "rawType": "float64",
         "type": "float"
        },
        {
         "name": "solumedrol mg/kg/hr__count",
         "rawType": "float64",
         "type": "float"
        },
        {
         "name": "spo2__count",
         "rawType": "float64",
         "type": "float"
        },
        {
         "name": "spo2 alarm [high]__count",
         "rawType": "float64",
         "type": "float"
        },
        {
         "name": "spo2 alarm [low]__count",
         "rawType": "float64",
         "type": "float"
        },
        {
         "name": "spo2 desat limit__count",
         "rawType": "float64",
         "type": "float"
        },
        {
         "name": "spon rr (mech.)__count",
         "rawType": "float64",
         "type": "float"
        },
        {
         "name": "spont rr__count",
         "rawType": "float64",
         "type": "float"
        },
        {
         "name": "systolic unloading__count",
         "rawType": "float64",
         "type": "float"
        },
        {
         "name": "tcpcv-map__count",
         "rawType": "float64",
         "type": "float"
        },
        {
         "name": "temp/iso/warmer [temperature, degrees c]__count",
         "rawType": "float64",
         "type": "float"
        },
        {
         "name": "temperature c__count",
         "rawType": "float64",
         "type": "float"
        },
        {
         "name": "temperature c (calc)__count",
         "rawType": "float64",
         "type": "float"
        },
        {
         "name": "temperature celsius__count",
         "rawType": "float64",
         "type": "float"
        },
        {
         "name": "temperature f__count",
         "rawType": "float64",
         "type": "float"
        },
        {
         "name": "temperature f (calc)__count",
         "rawType": "float64",
         "type": "float"
        },
        {
         "name": "temperature fahrenheit__count",
         "rawType": "float64",
         "type": "float"
        },
        {
         "name": "temporary atrial sens threshold mv__count",
         "rawType": "float64",
         "type": "float"
        },
        {
         "name": "temporary atrial stim threshold ma__count",
         "rawType": "float64",
         "type": "float"
        },
        {
         "name": "temporary venticular sens threshold mv__count",
         "rawType": "float64",
         "type": "float"
        },
        {
         "name": "temporary venticular stim threshold ma__count",
         "rawType": "float64",
         "type": "float"
        },
        {
         "name": "thrombin__count",
         "rawType": "float64",
         "type": "float"
        },
        {
         "name": "tpa mg/hr__count",
         "rawType": "float64",
         "type": "float"
        },
        {
         "name": "vent sens thresh mv__count",
         "rawType": "float64",
         "type": "float"
        },
        {
         "name": "vent stim thresh ma__count",
         "rawType": "float64",
         "type": "float"
        },
        {
         "name": "ventricular pacemaker threshold [value]__count",
         "rawType": "float64",
         "type": "float"
        },
        {
         "name": "xigris mcg/kg/hr__count",
         "rawType": "float64",
         "type": "float"
        },
        {
         "name": "aprotinin cc/hr__measured",
         "rawType": "float64",
         "type": "float"
        },
        {
         "name": "aprotinin ml/hr__measured",
         "rawType": "float64",
         "type": "float"
        },
        {
         "name": "art bp diastolic__measured",
         "rawType": "float64",
         "type": "float"
        },
        {
         "name": "art bp systolic__measured",
         "rawType": "float64",
         "type": "float"
        },
        {
         "name": "arterial blood pressure diastolic__measured",
         "rawType": "float64",
         "type": "float"
        },
        {
         "name": "arterial blood pressure systolic__measured",
         "rawType": "float64",
         "type": "float"
        },
        {
         "name": "arterial bp #2 [diastolic]__measured",
         "rawType": "float64",
         "type": "float"
        },
        {
         "name": "arterial bp #2 [systolic]__measured",
         "rawType": "float64",
         "type": "float"
        },
        {
         "name": "arterial bp [diastolic]__measured",
         "rawType": "float64",
         "type": "float"
        },
        {
         "name": "arterial bp [systolic]__measured",
         "rawType": "float64",
         "type": "float"
        },
        {
         "name": "arterial o2 saturation__measured",
         "rawType": "float64",
         "type": "float"
        },
        {
         "name": "atr sens thresh mv__measured",
         "rawType": "float64",
         "type": "float"
        },
        {
         "name": "atr stim thresh ma__measured",
         "rawType": "float64",
         "type": "float"
        },
        {
         "name": "atrial pacemaker threshold [value]__measured",
         "rawType": "float64",
         "type": "float"
        },
        {
         "name": "baseline current/ma__measured",
         "rawType": "float64",
         "type": "float"
        },
        {
         "name": "blood temperature cco (c)__measured",
         "rawType": "float64",
         "type": "float"
        },
        {
         "name": "bp cuff [diastolic]__measured",
         "rawType": "float64",
         "type": "float"
        },
        {
         "name": "bp cuff [systolic]__measured",
         "rawType": "float64",
         "type": "float"
        },
        {
         "name": "bp left arm [diastolic]__measured",
         "rawType": "float64",
         "type": "float"
        },
        {
         "name": "bp left arm [systolic]__measured",
         "rawType": "float64",
         "type": "float"
        },
        {
         "name": "bp left leg [diastolic]__measured",
         "rawType": "float64",
         "type": "float"
        },
        {
         "name": "bp left leg [systolic]__measured",
         "rawType": "float64",
         "type": "float"
        },
        {
         "name": "bp pal [diastolic]__measured",
         "rawType": "float64",
         "type": "float"
        },
        {
         "name": "bp pal [systolic]__measured",
         "rawType": "float64",
         "type": "float"
        },
        {
         "name": "bp right arm [diastolic]__measured",
         "rawType": "float64",
         "type": "float"
        },
        {
         "name": "bp right arm [systolic]__measured",
         "rawType": "float64",
         "type": "float"
        },
        {
         "name": "bp right leg [diastolic]__measured",
         "rawType": "float64",
         "type": "float"
        },
        {
         "name": "bp right leg [systolic]__measured",
         "rawType": "float64",
         "type": "float"
        },
        {
         "name": "bp uac [diastolic]__measured",
         "rawType": "float64",
         "type": "float"
        },
        {
         "name": "bp uac [systolic]__measured",
         "rawType": "float64",
         "type": "float"
        },
        {
         "name": "ca gluc gm/hr__measured",
         "rawType": "float64",
         "type": "float"
        },
        {
         "name": "cariporide cc/hr__measured",
         "rawType": "float64",
         "type": "float"
        },
        {
         "name": "cariporide ml/hr__measured",
         "rawType": "float64",
         "type": "float"
        },
        {
         "name": "changes in temperature__measured",
         "rawType": "float64",
         "type": "float"
        },
        {
         "name": "cisatracu mg/kg/hr__measured",
         "rawType": "float64",
         "type": "float"
        },
        {
         "name": "current goal__measured",
         "rawType": "float64",
         "type": "float"
        },
        {
         "name": "current used/ma__measured",
         "rawType": "float64",
         "type": "float"
        },
        {
         "name": "currently experiencing pain__measured",
         "rawType": "float64",
         "type": "float"
        },
        {
         "name": "dialysate flow ml/hr__measured",
         "rawType": "float64",
         "type": "float"
        },
        {
         "name": "diastolic unloading__measured",
         "rawType": "float64",
         "type": "float"
        },
        {
         "name": "epidural infusion rate (ml/hr)__measured",
         "rawType": "float64",
         "type": "float"
        },
        {
         "name": "gait/transferring__measured",
         "rawType": "float64",
         "type": "float"
        },
        {
         "name": "heart rate__measured",
         "rawType": "float64",
         "type": "float"
        },
        {
         "name": "heart rate alarm - high__measured",
         "rawType": "float64",
         "type": "float"
        },
        {
         "name": "heart rate alarm - low__measured",
         "rawType": "float64",
         "type": "float"
        },
        {
         "name": "hr alarm [high]__measured",
         "rawType": "float64",
         "type": "float"
        },
        {
         "name": "hr alarm [low]__measured",
         "rawType": "float64",
         "type": "float"
        },
        {
         "name": "lowest heart rate__measured",
         "rawType": "float64",
         "type": "float"
        },
        {
         "name": "manual blood pressure diastolic left__measured",
         "rawType": "float64",
         "type": "float"
        },
        {
         "name": "manual blood pressure diastolic right__measured",
         "rawType": "float64",
         "type": "float"
        },
        {
         "name": "manual blood pressure systolic left__measured",
         "rawType": "float64",
         "type": "float"
        },
        {
         "name": "manual blood pressure systolic right__measured",
         "rawType": "float64",
         "type": "float"
        },
        {
         "name": "manual bp [diastolic]__measured",
         "rawType": "float64",
         "type": "float"
        },
        {
         "name": "manual bp [systolic]__measured",
         "rawType": "float64",
         "type": "float"
        },
        {
         "name": "mucomyst       mg/hr__measured",
         "rawType": "float64",
         "type": "float"
        },
        {
         "name": "mucomyst mg/hr__measured",
         "rawType": "float64",
         "type": "float"
        },
        {
         "name": "nbp [diastolic]__measured",
         "rawType": "float64",
         "type": "float"
        },
        {
         "name": "nbp [systolic]__measured",
         "rawType": "float64",
         "type": "float"
        },
        {
         "name": "nicardipine mg/hr__measured",
         "rawType": "float64",
         "type": "float"
        },
        {
         "name": "nicardipine--mg/hr__measured",
         "rawType": "float64",
         "type": "float"
        },
        {
         "name": "non invasive blood pressure diastolic__measured",
         "rawType": "float64",
         "type": "float"
        },
        {
         "name": "non invasive blood pressure systolic__measured",
         "rawType": "float64",
         "type": "float"
        },
        {
         "name": "o2 saturation pulseoxymetry__measured",
         "rawType": "float64",
         "type": "float"
        },
        {
         "name": "o2 saturation pulseoxymetry alarm - high__measured",
         "rawType": "float64",
         "type": "float"
        },
        {
         "name": "o2 saturation pulseoxymetry alarm - low__measured",
         "rawType": "float64",
         "type": "float"
        },
        {
         "name": "orthostat bp sitting [diastolic]__measured",
         "rawType": "float64",
         "type": "float"
        },
        {
         "name": "orthostat bp sitting [systolic]__measured",
         "rawType": "float64",
         "type": "float"
        },
        {
         "name": "orthostat hr sitting__measured",
         "rawType": "float64",
         "type": "float"
        },
        {
         "name": "orthostatbp standing [diastolic]__measured",
         "rawType": "float64",
         "type": "float"
        },
        {
         "name": "orthostatbp standing [systolic]__measured",
         "rawType": "float64",
         "type": "float"
        },
        {
         "name": "orthostathr standing__measured",
         "rawType": "float64",
         "type": "float"
        },
        {
         "name": "orthostatic bp lying [diastolic]__measured",
         "rawType": "float64",
         "type": "float"
        },
        {
         "name": "orthostatic bp lying [systolic]__measured",
         "rawType": "float64",
         "type": "float"
        },
        {
         "name": "orthostatic hr lying__measured",
         "rawType": "float64",
         "type": "float"
        },
        {
         "name": "orthostatic hr sitting__measured",
         "rawType": "float64",
         "type": "float"
        },
        {
         "name": "orthostatic hr standing__measured",
         "rawType": "float64",
         "type": "float"
        },
        {
         "name": "pantoprazole   mg/hr__measured",
         "rawType": "float64",
         "type": "float"
        },
        {
         "name": "pantoprazole  mg/hr__measured",
         "rawType": "float64",
         "type": "float"
        },
        {
         "name": "pap [diastolic]__measured",
         "rawType": "float64",
         "type": "float"
        },
        {
         "name": "pap [systolic]__measured",
         "rawType": "float64",
         "type": "float"
        },
        {
         "name": "par-oxygen saturation__measured",
         "rawType": "float64",
         "type": "float"
        },
        {
         "name": "pca 1 hr limit (mg)__measured",
         "rawType": "float64",
         "type": "float"
        },
        {
         "name": "prothrombin time__measured",
         "rawType": "float64",
         "type": "float"
        },
        {
         "name": "protonix mg/hr__measured",
         "rawType": "float64",
         "type": "float"
        },
        {
         "name": "pulmonary artery pressure diastolic__measured",
         "rawType": "float64",
         "type": "float"
        },
        {
         "name": "pulmonary artery pressure systolic__measured",
         "rawType": "float64",
         "type": "float"
        },
        {
         "name": "replace rate ml/hr__measured",
         "rawType": "float64",
         "type": "float"
        },
        {
         "name": "respiratory rate__measured",
         "rawType": "float64",
         "type": "float"
        },
        {
         "name": "respiratory rate (set)__measured",
         "rawType": "float64",
         "type": "float"
        },
        {
         "name": "respiratory rate (spontaneous)__measured",
         "rawType": "float64",
         "type": "float"
        },
        {
         "name": "respiratory rate (total)__measured",
         "rawType": "float64",
         "type": "float"
        },
        {
         "name": "respiratory rate set__measured",
         "rawType": "float64",
         "type": "float"
        },
        {
         "name": "smoking cessation info offered through bidmc inpatient guide__measured",
         "rawType": "float64",
         "type": "float"
        },
        {
         "name": "solumedrol mg/hr__measured",
         "rawType": "float64",
         "type": "float"
        },
        {
         "name": "solumedrol mg/kg/hr__measured",
         "rawType": "float64",
         "type": "float"
        },
        {
         "name": "spo2__measured",
         "rawType": "float64",
         "type": "float"
        },
        {
         "name": "spo2 alarm [high]__measured",
         "rawType": "float64",
         "type": "float"
        },
        {
         "name": "spo2 alarm [low]__measured",
         "rawType": "float64",
         "type": "float"
        },
        {
         "name": "spo2 desat limit__measured",
         "rawType": "float64",
         "type": "float"
        },
        {
         "name": "spon rr (mech.)__measured",
         "rawType": "float64",
         "type": "float"
        },
        {
         "name": "spont rr__measured",
         "rawType": "float64",
         "type": "float"
        },
        {
         "name": "systolic unloading__measured",
         "rawType": "float64",
         "type": "float"
        },
        {
         "name": "tcpcv-map__measured",
         "rawType": "float64",
         "type": "float"
        },
        {
         "name": "temp/iso/warmer [temperature, degrees c]__measured",
         "rawType": "float64",
         "type": "float"
        },
        {
         "name": "temperature c__measured",
         "rawType": "float64",
         "type": "float"
        },
        {
         "name": "temperature c (calc)__measured",
         "rawType": "float64",
         "type": "float"
        },
        {
         "name": "temperature celsius__measured",
         "rawType": "float64",
         "type": "float"
        },
        {
         "name": "temperature f__measured",
         "rawType": "float64",
         "type": "float"
        },
        {
         "name": "temperature f (calc)__measured",
         "rawType": "float64",
         "type": "float"
        },
        {
         "name": "temperature fahrenheit__measured",
         "rawType": "float64",
         "type": "float"
        },
        {
         "name": "temporary atrial sens threshold mv__measured",
         "rawType": "float64",
         "type": "float"
        },
        {
         "name": "temporary atrial stim threshold ma__measured",
         "rawType": "float64",
         "type": "float"
        },
        {
         "name": "temporary venticular sens threshold mv__measured",
         "rawType": "float64",
         "type": "float"
        },
        {
         "name": "temporary venticular stim threshold ma__measured",
         "rawType": "float64",
         "type": "float"
        },
        {
         "name": "thrombin__measured",
         "rawType": "float64",
         "type": "float"
        },
        {
         "name": "tpa mg/hr__measured",
         "rawType": "float64",
         "type": "float"
        },
        {
         "name": "vent sens thresh mv__measured",
         "rawType": "float64",
         "type": "float"
        },
        {
         "name": "vent stim thresh ma__measured",
         "rawType": "float64",
         "type": "float"
        },
        {
         "name": "ventricular pacemaker threshold [value]__measured",
         "rawType": "float64",
         "type": "float"
        },
        {
         "name": "xigris mcg/kg/hr__measured",
         "rawType": "float64",
         "type": "float"
        },
        {
         "name": "% hemoglobin a1c__mean",
         "rawType": "float64",
         "type": "float"
        },
        {
         "name": "24 hr creatinine__mean",
         "rawType": "float64",
         "type": "float"
        },
        {
         "name": "albumin/creatinine, urine__mean",
         "rawType": "float64",
         "type": "float"
        },
        {
         "name": "bicarbonate__mean",
         "rawType": "float64",
         "type": "float"
        },
        {
         "name": "bicarbonate, urine__mean",
         "rawType": "float64",
         "type": "float"
        },
        {
         "name": "calculated bicarbonate, whole blood__mean",
         "rawType": "float64",
         "type": "float"
        },
        {
         "name": "carboxyhemoglobin__mean",
         "rawType": "float64",
         "type": "float"
        },
        {
         "name": "chloride__mean",
         "rawType": "float64",
         "type": "float"
        },
        {
         "name": "chloride, urine__mean",
         "rawType": "float64",
         "type": "float"
        },
        {
         "name": "chloride, whole blood__mean",
         "rawType": "float64",
         "type": "float"
        },
        {
         "name": "ck-mb index__mean",
         "rawType": "float64",
         "type": "float"
        },
        {
         "name": "creatine kinase (ck)__mean",
         "rawType": "float64",
         "type": "float"
        },
        {
         "name": "creatinine__mean",
         "rawType": "float64",
         "type": "float"
        },
        {
         "name": "creatinine, ascites__mean",
         "rawType": "float64",
         "type": "float"
        },
        {
         "name": "creatinine, body fluid__mean",
         "rawType": "float64",
         "type": "float"
        },
        {
         "name": "creatinine, pleural__mean",
         "rawType": "float64",
         "type": "float"
        },
        {
         "name": "creatinine, urine__mean",
         "rawType": "float64",
         "type": "float"
        },
        {
         "name": "glucose__mean",
         "rawType": "float64",
         "type": "float"
        },
        {
         "name": "glucose, ascites__mean",
         "rawType": "float64",
         "type": "float"
        },
        {
         "name": "glucose, body fluid__mean",
         "rawType": "float64",
         "type": "float"
        },
        {
         "name": "glucose, csf__mean",
         "rawType": "float64",
         "type": "float"
        },
        {
         "name": "glucose, pleural__mean",
         "rawType": "float64",
         "type": "float"
        },
        {
         "name": "glucose, urine__mean",
         "rawType": "float64",
         "type": "float"
        },
        {
         "name": "hematocrit__mean",
         "rawType": "float64",
         "type": "float"
        },
        {
         "name": "hematocrit, ascites__mean",
         "rawType": "float64",
         "type": "float"
        },
        {
         "name": "hematocrit, calculated__mean",
         "rawType": "float64",
         "type": "float"
        },
        {
         "name": "hematocrit, joint fluid__mean",
         "rawType": "float64",
         "type": "float"
        },
        {
         "name": "hematocrit, other fluid__mean",
         "rawType": "float64",
         "type": "float"
        },
        {
         "name": "hematocrit, pleural__mean",
         "rawType": "float64",
         "type": "float"
        },
        {
         "name": "hemoglobin__mean",
         "rawType": "float64",
         "type": "float"
        },
        {
         "name": "hemoglobin c__mean",
         "rawType": "float64",
         "type": "float"
        },
        {
         "name": "lactate__mean",
         "rawType": "float64",
         "type": "float"
        },
        {
         "name": "lactate dehydrogenase (ld)__mean",
         "rawType": "float64",
         "type": "float"
        },
        {
         "name": "lactate dehydrogenase, ascites__mean",
         "rawType": "float64",
         "type": "float"
        },
        {
         "name": "lactate dehydrogenase, csf__mean",
         "rawType": "float64",
         "type": "float"
        },
        {
         "name": "lactate dehydrogenase, pleural__mean",
         "rawType": "float64",
         "type": "float"
        },
        {
         "name": "methemoglobin__mean",
         "rawType": "float64",
         "type": "float"
        },
        {
         "name": "platelet count__mean",
         "rawType": "float64",
         "type": "float"
        },
        {
         "name": "potassium__mean",
         "rawType": "float64",
         "type": "float"
        },
        {
         "name": "potassium, urine__mean",
         "rawType": "float64",
         "type": "float"
        },
        {
         "name": "potassium, whole blood__mean",
         "rawType": "float64",
         "type": "float"
        },
        {
         "name": "protein/creatinine ratio__mean",
         "rawType": "float64",
         "type": "float"
        },
        {
         "name": "sodium__mean",
         "rawType": "float64",
         "type": "float"
        },
        {
         "name": "sodium, urine__mean",
         "rawType": "float64",
         "type": "float"
        },
        {
         "name": "sodium, whole blood__mean",
         "rawType": "float64",
         "type": "float"
        },
        {
         "name": "tacrofk__mean",
         "rawType": "float64",
         "type": "float"
        },
        {
         "name": "urea nitrogen__mean",
         "rawType": "float64",
         "type": "float"
        },
        {
         "name": "urea nitrogen, urine__mean",
         "rawType": "float64",
         "type": "float"
        },
        {
         "name": "wbc__mean",
         "rawType": "float64",
         "type": "float"
        },
        {
         "name": "wbc casts__mean",
         "rawType": "float64",
         "type": "float"
        },
        {
         "name": "wbc count__mean",
         "rawType": "float64",
         "type": "float"
        },
        {
         "name": "wbc, ascites__mean",
         "rawType": "float64",
         "type": "float"
        },
        {
         "name": "wbc, csf__mean",
         "rawType": "float64",
         "type": "float"
        },
        {
         "name": "wbc, joint fluid__mean",
         "rawType": "float64",
         "type": "float"
        },
        {
         "name": "wbc, other fluid__mean",
         "rawType": "float64",
         "type": "float"
        },
        {
         "name": "wbc, pleural__mean",
         "rawType": "float64",
         "type": "float"
        },
        {
         "name": "white blood cells__mean",
         "rawType": "float64",
         "type": "float"
        },
        {
         "name": "% hemoglobin a1c__std",
         "rawType": "float64",
         "type": "float"
        },
        {
         "name": "albumin/creatinine, urine__std",
         "rawType": "float64",
         "type": "float"
        },
        {
         "name": "bicarbonate__std",
         "rawType": "float64",
         "type": "float"
        },
        {
         "name": "bicarbonate, urine__std",
         "rawType": "float64",
         "type": "float"
        },
        {
         "name": "calculated bicarbonate, whole blood__std",
         "rawType": "float64",
         "type": "float"
        },
        {
         "name": "carboxyhemoglobin__std",
         "rawType": "float64",
         "type": "float"
        },
        {
         "name": "chloride__std",
         "rawType": "float64",
         "type": "float"
        },
        {
         "name": "chloride, urine__std",
         "rawType": "float64",
         "type": "float"
        },
        {
         "name": "chloride, whole blood__std",
         "rawType": "float64",
         "type": "float"
        },
        {
         "name": "ck-mb index__std",
         "rawType": "float64",
         "type": "float"
        },
        {
         "name": "creatine kinase (ck)__std",
         "rawType": "float64",
         "type": "float"
        },
        {
         "name": "creatinine__std",
         "rawType": "float64",
         "type": "float"
        },
        {
         "name": "creatinine, ascites__std",
         "rawType": "float64",
         "type": "float"
        },
        {
         "name": "creatinine, body fluid__std",
         "rawType": "float64",
         "type": "float"
        },
        {
         "name": "creatinine, urine__std",
         "rawType": "float64",
         "type": "float"
        },
        {
         "name": "glucose__std",
         "rawType": "float64",
         "type": "float"
        },
        {
         "name": "glucose, ascites__std",
         "rawType": "float64",
         "type": "float"
        },
        {
         "name": "glucose, body fluid__std",
         "rawType": "float64",
         "type": "float"
        },
        {
         "name": "glucose, csf__std",
         "rawType": "float64",
         "type": "float"
        },
        {
         "name": "glucose, pleural__std",
         "rawType": "float64",
         "type": "float"
        },
        {
         "name": "hematocrit__std",
         "rawType": "float64",
         "type": "float"
        },
        {
         "name": "hematocrit, calculated__std",
         "rawType": "float64",
         "type": "float"
        },
        {
         "name": "hematocrit, other fluid__std",
         "rawType": "float64",
         "type": "float"
        },
        {
         "name": "hematocrit, pleural__std",
         "rawType": "float64",
         "type": "float"
        },
        {
         "name": "hemoglobin__std",
         "rawType": "float64",
         "type": "float"
        },
        {
         "name": "lactate__std",
         "rawType": "float64",
         "type": "float"
        },
        {
         "name": "lactate dehydrogenase (ld)__std",
         "rawType": "float64",
         "type": "float"
        },
        {
         "name": "lactate dehydrogenase, ascites__std",
         "rawType": "float64",
         "type": "float"
        },
        {
         "name": "lactate dehydrogenase, csf__std",
         "rawType": "float64",
         "type": "float"
        },
        {
         "name": "lactate dehydrogenase, pleural__std",
         "rawType": "float64",
         "type": "float"
        },
        {
         "name": "methemoglobin__std",
         "rawType": "float64",
         "type": "float"
        },
        {
         "name": "platelet count__std",
         "rawType": "float64",
         "type": "float"
        },
        {
         "name": "potassium__std",
         "rawType": "float64",
         "type": "float"
        },
        {
         "name": "potassium, urine__std",
         "rawType": "float64",
         "type": "float"
        },
        {
         "name": "potassium, whole blood__std",
         "rawType": "float64",
         "type": "float"
        },
        {
         "name": "protein/creatinine ratio__std",
         "rawType": "float64",
         "type": "float"
        },
        {
         "name": "sodium__std",
         "rawType": "float64",
         "type": "float"
        },
        {
         "name": "sodium, urine__std",
         "rawType": "float64",
         "type": "float"
        },
        {
         "name": "sodium, whole blood__std",
         "rawType": "float64",
         "type": "float"
        },
        {
         "name": "tacrofk__std",
         "rawType": "float64",
         "type": "float"
        },
        {
         "name": "urea nitrogen__std",
         "rawType": "float64",
         "type": "float"
        },
        {
         "name": "urea nitrogen, urine__std",
         "rawType": "float64",
         "type": "float"
        },
        {
         "name": "wbc__std",
         "rawType": "float64",
         "type": "float"
        },
        {
         "name": "wbc count__std",
         "rawType": "float64",
         "type": "float"
        },
        {
         "name": "wbc, ascites__std",
         "rawType": "float64",
         "type": "float"
        },
        {
         "name": "wbc, csf__std",
         "rawType": "float64",
         "type": "float"
        },
        {
         "name": "wbc, joint fluid__std",
         "rawType": "float64",
         "type": "float"
        },
        {
         "name": "wbc, other fluid__std",
         "rawType": "float64",
         "type": "float"
        },
        {
         "name": "wbc, pleural__std",
         "rawType": "float64",
         "type": "float"
        },
        {
         "name": "white blood cells__std",
         "rawType": "float64",
         "type": "float"
        },
        {
         "name": "% hemoglobin a1c__min",
         "rawType": "float64",
         "type": "float"
        },
        {
         "name": "24 hr creatinine__min",
         "rawType": "float64",
         "type": "float"
        },
        {
         "name": "albumin/creatinine, urine__min",
         "rawType": "float64",
         "type": "float"
        },
        {
         "name": "bicarbonate__min",
         "rawType": "float64",
         "type": "float"
        },
        {
         "name": "bicarbonate, urine__min",
         "rawType": "float64",
         "type": "float"
        },
        {
         "name": "calculated bicarbonate, whole blood__min",
         "rawType": "float64",
         "type": "float"
        },
        {
         "name": "carboxyhemoglobin__min",
         "rawType": "float64",
         "type": "float"
        },
        {
         "name": "chloride__min",
         "rawType": "float64",
         "type": "float"
        },
        {
         "name": "chloride, urine__min",
         "rawType": "float64",
         "type": "float"
        },
        {
         "name": "chloride, whole blood__min",
         "rawType": "float64",
         "type": "float"
        },
        {
         "name": "ck-mb index__min",
         "rawType": "float64",
         "type": "float"
        },
        {
         "name": "creatine kinase (ck)__min",
         "rawType": "float64",
         "type": "float"
        },
        {
         "name": "creatinine__min",
         "rawType": "float64",
         "type": "float"
        },
        {
         "name": "creatinine, ascites__min",
         "rawType": "float64",
         "type": "float"
        },
        {
         "name": "creatinine, body fluid__min",
         "rawType": "float64",
         "type": "float"
        },
        {
         "name": "creatinine, pleural__min",
         "rawType": "float64",
         "type": "float"
        },
        {
         "name": "creatinine, urine__min",
         "rawType": "float64",
         "type": "float"
        },
        {
         "name": "glucose__min",
         "rawType": "float64",
         "type": "float"
        },
        {
         "name": "glucose, ascites__min",
         "rawType": "float64",
         "type": "float"
        },
        {
         "name": "glucose, body fluid__min",
         "rawType": "float64",
         "type": "float"
        },
        {
         "name": "glucose, csf__min",
         "rawType": "float64",
         "type": "float"
        },
        {
         "name": "glucose, pleural__min",
         "rawType": "float64",
         "type": "float"
        },
        {
         "name": "glucose, urine__min",
         "rawType": "float64",
         "type": "float"
        },
        {
         "name": "hematocrit__min",
         "rawType": "float64",
         "type": "float"
        },
        {
         "name": "hematocrit, ascites__min",
         "rawType": "float64",
         "type": "float"
        },
        {
         "name": "hematocrit, calculated__min",
         "rawType": "float64",
         "type": "float"
        },
        {
         "name": "hematocrit, joint fluid__min",
         "rawType": "float64",
         "type": "float"
        },
        {
         "name": "hematocrit, other fluid__min",
         "rawType": "float64",
         "type": "float"
        },
        {
         "name": "hematocrit, pleural__min",
         "rawType": "float64",
         "type": "float"
        },
        {
         "name": "hemoglobin__min",
         "rawType": "float64",
         "type": "float"
        },
        {
         "name": "hemoglobin c__min",
         "rawType": "float64",
         "type": "float"
        },
        {
         "name": "lactate__min",
         "rawType": "float64",
         "type": "float"
        },
        {
         "name": "lactate dehydrogenase (ld)__min",
         "rawType": "float64",
         "type": "float"
        },
        {
         "name": "lactate dehydrogenase, ascites__min",
         "rawType": "float64",
         "type": "float"
        },
        {
         "name": "lactate dehydrogenase, csf__min",
         "rawType": "float64",
         "type": "float"
        },
        {
         "name": "lactate dehydrogenase, pleural__min",
         "rawType": "float64",
         "type": "float"
        },
        {
         "name": "methemoglobin__min",
         "rawType": "float64",
         "type": "float"
        },
        {
         "name": "platelet count__min",
         "rawType": "float64",
         "type": "float"
        },
        {
         "name": "potassium__min",
         "rawType": "float64",
         "type": "float"
        },
        {
         "name": "potassium, urine__min",
         "rawType": "float64",
         "type": "float"
        },
        {
         "name": "potassium, whole blood__min",
         "rawType": "float64",
         "type": "float"
        },
        {
         "name": "protein/creatinine ratio__min",
         "rawType": "float64",
         "type": "float"
        },
        {
         "name": "sodium__min",
         "rawType": "float64",
         "type": "float"
        },
        {
         "name": "sodium, urine__min",
         "rawType": "float64",
         "type": "float"
        },
        {
         "name": "sodium, whole blood__min",
         "rawType": "float64",
         "type": "float"
        },
        {
         "name": "tacrofk__min",
         "rawType": "float64",
         "type": "float"
        },
        {
         "name": "urea nitrogen__min",
         "rawType": "float64",
         "type": "float"
        },
        {
         "name": "urea nitrogen, urine__min",
         "rawType": "float64",
         "type": "float"
        },
        {
         "name": "wbc__min",
         "rawType": "float64",
         "type": "float"
        },
        {
         "name": "wbc casts__min",
         "rawType": "float64",
         "type": "float"
        },
        {
         "name": "wbc count__min",
         "rawType": "float64",
         "type": "float"
        },
        {
         "name": "wbc, ascites__min",
         "rawType": "float64",
         "type": "float"
        },
        {
         "name": "wbc, csf__min",
         "rawType": "float64",
         "type": "float"
        },
        {
         "name": "wbc, joint fluid__min",
         "rawType": "float64",
         "type": "float"
        },
        {
         "name": "wbc, other fluid__min",
         "rawType": "float64",
         "type": "float"
        },
        {
         "name": "wbc, pleural__min",
         "rawType": "float64",
         "type": "float"
        },
        {
         "name": "white blood cells__min",
         "rawType": "float64",
         "type": "float"
        },
        {
         "name": "% hemoglobin a1c__max",
         "rawType": "float64",
         "type": "float"
        },
        {
         "name": "24 hr creatinine__max",
         "rawType": "float64",
         "type": "float"
        },
        {
         "name": "albumin/creatinine, urine__max",
         "rawType": "float64",
         "type": "float"
        },
        {
         "name": "bicarbonate__max",
         "rawType": "float64",
         "type": "float"
        },
        {
         "name": "bicarbonate, urine__max",
         "rawType": "float64",
         "type": "float"
        },
        {
         "name": "calculated bicarbonate, whole blood__max",
         "rawType": "float64",
         "type": "float"
        },
        {
         "name": "carboxyhemoglobin__max",
         "rawType": "float64",
         "type": "float"
        },
        {
         "name": "chloride__max",
         "rawType": "float64",
         "type": "float"
        },
        {
         "name": "chloride, urine__max",
         "rawType": "float64",
         "type": "float"
        },
        {
         "name": "chloride, whole blood__max",
         "rawType": "float64",
         "type": "float"
        },
        {
         "name": "ck-mb index__max",
         "rawType": "float64",
         "type": "float"
        },
        {
         "name": "creatine kinase (ck)__max",
         "rawType": "float64",
         "type": "float"
        },
        {
         "name": "creatinine__max",
         "rawType": "float64",
         "type": "float"
        },
        {
         "name": "creatinine, ascites__max",
         "rawType": "float64",
         "type": "float"
        },
        {
         "name": "creatinine, body fluid__max",
         "rawType": "float64",
         "type": "float"
        },
        {
         "name": "creatinine, pleural__max",
         "rawType": "float64",
         "type": "float"
        },
        {
         "name": "creatinine, urine__max",
         "rawType": "float64",
         "type": "float"
        },
        {
         "name": "glucose__max",
         "rawType": "float64",
         "type": "float"
        },
        {
         "name": "glucose, ascites__max",
         "rawType": "float64",
         "type": "float"
        },
        {
         "name": "glucose, body fluid__max",
         "rawType": "float64",
         "type": "float"
        },
        {
         "name": "glucose, csf__max",
         "rawType": "float64",
         "type": "float"
        },
        {
         "name": "glucose, pleural__max",
         "rawType": "float64",
         "type": "float"
        },
        {
         "name": "glucose, urine__max",
         "rawType": "float64",
         "type": "float"
        },
        {
         "name": "hematocrit__max",
         "rawType": "float64",
         "type": "float"
        },
        {
         "name": "hematocrit, ascites__max",
         "rawType": "float64",
         "type": "float"
        },
        {
         "name": "hematocrit, calculated__max",
         "rawType": "float64",
         "type": "float"
        },
        {
         "name": "hematocrit, joint fluid__max",
         "rawType": "float64",
         "type": "float"
        },
        {
         "name": "hematocrit, other fluid__max",
         "rawType": "float64",
         "type": "float"
        },
        {
         "name": "hematocrit, pleural__max",
         "rawType": "float64",
         "type": "float"
        },
        {
         "name": "hemoglobin__max",
         "rawType": "float64",
         "type": "float"
        },
        {
         "name": "hemoglobin c__max",
         "rawType": "float64",
         "type": "float"
        },
        {
         "name": "lactate__max",
         "rawType": "float64",
         "type": "float"
        },
        {
         "name": "lactate dehydrogenase (ld)__max",
         "rawType": "float64",
         "type": "float"
        },
        {
         "name": "lactate dehydrogenase, ascites__max",
         "rawType": "float64",
         "type": "float"
        },
        {
         "name": "lactate dehydrogenase, csf__max",
         "rawType": "float64",
         "type": "float"
        },
        {
         "name": "lactate dehydrogenase, pleural__max",
         "rawType": "float64",
         "type": "float"
        },
        {
         "name": "methemoglobin__max",
         "rawType": "float64",
         "type": "float"
        },
        {
         "name": "platelet count__max",
         "rawType": "float64",
         "type": "float"
        },
        {
         "name": "potassium__max",
         "rawType": "float64",
         "type": "float"
        },
        {
         "name": "potassium, urine__max",
         "rawType": "float64",
         "type": "float"
        },
        {
         "name": "potassium, whole blood__max",
         "rawType": "float64",
         "type": "float"
        },
        {
         "name": "protein/creatinine ratio__max",
         "rawType": "float64",
         "type": "float"
        },
        {
         "name": "sodium__max",
         "rawType": "float64",
         "type": "float"
        },
        {
         "name": "sodium, urine__max",
         "rawType": "float64",
         "type": "float"
        },
        {
         "name": "sodium, whole blood__max",
         "rawType": "float64",
         "type": "float"
        },
        {
         "name": "tacrofk__max",
         "rawType": "float64",
         "type": "float"
        },
        {
         "name": "urea nitrogen__max",
         "rawType": "float64",
         "type": "float"
        },
        {
         "name": "urea nitrogen, urine__max",
         "rawType": "float64",
         "type": "float"
        },
        {
         "name": "wbc__max",
         "rawType": "float64",
         "type": "float"
        },
        {
         "name": "wbc casts__max",
         "rawType": "float64",
         "type": "float"
        },
        {
         "name": "wbc count__max",
         "rawType": "float64",
         "type": "float"
        },
        {
         "name": "wbc, ascites__max",
         "rawType": "float64",
         "type": "float"
        },
        {
         "name": "wbc, csf__max",
         "rawType": "float64",
         "type": "float"
        },
        {
         "name": "wbc, joint fluid__max",
         "rawType": "float64",
         "type": "float"
        },
        {
         "name": "wbc, other fluid__max",
         "rawType": "float64",
         "type": "float"
        },
        {
         "name": "wbc, pleural__max",
         "rawType": "float64",
         "type": "float"
        },
        {
         "name": "white blood cells__max",
         "rawType": "float64",
         "type": "float"
        },
        {
         "name": "% hemoglobin a1c__range",
         "rawType": "float64",
         "type": "float"
        },
        {
         "name": "24 hr creatinine__range",
         "rawType": "float64",
         "type": "float"
        },
        {
         "name": "albumin/creatinine, urine__range",
         "rawType": "float64",
         "type": "float"
        },
        {
         "name": "bicarbonate__range",
         "rawType": "float64",
         "type": "float"
        },
        {
         "name": "bicarbonate, urine__range",
         "rawType": "float64",
         "type": "float"
        },
        {
         "name": "calculated bicarbonate, whole blood__range",
         "rawType": "float64",
         "type": "float"
        },
        {
         "name": "carboxyhemoglobin__range",
         "rawType": "float64",
         "type": "float"
        },
        {
         "name": "chloride__range",
         "rawType": "float64",
         "type": "float"
        },
        {
         "name": "chloride, urine__range",
         "rawType": "float64",
         "type": "float"
        },
        {
         "name": "chloride, whole blood__range",
         "rawType": "float64",
         "type": "float"
        },
        {
         "name": "ck-mb index__range",
         "rawType": "float64",
         "type": "float"
        },
        {
         "name": "creatine kinase (ck)__range",
         "rawType": "float64",
         "type": "float"
        },
        {
         "name": "creatinine__range",
         "rawType": "float64",
         "type": "float"
        },
        {
         "name": "creatinine, ascites__range",
         "rawType": "float64",
         "type": "float"
        },
        {
         "name": "creatinine, body fluid__range",
         "rawType": "float64",
         "type": "float"
        },
        {
         "name": "creatinine, pleural__range",
         "rawType": "float64",
         "type": "float"
        },
        {
         "name": "creatinine, urine__range",
         "rawType": "float64",
         "type": "float"
        },
        {
         "name": "glucose__range",
         "rawType": "float64",
         "type": "float"
        },
        {
         "name": "glucose, ascites__range",
         "rawType": "float64",
         "type": "float"
        },
        {
         "name": "glucose, body fluid__range",
         "rawType": "float64",
         "type": "float"
        },
        {
         "name": "glucose, csf__range",
         "rawType": "float64",
         "type": "float"
        },
        {
         "name": "glucose, pleural__range",
         "rawType": "float64",
         "type": "float"
        },
        {
         "name": "glucose, urine__range",
         "rawType": "float64",
         "type": "float"
        },
        {
         "name": "hematocrit__range",
         "rawType": "float64",
         "type": "float"
        },
        {
         "name": "hematocrit, ascites__range",
         "rawType": "float64",
         "type": "float"
        },
        {
         "name": "hematocrit, calculated__range",
         "rawType": "float64",
         "type": "float"
        },
        {
         "name": "hematocrit, joint fluid__range",
         "rawType": "float64",
         "type": "float"
        },
        {
         "name": "hematocrit, other fluid__range",
         "rawType": "float64",
         "type": "float"
        },
        {
         "name": "hematocrit, pleural__range",
         "rawType": "float64",
         "type": "float"
        },
        {
         "name": "hemoglobin__range",
         "rawType": "float64",
         "type": "float"
        },
        {
         "name": "hemoglobin c__range",
         "rawType": "float64",
         "type": "float"
        },
        {
         "name": "lactate__range",
         "rawType": "float64",
         "type": "float"
        },
        {
         "name": "lactate dehydrogenase (ld)__range",
         "rawType": "float64",
         "type": "float"
        },
        {
         "name": "lactate dehydrogenase, ascites__range",
         "rawType": "float64",
         "type": "float"
        },
        {
         "name": "lactate dehydrogenase, csf__range",
         "rawType": "float64",
         "type": "float"
        },
        {
         "name": "lactate dehydrogenase, pleural__range",
         "rawType": "float64",
         "type": "float"
        },
        {
         "name": "methemoglobin__range",
         "rawType": "float64",
         "type": "float"
        },
        {
         "name": "platelet count__range",
         "rawType": "float64",
         "type": "float"
        },
        {
         "name": "potassium__range",
         "rawType": "float64",
         "type": "float"
        },
        {
         "name": "potassium, urine__range",
         "rawType": "float64",
         "type": "float"
        },
        {
         "name": "potassium, whole blood__range",
         "rawType": "float64",
         "type": "float"
        },
        {
         "name": "protein/creatinine ratio__range",
         "rawType": "float64",
         "type": "float"
        },
        {
         "name": "sodium__range",
         "rawType": "float64",
         "type": "float"
        },
        {
         "name": "sodium, urine__range",
         "rawType": "float64",
         "type": "float"
        },
        {
         "name": "sodium, whole blood__range",
         "rawType": "float64",
         "type": "float"
        },
        {
         "name": "tacrofk__range",
         "rawType": "float64",
         "type": "float"
        },
        {
         "name": "urea nitrogen__range",
         "rawType": "float64",
         "type": "float"
        },
        {
         "name": "urea nitrogen, urine__range",
         "rawType": "float64",
         "type": "float"
        },
        {
         "name": "wbc__range",
         "rawType": "float64",
         "type": "float"
        },
        {
         "name": "wbc casts__range",
         "rawType": "float64",
         "type": "float"
        },
        {
         "name": "wbc count__range",
         "rawType": "float64",
         "type": "float"
        },
        {
         "name": "wbc, ascites__range",
         "rawType": "float64",
         "type": "float"
        },
        {
         "name": "wbc, csf__range",
         "rawType": "float64",
         "type": "float"
        },
        {
         "name": "wbc, joint fluid__range",
         "rawType": "float64",
         "type": "float"
        },
        {
         "name": "wbc, other fluid__range",
         "rawType": "float64",
         "type": "float"
        },
        {
         "name": "wbc, pleural__range",
         "rawType": "float64",
         "type": "float"
        },
        {
         "name": "white blood cells__range",
         "rawType": "float64",
         "type": "float"
        },
        {
         "name": "% hemoglobin a1c__last",
         "rawType": "float64",
         "type": "float"
        },
        {
         "name": "24 hr creatinine__last",
         "rawType": "float64",
         "type": "float"
        },
        {
         "name": "albumin/creatinine, urine__last",
         "rawType": "float64",
         "type": "float"
        },
        {
         "name": "bicarbonate__last",
         "rawType": "float64",
         "type": "float"
        },
        {
         "name": "bicarbonate, urine__last",
         "rawType": "float64",
         "type": "float"
        },
        {
         "name": "calculated bicarbonate, whole blood__last",
         "rawType": "float64",
         "type": "float"
        },
        {
         "name": "carboxyhemoglobin__last",
         "rawType": "float64",
         "type": "float"
        },
        {
         "name": "chloride__last",
         "rawType": "float64",
         "type": "float"
        },
        {
         "name": "chloride, urine__last",
         "rawType": "float64",
         "type": "float"
        },
        {
         "name": "chloride, whole blood__last",
         "rawType": "float64",
         "type": "float"
        },
        {
         "name": "ck-mb index__last",
         "rawType": "float64",
         "type": "float"
        },
        {
         "name": "creatine kinase (ck)__last",
         "rawType": "float64",
         "type": "float"
        },
        {
         "name": "creatinine__last",
         "rawType": "float64",
         "type": "float"
        },
        {
         "name": "creatinine, ascites__last",
         "rawType": "float64",
         "type": "float"
        },
        {
         "name": "creatinine, body fluid__last",
         "rawType": "float64",
         "type": "float"
        },
        {
         "name": "creatinine, pleural__last",
         "rawType": "float64",
         "type": "float"
        },
        {
         "name": "creatinine, urine__last",
         "rawType": "float64",
         "type": "float"
        },
        {
         "name": "glucose__last",
         "rawType": "float64",
         "type": "float"
        },
        {
         "name": "glucose, ascites__last",
         "rawType": "float64",
         "type": "float"
        },
        {
         "name": "glucose, body fluid__last",
         "rawType": "float64",
         "type": "float"
        },
        {
         "name": "glucose, csf__last",
         "rawType": "float64",
         "type": "float"
        },
        {
         "name": "glucose, pleural__last",
         "rawType": "float64",
         "type": "float"
        },
        {
         "name": "glucose, urine__last",
         "rawType": "float64",
         "type": "float"
        },
        {
         "name": "hematocrit__last",
         "rawType": "float64",
         "type": "float"
        },
        {
         "name": "hematocrit, ascites__last",
         "rawType": "float64",
         "type": "float"
        },
        {
         "name": "hematocrit, calculated__last",
         "rawType": "float64",
         "type": "float"
        },
        {
         "name": "hematocrit, joint fluid__last",
         "rawType": "float64",
         "type": "float"
        },
        {
         "name": "hematocrit, other fluid__last",
         "rawType": "float64",
         "type": "float"
        },
        {
         "name": "hematocrit, pleural__last",
         "rawType": "float64",
         "type": "float"
        },
        {
         "name": "hemoglobin__last",
         "rawType": "float64",
         "type": "float"
        },
        {
         "name": "hemoglobin c__last",
         "rawType": "float64",
         "type": "float"
        },
        {
         "name": "lactate__last",
         "rawType": "float64",
         "type": "float"
        },
        {
         "name": "lactate dehydrogenase (ld)__last",
         "rawType": "float64",
         "type": "float"
        },
        {
         "name": "lactate dehydrogenase, ascites__last",
         "rawType": "float64",
         "type": "float"
        },
        {
         "name": "lactate dehydrogenase, csf__last",
         "rawType": "float64",
         "type": "float"
        },
        {
         "name": "lactate dehydrogenase, pleural__last",
         "rawType": "float64",
         "type": "float"
        },
        {
         "name": "methemoglobin__last",
         "rawType": "float64",
         "type": "float"
        },
        {
         "name": "platelet count__last",
         "rawType": "float64",
         "type": "float"
        },
        {
         "name": "potassium__last",
         "rawType": "float64",
         "type": "float"
        },
        {
         "name": "potassium, urine__last",
         "rawType": "float64",
         "type": "float"
        },
        {
         "name": "potassium, whole blood__last",
         "rawType": "float64",
         "type": "float"
        },
        {
         "name": "protein/creatinine ratio__last",
         "rawType": "float64",
         "type": "float"
        },
        {
         "name": "sodium__last",
         "rawType": "float64",
         "type": "float"
        },
        {
         "name": "sodium, urine__last",
         "rawType": "float64",
         "type": "float"
        },
        {
         "name": "sodium, whole blood__last",
         "rawType": "float64",
         "type": "float"
        },
        {
         "name": "tacrofk__last",
         "rawType": "float64",
         "type": "float"
        },
        {
         "name": "urea nitrogen__last",
         "rawType": "float64",
         "type": "float"
        },
        {
         "name": "urea nitrogen, urine__last",
         "rawType": "float64",
         "type": "float"
        },
        {
         "name": "wbc__last",
         "rawType": "float64",
         "type": "float"
        },
        {
         "name": "wbc casts__last",
         "rawType": "float64",
         "type": "float"
        },
        {
         "name": "wbc count__last",
         "rawType": "float64",
         "type": "float"
        },
        {
         "name": "wbc, ascites__last",
         "rawType": "float64",
         "type": "float"
        },
        {
         "name": "wbc, csf__last",
         "rawType": "float64",
         "type": "float"
        },
        {
         "name": "wbc, joint fluid__last",
         "rawType": "float64",
         "type": "float"
        },
        {
         "name": "wbc, other fluid__last",
         "rawType": "float64",
         "type": "float"
        },
        {
         "name": "wbc, pleural__last",
         "rawType": "float64",
         "type": "float"
        },
        {
         "name": "white blood cells__last",
         "rawType": "float64",
         "type": "float"
        },
        {
         "name": "% hemoglobin a1c__count",
         "rawType": "float64",
         "type": "float"
        },
        {
         "name": "24 hr creatinine__count",
         "rawType": "float64",
         "type": "float"
        },
        {
         "name": "albumin/creatinine, urine__count",
         "rawType": "float64",
         "type": "float"
        },
        {
         "name": "bicarbonate__count",
         "rawType": "float64",
         "type": "float"
        },
        {
         "name": "bicarbonate, urine__count",
         "rawType": "float64",
         "type": "float"
        },
        {
         "name": "calculated bicarbonate, whole blood__count",
         "rawType": "float64",
         "type": "float"
        },
        {
         "name": "carboxyhemoglobin__count",
         "rawType": "float64",
         "type": "float"
        },
        {
         "name": "chloride__count",
         "rawType": "float64",
         "type": "float"
        },
        {
         "name": "chloride, urine__count",
         "rawType": "float64",
         "type": "float"
        },
        {
         "name": "chloride, whole blood__count",
         "rawType": "float64",
         "type": "float"
        },
        {
         "name": "ck-mb index__count",
         "rawType": "float64",
         "type": "float"
        },
        {
         "name": "creatine kinase (ck)__count",
         "rawType": "float64",
         "type": "float"
        },
        {
         "name": "creatinine__count",
         "rawType": "float64",
         "type": "float"
        },
        {
         "name": "creatinine, ascites__count",
         "rawType": "float64",
         "type": "float"
        },
        {
         "name": "creatinine, body fluid__count",
         "rawType": "float64",
         "type": "float"
        },
        {
         "name": "creatinine, pleural__count",
         "rawType": "float64",
         "type": "float"
        },
        {
         "name": "creatinine, urine__count",
         "rawType": "float64",
         "type": "float"
        },
        {
         "name": "glucose__count",
         "rawType": "float64",
         "type": "float"
        },
        {
         "name": "glucose, ascites__count",
         "rawType": "float64",
         "type": "float"
        },
        {
         "name": "glucose, body fluid__count",
         "rawType": "float64",
         "type": "float"
        },
        {
         "name": "glucose, csf__count",
         "rawType": "float64",
         "type": "float"
        },
        {
         "name": "glucose, pleural__count",
         "rawType": "float64",
         "type": "float"
        },
        {
         "name": "glucose, urine__count",
         "rawType": "float64",
         "type": "float"
        },
        {
         "name": "hematocrit__count",
         "rawType": "float64",
         "type": "float"
        },
        {
         "name": "hematocrit, ascites__count",
         "rawType": "float64",
         "type": "float"
        },
        {
         "name": "hematocrit, calculated__count",
         "rawType": "float64",
         "type": "float"
        },
        {
         "name": "hematocrit, joint fluid__count",
         "rawType": "float64",
         "type": "float"
        },
        {
         "name": "hematocrit, other fluid__count",
         "rawType": "float64",
         "type": "float"
        },
        {
         "name": "hematocrit, pleural__count",
         "rawType": "float64",
         "type": "float"
        },
        {
         "name": "hemoglobin__count",
         "rawType": "float64",
         "type": "float"
        },
        {
         "name": "hemoglobin c__count",
         "rawType": "float64",
         "type": "float"
        },
        {
         "name": "lactate__count",
         "rawType": "float64",
         "type": "float"
        },
        {
         "name": "lactate dehydrogenase (ld)__count",
         "rawType": "float64",
         "type": "float"
        },
        {
         "name": "lactate dehydrogenase, ascites__count",
         "rawType": "float64",
         "type": "float"
        },
        {
         "name": "lactate dehydrogenase, csf__count",
         "rawType": "float64",
         "type": "float"
        },
        {
         "name": "lactate dehydrogenase, pleural__count",
         "rawType": "float64",
         "type": "float"
        },
        {
         "name": "methemoglobin__count",
         "rawType": "float64",
         "type": "float"
        },
        {
         "name": "platelet count__count",
         "rawType": "float64",
         "type": "float"
        },
        {
         "name": "potassium__count",
         "rawType": "float64",
         "type": "float"
        },
        {
         "name": "potassium, urine__count",
         "rawType": "float64",
         "type": "float"
        },
        {
         "name": "potassium, whole blood__count",
         "rawType": "float64",
         "type": "float"
        },
        {
         "name": "protein/creatinine ratio__count",
         "rawType": "float64",
         "type": "float"
        },
        {
         "name": "sodium__count",
         "rawType": "float64",
         "type": "float"
        },
        {
         "name": "sodium, urine__count",
         "rawType": "float64",
         "type": "float"
        },
        {
         "name": "sodium, whole blood__count",
         "rawType": "float64",
         "type": "float"
        },
        {
         "name": "tacrofk__count",
         "rawType": "float64",
         "type": "float"
        },
        {
         "name": "urea nitrogen__count",
         "rawType": "float64",
         "type": "float"
        },
        {
         "name": "urea nitrogen, urine__count",
         "rawType": "float64",
         "type": "float"
        },
        {
         "name": "wbc__count",
         "rawType": "float64",
         "type": "float"
        },
        {
         "name": "wbc casts__count",
         "rawType": "float64",
         "type": "float"
        },
        {
         "name": "wbc count__count",
         "rawType": "float64",
         "type": "float"
        },
        {
         "name": "wbc, ascites__count",
         "rawType": "float64",
         "type": "float"
        },
        {
         "name": "wbc, csf__count",
         "rawType": "float64",
         "type": "float"
        },
        {
         "name": "wbc, joint fluid__count",
         "rawType": "float64",
         "type": "float"
        },
        {
         "name": "wbc, other fluid__count",
         "rawType": "float64",
         "type": "float"
        },
        {
         "name": "wbc, pleural__count",
         "rawType": "float64",
         "type": "float"
        },
        {
         "name": "white blood cells__count",
         "rawType": "float64",
         "type": "float"
        },
        {
         "name": "% hemoglobin a1c__measured",
         "rawType": "float64",
         "type": "float"
        },
        {
         "name": "24 hr creatinine__measured",
         "rawType": "float64",
         "type": "float"
        },
        {
         "name": "albumin/creatinine, urine__measured",
         "rawType": "float64",
         "type": "float"
        },
        {
         "name": "bicarbonate__measured",
         "rawType": "float64",
         "type": "float"
        },
        {
         "name": "bicarbonate, urine__measured",
         "rawType": "float64",
         "type": "float"
        },
        {
         "name": "calculated bicarbonate, whole blood__measured",
         "rawType": "float64",
         "type": "float"
        },
        {
         "name": "carboxyhemoglobin__measured",
         "rawType": "float64",
         "type": "float"
        },
        {
         "name": "chloride__measured",
         "rawType": "float64",
         "type": "float"
        },
        {
         "name": "chloride, urine__measured",
         "rawType": "float64",
         "type": "float"
        },
        {
         "name": "chloride, whole blood__measured",
         "rawType": "float64",
         "type": "float"
        },
        {
         "name": "ck-mb index__measured",
         "rawType": "float64",
         "type": "float"
        },
        {
         "name": "creatine kinase (ck)__measured",
         "rawType": "float64",
         "type": "float"
        },
        {
         "name": "creatinine__measured",
         "rawType": "float64",
         "type": "float"
        },
        {
         "name": "creatinine, ascites__measured",
         "rawType": "float64",
         "type": "float"
        },
        {
         "name": "creatinine, body fluid__measured",
         "rawType": "float64",
         "type": "float"
        },
        {
         "name": "creatinine, pleural__measured",
         "rawType": "float64",
         "type": "float"
        },
        {
         "name": "creatinine, urine__measured",
         "rawType": "float64",
         "type": "float"
        },
        {
         "name": "glucose__measured",
         "rawType": "float64",
         "type": "float"
        },
        {
         "name": "glucose, ascites__measured",
         "rawType": "float64",
         "type": "float"
        },
        {
         "name": "glucose, body fluid__measured",
         "rawType": "float64",
         "type": "float"
        },
        {
         "name": "glucose, csf__measured",
         "rawType": "float64",
         "type": "float"
        },
        {
         "name": "glucose, pleural__measured",
         "rawType": "float64",
         "type": "float"
        },
        {
         "name": "glucose, urine__measured",
         "rawType": "float64",
         "type": "float"
        },
        {
         "name": "hematocrit__measured",
         "rawType": "float64",
         "type": "float"
        },
        {
         "name": "hematocrit, ascites__measured",
         "rawType": "float64",
         "type": "float"
        },
        {
         "name": "hematocrit, calculated__measured",
         "rawType": "float64",
         "type": "float"
        },
        {
         "name": "hematocrit, joint fluid__measured",
         "rawType": "float64",
         "type": "float"
        },
        {
         "name": "hematocrit, other fluid__measured",
         "rawType": "float64",
         "type": "float"
        },
        {
         "name": "hematocrit, pleural__measured",
         "rawType": "float64",
         "type": "float"
        },
        {
         "name": "hemoglobin__measured",
         "rawType": "float64",
         "type": "float"
        },
        {
         "name": "hemoglobin c__measured",
         "rawType": "float64",
         "type": "float"
        },
        {
         "name": "lactate__measured",
         "rawType": "float64",
         "type": "float"
        },
        {
         "name": "lactate dehydrogenase (ld)__measured",
         "rawType": "float64",
         "type": "float"
        },
        {
         "name": "lactate dehydrogenase, ascites__measured",
         "rawType": "float64",
         "type": "float"
        },
        {
         "name": "lactate dehydrogenase, csf__measured",
         "rawType": "float64",
         "type": "float"
        },
        {
         "name": "lactate dehydrogenase, pleural__measured",
         "rawType": "float64",
         "type": "float"
        },
        {
         "name": "methemoglobin__measured",
         "rawType": "float64",
         "type": "float"
        },
        {
         "name": "platelet count__measured",
         "rawType": "float64",
         "type": "float"
        },
        {
         "name": "potassium__measured",
         "rawType": "float64",
         "type": "float"
        },
        {
         "name": "potassium, urine__measured",
         "rawType": "float64",
         "type": "float"
        },
        {
         "name": "potassium, whole blood__measured",
         "rawType": "float64",
         "type": "float"
        },
        {
         "name": "protein/creatinine ratio__measured",
         "rawType": "float64",
         "type": "float"
        },
        {
         "name": "sodium__measured",
         "rawType": "float64",
         "type": "float"
        },
        {
         "name": "sodium, urine__measured",
         "rawType": "float64",
         "type": "float"
        },
        {
         "name": "sodium, whole blood__measured",
         "rawType": "float64",
         "type": "float"
        },
        {
         "name": "tacrofk__measured",
         "rawType": "float64",
         "type": "float"
        },
        {
         "name": "urea nitrogen__measured",
         "rawType": "float64",
         "type": "float"
        },
        {
         "name": "urea nitrogen, urine__measured",
         "rawType": "float64",
         "type": "float"
        },
        {
         "name": "wbc__measured",
         "rawType": "float64",
         "type": "float"
        },
        {
         "name": "wbc casts__measured",
         "rawType": "float64",
         "type": "float"
        },
        {
         "name": "wbc count__measured",
         "rawType": "float64",
         "type": "float"
        },
        {
         "name": "wbc, ascites__measured",
         "rawType": "float64",
         "type": "float"
        },
        {
         "name": "wbc, csf__measured",
         "rawType": "float64",
         "type": "float"
        },
        {
         "name": "wbc, joint fluid__measured",
         "rawType": "float64",
         "type": "float"
        },
        {
         "name": "wbc, other fluid__measured",
         "rawType": "float64",
         "type": "float"
        },
        {
         "name": "wbc, pleural__measured",
         "rawType": "float64",
         "type": "float"
        },
        {
         "name": "white blood cells__measured",
         "rawType": "float64",
         "type": "float"
        },
        {
         "name": "rx_total_mentions",
         "rawType": "float64",
         "type": "float"
        },
        {
         "name": "rx_unique_drugs",
         "rawType": "float64",
         "type": "float"
        },
        {
         "name": "0",
         "rawType": "float64",
         "type": "float"
        },
        {
         "name": "1",
         "rawType": "float64",
         "type": "float"
        },
        {
         "name": "2",
         "rawType": "float64",
         "type": "float"
        },
        {
         "name": "3",
         "rawType": "float64",
         "type": "float"
        },
        {
         "name": "proc_vent_any",
         "rawType": "float64",
         "type": "float"
        },
        {
         "name": "proc_rrt_any",
         "rawType": "float64",
         "type": "float"
        },
        {
         "name": "proc_central_line_any",
         "rawType": "float64",
         "type": "float"
        },
        {
         "name": "admit_hour",
         "rawType": "int64",
         "type": "integer"
        },
        {
         "name": "admit_weekend",
         "rawType": "int64",
         "type": "integer"
        },
        {
         "name": "admit_month",
         "rawType": "int64",
         "type": "integer"
        }
       ],
       "ref": "e3a77bad-78c1-43c8-9550-cec20dc42c77",
       "rows": [
        [
         "2",
         "0.002175070347554947",
         "1",
         "0",
         "1",
         "0",
         "0",
         "0",
         "0",
         null,
         null,
         null,
         null,
         null,
         null,
         null,
         null,
         null,
         null,
         null,
         null,
         null,
         null,
         null,
         null,
         "35.0",
         "72.0",
         null,
         null,
         null,
         null,
         null,
         null,
         null,
         null,
         null,
         null,
         null,
         null,
         null,
         null,
         null,
         null,
         null,
         null,
         null,
         null,
         null,
         null,
         null,
         null,
         "140.75",
         null,
         null,
         null,
         null,
         null,
         null,
         null,
         null,
         null,
         null,
         null,
         null,
         null,
         null,
         null,
         null,
         null,
         null,
         null,
         null,
         null,
         null,
         null,
         null,
         null,
         null,
         null,
         null,
         null,
         null,
         null,
         null,
         null,
         null,
         null,
         null,
         null,
         null,
         null,
         null,
         null,
         null,
         null,
         null,
         null,
         null,
         null,
         null,
         null,
         null,
         null,
         null,
         null,
         null,
         null,
         null,
         null,
         null,
         null,
         null,
         null,
         null,
         null,
         null,
         null,
         null,
         null,
         null,
         null,
         null,
         null,
         null,
         null,
         null,
         null,
         null,
         null,
         null,
         null,
         null,
         null,
         null,
         null,
         null,
         null,
         null,
         null,
         null,
         null,
         null,
         null,
         null,
         null,
         null,
         null,
         null,
         null,
         null,
         null,
         null,
         null,
         null,
         null,
         null,
         null,
         null,
         null,
         null,
         null,
         null,
         null,
         null,
         null,
         null,
         null,
         null,
         null,
         null,
         null,
         "7.274384280931732",
         null,
         null,
         null,
         null,
         null,
         null,
         null,
         null,
         null,
         null,
         null,
         null,
         null,
         null,
         null,
         null,
         null,
         null,
         null,
         null,
         null,
         null,
         null,
         null,
         null,
         null,
         null,
         null,
         null,
         null,
         null,
         null,
         null,
         null,
         null,
         null,
         null,
         null,
         null,
         null,
         null,
         null,
         null,
         null,
         null,
         null,
         null,
         null,
         null,
         null,
         null,
         null,
         null,
         null,
         null,
         null,
         null,
         null,
         null,
         null,
         null,
         null,
         null,
         null,
         null,
         null,
         null,
         null,
         null,
         null,
         null,
         null,
         null,
         null,
         null,
         null,
         null,
         null,
         null,
         null,
         null,
         null,
         null,
         null,
         null,
         null,
         null,
         null,
         null,
         null,
         null,
         null,
         null,
         "35.0",
         "72.0",
         null,
         null,
         null,
         null,
         null,
         null,
         null,
         null,
         null,
         null,
         null,
         null,
         null,
         null,
         null,
         null,
         null,
         null,
         null,
         null,
         null,
         null,
         null,
         null,
         "131.0",
         null,
         null,
         null,
         null,
         null,
         null,
         null,
         null,
         null,
         null,
         null,
         null,
         null,
         null,
         null,
         null,
         null,
         null,
         null,
         null,
         null,
         null,
         null,
         null,
         null,
         null,
         null,
         null,
         null,
         null,
         null,
         null,
         null,
         null,
         null,
         null,
         null,
         null,
         null,
         null,
         null,
         null,
         null,
         null,
         null,
         null,
         null,
         null,
         null,
         null,
         null,
         null,
         null,
         null,
         null,
         null,
         null,
         null,
         null,
         null,
         null,
         null,
         null,
         null,
         null,
         null,
         null,
         null,
         null,
         null,
         null,
         null,
         null,
         null,
         null,
         null,
         null,
         null,
         null,
         null,
         null,
         null,
         null,
         null,
         null,
         null,
         null,
         null,
         null,
         null,
         null,
         null,
         null,
         "35.0",
         "72.0",
         null,
         null,
         null,
         null,
         null,
         null,
         null,
         null,
         null,
         null,
         null,
         null,
         null,
         null,
         null,
         null,
         null,
         null,
         null,
         null,
         null,
         null,
         null,
         null,
         "148.0",
         null,
         null,
         null,
         null,
         null,
         null,
         null,
         null,
         null,
         null,
         null,
         null,
         null,
         null,
         null,
         null,
         null,
         null,
         null,
         null,
         null,
         null,
         null,
         null,
         null,
         null,
         null,
         null,
         null,
         null,
         null,
         null,
         null,
         null,
         null,
         null,
         null,
         null,
         null,
         null,
         null,
         null,
         null,
         null,
         null,
         null,
         null,
         null,
         null,
         null,
         null,
         null,
         null,
         null,
         null,
         null,
         null,
         null,
         null,
         null,
         null,
         null,
         null,
         null,
         null,
         null,
         null,
         null,
         null,
         null,
         null,
         null,
         null,
         null,
         null,
         null,
         null,
         null,
         null,
         null,
         null,
         null,
         null,
         null,
         null,
         null,
         null,
         null,
         null,
         null,
         null,
         null,
         null,
         "0.0",
         "0.0",
         null,
         null,
         null,
         null,
         null,
         null,
         null,
         null,
         null,
         null,
         null,
         null,
         null,
         null,
         null,
         null,
         null,
         null,
         null,
         null,
         null,
         null,
         null,
         null,
         "17.0",
         null,
         null,
         null,
         null,
         null,
         null,
         null,
         null,
         null,
         null,
         null,
         null,
         null,
         null,
         null,
         null,
         null,
         null,
         null,
         null,
         null,
         null,
         null,
         null,
         null,
         null,
         null,
         null,
         null,
         null,
         null,
         null,
         null,
         null,
         null,
         null,
         null,
         null,
         null,
         null,
         null,
         null,
         null,
         null,
         null,
         null,
         null,
         null,
         null,
         null,
         null,
         null,
         null,
         null,
         null,
         null,
         null,
         null,
         null,
         null,
         null,
         null,
         null,
         null,
         null,
         null,
         null,
         null,
         null,
         null,
         null,
         null,
         null,
         null,
         null,
         null,
         null,
         null,
         null,
         null,
         null,
         null,
         null,
         null,
         null,
         null,
         null,
         null,
         null,
         null,
         null,
         null,
         null,
         "35.0",
         "72.0",
         null,
         null,
         null,
         null,
         null,
         null,
         null,
         null,
         null,
         null,
         null,
         null,
         null,
         null,
         null,
         null,
         null,
         null,
         null,
         null,
         null,
         null,
         null,
         null,
         "140.0",
         null,
         null,
         null,
         null,
         null,
         null,
         null,
         null,
         null,
         null,
         null,
         null,
         null,
         null,
         null,
         null,
         null,
         null,
         null,
         null,
         null,
         null,
         null,
         null,
         null,
         null,
         null,
         null,
         null,
         null,
         null,
         null,
         null,
         null,
         null,
         null,
         null,
         null,
         null,
         null,
         null,
         null,
         null,
         null,
         null,
         null,
         null,
         null,
         null,
         null,
         null,
         null,
         null,
         null,
         null,
         null,
         null,
         null,
         null,
         null,
         null,
         null,
         null,
         null,
         null,
         null,
         null,
         null,
         null,
         null,
         null,
         null,
         null,
         null,
         null,
         null,
         null,
         null,
         null,
         null,
         null,
         null,
         null,
         null,
         null,
         null,
         null,
         null,
         null,
         null,
         null,
         null,
         null,
         "1.0",
         "1.0",
         null,
         null,
         null,
         null,
         null,
         null,
         null,
         null,
         null,
         null,
         null,
         null,
         null,
         null,
         null,
         null,
         null,
         null,
         null,
         null,
         null,
         null,
         null,
         null,
         "4.0",
         null,
         null,
         null,
         null,
         null,
         null,
         null,
         null,
         null,
         null,
         null,
         null,
         null,
         null,
         null,
         null,
         null,
         null,
         null,
         null,
         null,
         null,
         null,
         null,
         null,
         null,
         null,
         null,
         null,
         null,
         null,
         null,
         null,
         null,
         null,
         null,
         null,
         null,
         null,
         null,
         null,
         null,
         null,
         null,
         null,
         null,
         null,
         null,
         null,
         null,
         null,
         null,
         null,
         null,
         null,
         null,
         null,
         null,
         null,
         null,
         null,
         null,
         null,
         null,
         null,
         null,
         null,
         null,
         null,
         null,
         null,
         null,
         null,
         null,
         null,
         null,
         null,
         "0.0",
         "0.0",
         "0.0",
         "0.0",
         "0.0",
         "0.0",
         "0.0",
         "0.0",
         "0.0",
         "0.0",
         "0.0",
         "0.0",
         "0.0",
         "0.0",
         "0.0",
         "0.0",
         "1.0",
         "1.0",
         "0.0",
         "0.0",
         "0.0",
         "0.0",
         "0.0",
         "0.0",
         "0.0",
         "0.0",
         "0.0",
         "0.0",
         "0.0",
         "0.0",
         "0.0",
         "0.0",
         "0.0",
         "0.0",
         "0.0",
         "0.0",
         "0.0",
         "0.0",
         "0.0",
         "0.0",
         "0.0",
         "0.0",
         "1.0",
         "0.0",
         "0.0",
         "0.0",
         "0.0",
         "0.0",
         "0.0",
         "0.0",
         "0.0",
         "0.0",
         "0.0",
         "0.0",
         "0.0",
         "0.0",
         "0.0",
         "0.0",
         "0.0",
         "0.0",
         "0.0",
         "0.0",
         "0.0",
         "0.0",
         "0.0",
         "0.0",
         "0.0",
         "0.0",
         "0.0",
         "0.0",
         "0.0",
         "0.0",
         "0.0",
         "0.0",
         "0.0",
         "0.0",
         "0.0",
         "0.0",
         "0.0",
         "0.0",
         "0.0",
         "0.0",
         "0.0",
         "0.0",
         "0.0",
         "0.0",
         "0.0",
         "0.0",
         "0.0",
         "0.0",
         "0.0",
         "0.0",
         "0.0",
         "0.0",
         "0.0",
         "0.0",
         "0.0",
         "0.0",
         "0.0",
         "0.0",
         "0.0",
         "0.0",
         "0.0",
         "0.0",
         "0.0",
         "0.0",
         "0.0",
         "0.0",
         "0.0",
         "0.0",
         "0.0",
         "0.0",
         "0.0",
         "0.0",
         "0.0",
         "0.0",
         "0.0",
         "0.0",
         "0.0",
         "0.0",
         null,
         null,
         null,
         null,
         null,
         null,
         null,
         null,
         null,
         null,
         null,
         null,
         null,
         null,
         null,
         null,
         null,
         null,
         null,
         null,
         null,
         null,
         null,
         "24.8",
         null,
         null,
         null,
         null,
         null,
         "8.25",
         null,
         null,
         null,
         null,
         null,
         null,
         null,
         "153.5",
         null,
         null,
         null,
         null,
         null,
         null,
         null,
         null,
         null,
         null,
         null,
         null,
         null,
         null,
         null,
         null,
         null,
         null,
         "11.05",
         null,
         null,
         null,
         null,
         null,
         null,
         null,
         null,
         null,
         null,
         null,
         null,
         null,
         null,
         null,
         null,
         null,
         null,
         null,
         null,
         "35.07249634685276",
         null,
         null,
         null,
         "11.667261889578034",
         null,
         null,
         null,
         null,
         null,
         null,
         "210.0107140124046",
         null,
         null,
         null,
         null,
         null,
         null,
         null,
         null,
         null,
         null,
         null,
         null,
         null,
         null,
         null,
         null,
         null,
         "15.48563850798539",
         null,
         null,
         null,
         null,
         null,
         null,
         null,
         null,
         null,
         null,
         null,
         null,
         null,
         null,
         null,
         null,
         null,
         null,
         null,
         null,
         null,
         null,
         null,
         "0.0",
         null,
         null,
         null,
         null,
         null,
         "0.0",
         null,
         null,
         null,
         null,
         null,
         null,
         null,
         "5.0",
         null,
         null,
         null,
         null,
         null,
         null,
         null,
         null,
         null,
         null,
         null,
         null,
         null,
         null,
         null,
         null,
         null,
         null,
         "0.1",
         null,
         null,
         null,
         null,
         null,
         null,
         null,
         null,
         null,
         null,
         null,
         null,
         null,
         null,
         null,
         null,
         null,
         null,
         null,
         null,
         null,
         null,
         null,
         "49.6",
         null,
         null,
         null,
         null,
         null,
         "16.5",
         null,
         null,
         null,
         null,
         null,
         null,
         null,
         "302.0",
         null,
         null,
         null,
         null,
         null,
         null,
         null,
         null,
         null,
         null,
         null,
         null,
         null,
         null,
         null,
         null,
         null,
         null,
         "22.0",
         null,
         null,
         null,
         null,
         null,
         null,
         null,
         null,
         null,
         null,
         null,
         null,
         null,
         null,
         null,
         null,
         null,
         null,
         null,
         null,
         null,
         null,
         null,
         "49.6",
         null,
         null,
         null,
         null,
         null,
         "16.5",
         null,
         null,
         null,
         null,
         null,
         null,
         null,
         "297.0",
         null,
         null,
         null,
         null,
         null,
         null,
         null,
         null,
         null,
         null,
         null,
         null,
         null,
         null,
         null,
         null,
         null,
         null,
         "21.9",
         null,
         null,
         null,
         null,
         null,
         null,
         null,
         null,
         null,
         null,
         null,
         null,
         null,
         null,
         null,
         null,
         null,
         null,
         null,
         null,
         null,
         null,
         null,
         "49.6",
         null,
         null,
         null,
         null,
         null,
         "16.5",
         null,
         null,
         null,
         null,
         null,
         null,
         null,
         "302.0",
         null,
         null,
         null,
         null,
         null,
         null,
         null,
         null,
         null,
         null,
         null,
         null,
         null,
         null,
         null,
         null,
         null,
         null,
         "22.0",
         null,
         null,
         null,
         null,
         null,
         null,
         null,
         null,
         null,
         null,
         null,
         null,
         null,
         null,
         null,
         null,
         null,
         null,
         null,
         null,
         null,
         null,
         null,
         "2.0",
         null,
         null,
         null,
         null,
         null,
         "2.0",
         null,
         null,
         null,
         null,
         null,
         null,
         null,
         "2.0",
         null,
         null,
         null,
         null,
         null,
         null,
         null,
         null,
         null,
         null,
         null,
         null,
         null,
         null,
         null,
         null,
         null,
         null,
         "2.0",
         "0.0",
         "0.0",
         "0.0",
         "0.0",
         "0.0",
         "0.0",
         "0.0",
         "0.0",
         "0.0",
         "0.0",
         "0.0",
         "0.0",
         "0.0",
         "0.0",
         "0.0",
         "0.0",
         "0.0",
         "0.0",
         "0.0",
         "0.0",
         "0.0",
         "0.0",
         "0.0",
         "1.0",
         "0.0",
         "0.0",
         "0.0",
         "0.0",
         "0.0",
         "1.0",
         "0.0",
         "0.0",
         "0.0",
         "0.0",
         "0.0",
         "0.0",
         "0.0",
         "1.0",
         "0.0",
         "0.0",
         "0.0",
         "0.0",
         "0.0",
         "0.0",
         "0.0",
         "0.0",
         "0.0",
         "0.0",
         "0.0",
         "0.0",
         "0.0",
         "0.0",
         "0.0",
         "0.0",
         "0.0",
         "0.0",
         "1.0",
         "4.0",
         "4.0",
         "1.0",
         "0.0",
         "0.0",
         "0.0",
         null,
         null,
         null,
         "19",
         "0",
         "7"
        ],
        [
         "3",
         "76.52511217583086",
         "1",
         "0",
         "0",
         "0",
         "0",
         "0",
         "1",
         null,
         null,
         null,
         null,
         null,
         null,
         null,
         null,
         "58.53846153846154",
         "107.44615384615385",
         null,
         null,
         null,
         null,
         null,
         null,
         null,
         null,
         null,
         null,
         null,
         null,
         null,
         null,
         null,
         null,
         null,
         null,
         null,
         null,
         null,
         null,
         null,
         null,
         null,
         null,
         null,
         null,
         null,
         null,
         null,
         null,
         "98.92537313432835",
         null,
         null,
         null,
         null,
         null,
         null,
         null,
         null,
         null,
         null,
         null,
         null,
         null,
         "41.583333333333336",
         "97.25",
         null,
         null,
         null,
         null,
         null,
         null,
         null,
         null,
         null,
         null,
         null,
         null,
         null,
         null,
         null,
         null,
         null,
         null,
         null,
         null,
         "21.849056603773583",
         "43.301886792452834",
         null,
         null,
         null,
         null,
         null,
         null,
         null,
         "14.258064516129032",
         null,
         null,
         null,
         "15.875",
         null,
         null,
         null,
         "97.59322033898304",
         null,
         null,
         null,
         null,
         null,
         null,
         null,
         null,
         "37.094117856493185",
         "36.777801513671875",
         null,
         "98.19999694824219",
         "98.76941082524318",
         null,
         null,
         null,
         null,
         null,
         null,
         null,
         null,
         null,
         null,
         null,
         null,
         null,
         null,
         null,
         null,
         null,
         null,
         null,
         "10.254689358832561",
         "21.199963715498704",
         null,
         null,
         null,
         null,
         null,
         null,
         null,
         null,
         null,
         null,
         null,
         null,
         null,
         null,
         null,
         null,
         null,
         null,
         null,
         null,
         null,
         null,
         null,
         null,
         null,
         null,
         null,
         null,
         null,
         null,
         null,
         null,
         "28.103333908143345",
         null,
         null,
         null,
         null,
         null,
         null,
         null,
         null,
         null,
         null,
         null,
         null,
         null,
         "11.204368736697253",
         "39.48791529753697",
         null,
         null,
         null,
         null,
         null,
         null,
         null,
         null,
         null,
         null,
         null,
         null,
         null,
         null,
         null,
         null,
         null,
         null,
         null,
         null,
         "3.9535584089384908",
         "7.31327798139052",
         null,
         null,
         null,
         null,
         null,
         null,
         null,
         "7.040714112139775",
         null,
         null,
         null,
         "1.8574175621006708",
         null,
         null,
         null,
         "4.1277807516112475",
         null,
         null,
         null,
         null,
         null,
         null,
         null,
         null,
         "0.335506735300821",
         null,
         null,
         null,
         "0.6039121636680767",
         null,
         null,
         null,
         null,
         null,
         null,
         null,
         null,
         null,
         null,
         null,
         null,
         null,
         null,
         null,
         null,
         null,
         null,
         null,
         "0.0",
         "0.0",
         null,
         null,
         null,
         null,
         null,
         null,
         null,
         null,
         null,
         null,
         null,
         null,
         null,
         null,
         null,
         null,
         null,
         null,
         null,
         null,
         null,
         null,
         null,
         null,
         null,
         null,
         null,
         null,
         null,
         null,
         null,
         null,
         "64.0",
         null,
         null,
         null,
         null,
         null,
         null,
         null,
         null,
         null,
         null,
         null,
         null,
         null,
         "28.0",
         "64.0",
         null,
         null,
         null,
         null,
         null,
         null,
         null,
         null,
         null,
         null,
         null,
         null,
         null,
         null,
         null,
         null,
         null,
         null,
         null,
         null,
         "10.0",
         "19.0",
         null,
         null,
         null,
         null,
         null,
         null,
         null,
         "0.0",
         null,
         null,
         null,
         "14.0",
         null,
         null,
         null,
         "74.0",
         null,
         null,
         null,
         null,
         null,
         null,
         null,
         null,
         "36.20000076293945",
         "36.777801513671875",
         null,
         "98.19999694824219",
         "97.16000366210938",
         null,
         null,
         null,
         null,
         null,
         null,
         null,
         null,
         null,
         null,
         null,
         null,
         null,
         null,
         null,
         null,
         null,
         null,
         null,
         "74.0",
         "139.0",
         null,
         null,
         null,
         null,
         null,
         null,
         null,
         null,
         null,
         null,
         null,
         null,
         null,
         null,
         null,
         null,
         null,
         null,
         null,
         null,
         null,
         null,
         null,
         null,
         null,
         null,
         null,
         null,
         null,
         null,
         null,
         null,
         "168.0",
         null,
         null,
         null,
         null,
         null,
         null,
         null,
         null,
         null,
         null,
         null,
         null,
         null,
         "64.0",
         "217.0",
         null,
         null,
         null,
         null,
         null,
         null,
         null,
         null,
         null,
         null,
         null,
         null,
         null,
         null,
         null,
         null,
         null,
         null,
         null,
         null,
         "29.0",
         "60.0",
         null,
         null,
         null,
         null,
         null,
         null,
         null,
         "29.0",
         null,
         null,
         null,
         "18.0",
         null,
         null,
         null,
         "100.0",
         null,
         null,
         null,
         null,
         null,
         null,
         null,
         null,
         "37.599998474121094",
         "36.777801513671875",
         null,
         "98.19999694824219",
         "99.68000030517578",
         null,
         null,
         null,
         null,
         null,
         null,
         null,
         null,
         null,
         null,
         null,
         null,
         null,
         null,
         null,
         null,
         null,
         null,
         null,
         "74.0",
         "139.0",
         null,
         null,
         null,
         null,
         null,
         null,
         null,
         null,
         null,
         null,
         null,
         null,
         null,
         null,
         null,
         null,
         null,
         null,
         null,
         null,
         null,
         null,
         null,
         null,
         null,
         null,
         null,
         null,
         null,
         null,
         null,
         null,
         "104.0",
         null,
         null,
         null,
         null,
         null,
         null,
         null,
         null,
         null,
         null,
         null,
         null,
         null,
         "36.0",
         "153.0",
         null,
         null,
         null,
         null,
         null,
         null,
         null,
         null,
         null,
         null,
         null,
         null,
         null,
         null,
         null,
         null,
         null,
         null,
         null,
         null,
         "19.0",
         "41.0",
         null,
         null,
         null,
         null,
         null,
         null,
         null,
         "29.0",
         null,
         null,
         null,
         "4.0",
         null,
         null,
         null,
         "26.0",
         null,
         null,
         null,
         null,
         null,
         null,
         null,
         null,
         "1.3999977111816406",
         "0.0",
         null,
         "0.0",
         "2.5199966430664062",
         null,
         null,
         null,
         null,
         null,
         null,
         null,
         null,
         null,
         null,
         null,
         null,
         null,
         null,
         null,
         null,
         null,
         null,
         null,
         "69.0",
         "137.0",
         null,
         null,
         null,
         null,
         null,
         null,
         null,
         null,
         null,
         null,
         null,
         null,
         null,
         null,
         null,
         null,
         null,
         null,
         null,
         null,
         null,
         null,
         null,
         null,
         null,
         null,
         null,
         null,
         null,
         null,
         null,
         null,
         "96.0",
         null,
         null,
         null,
         null,
         null,
         null,
         null,
         null,
         null,
         null,
         null,
         null,
         null,
         "40.0",
         "92.0",
         null,
         null,
         null,
         null,
         null,
         null,
         null,
         null,
         null,
         null,
         null,
         null,
         null,
         null,
         null,
         null,
         null,
         null,
         null,
         null,
         "23.0",
         "51.0",
         null,
         null,
         null,
         null,
         null,
         null,
         null,
         "29.0",
         null,
         null,
         null,
         "14.0",
         null,
         null,
         null,
         "96.0",
         null,
         null,
         null,
         null,
         null,
         null,
         null,
         null,
         "37.5",
         "36.777801513671875",
         null,
         "98.19999694824219",
         "99.5",
         null,
         null,
         null,
         null,
         null,
         null,
         null,
         null,
         null,
         null,
         null,
         null,
         null,
         null,
         null,
         null,
         null,
         null,
         null,
         "65.0",
         "65.0",
         null,
         null,
         null,
         null,
         null,
         null,
         null,
         null,
         null,
         null,
         null,
         null,
         null,
         null,
         null,
         null,
         null,
         null,
         null,
         null,
         null,
         null,
         null,
         null,
         null,
         null,
         null,
         null,
         null,
         null,
         null,
         null,
         "67.0",
         null,
         null,
         null,
         null,
         null,
         null,
         null,
         null,
         null,
         null,
         null,
         null,
         null,
         "12.0",
         "12.0",
         null,
         null,
         null,
         null,
         null,
         null,
         null,
         null,
         null,
         null,
         null,
         null,
         null,
         null,
         null,
         null,
         null,
         null,
         null,
         null,
         "53.0",
         "53.0",
         null,
         null,
         null,
         null,
         null,
         null,
         null,
         "62.0",
         null,
         null,
         null,
         "16.0",
         null,
         null,
         null,
         "59.0",
         null,
         null,
         null,
         null,
         null,
         null,
         null,
         null,
         "51.0",
         "1.0",
         null,
         "1.0",
         "51.0",
         null,
         null,
         null,
         null,
         null,
         null,
         null,
         null,
         null,
         null,
         null,
         "0.0",
         "0.0",
         "0.0",
         "0.0",
         "0.0",
         "0.0",
         "0.0",
         "0.0",
         "1.0",
         "1.0",
         "0.0",
         "0.0",
         "0.0",
         "0.0",
         "0.0",
         "0.0",
         "0.0",
         "0.0",
         "0.0",
         "0.0",
         "0.0",
         "0.0",
         "0.0",
         "0.0",
         "0.0",
         "0.0",
         "0.0",
         "0.0",
         "0.0",
         "0.0",
         "0.0",
         "0.0",
         "0.0",
         "0.0",
         "0.0",
         "0.0",
         "0.0",
         "0.0",
         "0.0",
         "0.0",
         "0.0",
         "0.0",
         "1.0",
         "0.0",
         "0.0",
         "0.0",
         "0.0",
         "0.0",
         "0.0",
         "0.0",
         "0.0",
         "0.0",
         "0.0",
         "0.0",
         "0.0",
         "0.0",
         "1.0",
         "1.0",
         "0.0",
         "0.0",
         "0.0",
         "0.0",
         "0.0",
         "0.0",
         "0.0",
         "0.0",
         "0.0",
         "0.0",
         "0.0",
         "0.0",
         "0.0",
         "0.0",
         "0.0",
         "0.0",
         "0.0",
         "0.0",
         "0.0",
         "0.0",
         "1.0",
         "1.0",
         "0.0",
         "0.0",
         "0.0",
         "0.0",
         "0.0",
         "0.0",
         "0.0",
         "1.0",
         "0.0",
         "0.0",
         "0.0",
         "1.0",
         "0.0",
         "0.0",
         "0.0",
         "1.0",
         "0.0",
         "0.0",
         "0.0",
         "0.0",
         "0.0",
         "0.0",
         "0.0",
         "0.0",
         "1.0",
         "1.0",
         "0.0",
         "1.0",
         "1.0",
         "0.0",
         "0.0",
         "0.0",
         "0.0",
         "0.0",
         "0.0",
         "0.0",
         "0.0",
         "0.0",
         "0.0",
         "0.0",
         null,
         null,
         null,
         "13.8",
         null,
         "15.0",
         null,
         "111.0",
         null,
         "112.5",
         "12.9",
         "226.5",
         "2.325",
         null,
         null,
         null,
         null,
         "209.91666666666666",
         null,
         null,
         null,
         null,
         null,
         "28.060000000000002",
         null,
         "28.916666666666668",
         null,
         null,
         null,
         "9.535294117647059",
         null,
         "3.8",
         null,
         null,
         null,
         null,
         null,
         "240.0",
         "4.266666666666667",
         null,
         "4.040000000000001",
         null,
         "139.2",
         null,
         "142.0",
         null,
         "40.5",
         null,
         "35.0",
         null,
         null,
         null,
         null,
         null,
         null,
         null,
         "17.740000000000002",
         null,
         null,
         "2.2803508501982757",
         null,
         null,
         null,
         "0.7071067811865481",
         null,
         "2.1213203435596424",
         null,
         "204.35385976291224",
         "0.2872281323269016",
         null,
         null,
         null,
         "78.59384469691265",
         null,
         null,
         null,
         null,
         "2.7116415692344",
         "4.561864318522206",
         null,
         null,
         "1.4115333756550836",
         "2.7418566296905054",
         null,
         null,
         null,
         null,
         null,
         "72.44308110509934",
         "0.36147844564602555",
         null,
         "0.27018512172212594",
         null,
         "2.588435821108957",
         null,
         "7.348469228349536",
         null,
         "3.1091263510296048",
         null,
         null,
         null,
         null,
         null,
         null,
         null,
         null,
         "4.8931584891560576",
         null,
         null,
         null,
         "11.0",
         null,
         "15.0",
         null,
         "110.0",
         null,
         "111.0",
         "12.9",
         "82.0",
         "1.9",
         null,
         null,
         null,
         null,
         "100.0",
         null,
         null,
         null,
         null,
         null,
         "24.9",
         null,
         "22.0",
         null,
         null,
         null,
         "7.4",
         null,
         "1.3",
         null,
         null,
         null,
         null,
         null,
         "179.0",
         "3.9",
         null,
         "3.7",
         null,
         "136.0",
         null,
         "138.0",
         null,
         "36.0",
         null,
         "35.0",
         null,
         null,
         null,
         null,
         null,
         null,
         null,
         "11.3",
         null,
         null,
         null,
         "17.0",
         null,
         "15.0",
         null,
         "112.0",
         null,
         "114.0",
         "12.9",
         "371.0",
         "2.5",
         null,
         null,
         null,
         null,
         "299.0",
         null,
         null,
         null,
         null,
         null,
         "30.9",
         null,
         "38.0",
         null,
         null,
         null,
         "12.8",
         null,
         "8.8",
         null,
         null,
         null,
         null,
         null,
         "359.0",
         "4.9",
         null,
         "4.4",
         null,
         "143.0",
         null,
         "153.0",
         null,
         "43.0",
         null,
         "35.0",
         null,
         null,
         null,
         null,
         null,
         null,
         null,
         "24.4",
         null,
         null,
         null,
         "6.0",
         null,
         "0.0",
         null,
         "2.0",
         null,
         "3.0",
         "0.0",
         "289.0",
         "0.6000000000000001",
         null,
         null,
         null,
         null,
         "199.0",
         null,
         null,
         null,
         null,
         null,
         "6.0",
         null,
         "16.0",
         null,
         null,
         null,
         "5.4",
         null,
         "7.500000000000001",
         null,
         null,
         null,
         null,
         null,
         "180.0",
         "1.0000000000000004",
         null,
         "0.7000000000000002",
         null,
         "7.0",
         null,
         "15.0",
         null,
         "7.0",
         null,
         "0.0",
         null,
         null,
         null,
         null,
         null,
         null,
         null,
         "13.099999999999998",
         null,
         null,
         null,
         "15.0",
         null,
         "15.0",
         null,
         "112.0",
         null,
         "111.0",
         "12.9",
         "371.0",
         "1.9",
         null,
         null,
         null,
         null,
         "133.0",
         null,
         null,
         null,
         null,
         null,
         "28.6",
         null,
         "30.0",
         null,
         null,
         null,
         "10.1",
         null,
         "1.3",
         null,
         null,
         null,
         null,
         null,
         "179.0",
         "4.3",
         null,
         "4.2",
         null,
         "136.0",
         null,
         "138.0",
         null,
         "36.0",
         null,
         "35.0",
         null,
         null,
         null,
         null,
         null,
         null,
         null,
         "15.1",
         null,
         null,
         null,
         "5.0",
         null,
         "1.0",
         null,
         "5.0",
         null,
         "2.0",
         "1.0",
         "2.0",
         "4.0",
         null,
         null,
         null,
         null,
         "12.0",
         null,
         null,
         null,
         null,
         null,
         "5.0",
         null,
         "12.0",
         null,
         null,
         null,
         "17.0",
         null,
         "10.0",
         null,
         null,
         null,
         null,
         null,
         "5.0",
         "6.0",
         null,
         "5.0",
         null,
         "5.0",
         null,
         "4.0",
         null,
         "4.0",
         null,
         "1.0",
         null,
         null,
         null,
         null,
         null,
         null,
         null,
         "5.0",
         "0.0",
         "0.0",
         "0.0",
         "1.0",
         "0.0",
         "1.0",
         "0.0",
         "1.0",
         "0.0",
         "1.0",
         "1.0",
         "1.0",
         "1.0",
         "0.0",
         "0.0",
         "0.0",
         "0.0",
         "1.0",
         "0.0",
         "0.0",
         "0.0",
         "0.0",
         "0.0",
         "1.0",
         "0.0",
         "1.0",
         "0.0",
         "0.0",
         "0.0",
         "1.0",
         "0.0",
         "1.0",
         "0.0",
         "0.0",
         "0.0",
         "0.0",
         "0.0",
         "1.0",
         "1.0",
         "0.0",
         "1.0",
         "0.0",
         "1.0",
         "0.0",
         "1.0",
         "0.0",
         "1.0",
         "0.0",
         "1.0",
         "0.0",
         "0.0",
         "0.0",
         "0.0",
         "0.0",
         "0.0",
         "0.0",
         "1.0",
         null,
         null,
         null,
         null,
         null,
         null,
         null,
         null,
         null,
         "19",
         "0",
         "10"
        ],
        [
         "4",
         "47.843995741121",
         "0",
         "1",
         "0",
         "0",
         "0",
         "0",
         "1",
         null,
         null,
         null,
         null,
         null,
         null,
         null,
         null,
         null,
         null,
         null,
         null,
         null,
         null,
         null,
         null,
         null,
         null,
         null,
         null,
         null,
         null,
         null,
         null,
         null,
         null,
         null,
         null,
         null,
         null,
         null,
         null,
         null,
         null,
         null,
         null,
         null,
         null,
         null,
         null,
         null,
         null,
         "90.35483870967742",
         null,
         null,
         null,
         null,
         null,
         null,
         null,
         null,
         null,
         null,
         null,
         null,
         null,
         "71.46153846153847",
         "123.0",
         null,
         null,
         null,
         null,
         null,
         null,
         null,
         null,
         null,
         null,
         null,
         null,
         null,
         null,
         null,
         null,
         null,
         null,
         null,
         null,
         null,
         null,
         null,
         null,
         null,
         null,
         null,
         null,
         null,
         "25.333333333333332",
         null,
         null,
         null,
         null,
         null,
         null,
         null,
         "97.23333333333333",
         null,
         null,
         null,
         null,
         null,
         null,
         null,
         null,
         null,
         "36.7037107679579",
         null,
         "98.06666734483507",
         null,
         null,
         null,
         null,
         null,
         null,
         null,
         null,
         null,
         null,
         null,
         null,
         null,
         null,
         null,
         null,
         null,
         null,
         null,
         null,
         null,
         null,
         null,
         null,
         null,
         null,
         null,
         null,
         null,
         null,
         null,
         null,
         null,
         null,
         null,
         null,
         null,
         null,
         null,
         null,
         null,
         null,
         null,
         null,
         null,
         null,
         null,
         null,
         null,
         null,
         null,
         null,
         null,
         null,
         "7.884788676503528",
         null,
         null,
         null,
         null,
         null,
         null,
         null,
         null,
         null,
         null,
         null,
         null,
         null,
         "8.98545833769549",
         "13.111826722467013",
         null,
         null,
         null,
         null,
         null,
         null,
         null,
         null,
         null,
         null,
         null,
         null,
         null,
         null,
         null,
         null,
         null,
         null,
         null,
         null,
         null,
         null,
         null,
         null,
         null,
         null,
         null,
         null,
         null,
         "2.890145528597235",
         null,
         null,
         null,
         null,
         null,
         null,
         null,
         "1.9596504497122582",
         null,
         null,
         null,
         null,
         null,
         null,
         null,
         null,
         null,
         "0.4034765707870705",
         null,
         "0.7262919873348213",
         null,
         null,
         null,
         null,
         null,
         null,
         null,
         null,
         null,
         null,
         null,
         null,
         null,
         null,
         null,
         null,
         null,
         null,
         null,
         null,
         null,
         null,
         null,
         null,
         null,
         null,
         null,
         null,
         null,
         null,
         null,
         null,
         null,
         null,
         null,
         null,
         null,
         null,
         null,
         null,
         null,
         null,
         null,
         null,
         null,
         null,
         null,
         null,
         null,
         null,
         null,
         null,
         null,
         null,
         "74.0",
         null,
         null,
         null,
         null,
         null,
         null,
         null,
         null,
         null,
         null,
         null,
         null,
         null,
         "55.0",
         "97.0",
         null,
         null,
         null,
         null,
         null,
         null,
         null,
         null,
         null,
         null,
         null,
         null,
         null,
         null,
         null,
         null,
         null,
         null,
         null,
         null,
         null,
         null,
         null,
         null,
         null,
         null,
         null,
         null,
         null,
         "18.0",
         null,
         null,
         null,
         null,
         null,
         null,
         null,
         "91.0",
         null,
         null,
         null,
         null,
         null,
         null,
         null,
         null,
         null,
         "36.055599212646484",
         null,
         "96.9000015258789",
         null,
         null,
         null,
         null,
         null,
         null,
         null,
         null,
         null,
         null,
         null,
         null,
         null,
         null,
         null,
         null,
         null,
         null,
         null,
         null,
         null,
         null,
         null,
         null,
         null,
         null,
         null,
         null,
         null,
         null,
         null,
         null,
         null,
         null,
         null,
         null,
         null,
         null,
         null,
         null,
         null,
         null,
         null,
         null,
         null,
         null,
         null,
         null,
         null,
         null,
         null,
         null,
         null,
         null,
         "111.0",
         null,
         null,
         null,
         null,
         null,
         null,
         null,
         null,
         null,
         null,
         null,
         null,
         null,
         "86.0",
         "145.0",
         null,
         null,
         null,
         null,
         null,
         null,
         null,
         null,
         null,
         null,
         null,
         null,
         null,
         null,
         null,
         null,
         null,
         null,
         null,
         null,
         null,
         null,
         null,
         null,
         null,
         null,
         null,
         null,
         null,
         "32.0",
         null,
         null,
         null,
         null,
         null,
         null,
         null,
         "100.0",
         null,
         null,
         null,
         null,
         null,
         null,
         null,
         null,
         null,
         "37.444400787353516",
         null,
         "99.4000015258789",
         null,
         null,
         null,
         null,
         null,
         null,
         null,
         null,
         null,
         null,
         null,
         null,
         null,
         null,
         null,
         null,
         null,
         null,
         null,
         null,
         null,
         null,
         null,
         null,
         null,
         null,
         null,
         null,
         null,
         null,
         null,
         null,
         null,
         null,
         null,
         null,
         null,
         null,
         null,
         null,
         null,
         null,
         null,
         null,
         null,
         null,
         null,
         null,
         null,
         null,
         null,
         null,
         null,
         null,
         "37.0",
         null,
         null,
         null,
         null,
         null,
         null,
         null,
         null,
         null,
         null,
         null,
         null,
         null,
         "31.0",
         "48.0",
         null,
         null,
         null,
         null,
         null,
         null,
         null,
         null,
         null,
         null,
         null,
         null,
         null,
         null,
         null,
         null,
         null,
         null,
         null,
         null,
         null,
         null,
         null,
         null,
         null,
         null,
         null,
         null,
         null,
         "14.0",
         null,
         null,
         null,
         null,
         null,
         null,
         null,
         "9.0",
         null,
         null,
         null,
         null,
         null,
         null,
         null,
         null,
         null,
         "1.3888015747070312",
         null,
         "2.5",
         null,
         null,
         null,
         null,
         null,
         null,
         null,
         null,
         null,
         null,
         null,
         null,
         null,
         null,
         null,
         null,
         null,
         null,
         null,
         null,
         null,
         null,
         null,
         null,
         null,
         null,
         null,
         null,
         null,
         null,
         null,
         null,
         null,
         null,
         null,
         null,
         null,
         null,
         null,
         null,
         null,
         null,
         null,
         null,
         null,
         null,
         null,
         null,
         null,
         null,
         null,
         null,
         null,
         null,
         "101.0",
         null,
         null,
         null,
         null,
         null,
         null,
         null,
         null,
         null,
         null,
         null,
         null,
         null,
         "73.0",
         "133.0",
         null,
         null,
         null,
         null,
         null,
         null,
         null,
         null,
         null,
         null,
         null,
         null,
         null,
         null,
         null,
         null,
         null,
         null,
         null,
         null,
         null,
         null,
         null,
         null,
         null,
         null,
         null,
         null,
         null,
         "25.0",
         null,
         null,
         null,
         null,
         null,
         null,
         null,
         "95.0",
         null,
         null,
         null,
         null,
         null,
         null,
         null,
         null,
         null,
         "36.722198486328125",
         null,
         "98.0999984741211",
         null,
         null,
         null,
         null,
         null,
         null,
         null,
         null,
         null,
         null,
         null,
         null,
         null,
         null,
         null,
         null,
         null,
         null,
         null,
         null,
         null,
         null,
         null,
         null,
         null,
         null,
         null,
         null,
         null,
         null,
         null,
         null,
         null,
         null,
         null,
         null,
         null,
         null,
         null,
         null,
         null,
         null,
         null,
         null,
         null,
         null,
         null,
         null,
         null,
         null,
         null,
         null,
         null,
         null,
         "31.0",
         null,
         null,
         null,
         null,
         null,
         null,
         null,
         null,
         null,
         null,
         null,
         null,
         null,
         "26.0",
         "26.0",
         null,
         null,
         null,
         null,
         null,
         null,
         null,
         null,
         null,
         null,
         null,
         null,
         null,
         null,
         null,
         null,
         null,
         null,
         null,
         null,
         null,
         null,
         null,
         null,
         null,
         null,
         null,
         null,
         null,
         "18.0",
         null,
         null,
         null,
         null,
         null,
         null,
         null,
         "30.0",
         null,
         null,
         null,
         null,
         null,
         null,
         null,
         null,
         null,
         "9.0",
         null,
         "9.0",
         null,
         null,
         null,
         null,
         null,
         null,
         null,
         null,
         null,
         null,
         null,
         null,
         "0.0",
         "0.0",
         "0.0",
         "0.0",
         "0.0",
         "0.0",
         "0.0",
         "0.0",
         "0.0",
         "0.0",
         "0.0",
         "0.0",
         "0.0",
         "0.0",
         "0.0",
         "0.0",
         "0.0",
         "0.0",
         "0.0",
         "0.0",
         "0.0",
         "0.0",
         "0.0",
         "0.0",
         "0.0",
         "0.0",
         "0.0",
         "0.0",
         "0.0",
         "0.0",
         "0.0",
         "0.0",
         "0.0",
         "0.0",
         "0.0",
         "0.0",
         "0.0",
         "0.0",
         "0.0",
         "0.0",
         "0.0",
         "0.0",
         "1.0",
         "0.0",
         "0.0",
         "0.0",
         "0.0",
         "0.0",
         "0.0",
         "0.0",
         "0.0",
         "0.0",
         "0.0",
         "0.0",
         "0.0",
         "0.0",
         "1.0",
         "1.0",
         "0.0",
         "0.0",
         "0.0",
         "0.0",
         "0.0",
         "0.0",
         "0.0",
         "0.0",
         "0.0",
         "0.0",
         "0.0",
         "0.0",
         "0.0",
         "0.0",
         "0.0",
         "0.0",
         "0.0",
         "0.0",
         "0.0",
         "0.0",
         "0.0",
         "0.0",
         "0.0",
         "0.0",
         "0.0",
         "0.0",
         "0.0",
         "0.0",
         "0.0",
         "1.0",
         "0.0",
         "0.0",
         "0.0",
         "0.0",
         "0.0",
         "0.0",
         "0.0",
         "1.0",
         "0.0",
         "0.0",
         "0.0",
         "0.0",
         "0.0",
         "0.0",
         "0.0",
         "0.0",
         "0.0",
         "1.0",
         "0.0",
         "1.0",
         "0.0",
         "0.0",
         "0.0",
         "0.0",
         "0.0",
         "0.0",
         "0.0",
         "0.0",
         "0.0",
         "0.0",
         "0.0",
         "0.0",
         null,
         null,
         null,
         "21.0",
         null,
         null,
         null,
         "107.0",
         null,
         null,
         null,
         null,
         "0.45",
         null,
         null,
         null,
         null,
         "204.0",
         null,
         null,
         null,
         null,
         null,
         "31.75",
         null,
         null,
         null,
         null,
         null,
         "10.55",
         null,
         null,
         "330.0",
         null,
         null,
         null,
         null,
         "229.5",
         "3.55",
         null,
         null,
         null,
         "139.5",
         null,
         null,
         null,
         "13.0",
         null,
         "0.0",
         null,
         null,
         null,
         null,
         null,
         null,
         null,
         "8.5",
         null,
         null,
         "0.0",
         null,
         null,
         null,
         "1.4142135623730951",
         null,
         null,
         null,
         null,
         "0.07071067811865474",
         null,
         null,
         null,
         "29.698484809834994",
         null,
         null,
         null,
         null,
         "0.07071067811865576",
         null,
         null,
         null,
         "0.07071067811865513",
         null,
         null,
         null,
         null,
         null,
         null,
         "40.30508652763321",
         "0.3535533905932738",
         null,
         null,
         null,
         "2.1213203435596424",
         null,
         null,
         null,
         "4.242640687119285",
         null,
         null,
         null,
         null,
         null,
         null,
         null,
         null,
         "1.697056274847714",
         null,
         null,
         null,
         "21.0",
         null,
         null,
         null,
         "106.0",
         null,
         null,
         null,
         null,
         "0.4",
         null,
         null,
         null,
         null,
         "183.0",
         null,
         null,
         null,
         null,
         null,
         "31.7",
         null,
         null,
         null,
         null,
         null,
         "10.5",
         null,
         null,
         "330.0",
         null,
         null,
         null,
         null,
         "201.0",
         "3.3",
         null,
         null,
         null,
         "138.0",
         null,
         null,
         null,
         "10.0",
         null,
         "0.0",
         null,
         null,
         null,
         null,
         null,
         null,
         null,
         "7.3",
         null,
         null,
         null,
         "21.0",
         null,
         null,
         null,
         "108.0",
         null,
         null,
         null,
         null,
         "0.5",
         null,
         null,
         null,
         null,
         "225.0",
         null,
         null,
         null,
         null,
         null,
         "31.8",
         null,
         null,
         null,
         null,
         null,
         "10.6",
         null,
         null,
         "330.0",
         null,
         null,
         null,
         null,
         "258.0",
         "3.8",
         null,
         null,
         null,
         "141.0",
         null,
         null,
         null,
         "16.0",
         null,
         "0.0",
         null,
         null,
         null,
         null,
         null,
         null,
         null,
         "9.7",
         null,
         null,
         null,
         "0.0",
         null,
         null,
         null,
         "2.0",
         null,
         null,
         null,
         null,
         "0.09999999999999998",
         null,
         null,
         null,
         null,
         "42.0",
         null,
         null,
         null,
         null,
         null,
         "0.10000000000000142",
         null,
         null,
         null,
         null,
         null,
         "0.09999999999999964",
         null,
         null,
         "0.0",
         null,
         null,
         null,
         null,
         "57.0",
         "0.5",
         null,
         null,
         null,
         "3.0",
         null,
         null,
         null,
         "6.0",
         null,
         "0.0",
         null,
         null,
         null,
         null,
         null,
         null,
         null,
         "2.3999999999999995",
         null,
         null,
         null,
         "21.0",
         null,
         null,
         null,
         "106.0",
         null,
         null,
         null,
         null,
         "0.4",
         null,
         null,
         null,
         null,
         "225.0",
         null,
         null,
         null,
         null,
         null,
         "31.7",
         null,
         null,
         null,
         null,
         null,
         "10.5",
         null,
         null,
         "330.0",
         null,
         null,
         null,
         null,
         "258.0",
         "3.8",
         null,
         null,
         null,
         "138.0",
         null,
         null,
         null,
         "16.0",
         null,
         "0.0",
         null,
         null,
         null,
         null,
         null,
         null,
         null,
         "7.3",
         null,
         null,
         null,
         "2.0",
         null,
         null,
         null,
         "2.0",
         null,
         null,
         null,
         null,
         "2.0",
         null,
         null,
         null,
         null,
         "2.0",
         null,
         null,
         null,
         null,
         null,
         "2.0",
         null,
         null,
         null,
         null,
         null,
         "2.0",
         null,
         null,
         "1.0",
         null,
         null,
         null,
         null,
         "2.0",
         "2.0",
         null,
         null,
         null,
         "2.0",
         null,
         null,
         null,
         "2.0",
         null,
         "1.0",
         null,
         null,
         null,
         null,
         null,
         null,
         null,
         "2.0",
         "0.0",
         "0.0",
         "0.0",
         "1.0",
         "0.0",
         "0.0",
         "0.0",
         "1.0",
         "0.0",
         "0.0",
         "0.0",
         "0.0",
         "1.0",
         "0.0",
         "0.0",
         "0.0",
         "0.0",
         "1.0",
         "0.0",
         "0.0",
         "0.0",
         "0.0",
         "0.0",
         "1.0",
         "0.0",
         "0.0",
         "0.0",
         "0.0",
         "0.0",
         "1.0",
         "0.0",
         "0.0",
         "1.0",
         "0.0",
         "0.0",
         "0.0",
         "0.0",
         "1.0",
         "1.0",
         "0.0",
         "0.0",
         "0.0",
         "1.0",
         "0.0",
         "0.0",
         "0.0",
         "1.0",
         "0.0",
         "1.0",
         "0.0",
         "0.0",
         "0.0",
         "0.0",
         "0.0",
         "0.0",
         "0.0",
         "1.0",
         "37.0",
         "25.0",
         "1.0",
         "1.0",
         "0.0",
         "1.0",
         null,
         null,
         null,
         "0",
         "0",
         "3"
        ]
       ],
       "shape": {
        "columns": 1429,
        "rows": 3
       }
      },
      "text/html": [
       "<div>\n",
       "<style scoped>\n",
       "    .dataframe tbody tr th:only-of-type {\n",
       "        vertical-align: middle;\n",
       "    }\n",
       "\n",
       "    .dataframe tbody tr th {\n",
       "        vertical-align: top;\n",
       "    }\n",
       "\n",
       "    .dataframe thead th {\n",
       "        text-align: right;\n",
       "    }\n",
       "</style>\n",
       "<table border=\"1\" class=\"dataframe\">\n",
       "  <thead>\n",
       "    <tr style=\"text-align: right;\">\n",
       "      <th></th>\n",
       "      <th>age</th>\n",
       "      <th>gender_M</th>\n",
       "      <th>gender_F</th>\n",
       "      <th>eth_ASIAN</th>\n",
       "      <th>eth_BLACK</th>\n",
       "      <th>eth_HISPANIC</th>\n",
       "      <th>eth_OTHER</th>\n",
       "      <th>eth_WHITE</th>\n",
       "      <th>aprotinin cc/hr__mean</th>\n",
       "      <th>aprotinin ml/hr__mean</th>\n",
       "      <th>...</th>\n",
       "      <th>0</th>\n",
       "      <th>1</th>\n",
       "      <th>2</th>\n",
       "      <th>3</th>\n",
       "      <th>proc_vent_any</th>\n",
       "      <th>proc_rrt_any</th>\n",
       "      <th>proc_central_line_any</th>\n",
       "      <th>admit_hour</th>\n",
       "      <th>admit_weekend</th>\n",
       "      <th>admit_month</th>\n",
       "    </tr>\n",
       "    <tr>\n",
       "      <th>subject_id</th>\n",
       "      <th></th>\n",
       "      <th></th>\n",
       "      <th></th>\n",
       "      <th></th>\n",
       "      <th></th>\n",
       "      <th></th>\n",
       "      <th></th>\n",
       "      <th></th>\n",
       "      <th></th>\n",
       "      <th></th>\n",
       "      <th></th>\n",
       "      <th></th>\n",
       "      <th></th>\n",
       "      <th></th>\n",
       "      <th></th>\n",
       "      <th></th>\n",
       "      <th></th>\n",
       "      <th></th>\n",
       "      <th></th>\n",
       "      <th></th>\n",
       "      <th></th>\n",
       "    </tr>\n",
       "  </thead>\n",
       "  <tbody>\n",
       "    <tr>\n",
       "      <th>2</th>\n",
       "      <td>0.002175</td>\n",
       "      <td>1</td>\n",
       "      <td>0</td>\n",
       "      <td>1</td>\n",
       "      <td>0</td>\n",
       "      <td>0</td>\n",
       "      <td>0</td>\n",
       "      <td>0</td>\n",
       "      <td>NaN</td>\n",
       "      <td>NaN</td>\n",
       "      <td>...</td>\n",
       "      <td>1.0</td>\n",
       "      <td>0.0</td>\n",
       "      <td>0.0</td>\n",
       "      <td>0.0</td>\n",
       "      <td>NaN</td>\n",
       "      <td>NaN</td>\n",
       "      <td>NaN</td>\n",
       "      <td>19</td>\n",
       "      <td>0</td>\n",
       "      <td>7</td>\n",
       "    </tr>\n",
       "    <tr>\n",
       "      <th>3</th>\n",
       "      <td>76.525112</td>\n",
       "      <td>1</td>\n",
       "      <td>0</td>\n",
       "      <td>0</td>\n",
       "      <td>0</td>\n",
       "      <td>0</td>\n",
       "      <td>0</td>\n",
       "      <td>1</td>\n",
       "      <td>NaN</td>\n",
       "      <td>NaN</td>\n",
       "      <td>...</td>\n",
       "      <td>NaN</td>\n",
       "      <td>NaN</td>\n",
       "      <td>NaN</td>\n",
       "      <td>NaN</td>\n",
       "      <td>NaN</td>\n",
       "      <td>NaN</td>\n",
       "      <td>NaN</td>\n",
       "      <td>19</td>\n",
       "      <td>0</td>\n",
       "      <td>10</td>\n",
       "    </tr>\n",
       "    <tr>\n",
       "      <th>4</th>\n",
       "      <td>47.843996</td>\n",
       "      <td>0</td>\n",
       "      <td>1</td>\n",
       "      <td>0</td>\n",
       "      <td>0</td>\n",
       "      <td>0</td>\n",
       "      <td>0</td>\n",
       "      <td>1</td>\n",
       "      <td>NaN</td>\n",
       "      <td>NaN</td>\n",
       "      <td>...</td>\n",
       "      <td>1.0</td>\n",
       "      <td>1.0</td>\n",
       "      <td>0.0</td>\n",
       "      <td>1.0</td>\n",
       "      <td>NaN</td>\n",
       "      <td>NaN</td>\n",
       "      <td>NaN</td>\n",
       "      <td>0</td>\n",
       "      <td>0</td>\n",
       "      <td>3</td>\n",
       "    </tr>\n",
       "  </tbody>\n",
       "</table>\n",
       "<p>3 rows × 1429 columns</p>\n",
       "</div>"
      ],
      "text/plain": [
       "                  age  gender_M  gender_F  eth_ASIAN  eth_BLACK  eth_HISPANIC  \\\n",
       "subject_id                                                                      \n",
       "2            0.002175         1         0          1          0             0   \n",
       "3           76.525112         1         0          0          0             0   \n",
       "4           47.843996         0         1          0          0             0   \n",
       "\n",
       "            eth_OTHER  eth_WHITE  aprotinin cc/hr__mean  \\\n",
       "subject_id                                                \n",
       "2                   0          0                    NaN   \n",
       "3                   0          1                    NaN   \n",
       "4                   0          1                    NaN   \n",
       "\n",
       "            aprotinin ml/hr__mean  ...    0    1    2    3  proc_vent_any  \\\n",
       "subject_id                         ...                                      \n",
       "2                             NaN  ...  1.0  0.0  0.0  0.0            NaN   \n",
       "3                             NaN  ...  NaN  NaN  NaN  NaN            NaN   \n",
       "4                             NaN  ...  1.0  1.0  0.0  1.0            NaN   \n",
       "\n",
       "            proc_rrt_any  proc_central_line_any  admit_hour  admit_weekend  \\\n",
       "subject_id                                                                   \n",
       "2                    NaN                    NaN          19              0   \n",
       "3                    NaN                    NaN          19              0   \n",
       "4                    NaN                    NaN           0              0   \n",
       "\n",
       "            admit_month  \n",
       "subject_id               \n",
       "2                     7  \n",
       "3                    10  \n",
       "4                     3  \n",
       "\n",
       "[3 rows x 1429 columns]"
      ]
     },
     "execution_count": 7,
     "metadata": {},
     "output_type": "execute_result"
    }
   ],
   "source": [
    "# Build feature matrix from extracted modalities\n",
    "from project.features import build_features\n",
    "\n",
    "# If vitals missing hadm_id but have subject_id, proceed (aggregation uses subject_id)\n",
    "if not vitals.empty and 'hadm_id' not in vitals.columns:\n",
    "    print('Vitals missing hadm_id; continuing with subject_id-based aggregation.')\n",
    "\n",
    "if first_adm.empty:\n",
    "    print('No admissions after LOS filter; skipping feature build.')\n",
    "    features = pd.DataFrame()\n",
    "else:\n",
    "    features = build_features(\n",
    "        first_adm,\n",
    "        demo,\n",
    "        vitals,\n",
    "        labs,\n",
    "        rx,\n",
    "        proc,\n",
    "    )\n",
    "    print('Feature matrix shape:', features.shape)\n",
    "    leakage_cols = [c for c in features.columns if 'los_hours' in c.lower()]\n",
    "    if leakage_cols:\n",
    "        print('Dropping leakage columns:', leakage_cols)\n",
    "        features = features.drop(columns=leakage_cols)\n",
    "features.head(3)"
   ]
  },
  {
   "cell_type": "markdown",
   "id": "769be70b",
   "metadata": {},
   "source": [
    "## 6. Persist Artifacts"
   ]
  },
  {
   "cell_type": "code",
   "execution_count": 8,
   "id": "81b5bb45",
   "metadata": {},
   "outputs": [
    {
     "name": "stdout",
     "output_type": "stream",
     "text": [
      "Saved:\n",
      "  - C:\\Users\\Almog Luz\\Documents\\GitHub\\mlhc-final-project\\project\\artifacts\\features_full.parquet\n",
      "  - C:\\Users\\Almog Luz\\Documents\\GitHub\\mlhc-final-project\\project\\artifacts\\feature_provenance.json\n",
      "  - C:\\Users\\Almog Luz\\Documents\\GitHub\\mlhc-final-project\\project\\artifacts\\feature_columns.json\n"
     ]
    }
   ],
   "source": [
    "feat_path = ARTIFACTS_DIR / 'features_full.parquet'\n",
    "prov_path = ARTIFACTS_DIR / 'feature_provenance.json'\n",
    "cols_path = ARTIFACTS_DIR / 'feature_columns.json'\n",
    "features.to_parquet(feat_path)\n",
    "from project.features import build_feature_provenance\n",
    "prov = build_feature_provenance(features)\n",
    "prov_path.write_text(json.dumps(prov, indent=2))\n",
    "cols_path.write_text(json.dumps(list(features.columns), indent=2))\n",
    "print('Saved:')\n",
    "for p in [feat_path, prov_path, cols_path]:\n",
    "    print('  -', p.resolve())"
   ]
  },
  {
   "cell_type": "markdown",
   "id": "719ca00e",
   "metadata": {},
   "source": [
    "## 7. Basic Feature Diagnostics"
   ]
  },
  {
   "cell_type": "code",
   "execution_count": 9,
   "id": "7fc4ff39",
   "metadata": {},
   "outputs": [
    {
     "data": {
      "application/vnd.microsoft.datawrangler.viewer.v0+json": {
       "columns": [
        {
         "name": "index",
         "rawType": "object",
         "type": "string"
        },
        {
         "name": "missing_fraction",
         "rawType": "float64",
         "type": "float"
        }
       ],
       "ref": "a4c76c2d-e448-4195-9b2a-94c889c16369",
       "rows": [
        [
         "ca gluc gm/hr__range",
         "0.9999648790081832"
        ],
        [
         "cisatracu mg/kg/hr__mean",
         "0.9999648790081832"
        ],
        [
         "mucomyst       mg/hr__range",
         "0.9999648790081832"
        ],
        [
         "mucomyst       mg/hr__mean",
         "0.9999648790081832"
        ],
        [
         "ca gluc gm/hr__mean",
         "0.9999648790081832"
        ],
        [
         "solumedrol mg/hr__count",
         "0.9999648790081832"
        ],
        [
         "mucomyst       mg/hr__last",
         "0.9999648790081832"
        ],
        [
         "nicardipine mg/hr__last",
         "0.9999648790081832"
        ],
        [
         "nicardipine--mg/hr__last",
         "0.9999648790081832"
        ],
        [
         "hematocrit, other fluid__std",
         "0.9999648790081832"
        ],
        [
         "ca gluc gm/hr__std",
         "0.9999648790081832"
        ],
        [
         "creatinine, body fluid__std",
         "0.9999648790081832"
        ],
        [
         "creatinine, ascites__std",
         "0.9999648790081832"
        ],
        [
         "glucose, body fluid__std",
         "0.9999648790081832"
        ],
        [
         "pantoprazole  mg/hr__max",
         "0.9999648790081832"
        ]
       ],
       "shape": {
        "columns": 1,
        "rows": 15
       }
      },
      "text/html": [
       "<div>\n",
       "<style scoped>\n",
       "    .dataframe tbody tr th:only-of-type {\n",
       "        vertical-align: middle;\n",
       "    }\n",
       "\n",
       "    .dataframe tbody tr th {\n",
       "        vertical-align: top;\n",
       "    }\n",
       "\n",
       "    .dataframe thead th {\n",
       "        text-align: right;\n",
       "    }\n",
       "</style>\n",
       "<table border=\"1\" class=\"dataframe\">\n",
       "  <thead>\n",
       "    <tr style=\"text-align: right;\">\n",
       "      <th></th>\n",
       "      <th>missing_fraction</th>\n",
       "    </tr>\n",
       "  </thead>\n",
       "  <tbody>\n",
       "    <tr>\n",
       "      <th>ca gluc gm/hr__range</th>\n",
       "      <td>0.999965</td>\n",
       "    </tr>\n",
       "    <tr>\n",
       "      <th>cisatracu mg/kg/hr__mean</th>\n",
       "      <td>0.999965</td>\n",
       "    </tr>\n",
       "    <tr>\n",
       "      <th>mucomyst       mg/hr__range</th>\n",
       "      <td>0.999965</td>\n",
       "    </tr>\n",
       "    <tr>\n",
       "      <th>mucomyst       mg/hr__mean</th>\n",
       "      <td>0.999965</td>\n",
       "    </tr>\n",
       "    <tr>\n",
       "      <th>ca gluc gm/hr__mean</th>\n",
       "      <td>0.999965</td>\n",
       "    </tr>\n",
       "    <tr>\n",
       "      <th>solumedrol mg/hr__count</th>\n",
       "      <td>0.999965</td>\n",
       "    </tr>\n",
       "    <tr>\n",
       "      <th>mucomyst       mg/hr__last</th>\n",
       "      <td>0.999965</td>\n",
       "    </tr>\n",
       "    <tr>\n",
       "      <th>nicardipine mg/hr__last</th>\n",
       "      <td>0.999965</td>\n",
       "    </tr>\n",
       "    <tr>\n",
       "      <th>nicardipine--mg/hr__last</th>\n",
       "      <td>0.999965</td>\n",
       "    </tr>\n",
       "    <tr>\n",
       "      <th>hematocrit, other fluid__std</th>\n",
       "      <td>0.999965</td>\n",
       "    </tr>\n",
       "    <tr>\n",
       "      <th>ca gluc gm/hr__std</th>\n",
       "      <td>0.999965</td>\n",
       "    </tr>\n",
       "    <tr>\n",
       "      <th>creatinine, body fluid__std</th>\n",
       "      <td>0.999965</td>\n",
       "    </tr>\n",
       "    <tr>\n",
       "      <th>creatinine, ascites__std</th>\n",
       "      <td>0.999965</td>\n",
       "    </tr>\n",
       "    <tr>\n",
       "      <th>glucose, body fluid__std</th>\n",
       "      <td>0.999965</td>\n",
       "    </tr>\n",
       "    <tr>\n",
       "      <th>pantoprazole  mg/hr__max</th>\n",
       "      <td>0.999965</td>\n",
       "    </tr>\n",
       "  </tbody>\n",
       "</table>\n",
       "</div>"
      ],
      "text/plain": [
       "                              missing_fraction\n",
       "ca gluc gm/hr__range                  0.999965\n",
       "cisatracu mg/kg/hr__mean              0.999965\n",
       "mucomyst       mg/hr__range           0.999965\n",
       "mucomyst       mg/hr__mean            0.999965\n",
       "ca gluc gm/hr__mean                   0.999965\n",
       "solumedrol mg/hr__count               0.999965\n",
       "mucomyst       mg/hr__last            0.999965\n",
       "nicardipine mg/hr__last               0.999965\n",
       "nicardipine--mg/hr__last              0.999965\n",
       "hematocrit, other fluid__std          0.999965\n",
       "ca gluc gm/hr__std                    0.999965\n",
       "creatinine, body fluid__std           0.999965\n",
       "creatinine, ascites__std              0.999965\n",
       "glucose, body fluid__std              0.999965\n",
       "pantoprazole  mg/hr__max              0.999965"
      ]
     },
     "metadata": {},
     "output_type": "display_data"
    },
    {
     "data": {
      "application/vnd.microsoft.datawrangler.viewer.v0+json": {
       "columns": [
        {
         "name": "index",
         "rawType": "object",
         "type": "string"
        },
        {
         "name": "count",
         "rawType": "float64",
         "type": "float"
        },
        {
         "name": "mean",
         "rawType": "float64",
         "type": "float"
        },
        {
         "name": "std",
         "rawType": "float64",
         "type": "float"
        },
        {
         "name": "min",
         "rawType": "float64",
         "type": "float"
        },
        {
         "name": "25%",
         "rawType": "float64",
         "type": "float"
        },
        {
         "name": "50%",
         "rawType": "float64",
         "type": "float"
        },
        {
         "name": "75%",
         "rawType": "float64",
         "type": "float"
        },
        {
         "name": "max",
         "rawType": "float64",
         "type": "float"
        }
       ],
       "ref": "4a3416d8-e502-4298-a9bd-6471d87f74d8",
       "rows": [
        [
         "age",
         "28473.0",
         "53.335577562773956",
         "27.0035500567583",
         "0.0",
         "42.083036732831395",
         "61.623250817552666",
         "73.49479047836337",
         "90.0"
        ],
        [
         "gender_M",
         "28473.0",
         "0.565693815193341",
         "0.4956742394208989",
         "0.0",
         "0.0",
         "1.0",
         "1.0",
         "1.0"
        ],
        [
         "gender_F",
         "28473.0",
         "0.43430618480665895",
         "0.4956742394208989",
         "0.0",
         "0.0",
         "0.0",
         "1.0",
         "1.0"
        ],
        [
         "eth_ASIAN",
         "28473.0",
         "0.032346433463281005",
         "0.17692156747021215",
         "0.0",
         "0.0",
         "0.0",
         "0.0",
         "1.0"
        ],
        [
         "eth_BLACK",
         "28473.0",
         "0.0800407403505075",
         "0.2713610260010201",
         "0.0",
         "0.0",
         "0.0",
         "0.0",
         "1.0"
        ],
        [
         "eth_HISPANIC",
         "28473.0",
         "0.03427808801320549",
         "0.18194577035459394",
         "0.0",
         "0.0",
         "0.0",
         "0.0",
         "1.0"
        ],
        [
         "eth_OTHER",
         "28473.0",
         "0.15172268464861446",
         "0.3587581803169032",
         "0.0",
         "0.0",
         "0.0",
         "0.0",
         "1.0"
        ],
        [
         "eth_WHITE",
         "28473.0",
         "0.7016120535243915",
         "0.4575586659677255",
         "0.0",
         "0.0",
         "1.0",
         "1.0",
         "1.0"
        ]
       ],
       "shape": {
        "columns": 8,
        "rows": 8
       }
      },
      "text/html": [
       "<div>\n",
       "<style scoped>\n",
       "    .dataframe tbody tr th:only-of-type {\n",
       "        vertical-align: middle;\n",
       "    }\n",
       "\n",
       "    .dataframe tbody tr th {\n",
       "        vertical-align: top;\n",
       "    }\n",
       "\n",
       "    .dataframe thead th {\n",
       "        text-align: right;\n",
       "    }\n",
       "</style>\n",
       "<table border=\"1\" class=\"dataframe\">\n",
       "  <thead>\n",
       "    <tr style=\"text-align: right;\">\n",
       "      <th></th>\n",
       "      <th>count</th>\n",
       "      <th>mean</th>\n",
       "      <th>std</th>\n",
       "      <th>min</th>\n",
       "      <th>25%</th>\n",
       "      <th>50%</th>\n",
       "      <th>75%</th>\n",
       "      <th>max</th>\n",
       "    </tr>\n",
       "  </thead>\n",
       "  <tbody>\n",
       "    <tr>\n",
       "      <th>age</th>\n",
       "      <td>28473.0</td>\n",
       "      <td>53.335578</td>\n",
       "      <td>27.003550</td>\n",
       "      <td>0.0</td>\n",
       "      <td>42.083037</td>\n",
       "      <td>61.623251</td>\n",
       "      <td>73.49479</td>\n",
       "      <td>90.0</td>\n",
       "    </tr>\n",
       "    <tr>\n",
       "      <th>gender_M</th>\n",
       "      <td>28473.0</td>\n",
       "      <td>0.565694</td>\n",
       "      <td>0.495674</td>\n",
       "      <td>0.0</td>\n",
       "      <td>0.000000</td>\n",
       "      <td>1.000000</td>\n",
       "      <td>1.00000</td>\n",
       "      <td>1.0</td>\n",
       "    </tr>\n",
       "    <tr>\n",
       "      <th>gender_F</th>\n",
       "      <td>28473.0</td>\n",
       "      <td>0.434306</td>\n",
       "      <td>0.495674</td>\n",
       "      <td>0.0</td>\n",
       "      <td>0.000000</td>\n",
       "      <td>0.000000</td>\n",
       "      <td>1.00000</td>\n",
       "      <td>1.0</td>\n",
       "    </tr>\n",
       "    <tr>\n",
       "      <th>eth_ASIAN</th>\n",
       "      <td>28473.0</td>\n",
       "      <td>0.032346</td>\n",
       "      <td>0.176922</td>\n",
       "      <td>0.0</td>\n",
       "      <td>0.000000</td>\n",
       "      <td>0.000000</td>\n",
       "      <td>0.00000</td>\n",
       "      <td>1.0</td>\n",
       "    </tr>\n",
       "    <tr>\n",
       "      <th>eth_BLACK</th>\n",
       "      <td>28473.0</td>\n",
       "      <td>0.080041</td>\n",
       "      <td>0.271361</td>\n",
       "      <td>0.0</td>\n",
       "      <td>0.000000</td>\n",
       "      <td>0.000000</td>\n",
       "      <td>0.00000</td>\n",
       "      <td>1.0</td>\n",
       "    </tr>\n",
       "    <tr>\n",
       "      <th>eth_HISPANIC</th>\n",
       "      <td>28473.0</td>\n",
       "      <td>0.034278</td>\n",
       "      <td>0.181946</td>\n",
       "      <td>0.0</td>\n",
       "      <td>0.000000</td>\n",
       "      <td>0.000000</td>\n",
       "      <td>0.00000</td>\n",
       "      <td>1.0</td>\n",
       "    </tr>\n",
       "    <tr>\n",
       "      <th>eth_OTHER</th>\n",
       "      <td>28473.0</td>\n",
       "      <td>0.151723</td>\n",
       "      <td>0.358758</td>\n",
       "      <td>0.0</td>\n",
       "      <td>0.000000</td>\n",
       "      <td>0.000000</td>\n",
       "      <td>0.00000</td>\n",
       "      <td>1.0</td>\n",
       "    </tr>\n",
       "    <tr>\n",
       "      <th>eth_WHITE</th>\n",
       "      <td>28473.0</td>\n",
       "      <td>0.701612</td>\n",
       "      <td>0.457559</td>\n",
       "      <td>0.0</td>\n",
       "      <td>0.000000</td>\n",
       "      <td>1.000000</td>\n",
       "      <td>1.00000</td>\n",
       "      <td>1.0</td>\n",
       "    </tr>\n",
       "  </tbody>\n",
       "</table>\n",
       "</div>"
      ],
      "text/plain": [
       "                count       mean        std  min        25%        50%  \\\n",
       "age           28473.0  53.335578  27.003550  0.0  42.083037  61.623251   \n",
       "gender_M      28473.0   0.565694   0.495674  0.0   0.000000   1.000000   \n",
       "gender_F      28473.0   0.434306   0.495674  0.0   0.000000   0.000000   \n",
       "eth_ASIAN     28473.0   0.032346   0.176922  0.0   0.000000   0.000000   \n",
       "eth_BLACK     28473.0   0.080041   0.271361  0.0   0.000000   0.000000   \n",
       "eth_HISPANIC  28473.0   0.034278   0.181946  0.0   0.000000   0.000000   \n",
       "eth_OTHER     28473.0   0.151723   0.358758  0.0   0.000000   0.000000   \n",
       "eth_WHITE     28473.0   0.701612   0.457559  0.0   0.000000   1.000000   \n",
       "\n",
       "                   75%   max  \n",
       "age           73.49479  90.0  \n",
       "gender_M       1.00000   1.0  \n",
       "gender_F       1.00000   1.0  \n",
       "eth_ASIAN      0.00000   1.0  \n",
       "eth_BLACK      0.00000   1.0  \n",
       "eth_HISPANIC   0.00000   1.0  \n",
       "eth_OTHER      0.00000   1.0  \n",
       "eth_WHITE      1.00000   1.0  "
      ]
     },
     "metadata": {},
     "output_type": "display_data"
    },
    {
     "name": "stdout",
     "output_type": "stream",
     "text": [
      "Done.\n"
     ]
    }
   ],
   "source": [
    "# Missingness overview (top 15 most-missing features)\n",
    "if features.empty:\n",
    "    print('Feature matrix empty – nothing to diagnose.')\n",
    "else:\n",
    "    miss = features.isna().mean().sort_values(ascending=False)[:15]\n",
    "    display(miss.to_frame('missing_fraction'))\n",
    "    # Simple distribution snapshot for a few continuous features\n",
    "    sample_cols = [c for c in features.columns if features[c].dtype != 'O'][:8]\n",
    "    if sample_cols:\n",
    "        desc = features[sample_cols].describe().T\n",
    "        display(desc)\n",
    "print('Done.')"
   ]
  }
 ],
 "metadata": {
  "kernelspec": {
   "display_name": ".venv (3.13.3)",
   "language": "python",
   "name": "python3"
  },
  "language_info": {
   "codemirror_mode": {
    "name": "ipython",
    "version": 3
   },
   "file_extension": ".py",
   "mimetype": "text/x-python",
   "name": "python",
   "nbconvert_exporter": "python",
   "pygments_lexer": "ipython3",
   "version": "3.13.3"
  }
 },
 "nbformat": 4,
 "nbformat_minor": 5
}
