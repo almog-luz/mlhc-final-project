{
 "cells": [
  {
   "cell_type": "markdown",
   "id": "4c371067",
   "metadata": {},
   "source": [
    "# Data Extraction (DuckDB)\n",
    "\n",
    "Objective: materialize cohort and 48h modality slices required for feature engineering.\n",
    "\n",
    "## Workflow\n",
    "1. Configure database path and connectors\n",
    "2. Load or derive subject ID cohort\n",
    "3. Extract first admissions (LOS >=54h filter inline)\n",
    "4. Extract all admissions (for readmission logic if needed later)\n",
    "5. Pull demographics\n",
    "6. Pull 0–48h vitals, labs, prescriptions, procedures\n",
    "\n",
    "## Notes\n",
    "- All timing windows use hour deltas from admission start.\n"
   ]
  },
  {
   "cell_type": "code",
   "execution_count": 1,
   "id": "8fe53f89",
   "metadata": {},
   "outputs": [
    {
     "name": "stdout",
     "output_type": "stream",
     "text": [
      "Imports ready.\n"
     ]
    }
   ],
   "source": [
    "# Environment & Imports (local)\n",
    "import os, sys, pathlib\n",
    "from importlib.util import find_spec\n",
    "\n",
    "# Add project root to path if notebook is under notebooks/\n",
    "ROOT = pathlib.Path(__file__).resolve().parents[1] if '__file__' in globals() else pathlib.Path.cwd().parents[0]\n",
    "if str(ROOT) not in sys.path: sys.path.insert(0, str(ROOT))\n",
    "\n",
    "missing = []\n",
    "for pkg in ['duckdb','pandas','matplotlib']:\n",
    "    if find_spec(pkg) is None: missing.append(pkg)\n",
    "if missing:\n",
    "    print('Missing packages detected:', missing)\n",
    "    print('Install them (example): pip install ' + ' '.join(missing))\n",
    "\n",
    "import pandas as pd\n",
    "import matplotlib.pyplot as plt\n",
    "try:\n",
    "    import duckdb\n",
    "except ModuleNotFoundError:\n",
    "    raise RuntimeError('duckdb not installed. Please install and re-run.')\n",
    "\n",
    "print('Imports ready.')"
   ]
  },
  {
   "cell_type": "code",
   "execution_count": 2,
   "id": "c1fde18a",
   "metadata": {},
   "outputs": [
    {
     "name": "stdout",
     "output_type": "stream",
     "text": [
      "PROJECT_ROOT: c:\\Users\\Almog Luz\\Documents\\GitHub\\mlhc-final-project\n",
      "DuckDB path exists: True\n"
     ]
    }
   ],
   "source": [
    "# Imports & configuration\n",
    "from pathlib import Path\n",
    "import pandas as pd, numpy as np\n",
    "import duckdb, json, math, sys, datetime\n",
    "from importlib import reload\n",
    "PROJECT_ROOT = Path.cwd().parent if Path.cwd().name == 'notebooks' else Path.cwd()\n",
    "DATA_DIR = PROJECT_ROOT / 'data'\n",
    "ARTIFACTS_DIR = PROJECT_ROOT / 'project' / 'artifacts'\n",
    "DB_PATH = DATA_DIR / 'mimiciii.duckdb'  # Adjust if your filename differs\n",
    "SUBJECT_SAMPLE_LIMIT = None  # e.g., 500 for a quick run; set None for full\n",
    "RANDOM_SEED = 42\n",
    "print('PROJECT_ROOT:', PROJECT_ROOT)\n",
    "print('DuckDB path exists:', DB_PATH.exists())\n",
    "ARTIFACTS_DIR.mkdir(parents=True, exist_ok=True)"
   ]
  },
  {
   "cell_type": "markdown",
   "id": "78fdb89d",
   "metadata": {},
   "source": [
    "## 1. Setup\n",
    "Initialize paths and imports."
   ]
  },
  {
   "cell_type": "code",
   "execution_count": 3,
   "id": "62da08a5",
   "metadata": {},
   "outputs": [
    {
     "name": "stdout",
     "output_type": "stream",
     "text": [
      "Cohort size (after optional sample): 32513\n"
     ]
    },
    {
     "data": {
      "application/vnd.microsoft.datawrangler.viewer.v0+json": {
       "columns": [
        {
         "name": "index",
         "rawType": "int64",
         "type": "integer"
        },
        {
         "name": "subject_id",
         "rawType": "int64",
         "type": "integer"
        }
       ],
       "ref": "870d9bc3-6f12-4ee8-8ce6-6f2c4659b6c1",
       "rows": [
        [
         "0",
         "22392"
        ],
        [
         "1",
         "2847"
        ],
        [
         "2",
         "12056"
        ],
        [
         "3",
         "25600"
        ],
        [
         "4",
         "73125"
        ]
       ],
       "shape": {
        "columns": 1,
        "rows": 5
       }
      },
      "text/html": [
       "<div>\n",
       "<style scoped>\n",
       "    .dataframe tbody tr th:only-of-type {\n",
       "        vertical-align: middle;\n",
       "    }\n",
       "\n",
       "    .dataframe tbody tr th {\n",
       "        vertical-align: top;\n",
       "    }\n",
       "\n",
       "    .dataframe thead th {\n",
       "        text-align: right;\n",
       "    }\n",
       "</style>\n",
       "<table border=\"1\" class=\"dataframe\">\n",
       "  <thead>\n",
       "    <tr style=\"text-align: right;\">\n",
       "      <th></th>\n",
       "      <th>subject_id</th>\n",
       "    </tr>\n",
       "  </thead>\n",
       "  <tbody>\n",
       "    <tr>\n",
       "      <th>0</th>\n",
       "      <td>22392</td>\n",
       "    </tr>\n",
       "    <tr>\n",
       "      <th>1</th>\n",
       "      <td>2847</td>\n",
       "    </tr>\n",
       "    <tr>\n",
       "      <th>2</th>\n",
       "      <td>12056</td>\n",
       "    </tr>\n",
       "    <tr>\n",
       "      <th>3</th>\n",
       "      <td>25600</td>\n",
       "    </tr>\n",
       "    <tr>\n",
       "      <th>4</th>\n",
       "      <td>73125</td>\n",
       "    </tr>\n",
       "  </tbody>\n",
       "</table>\n",
       "</div>"
      ],
      "text/plain": [
       "   subject_id\n",
       "0       22392\n",
       "1        2847\n",
       "2       12056\n",
       "3       25600\n",
       "4       73125"
      ]
     },
     "execution_count": 3,
     "metadata": {},
     "output_type": "execute_result"
    }
   ],
   "source": [
    "cohort_path = DATA_DIR / 'initial_cohort.csv'\n",
    "if not cohort_path.exists():\n",
    "    raise FileNotFoundError(f'Missing cohort file: {cohort_path}')\n",
    "cohort = pd.read_csv(cohort_path)\n",
    "if 'subject_id' not in cohort.columns:\n",
    "    raise ValueError('`subject_id` column missing in cohort CSV')\n",
    "cohort = cohort.dropna(subset=['subject_id'])\n",
    "cohort['subject_id'] = cohort['subject_id'].astype(int)\n",
    "if SUBJECT_SAMPLE_LIMIT is not None:\n",
    "    cohort = cohort.sample(n=min(SUBJECT_SAMPLE_LIMIT, len(cohort)), random_state=RANDOM_SEED)\n",
    "print('Cohort size (after optional sample):', len(cohort))\n",
    "cohort.head()"
   ]
  },
  {
   "cell_type": "markdown",
   "id": "eccbbfce",
   "metadata": {},
   "source": [
    "## 2. First Admissions\n",
    "Retrieve first admission rows per subject and compute LOS."
   ]
  },
  {
   "cell_type": "code",
   "execution_count": 4,
   "id": "f4e2fb23",
   "metadata": {},
   "outputs": [
    {
     "name": "stdout",
     "output_type": "stream",
     "text": [
      "Connected to DuckDB.\n",
      "Available tables: ['ADMISSIONS', 'CALLOUT', 'CAREGIVERS', 'CHARTEVENTS', 'CPTEVENTS', 'DATETIMEEVENTS', 'DIAGNOSES_ICD', 'DRGCODES', 'D_CPT', 'D_ICD_DIAGNOSES', 'D_ICD_PROCEDURES', 'D_ITEMS', 'D_LABITEMS', 'ICUSTAYS', 'INPUTEVENTS_CV', 'INPUTEVENTS_MV', 'LABEVENTS', 'MICROBIOLOGYEVENTS', 'NOTEEVENTS', 'OUTPUTEVENTS', 'PATIENTS', 'PRESCRIPTIONS', 'PROCEDUREEVENTS_MV', 'PROCEDURES_ICD', 'SERVICES', 'TRANSFERS']\n",
      "Available tables: ['ADMISSIONS', 'CALLOUT', 'CAREGIVERS', 'CHARTEVENTS', 'CPTEVENTS', 'DATETIMEEVENTS', 'DIAGNOSES_ICD', 'DRGCODES', 'D_CPT', 'D_ICD_DIAGNOSES', 'D_ICD_PROCEDURES', 'D_ITEMS', 'D_LABITEMS', 'ICUSTAYS', 'INPUTEVENTS_CV', 'INPUTEVENTS_MV', 'LABEVENTS', 'MICROBIOLOGYEVENTS', 'NOTEEVENTS', 'OUTPUTEVENTS', 'PATIENTS', 'PRESCRIPTIONS', 'PROCEDUREEVENTS_MV', 'PROCEDURES_ICD', 'SERVICES', 'TRANSFERS']\n"
     ]
    }
   ],
   "source": [
    "con = duckdb.connect(str(DB_PATH))\n",
    "print('Connected to DuckDB.')\n",
    "# (Optional) list tables to verify schema\n",
    "try:\n",
    "    tbls = con.execute(\"SHOW TABLES\").fetchdf()\n",
    "    print('Available tables:', tbls['name'].tolist())\n",
    "except Exception as e:\n",
    "    print('Could not list tables:', e)"
   ]
  },
  {
   "cell_type": "markdown",
   "id": "d8d57b2c",
   "metadata": {},
   "source": [
    "## 3. All Admissions Reference\n",
    "Load all admissions for downstream readmission logic."
   ]
  },
  {
   "cell_type": "code",
   "execution_count": null,
   "id": "becf94bd",
   "metadata": {},
   "outputs": [
    {
     "name": "stdout",
     "output_type": "stream",
     "text": [
      "Subjects in cohort (pre optional sample): 32513\n"
     ]
    },
    {
     "data": {
      "application/vnd.jupyter.widget-view+json": {
       "model_id": "23a9d112324f46f8a90bdd3ea85819db",
       "version_major": 2,
       "version_minor": 0
      },
      "text/plain": [
       "FloatProgress(value=0.0, layout=Layout(width='auto'), style=ProgressStyle(bar_color='black'))"
      ]
     },
     "metadata": {},
     "output_type": "display_data"
    },
    {
     "data": {
      "application/vnd.jupyter.widget-view+json": {
       "model_id": "5ab326e4bf5d4df8b78e7d6da00fb4f5",
       "version_major": 2,
       "version_minor": 0
      },
      "text/plain": [
       "FloatProgress(value=0.0, layout=Layout(width='auto'), style=ProgressStyle(bar_color='black'))"
      ]
     },
     "metadata": {},
     "output_type": "display_data"
    },
    {
     "name": "stdout",
     "output_type": "stream",
     "text": [
      "first_adm_filtered shape: (28340, 14)\n",
      "Distinct admittime: 28238\n",
      "Demographics columns: ['subject_id', 'gender', 'dob', 'dod', 'expire_flag'] rows: 28340\n",
      "Vitals rows / subjects: 20086122 24077\n",
      "Labs rows / subjects: 3253639 27563\n",
      "Prescriptions rows / subjects: 582577 23381\n",
      "Procedures rows / subjects: 65178 8243\n",
      "DEBUG(build_features): first_adm columns -> ['subject_id', 'hadm_id', 'admittime', 'dischtime', 'deathtime', 'admission_type', 'admission_location', 'discharge_location', 'diagnosis', 'insurance', 'language', 'marital_status', 'ethnicity', 'los_hours']\n",
      "DEBUG(build_features): demo columns -> ['subject_id', 'gender', 'dob', 'dod', 'expire_flag']\n",
      "Vitals rows / subjects: 20086122 24077\n",
      "Labs rows / subjects: 3253639 27563\n",
      "Prescriptions rows / subjects: 582577 23381\n",
      "Procedures rows / subjects: 65178 8243\n",
      "DEBUG(build_features): first_adm columns -> ['subject_id', 'hadm_id', 'admittime', 'dischtime', 'deathtime', 'admission_type', 'admission_location', 'discharge_location', 'diagnosis', 'insurance', 'language', 'marital_status', 'ethnicity', 'los_hours']\n",
      "DEBUG(build_features): demo columns -> ['subject_id', 'gender', 'dob', 'dod', 'expire_flag']\n",
      "Prune summary: original=14832 kept=1500 removed=13332 | zero_var_dropped=2672 low_support_removed=0\n",
      "  Top variance retained (sample): ['hematocrit (serum)__range', 'hematocrit (serum)__max', 'rbc, other fluid__min', 'rbc, other fluid__last', 'rbc, other fluid__mean']\n",
      "Prune summary: original=14832 kept=1500 removed=13332 | zero_var_dropped=2672 low_support_removed=0\n",
      "  Top variance retained (sample): ['hematocrit (serum)__range', 'hematocrit (serum)__max', 'rbc, other fluid__min', 'rbc, other fluid__last', 'rbc, other fluid__mean']\n",
      "DEBUG(build_features): first_adm columns -> ['subject_id', 'hadm_id', 'admittime', 'dischtime', 'deathtime', 'admission_type', 'admission_location', 'discharge_location', 'diagnosis', 'insurance', 'language', 'marital_status', 'ethnicity', 'los_hours']\n",
      "DEBUG(build_features): demo columns -> ['subject_id', 'gender', 'dob', 'dod', 'expire_flag']\n",
      "DEBUG(build_features): first_adm columns -> ['subject_id', 'hadm_id', 'admittime', 'dischtime', 'deathtime', 'admission_type', 'admission_location', 'discharge_location', 'diagnosis', 'insurance', 'language', 'marital_status', 'ethnicity', 'los_hours']\n",
      "DEBUG(build_features): demo columns -> ['subject_id', 'gender', 'dob', 'dod', 'expire_flag']\n",
      "Raw feature shape: (28340, 14832)\n",
      "Support quantiles: count    14832.000000\n",
      "mean      4633.107470\n",
      "std       8490.889832\n",
      "min          1.000000\n",
      "25%          4.000000\n",
      "50%        163.000000\n",
      "75%       3716.000000\n",
      "max      28340.000000\n",
      "dtype: float64\n",
      "Columns with support>=1: 14832 >=5: 11099 >=10: 10539\n",
      "Raw feature shape: (28340, 14832)\n",
      "Support quantiles: count    14832.000000\n",
      "mean      4633.107470\n",
      "std       8490.889832\n",
      "min          1.000000\n",
      "25%          4.000000\n",
      "50%        163.000000\n",
      "75%       3716.000000\n",
      "max      28340.000000\n",
      "dtype: float64\n",
      "Columns with support>=1: 14832 >=5: 11099 >=10: 10539\n",
      "Non-constant columns pre-prune: 11770 Constant: 3062\n",
      "Sample non-constant names: ['age', 'gender_M', 'gender_F', 'eth_ASIAN', 'eth_BLACK', 'eth_HISPANIC', 'eth_OTHER', 'eth_WHITE', '14 gauge dressing occlusive__mean', '14 gauge placed in outside facility__mean']\n",
      "Non-constant columns pre-prune: 11770 Constant: 3062\n",
      "Sample non-constant names: ['age', 'gender_M', 'gender_F', 'eth_ASIAN', 'eth_BLACK', 'eth_HISPANIC', 'eth_OTHER', 'eth_WHITE', '14 gauge dressing occlusive__mean', '14 gauge placed in outside facility__mean']\n",
      "Prune summary: original=14832 kept=1500 removed=13332 | zero_var_dropped=2672 low_support_removed=0\n",
      "  Top variance retained (sample): ['hematocrit (serum)__range', 'hematocrit (serum)__max', 'rbc, other fluid__min', 'rbc, other fluid__last', 'rbc, other fluid__mean']\n",
      "Prune summary: original=14832 kept=1500 removed=13332 | zero_var_dropped=2672 low_support_removed=0\n",
      "  Top variance retained (sample): ['hematocrit (serum)__range', 'hematocrit (serum)__max', 'rbc, other fluid__min', 'rbc, other fluid__last', 'rbc, other fluid__mean']\n",
      "Debug pruned (min_support=1, no cap) shape: (28340, 1500)\n",
      "Debug pruned (min_support=1, no cap) shape: (28340, 1500)\n",
      "Non-constant after relaxed pruning: 1500\n",
      "Non-constant after relaxed pruning: 1500\n",
      "--- Pipeline Debug Stats ---\n",
      "initial_subject_count: 32513\n",
      "first_admissions_count: 28473\n",
      "post_label_filter_subjects: 28340\n",
      "labels_count: 28340\n",
      "modalities_rows: {'demo': 28340, 'vitals': 20086122, 'labs': 3253639, 'rx': 582577, 'proc': 65178}\n",
      "feature_shape: (28340, 1500)\n",
      "feature_column_count: 1500\n",
      "labels:       subject_id hadm_id  mortality_label  prolonged_los_label  \\\n",
      "0           1000  143040                1                    1   \n",
      "1          10000  187813                0                    1   \n",
      "2          10003  144039                0                    1   \n",
      "3          10004  164713                0                    1   \n",
      "4          10005  181146                0                    0   \n",
      "...          ...     ...              ...                  ...   \n",
      "28335      99985  176670                0                    1   \n",
      "28336      99991  151118                0                    1   \n",
      "28337      99992  197084                0                    0   \n",
      "28338      99995  137810                0                    0   \n",
      "28339      99999  113369                0                    0   \n",
      "\n",
      "       readmission_label  \n",
      "0                      0  \n",
      "1                      0  \n",
      "2                      0  \n",
      "3                      0  \n",
      "4                      0  \n",
      "...                  ...  \n",
      "28335                  0  \n",
      "28336                  0  \n",
      "28337                  0  \n",
      "28338                  0  \n",
      "28339                  0  \n",
      "\n",
      "[28340 rows x 5 columns]\n",
      "Unified features shape: (28340, 1500)\n",
      "--- Pipeline Debug Stats ---\n",
      "initial_subject_count: 32513\n",
      "first_admissions_count: 28473\n",
      "post_label_filter_subjects: 28340\n",
      "labels_count: 28340\n",
      "modalities_rows: {'demo': 28340, 'vitals': 20086122, 'labs': 3253639, 'rx': 582577, 'proc': 65178}\n",
      "feature_shape: (28340, 1500)\n",
      "feature_column_count: 1500\n",
      "labels:       subject_id hadm_id  mortality_label  prolonged_los_label  \\\n",
      "0           1000  143040                1                    1   \n",
      "1          10000  187813                0                    1   \n",
      "2          10003  144039                0                    1   \n",
      "3          10004  164713                0                    1   \n",
      "4          10005  181146                0                    0   \n",
      "...          ...     ...              ...                  ...   \n",
      "28335      99985  176670                0                    1   \n",
      "28336      99991  151118                0                    1   \n",
      "28337      99992  197084                0                    0   \n",
      "28338      99995  137810                0                    0   \n",
      "28339      99999  113369                0                    0   \n",
      "\n",
      "       readmission_label  \n",
      "0                      0  \n",
      "1                      0  \n",
      "2                      0  \n",
      "3                      0  \n",
      "4                      0  \n",
      "...                  ...  \n",
      "28335                  0  \n",
      "28336                  0  \n",
      "28337                  0  \n",
      "28338                  0  \n",
      "28339                  0  \n",
      "\n",
      "[28340 rows x 5 columns]\n",
      "Unified features shape: (28340, 1500)\n"
     ]
    },
    {
     "data": {
      "application/vnd.microsoft.datawrangler.viewer.v0+json": {
       "columns": [
        {
         "name": "subject_id",
         "rawType": "object",
         "type": "string"
        },
        {
         "name": "hematocrit (serum)__range",
         "rawType": "float64",
         "type": "float"
        },
        {
         "name": "hematocrit (serum)__max",
         "rawType": "float64",
         "type": "float"
        },
        {
         "name": "rbc, other fluid__min",
         "rawType": "float64",
         "type": "float"
        },
        {
         "name": "rbc, other fluid__last",
         "rawType": "float64",
         "type": "float"
        },
        {
         "name": "rbc, other fluid__mean",
         "rawType": "float64",
         "type": "float"
        },
        {
         "name": "rbc, other fluid__max",
         "rawType": "float64",
         "type": "float"
        },
        {
         "name": "hematocrit (serum)__std",
         "rawType": "float64",
         "type": "float"
        },
        {
         "name": "rbc, pleural__max",
         "rawType": "float64",
         "type": "float"
        },
        {
         "name": "rbc, pleural__mean",
         "rawType": "float64",
         "type": "float"
        },
        {
         "name": "rbc, pleural__last",
         "rawType": "float64",
         "type": "float"
        },
        {
         "name": "rbc, pleural__min",
         "rawType": "float64",
         "type": "float"
        },
        {
         "name": "peak insp. pressure__range",
         "rawType": "float64",
         "type": "float"
        },
        {
         "name": "peak insp. pressure__max",
         "rawType": "float64",
         "type": "float"
        },
        {
         "name": "rbc, joint fluid__min",
         "rawType": "float64",
         "type": "float"
        },
        {
         "name": "rbc, joint fluid__last",
         "rawType": "float64",
         "type": "float"
        },
        {
         "name": "rbc, joint fluid__mean",
         "rawType": "float64",
         "type": "float"
        },
        {
         "name": "rbc, joint fluid__max",
         "rawType": "float64",
         "type": "float"
        },
        {
         "name": "peak insp. pressure__std",
         "rawType": "float64",
         "type": "float"
        },
        {
         "name": "age",
         "rawType": "float64",
         "type": "float"
        },
        {
         "name": "admit_hour",
         "rawType": "int64",
         "type": "integer"
        },
        {
         "name": "admit_month",
         "rawType": "int64",
         "type": "integer"
        },
        {
         "name": "gender_M",
         "rawType": "int64",
         "type": "integer"
        },
        {
         "name": "gender_F",
         "rawType": "int64",
         "type": "integer"
        },
        {
         "name": "eth_WHITE",
         "rawType": "int64",
         "type": "integer"
        },
        {
         "name": "admit_weekend",
         "rawType": "int64",
         "type": "integer"
        },
        {
         "name": "eth_OTHER",
         "rawType": "int64",
         "type": "integer"
        },
        {
         "name": "eth_BLACK",
         "rawType": "int64",
         "type": "integer"
        },
        {
         "name": "eth_HISPANIC",
         "rawType": "int64",
         "type": "integer"
        },
        {
         "name": "eth_ASIAN",
         "rawType": "int64",
         "type": "integer"
        },
        {
         "name": "bilirubin, total__measured",
         "rawType": "float64",
         "type": "float"
        },
        {
         "name": "pco2__measured_y",
         "rawType": "float64",
         "type": "float"
        },
        {
         "name": "calculated total co2__measured",
         "rawType": "float64",
         "type": "float"
        },
        {
         "name": "po2__measured_y",
         "rawType": "float64",
         "type": "float"
        },
        {
         "name": "base excess__measured_y",
         "rawType": "float64",
         "type": "float"
        },
        {
         "name": "lymphocytes__measured",
         "rawType": "float64",
         "type": "float"
        },
        {
         "name": "monocytes__measured",
         "rawType": "float64",
         "type": "float"
        },
        {
         "name": "eosinophils__measured_y",
         "rawType": "float64",
         "type": "float"
        },
        {
         "name": "basophils__measured",
         "rawType": "float64",
         "type": "float"
        },
        {
         "name": "neutrophils__measured",
         "rawType": "float64",
         "type": "float"
        },
        {
         "name": "alanine aminotransferase (alt)__measured",
         "rawType": "float64",
         "type": "float"
        },
        {
         "name": "asparate aminotransferase (ast)__measured",
         "rawType": "float64",
         "type": "float"
        },
        {
         "name": "lactate__measured",
         "rawType": "float64",
         "type": "float"
        },
        {
         "name": "free calcium__measured",
         "rawType": "float64",
         "type": "float"
        },
        {
         "name": "alkaline phosphatase__measured_y",
         "rawType": "float64",
         "type": "float"
        },
        {
         "name": "creatine kinase (ck)__measured",
         "rawType": "float64",
         "type": "float"
        },
        {
         "name": "specific gravity__measured",
         "rawType": "float64",
         "type": "float"
        },
        {
         "name": "albumin__measured_y",
         "rawType": "float64",
         "type": "float"
        },
        {
         "name": "potassium, whole blood__measured",
         "rawType": "float64",
         "type": "float"
        },
        {
         "name": "ph__measured_y",
         "rawType": "float64",
         "type": "float"
        },
        {
         "name": "hematocrit, calculated__measured",
         "rawType": "float64",
         "type": "float"
        },
        {
         "name": "oxygen saturation__measured",
         "rawType": "float64",
         "type": "float"
        },
        {
         "name": "creatine kinase, mb isoenzyme__measured",
         "rawType": "float64",
         "type": "float"
        },
        {
         "name": "lactate dehydrogenase (ld)__measured",
         "rawType": "float64",
         "type": "float"
        },
        {
         "name": "sodium, whole blood__measured",
         "rawType": "float64",
         "type": "float"
        },
        {
         "name": "oxygen__measured",
         "rawType": "float64",
         "type": "float"
        },
        {
         "name": "ptt__measured_y",
         "rawType": "float64",
         "type": "float"
        },
        {
         "name": "bands__measured_y",
         "rawType": "float64",
         "type": "float"
        },
        {
         "name": "pt__measured_y",
         "rawType": "float64",
         "type": "float"
        },
        {
         "name": "inr(pt)__measured",
         "rawType": "float64",
         "type": "float"
        },
        {
         "name": "phosphate__measured",
         "rawType": "float64",
         "type": "float"
        },
        {
         "name": "temperature__measured",
         "rawType": "float64",
         "type": "float"
        },
        {
         "name": "calcium, total__measured",
         "rawType": "float64",
         "type": "float"
        },
        {
         "name": "atypical lymphocytes__measured",
         "rawType": "float64",
         "type": "float"
        },
        {
         "name": "metamyelocytes__measured",
         "rawType": "float64",
         "type": "float"
        },
        {
         "name": "myelocytes__measured",
         "rawType": "float64",
         "type": "float"
        },
        {
         "name": "chloride, whole blood__measured",
         "rawType": "float64",
         "type": "float"
        },
        {
         "name": "tidal volume__measured_y",
         "rawType": "float64",
         "type": "float"
        },
        {
         "name": "troponin t__measured",
         "rawType": "float64",
         "type": "float"
        },
        {
         "name": "peep__measured_y",
         "rawType": "float64",
         "type": "float"
        },
        {
         "name": "fibrinogen, functional__measured",
         "rawType": "float64",
         "type": "float"
        },
        {
         "name": "magnesium__measured_y",
         "rawType": "float64",
         "type": "float"
        },
        {
         "name": "amylase__measured_y",
         "rawType": "float64",
         "type": "float"
        },
        {
         "name": "lipase__measured_y",
         "rawType": "float64",
         "type": "float"
        },
        {
         "name": "epithelial cells__measured",
         "rawType": "float64",
         "type": "float"
        },
        {
         "name": "wbc__measured_y",
         "rawType": "float64",
         "type": "float"
        },
        {
         "name": "rbc__measured_y",
         "rawType": "float64",
         "type": "float"
        },
        {
         "name": "glucose__measured_y",
         "rawType": "float64",
         "type": "float"
        },
        {
         "name": "urea nitrogen__measured",
         "rawType": "float64",
         "type": "float"
        },
        {
         "name": "creatinine__measured_y",
         "rawType": "float64",
         "type": "float"
        },
        {
         "name": "bilirubin, direct__measured",
         "rawType": "float64",
         "type": "float"
        },
        {
         "name": "bilirubin, indirect__measured",
         "rawType": "float64",
         "type": "float"
        },
        {
         "name": "creatinine, urine__measured",
         "rawType": "float64",
         "type": "float"
        },
        {
         "name": "nucleated red cells__measured",
         "rawType": "float64",
         "type": "float"
        },
        {
         "name": "protein__measured",
         "rawType": "float64",
         "type": "float"
        },
        {
         "name": "ck-mb index__measured",
         "rawType": "float64",
         "type": "float"
        },
        {
         "name": "sodium, urine__measured",
         "rawType": "float64",
         "type": "float"
        },
        {
         "name": "required o2__measured",
         "rawType": "float64",
         "type": "float"
        },
        {
         "name": "alveolar-arterial gradient__measured",
         "rawType": "float64",
         "type": "float"
        },
        {
         "name": "triglycerides__measured",
         "rawType": "float64",
         "type": "float"
        },
        {
         "name": "thyroid stimulating hormone__measured",
         "rawType": "float64",
         "type": "float"
        },
        {
         "name": "% hemoglobin a1c__measured",
         "rawType": "float64",
         "type": "float"
        },
        {
         "name": "urobilinogen__measured",
         "rawType": "float64",
         "type": "float"
        },
        {
         "name": "cholesterol, total__measured",
         "rawType": "float64",
         "type": "float"
        },
        {
         "name": "cholesterol, hdl__measured",
         "rawType": "float64",
         "type": "float"
        },
        {
         "name": "anion gap__measured_y",
         "rawType": "float64",
         "type": "float"
        },
        {
         "name": "cholesterol ratio (total/hdl)__measured",
         "rawType": "float64",
         "type": "float"
        },
        {
         "name": "osmolality, urine__measured",
         "rawType": "float64",
         "type": "float"
        },
        {
         "name": "bicarbonate__measured",
         "rawType": "float64",
         "type": "float"
        },
        {
         "name": "sodium__measured_y",
         "rawType": "float64",
         "type": "float"
        },
        {
         "name": "chloride__measured_y",
         "rawType": "float64",
         "type": "float"
        },
        {
         "name": "cholesterol, ldl, calculated__measured",
         "rawType": "float64",
         "type": "float"
        },
        {
         "name": "potassium__measured_y",
         "rawType": "float64",
         "type": "float"
        },
        {
         "name": "iron__measured",
         "rawType": "float64",
         "type": "float"
        },
        {
         "name": "transferrin__measured",
         "rawType": "float64",
         "type": "float"
        },
        {
         "name": "iron binding capacity, total__measured",
         "rawType": "float64",
         "type": "float"
        },
        {
         "name": "urea nitrogen, urine__measured",
         "rawType": "float64",
         "type": "float"
        },
        {
         "name": "ferritin__measured",
         "rawType": "float64",
         "type": "float"
        },
        {
         "name": "phenytoin__measured",
         "rawType": "float64",
         "type": "float"
        },
        {
         "name": "o2 flow__measured_y",
         "rawType": "float64",
         "type": "float"
        },
        {
         "name": "ketone__measured",
         "rawType": "float64",
         "type": "float"
        },
        {
         "name": "potassium, urine__measured",
         "rawType": "float64",
         "type": "float"
        },
        {
         "name": "vancomycin__measured",
         "rawType": "float64",
         "type": "float"
        },
        {
         "name": "chloride, urine__measured",
         "rawType": "float64",
         "type": "float"
        },
        {
         "name": "osmolality, measured__measured",
         "rawType": "float64",
         "type": "float"
        },
        {
         "name": "polys__measured_y",
         "rawType": "float64",
         "type": "float"
        },
        {
         "name": "vitamin b12__measured",
         "rawType": "float64",
         "type": "float"
        },
        {
         "name": "cortisol__measured_y",
         "rawType": "float64",
         "type": "float"
        },
        {
         "name": "haptoglobin__measured",
         "rawType": "float64",
         "type": "float"
        },
        {
         "name": "hyaline casts__measured",
         "rawType": "float64",
         "type": "float"
        },
        {
         "name": "reticulocyte count, automated__measured",
         "rawType": "float64",
         "type": "float"
        },
        {
         "name": "calculated bicarbonate, whole blood__measured",
         "rawType": "float64",
         "type": "float"
        },
        {
         "name": "folate__measured",
         "rawType": "float64",
         "type": "float"
        },
        {
         "name": "uric acid__measured_y",
         "rawType": "float64",
         "type": "float"
        },
        {
         "name": "rdw__measured",
         "rawType": "float64",
         "type": "float"
        },
        {
         "name": "red blood cells__measured",
         "rawType": "float64",
         "type": "float"
        },
        {
         "name": "mch__measured",
         "rawType": "float64",
         "type": "float"
        },
        {
         "name": "mcv__measured",
         "rawType": "float64",
         "type": "float"
        },
        {
         "name": "mchc__measured",
         "rawType": "float64",
         "type": "float"
        },
        {
         "name": "white blood cells__measured",
         "rawType": "float64",
         "type": "float"
        },
        {
         "name": "troponin i__measured",
         "rawType": "float64",
         "type": "float"
        },
        {
         "name": "sedimentation rate__measured",
         "rawType": "float64",
         "type": "float"
        },
        {
         "name": "hemoglobin__measured_y",
         "rawType": "float64",
         "type": "float"
        },
        {
         "name": "platelet count__measured_y",
         "rawType": "float64",
         "type": "float"
        },
        {
         "name": "protein, total__measured",
         "rawType": "float64",
         "type": "float"
        },
        {
         "name": "total protein, urine__measured",
         "rawType": "float64",
         "type": "float"
        },
        {
         "name": "thyroxine (t4), free__measured",
         "rawType": "float64",
         "type": "float"
        },
        {
         "name": "digoxin__measured_y",
         "rawType": "float64",
         "type": "float"
        },
        {
         "name": "protein/creatinine ratio__measured",
         "rawType": "float64",
         "type": "float"
        },
        {
         "name": "hematocrit__measured_y",
         "rawType": "float64",
         "type": "float"
        },
        {
         "name": "ntprobnp__measured",
         "rawType": "float64",
         "type": "float"
        },
        {
         "name": "monos__measured_y",
         "rawType": "float64",
         "type": "float"
        },
        {
         "name": "c-reactive protein__measured",
         "rawType": "float64",
         "type": "float"
        },
        {
         "name": "macrophage__measured",
         "rawType": "float64",
         "type": "float"
        },
        {
         "name": "wbc, csf__measured",
         "rawType": "float64",
         "type": "float"
        },
        {
         "name": "lymphs__measured_y",
         "rawType": "float64",
         "type": "float"
        },
        {
         "name": "rbc, csf__measured",
         "rawType": "float64",
         "type": "float"
        },
        {
         "name": "total protein, csf__measured",
         "rawType": "float64",
         "type": "float"
        },
        {
         "name": "glucose, csf__measured",
         "rawType": "float64",
         "type": "float"
        },
        {
         "name": "d-dimer__measured_y",
         "rawType": "float64",
         "type": "float"
        },
        {
         "name": "granular casts__measured",
         "rawType": "float64",
         "type": "float"
        },
        {
         "name": "gentamicin__measured",
         "rawType": "float64",
         "type": "float"
        },
        {
         "name": "immunoglobulin g__measured",
         "rawType": "float64",
         "type": "float"
        },
        {
         "name": "ammonia__measured_y",
         "rawType": "float64",
         "type": "float"
        },
        {
         "name": "granulocyte count__measured",
         "rawType": "float64",
         "type": "float"
        },
        {
         "name": "thyroxine (t4)__measured",
         "rawType": "float64",
         "type": "float"
        },
        {
         "name": "wbc, ascites__measured",
         "rawType": "float64",
         "type": "float"
        },
        {
         "name": "rbc, ascites__measured",
         "rawType": "float64",
         "type": "float"
        },
        {
         "name": "globulin__measured",
         "rawType": "float64",
         "type": "float"
        },
        {
         "name": "carboxyhemoglobin__measured",
         "rawType": "float64",
         "type": "float"
        },
        {
         "name": "alpha-fetoprotein__measured",
         "rawType": "float64",
         "type": "float"
        },
        {
         "name": "immunoglobulin a__measured",
         "rawType": "float64",
         "type": "float"
        },
        {
         "name": "wbc, other fluid__measured",
         "rawType": "float64",
         "type": "float"
        },
        {
         "name": "immunoglobulin m__measured",
         "rawType": "float64",
         "type": "float"
        },
        {
         "name": "methemoglobin__measured",
         "rawType": "float64",
         "type": "float"
        },
        {
         "name": "wbc, pleural__measured",
         "rawType": "float64",
         "type": "float"
        },
        {
         "name": "total protein, pleural__measured",
         "rawType": "float64",
         "type": "float"
        },
        {
         "name": "lactate dehydrogenase, pleural__measured",
         "rawType": "float64",
         "type": "float"
        },
        {
         "name": "parathyroid hormone__measured",
         "rawType": "float64",
         "type": "float"
        },
        {
         "name": "rbc, pleural__measured",
         "rawType": "float64",
         "type": "float"
        },
        {
         "name": "glucose, pleural__measured",
         "rawType": "float64",
         "type": "float"
        },
        {
         "name": "rbc, other fluid__measured",
         "rawType": "float64",
         "type": "float"
        },
        {
         "name": "mesothelial cells__measured",
         "rawType": "float64",
         "type": "float"
        },
        {
         "name": "total protein, ascites__measured",
         "rawType": "float64",
         "type": "float"
        },
        {
         "name": "triiodothyronine (t3)__measured",
         "rawType": "float64",
         "type": "float"
        },
        {
         "name": "mesothelial cell__measured",
         "rawType": "float64",
         "type": "float"
        },
        {
         "name": "c4__measured",
         "rawType": "float64",
         "type": "float"
        },
        {
         "name": "cholesterol, ldl, measured__measured",
         "rawType": "float64",
         "type": "float"
        },
        {
         "name": "c3__measured",
         "rawType": "float64",
         "type": "float"
        },
        {
         "name": "carcinoembyronic antigen (cea)__measured",
         "rawType": "float64",
         "type": "float"
        },
        {
         "name": "tacrofk__measured",
         "rawType": "float64",
         "type": "float"
        },
        {
         "name": "promyelocytes__measured",
         "rawType": "float64",
         "type": "float"
        },
        {
         "name": "reticulocyte count, manual__measured",
         "rawType": "float64",
         "type": "float"
        },
        {
         "name": "gamma glutamyltransferase__measured",
         "rawType": "float64",
         "type": "float"
        },
        {
         "name": "lactate dehydrogenase, ascites__measured",
         "rawType": "float64",
         "type": "float"
        },
        {
         "name": "acetaminophen__measured",
         "rawType": "float64",
         "type": "float"
        },
        {
         "name": "glucose, ascites__measured",
         "rawType": "float64",
         "type": "float"
        },
        {
         "name": "phosphate, urine__measured",
         "rawType": "float64",
         "type": "float"
        },
        {
         "name": "total protein, body fluid__measured",
         "rawType": "float64",
         "type": "float"
        },
        {
         "name": "other cells__measured",
         "rawType": "float64",
         "type": "float"
        },
        {
         "name": "valproic acid__measured_y",
         "rawType": "float64",
         "type": "float"
        },
        {
         "name": "other__measured",
         "rawType": "float64",
         "type": "float"
        },
        {
         "name": "prostate specific antigen__measured",
         "rawType": "float64",
         "type": "float"
        },
        {
         "name": "lymphocytes, percent__measured",
         "rawType": "float64",
         "type": "float"
        },
        {
         "name": "wbc count__measured",
         "rawType": "float64",
         "type": "float"
        },
        {
         "name": "absolute lymphocyte count__measured",
         "rawType": "float64",
         "type": "float"
        },
        {
         "name": "cd4 cells, percent__measured",
         "rawType": "float64",
         "type": "float"
        },
        {
         "name": "absolute cd4 count__measured",
         "rawType": "float64",
         "type": "float"
        },
        {
         "name": "ld, body fluid__measured",
         "rawType": "float64",
         "type": "float"
        },
        {
         "name": "amylase, body fluid__measured",
         "rawType": "float64",
         "type": "float"
        },
        {
         "name": "glucose, body fluid__measured",
         "rawType": "float64",
         "type": "float"
        },
        {
         "name": "albumin, body fluid__measured",
         "rawType": "float64",
         "type": "float"
        },
        {
         "name": "macrophages__measured",
         "rawType": "float64",
         "type": "float"
        },
        {
         "name": "bacteria__measured",
         "rawType": "float64",
         "type": "float"
        },
        {
         "name": "blasts__measured",
         "rawType": "float64",
         "type": "float"
        },
        {
         "name": "homocysteine__measured",
         "rawType": "float64",
         "type": "float"
        },
        {
         "name": "rheumatoid factor__measured",
         "rawType": "float64",
         "type": "float"
        },
        {
         "name": "albumin, urine__measured",
         "rawType": "float64",
         "type": "float"
        },
        {
         "name": "albumin/creatinine, urine__measured",
         "rawType": "float64",
         "type": "float"
        },
        {
         "name": "cd3 cells, percent__measured",
         "rawType": "float64",
         "type": "float"
        },
        {
         "name": "cd4/cd8 ratio__measured",
         "rawType": "float64",
         "type": "float"
        },
        {
         "name": "absolute cd8 count__measured",
         "rawType": "float64",
         "type": "float"
        },
        {
         "name": "absolute cd3 count__measured",
         "rawType": "float64",
         "type": "float"
        },
        {
         "name": "cd8 cells, percent__measured",
         "rawType": "float64",
         "type": "float"
        },
        {
         "name": "calcium, urine__measured",
         "rawType": "float64",
         "type": "float"
        },
        {
         "name": "transitional epithelial cells__measured",
         "rawType": "float64",
         "type": "float"
        },
        {
         "name": "cyclosporin__measured_y",
         "rawType": "float64",
         "type": "float"
        },
        {
         "name": "anticardiolipin antibody igm__measured",
         "rawType": "float64",
         "type": "float"
        },
        {
         "name": "anticardiolipin antibody igg__measured",
         "rawType": "float64",
         "type": "float"
        },
        {
         "name": "other cell__measured",
         "rawType": "float64",
         "type": "float"
        },
        {
         "name": "albumin, pleural__measured",
         "rawType": "float64",
         "type": "float"
        },
        {
         "name": "amylase, ascites__measured",
         "rawType": "float64",
         "type": "float"
        },
        {
         "name": "ethanol__measured_y",
         "rawType": "float64",
         "type": "float"
        },
        {
         "name": "protein c, functional__measured",
         "rawType": "float64",
         "type": "float"
        },
        {
         "name": "amylase, pleural__measured",
         "rawType": "float64",
         "type": "float"
        },
        {
         "name": "lactate dehydrogenase, csf__measured",
         "rawType": "float64",
         "type": "float"
        },
        {
         "name": "uric acid, urine__measured",
         "rawType": "float64",
         "type": "float"
        },
        {
         "name": "lithium__measured",
         "rawType": "float64",
         "type": "float"
        },
        {
         "name": "urine volume__measured",
         "rawType": "float64",
         "type": "float"
        },
        {
         "name": "magnesium, urine__measured",
         "rawType": "float64",
         "type": "float"
        },
        {
         "name": "length of urine collection__measured",
         "rawType": "float64",
         "type": "float"
        },
        {
         "name": "albumin, ascites__measured",
         "rawType": "float64",
         "type": "float"
        },
        {
         "name": "bilirubin, total, ascites__measured",
         "rawType": "float64",
         "type": "float"
        },
        {
         "name": "antithrombin__measured",
         "rawType": "float64",
         "type": "float"
        },
        {
         "name": "phenobarbital__measured_y",
         "rawType": "float64",
         "type": "float"
        },
        {
         "name": "hematocrit, other fluid__measured",
         "rawType": "float64",
         "type": "float"
        },
        {
         "name": "carbamazepine__measured",
         "rawType": "float64",
         "type": "float"
        },
        {
         "name": "thrombin__measured_y",
         "rawType": "float64",
         "type": "float"
        },
        {
         "name": "wbc, joint fluid__measured",
         "rawType": "float64",
         "type": "float"
        },
        {
         "name": "ca-125__measured",
         "rawType": "float64",
         "type": "float"
        },
        {
         "name": "creatinine, ascites__measured",
         "rawType": "float64",
         "type": "float"
        },
        {
         "name": "factor viii__measured",
         "rawType": "float64",
         "type": "float"
        },
        {
         "name": "phenytoin, percent free__measured",
         "rawType": "float64",
         "type": "float"
        },
        {
         "name": "phenytoin, free__measured",
         "rawType": "float64",
         "type": "float"
        },
        {
         "name": "uptake ratio__measured",
         "rawType": "float64",
         "type": "float"
        },
        {
         "name": "calculated tbg__measured",
         "rawType": "float64",
         "type": "float"
        },
        {
         "name": "plasma cells__measured",
         "rawType": "float64",
         "type": "float"
        },
        {
         "name": "nrbc__measured",
         "rawType": "float64",
         "type": "float"
        },
        {
         "name": "calculated thyroxine (t4) index__measured",
         "rawType": "float64",
         "type": "float"
        },
        {
         "name": "rbc, joint fluid__measured",
         "rawType": "float64",
         "type": "float"
        },
        {
         "name": "protein s, functional__measured",
         "rawType": "float64",
         "type": "float"
        },
        {
         "name": "24 hr creatinine__measured",
         "rawType": "float64",
         "type": "float"
        },
        {
         "name": "tissue transglutaminase ab, iga__measured",
         "rawType": "float64",
         "type": "float"
        },
        {
         "name": "beta-2 microglobulin__measured",
         "rawType": "float64",
         "type": "float"
        },
        {
         "name": "creatinine, pleural__measured",
         "rawType": "float64",
         "type": "float"
        },
        {
         "name": "salicylate__measured_y",
         "rawType": "float64",
         "type": "float"
        },
        {
         "name": "cholesterol, pleural__measured",
         "rawType": "float64",
         "type": "float"
        },
        {
         "name": "prolactin__measured",
         "rawType": "float64",
         "type": "float"
        },
        {
         "name": "quantitative g6pd__measured",
         "rawType": "float64",
         "type": "float"
        },
        {
         "name": "rapamycin__measured",
         "rawType": "float64",
         "type": "float"
        },
        {
         "name": "hypersegmented neutrophils__measured",
         "rawType": "float64",
         "type": "float"
        },
        {
         "name": "cellular cast__measured",
         "rawType": "float64",
         "type": "float"
        },
        {
         "name": "hematocrit, ascites__measured",
         "rawType": "float64",
         "type": "float"
        },
        {
         "name": "hematocrit, pleural__measured",
         "rawType": "float64",
         "type": "float"
        },
        {
         "name": "theophylline__measured_y",
         "rawType": "float64",
         "type": "float"
        },
        {
         "name": "renal epithelial cells__measured",
         "rawType": "float64",
         "type": "float"
        },
        {
         "name": "bilirubin, total, body fluid__measured",
         "rawType": "float64",
         "type": "float"
        },
        {
         "name": "triglycerides, pleural__measured",
         "rawType": "float64",
         "type": "float"
        },
        {
         "name": "24 hr protein__measured",
         "rawType": "float64",
         "type": "float"
        },
        {
         "name": "hemogloblin a__measured",
         "rawType": "float64",
         "type": "float"
        },
        {
         "name": "hemogloblin s__measured",
         "rawType": "float64",
         "type": "float"
        },
        {
         "name": "hemoglobin c__measured",
         "rawType": "float64",
         "type": "float"
        },
        {
         "name": "creatinine, body fluid__measured",
         "rawType": "float64",
         "type": "float"
        },
        {
         "name": "follicle stimulating hormone__measured",
         "rawType": "float64",
         "type": "float"
        },
        {
         "name": "gastrin__measured",
         "rawType": "float64",
         "type": "float"
        },
        {
         "name": "heparin, lmw__measured",
         "rawType": "float64",
         "type": "float"
        },
        {
         "name": "yeast__measured",
         "rawType": "float64",
         "type": "float"
        },
        {
         "name": "human chorionic gonadotropin__measured",
         "rawType": "float64",
         "type": "float"
        },
        {
         "name": "bicarbonate, urine__measured",
         "rawType": "float64",
         "type": "float"
        },
        {
         "name": "eosinophil count__measured",
         "rawType": "float64",
         "type": "float"
        },
        {
         "name": "triglycerides, ascites__measured",
         "rawType": "float64",
         "type": "float"
        },
        {
         "name": "von willebrand factor activity__measured",
         "rawType": "float64",
         "type": "float"
        },
        {
         "name": "hematocrit, joint fluid__measured",
         "rawType": "float64",
         "type": "float"
        },
        {
         "name": "wbc casts__measured",
         "rawType": "float64",
         "type": "float"
        },
        {
         "name": "protein s, antigen__measured",
         "rawType": "float64",
         "type": "float"
        },
        {
         "name": "urine casts, other__measured",
         "rawType": "float64",
         "type": "float"
        },
        {
         "name": "25-oh vitamin d__measured",
         "rawType": "float64",
         "type": "float"
        },
        {
         "name": "luteinizing hormone__measured",
         "rawType": "float64",
         "type": "float"
        },
        {
         "name": "glucose, urine__measured",
         "rawType": "float64",
         "type": "float"
        },
        {
         "name": "serum viscosity__measured",
         "rawType": "float64",
         "type": "float"
        },
        {
         "name": "tobramycin__measured",
         "rawType": "float64",
         "type": "float"
        },
        {
         "name": "von willebrand factor antigen__measured",
         "rawType": "float64",
         "type": "float"
        },
        {
         "name": "amylase/creatinine ratio, urine__measured",
         "rawType": "float64",
         "type": "float"
        },
        {
         "name": "amylase, urine__measured",
         "rawType": "float64",
         "type": "float"
        },
        {
         "name": "hemoglobin a2__measured",
         "rawType": "float64",
         "type": "float"
        },
        {
         "name": "protein c, antigen__measured",
         "rawType": "float64",
         "type": "float"
        },
        {
         "name": "factor xi__measured",
         "rawType": "float64",
         "type": "float"
        },
        {
         "name": "bilirubin, total, pleural__measured",
         "rawType": "float64",
         "type": "float"
        },
        {
         "name": "bleeding time__measured_y",
         "rawType": "float64",
         "type": "float"
        },
        {
         "name": "heparin__measured_y",
         "rawType": "float64",
         "type": "float"
        },
        {
         "name": "rbc casts__measured",
         "rawType": "float64",
         "type": "float"
        },
        {
         "name": "testosterone__measured",
         "rawType": "float64",
         "type": "float"
        },
        {
         "name": "thyroid peroxidase antibodies__measured",
         "rawType": "float64",
         "type": "float"
        },
        {
         "name": "factor v__measured",
         "rawType": "float64",
         "type": "float"
        },
        {
         "name": "factor ix__measured",
         "rawType": "float64",
         "type": "float"
        },
        {
         "name": "cancer antigen 27.29__measured",
         "rawType": "float64",
         "type": "float"
        },
        {
         "name": "urea nitrogen, body fluid__measured",
         "rawType": "float64",
         "type": "float"
        },
        {
         "name": "nucleated rbc__measured",
         "rawType": "float64",
         "type": "float"
        },
        {
         "name": "<albumin>__measured",
         "rawType": "float64",
         "type": "float"
        },
        {
         "name": "factor x__measured",
         "rawType": "float64",
         "type": "float"
        },
        {
         "name": "plasma__measured",
         "rawType": "float64",
         "type": "float"
        },
        {
         "name": "creatinine, serum__measured",
         "rawType": "float64",
         "type": "float"
        },
        {
         "name": "nonsquamous epithelial cell__measured",
         "rawType": "float64",
         "type": "float"
        },
        {
         "name": "young cells__measured",
         "rawType": "float64",
         "type": "float"
        },
        {
         "name": "fetal hemoglobin__measured",
         "rawType": "float64",
         "type": "float"
        },
        {
         "name": "total collection time__measured",
         "rawType": "float64",
         "type": "float"
        },
        {
         "name": "creatinine clearance__measured",
         "rawType": "float64",
         "type": "float"
        },
        {
         "name": "urine volume, total__measured",
         "rawType": "float64",
         "type": "float"
        },
        {
         "name": "urine creatinine__measured",
         "rawType": "float64",
         "type": "float"
        },
        {
         "name": "leukocyte alkaline phosphatase__measured",
         "rawType": "float64",
         "type": "float"
        },
        {
         "name": "sodium, stool__measured",
         "rawType": "float64",
         "type": "float"
        },
        {
         "name": "thyroglobulin__measured",
         "rawType": "float64",
         "type": "float"
        },
        {
         "name": "pco2, body fluid__measured",
         "rawType": "float64",
         "type": "float"
        },
        {
         "name": "factor ii__measured",
         "rawType": "float64",
         "type": "float"
        },
        {
         "name": "glucose, joint fluid__measured",
         "rawType": "float64",
         "type": "float"
        },
        {
         "name": "cd19__measured",
         "rawType": "float64",
         "type": "float"
        },
        {
         "name": "procainamide__measured",
         "rawType": "float64",
         "type": "float"
        },
        {
         "name": "broad casts__measured",
         "rawType": "float64",
         "type": "float"
        },
        {
         "name": "potassium, body fluid__measured",
         "rawType": "float64",
         "type": "float"
        },
        {
         "name": "potassium, stool__measured",
         "rawType": "float64",
         "type": "float"
        },
        {
         "name": "hematocrit, csf__measured",
         "rawType": "float64",
         "type": "float"
        },
        {
         "name": "cd3__measured",
         "rawType": "float64",
         "type": "float"
        },
        {
         "name": "anti-dgp (iga/igg)__measured",
         "rawType": "float64",
         "type": "float"
        },
        {
         "name": "n-acetylprocainamide (napa)__measured",
         "rawType": "float64",
         "type": "float"
        },
        {
         "name": "osmolality, stool__measured",
         "rawType": "float64",
         "type": "float"
        },
        {
         "name": "hemoglobin f__measured",
         "rawType": "float64",
         "type": "float"
        },
        {
         "name": "triglycer__measured",
         "rawType": "float64",
         "type": "float"
        },
        {
         "name": "waxy casts__measured",
         "rawType": "float64",
         "type": "float"
        },
        {
         "name": "cholesterol, body fluid__measured",
         "rawType": "float64",
         "type": "float"
        },
        {
         "name": "lipase, ascites__measured",
         "rawType": "float64",
         "type": "float"
        },
        {
         "name": "anti-thyroglobulin antibodies__measured",
         "rawType": "float64",
         "type": "float"
        },
        {
         "name": "cd5__measured",
         "rawType": "float64",
         "type": "float"
        },
        {
         "name": "total protein, joint fluid__measured",
         "rawType": "float64",
         "type": "float"
        },
        {
         "name": "urine mucous__measured",
         "rawType": "float64",
         "type": "float"
        },
        {
         "name": "cd34__measured",
         "rawType": "float64",
         "type": "float"
        },
        {
         "name": "chloride, body fluid__measured",
         "rawType": "float64",
         "type": "float"
        },
        {
         "name": "quinidine__measured",
         "rawType": "float64",
         "type": "float"
        },
        {
         "name": "bicarbonate, other fluid__measured",
         "rawType": "float64",
         "type": "float"
        },
        {
         "name": "estradiol__measured",
         "rawType": "float64",
         "type": "float"
        },
        {
         "name": "chloride, stool__measured",
         "rawType": "float64",
         "type": "float"
        },
        {
         "name": "h__measured",
         "rawType": "float64",
         "type": "float"
        },
        {
         "name": "factor vii__measured",
         "rawType": "float64",
         "type": "float"
        },
        {
         "name": "testosterone, free__measured",
         "rawType": "float64",
         "type": "float"
        },
        {
         "name": "bilirubin, total, csf__measured",
         "rawType": "float64",
         "type": "float"
        },
        {
         "name": "platelet clumps__measured",
         "rawType": "float64",
         "type": "float"
        },
        {
         "name": "lipase, body fluid__measured",
         "rawType": "float64",
         "type": "float"
        },
        {
         "name": "hypochromia__measured",
         "rawType": "float64",
         "type": "float"
        },
        {
         "name": "reducing substances, urine__measured",
         "rawType": "float64",
         "type": "float"
        },
        {
         "name": "non-squamous epithelial cells__measured",
         "rawType": "float64",
         "type": "float"
        },
        {
         "name": "sodium, body fluid__measured",
         "rawType": "float64",
         "type": "float"
        },
        {
         "name": "urine crystals, other__measured",
         "rawType": "float64",
         "type": "float"
        },
        {
         "name": "hematocrit__min_y",
         "rawType": "float64",
         "type": "float"
        },
        {
         "name": "hematocrit__last_y",
         "rawType": "float64",
         "type": "float"
        },
        {
         "name": "hematocrit__mean_y",
         "rawType": "float64",
         "type": "float"
        },
        {
         "name": "hematocrit__max_y",
         "rawType": "float64",
         "type": "float"
        },
        {
         "name": "hematocrit__range_y",
         "rawType": "float64",
         "type": "float"
        },
        {
         "name": "hematocrit__count_y",
         "rawType": "float64",
         "type": "float"
        },
        {
         "name": "platelet count__max_y",
         "rawType": "float64",
         "type": "float"
        },
        {
         "name": "platelet count__last_y",
         "rawType": "float64",
         "type": "float"
        },
        {
         "name": "platelet count__mean_y",
         "rawType": "float64",
         "type": "float"
        },
        {
         "name": "platelet count__min_y",
         "rawType": "float64",
         "type": "float"
        },
        {
         "name": "platelet count__range_y",
         "rawType": "float64",
         "type": "float"
        },
        {
         "name": "platelet count__count_y",
         "rawType": "float64",
         "type": "float"
        },
        {
         "name": "hemoglobin__min_y",
         "rawType": "float64",
         "type": "float"
        },
        {
         "name": "hemoglobin__count_y",
         "rawType": "float64",
         "type": "float"
        },
        {
         "name": "hemoglobin__last_y",
         "rawType": "float64",
         "type": "float"
        },
        {
         "name": "hemoglobin__max_y",
         "rawType": "float64",
         "type": "float"
        },
        {
         "name": "hemoglobin__mean_y",
         "rawType": "float64",
         "type": "float"
        },
        {
         "name": "hemoglobin__range_y",
         "rawType": "float64",
         "type": "float"
        },
        {
         "name": "white blood cells__max",
         "rawType": "float64",
         "type": "float"
        },
        {
         "name": "white blood cells__mean",
         "rawType": "float64",
         "type": "float"
        },
        {
         "name": "white blood cells__last",
         "rawType": "float64",
         "type": "float"
        },
        {
         "name": "white blood cells__min",
         "rawType": "float64",
         "type": "float"
        },
        {
         "name": "white blood cells__range",
         "rawType": "float64",
         "type": "float"
        },
        {
         "name": "white blood cells__count",
         "rawType": "float64",
         "type": "float"
        },
        {
         "name": "mchc__count",
         "rawType": "float64",
         "type": "float"
        },
        {
         "name": "mchc__max",
         "rawType": "float64",
         "type": "float"
        },
        {
         "name": "mchc__last",
         "rawType": "float64",
         "type": "float"
        },
        {
         "name": "mchc__min",
         "rawType": "float64",
         "type": "float"
        },
        {
         "name": "mchc__mean",
         "rawType": "float64",
         "type": "float"
        },
        {
         "name": "mchc__range",
         "rawType": "float64",
         "type": "float"
        },
        {
         "name": "mcv__min",
         "rawType": "float64",
         "type": "float"
        },
        {
         "name": "mcv__mean",
         "rawType": "float64",
         "type": "float"
        },
        {
         "name": "mcv__last",
         "rawType": "float64",
         "type": "float"
        },
        {
         "name": "mcv__max",
         "rawType": "float64",
         "type": "float"
        },
        {
         "name": "mch__min",
         "rawType": "float64",
         "type": "float"
        },
        {
         "name": "mch__mean",
         "rawType": "float64",
         "type": "float"
        },
        {
         "name": "mch__last",
         "rawType": "float64",
         "type": "float"
        },
        {
         "name": "mch__max",
         "rawType": "float64",
         "type": "float"
        },
        {
         "name": "mcv__range",
         "rawType": "float64",
         "type": "float"
        },
        {
         "name": "mcv__count",
         "rawType": "float64",
         "type": "float"
        },
        {
         "name": "red blood cells__count",
         "rawType": "float64",
         "type": "float"
        },
        {
         "name": "mch__count",
         "rawType": "float64",
         "type": "float"
        },
        {
         "name": "red blood cells__min",
         "rawType": "float64",
         "type": "float"
        },
        {
         "name": "mch__range",
         "rawType": "float64",
         "type": "float"
        },
        {
         "name": "red blood cells__last",
         "rawType": "float64",
         "type": "float"
        },
        {
         "name": "red blood cells__mean",
         "rawType": "float64",
         "type": "float"
        },
        {
         "name": "red blood cells__max",
         "rawType": "float64",
         "type": "float"
        },
        {
         "name": "red blood cells__range",
         "rawType": "float64",
         "type": "float"
        },
        {
         "name": "rdw__max",
         "rawType": "float64",
         "type": "float"
        },
        {
         "name": "rdw__last",
         "rawType": "float64",
         "type": "float"
        },
        {
         "name": "rdw__mean",
         "rawType": "float64",
         "type": "float"
        },
        {
         "name": "rdw__min",
         "rawType": "float64",
         "type": "float"
        },
        {
         "name": "rdw__count",
         "rawType": "float64",
         "type": "float"
        },
        {
         "name": "rdw__range",
         "rawType": "float64",
         "type": "float"
        },
        {
         "name": "peak insp. pressure__mean",
         "rawType": "float64",
         "type": "float"
        },
        {
         "name": "potassium__count_y",
         "rawType": "float64",
         "type": "float"
        },
        {
         "name": "potassium__max_y",
         "rawType": "float64",
         "type": "float"
        },
        {
         "name": "potassium__range_y",
         "rawType": "float64",
         "type": "float"
        },
        {
         "name": "potassium__mean_y",
         "rawType": "float64",
         "type": "float"
        },
        {
         "name": "potassium__min_y",
         "rawType": "float64",
         "type": "float"
        },
        {
         "name": "potassium__last_y",
         "rawType": "float64",
         "type": "float"
        },
        {
         "name": "chloride__max_y",
         "rawType": "float64",
         "type": "float"
        },
        {
         "name": "chloride__min_y",
         "rawType": "float64",
         "type": "float"
        },
        {
         "name": "chloride__last_y",
         "rawType": "float64",
         "type": "float"
        },
        {
         "name": "chloride__mean_y",
         "rawType": "float64",
         "type": "float"
        },
        {
         "name": "chloride__range_y",
         "rawType": "float64",
         "type": "float"
        },
        {
         "name": "chloride__count_y",
         "rawType": "float64",
         "type": "float"
        },
        {
         "name": "sodium__min_y",
         "rawType": "float64",
         "type": "float"
        },
        {
         "name": "sodium__max_y",
         "rawType": "float64",
         "type": "float"
        },
        {
         "name": "sodium__last_y",
         "rawType": "float64",
         "type": "float"
        },
        {
         "name": "sodium__mean_y",
         "rawType": "float64",
         "type": "float"
        },
        {
         "name": "sodium__range_y",
         "rawType": "float64",
         "type": "float"
        },
        {
         "name": "sodium__count_y",
         "rawType": "float64",
         "type": "float"
        },
        {
         "name": "bicarbonate__min",
         "rawType": "float64",
         "type": "float"
        },
        {
         "name": "bicarbonate__last",
         "rawType": "float64",
         "type": "float"
        },
        {
         "name": "bicarbonate__max",
         "rawType": "float64",
         "type": "float"
        },
        {
         "name": "bicarbonate__mean",
         "rawType": "float64",
         "type": "float"
        },
        {
         "name": "bicarbonate__range",
         "rawType": "float64",
         "type": "float"
        },
        {
         "name": "bicarbonate__count",
         "rawType": "float64",
         "type": "float"
        },
        {
         "name": "anion gap__max_y",
         "rawType": "float64",
         "type": "float"
        },
        {
         "name": "anion gap__last_y",
         "rawType": "float64",
         "type": "float"
        },
        {
         "name": "anion gap__min_y",
         "rawType": "float64",
         "type": "float"
        },
        {
         "name": "anion gap__mean_y",
         "rawType": "float64",
         "type": "float"
        },
        {
         "name": "anion gap__range_y",
         "rawType": "float64",
         "type": "float"
        },
        {
         "name": "anion gap__count_y",
         "rawType": "float64",
         "type": "float"
        },
        {
         "name": "prothrombin time__range",
         "rawType": "float64",
         "type": "float"
        },
        {
         "name": "prothrombin time__max",
         "rawType": "float64",
         "type": "float"
        },
        {
         "name": "potassium (3.5-5.3)__measured",
         "rawType": "float64",
         "type": "float"
        },
        {
         "name": "hematocrit__measured_x",
         "rawType": "float64",
         "type": "float"
        },
        {
         "name": "glucose (70-105)__measured",
         "rawType": "float64",
         "type": "float"
        },
        {
         "name": "sodium (135-148)__measured",
         "rawType": "float64",
         "type": "float"
        },
        {
         "name": "spo2__measured",
         "rawType": "float64",
         "type": "float"
        },
        {
         "name": "creatinine (0-1.3)__measured",
         "rawType": "float64",
         "type": "float"
        },
        {
         "name": "calprevflg__measured",
         "rawType": "float64",
         "type": "float"
        },
        {
         "name": "bun (6-20)__measured",
         "rawType": "float64",
         "type": "float"
        },
        {
         "name": "platelets__measured",
         "rawType": "float64",
         "type": "float"
        },
        {
         "name": "eye opening__measured",
         "rawType": "float64",
         "type": "float"
        },
        {
         "name": "verbal response__measured",
         "rawType": "float64",
         "type": "float"
        },
        {
         "name": "motor response__measured",
         "rawType": "float64",
         "type": "float"
        },
        {
         "name": "gcs total__measured",
         "rawType": "float64",
         "type": "float"
        },
        {
         "name": "chloride (100-112)__measured",
         "rawType": "float64",
         "type": "float"
        },
        {
         "name": "carbon dioxide__measured",
         "rawType": "float64",
         "type": "float"
        },
        {
         "name": "wbc (4-11,000)__measured",
         "rawType": "float64",
         "type": "float"
        },
        {
         "name": "rbc__measured_x",
         "rawType": "float64",
         "type": "float"
        },
        {
         "name": "arterial base excess__measured",
         "rawType": "float64",
         "type": "float"
        },
        {
         "name": "braden score__measured",
         "rawType": "float64",
         "type": "float"
        },
        {
         "name": "magnesium (1.6-2.6)__measured",
         "rawType": "float64",
         "type": "float"
        },
        {
         "name": "wbc   (4-11,000)__measured",
         "rawType": "float64",
         "type": "float"
        },
        {
         "name": "temperature f__measured",
         "rawType": "float64",
         "type": "float"
        },
        {
         "name": "temperature c (calc)__measured",
         "rawType": "float64",
         "type": "float"
        },
        {
         "name": "daily weight__measured",
         "rawType": "float64",
         "type": "float"
        },
        {
         "name": "nbp [systolic]__measured",
         "rawType": "float64",
         "type": "float"
        },
        {
         "name": "nbp [diastolic]__measured",
         "rawType": "float64",
         "type": "float"
        },
        {
         "name": "nbp mean__measured",
         "rawType": "float64",
         "type": "float"
        },
        {
         "name": "hr alarm [high]__measured",
         "rawType": "float64",
         "type": "float"
        },
        {
         "name": "hr alarm [low]__measured",
         "rawType": "float64",
         "type": "float"
        },
        {
         "name": "inr (2-4 ref. range)__measured",
         "rawType": "float64",
         "type": "float"
        },
        {
         "name": "pt(11-13.5)__measured",
         "rawType": "float64",
         "type": "float"
        },
        {
         "name": "ptt(22-35)__measured",
         "rawType": "float64",
         "type": "float"
        },
        {
         "name": "phosphorous(2.7-4.5)__measured",
         "rawType": "float64",
         "type": "float"
        },
        {
         "name": "calcium (8.4-10.2)__measured",
         "rawType": "float64",
         "type": "float"
        },
        {
         "name": "ptt__measured_x",
         "rawType": "float64",
         "type": "float"
        },
        {
         "name": "inr__measured",
         "rawType": "float64",
         "type": "float"
        },
        {
         "name": "peep set__measured",
         "rawType": "float64",
         "type": "float"
        },
        {
         "name": "mean airway pressure__measured",
         "rawType": "float64",
         "type": "float"
        },
        {
         "name": "religion__measured",
         "rawType": "float64",
         "type": "float"
        },
        {
         "name": "ionized calcium__measured",
         "rawType": "float64",
         "type": "float"
        },
        {
         "name": "peak insp. pressure__measured",
         "rawType": "float64",
         "type": "float"
        },
        {
         "name": "chloride (serum)__measured",
         "rawType": "float64",
         "type": "float"
        },
        {
         "name": "hematocrit (serum)__measured",
         "rawType": "float64",
         "type": "float"
        },
        {
         "name": "hco3 (serum)__measured",
         "rawType": "float64",
         "type": "float"
        },
        {
         "name": "platelet count__measured_x",
         "rawType": "float64",
         "type": "float"
        },
        {
         "name": "sodium (serum)__measured",
         "rawType": "float64",
         "type": "float"
        },
        {
         "name": "potassium (serum)__measured",
         "rawType": "float64",
         "type": "float"
        },
        {
         "name": "anion gap__measured_x",
         "rawType": "float64",
         "type": "float"
        },
        {
         "name": "glucose (serum)__measured",
         "rawType": "float64",
         "type": "float"
        },
        {
         "name": "phosphorous__measured",
         "rawType": "float64",
         "type": "float"
        },
        {
         "name": "tidal volume (set)__measured",
         "rawType": "float64",
         "type": "float"
        },
        {
         "name": "language__measured",
         "rawType": "float64",
         "type": "float"
        },
        {
         "name": "potassium__measured_x",
         "rawType": "float64",
         "type": "float"
        },
        {
         "name": "glucose__measured_x",
         "rawType": "float64",
         "type": "float"
        },
        {
         "name": "sodium__measured_x",
         "rawType": "float64",
         "type": "float"
        },
        {
         "name": "chloride__measured_x",
         "rawType": "float64",
         "type": "float"
        },
        {
         "name": "plateau pressure__measured",
         "rawType": "float64",
         "type": "float"
        },
        {
         "name": "lactic acid__measured",
         "rawType": "float64",
         "type": "float"
        },
        {
         "name": "marital status__measured",
         "rawType": "float64",
         "type": "float"
        },
        {
         "name": "o2 flow (lpm)__measured",
         "rawType": "float64",
         "type": "float"
        },
        {
         "name": "calcium non-ionized__measured",
         "rawType": "float64",
         "type": "float"
        },
        {
         "name": "o2 saturation pulseoxymetry__measured",
         "rawType": "float64",
         "type": "float"
        },
        {
         "name": "heart rate alarm - high__measured",
         "rawType": "float64",
         "type": "float"
        },
        {
         "name": "heart rate alarm - low__measured",
         "rawType": "float64",
         "type": "float"
        },
        {
         "name": "alarms on__measured",
         "rawType": "float64",
         "type": "float"
        },
        {
         "name": "o2 saturation pulseoxymetry alarm - low__measured",
         "rawType": "float64",
         "type": "float"
        },
        {
         "name": "o2 saturation pulseoxymetry alarm - high__measured",
         "rawType": "float64",
         "type": "float"
        },
        {
         "name": "resp alarm - high__measured",
         "rawType": "float64",
         "type": "float"
        },
        {
         "name": "resp alarm - low__measured",
         "rawType": "float64",
         "type": "float"
        },
        {
         "name": "parameters checked__measured",
         "rawType": "float64",
         "type": "float"
        },
        {
         "name": "gcs - eye opening__measured",
         "rawType": "float64",
         "type": "float"
        },
        {
         "name": "gcs - motor response__measured",
         "rawType": "float64",
         "type": "float"
        },
        {
         "name": "gcs - verbal response__measured",
         "rawType": "float64",
         "type": "float"
        },
        {
         "name": "braden mobility__measured",
         "rawType": "float64",
         "type": "float"
        },
        {
         "name": "braden moisture__measured",
         "rawType": "float64",
         "type": "float"
        },
        {
         "name": "braden sensory perception__measured",
         "rawType": "float64",
         "type": "float"
        },
        {
         "name": "braden activity__measured",
         "rawType": "float64",
         "type": "float"
        },
        {
         "name": "spo2 desat limit__measured",
         "rawType": "float64",
         "type": "float"
        },
        {
         "name": "braden nutrition__measured",
         "rawType": "float64",
         "type": "float"
        },
        {
         "name": "braden friction/shear__measured",
         "rawType": "float64",
         "type": "float"
        },
        {
         "name": "ambulatory aid__measured",
         "rawType": "float64",
         "type": "float"
        },
        {
         "name": "gait/transferring__measured",
         "rawType": "float64",
         "type": "float"
        },
        {
         "name": "iv/saline lock__measured",
         "rawType": "float64",
         "type": "float"
        },
        {
         "name": "secondary diagnosis__measured",
         "rawType": "float64",
         "type": "float"
        },
        {
         "name": "mental status__measured",
         "rawType": "float64",
         "type": "float"
        },
        {
         "name": "history of falling (within 3 mnths)__measured",
         "rawType": "float64",
         "type": "float"
        },
        {
         "name": "magnesium__measured_x",
         "rawType": "float64",
         "type": "float"
        },
        {
         "name": "admit wt__measured",
         "rawType": "float64",
         "type": "float"
        },
        {
         "name": "temperature fahrenheit__measured",
         "rawType": "float64",
         "type": "float"
        },
        {
         "name": "prothrombin time__measured",
         "rawType": "float64",
         "type": "float"
        },
        {
         "name": "non invasive blood pressure systolic__measured",
         "rawType": "float64",
         "type": "float"
        },
        {
         "name": "non invasive blood pressure diastolic__measured",
         "rawType": "float64",
         "type": "float"
        },
        {
         "name": "non invasive blood pressure mean__measured",
         "rawType": "float64",
         "type": "float"
        },
        {
         "name": "alt__measured",
         "rawType": "float64",
         "type": "float"
        },
        {
         "name": "ast__measured",
         "rawType": "float64",
         "type": "float"
        },
        {
         "name": "calcium__measured",
         "rawType": "float64",
         "type": "float"
        },
        {
         "name": "smoking cessation info offered through bidmc inpatient guide__measured",
         "rawType": "float64",
         "type": "float"
        },
        {
         "name": "pt__measured_x",
         "rawType": "float64",
         "type": "float"
        },
        {
         "name": "wbc__measured_x",
         "rawType": "float64",
         "type": "float"
        },
        {
         "name": "non-invasive blood pressure alarm - low__measured",
         "rawType": "float64",
         "type": "float"
        },
        {
         "name": "non-invasive blood pressure alarm - high__measured",
         "rawType": "float64",
         "type": "float"
        },
        {
         "name": "pain level__measured",
         "rawType": "float64",
         "type": "float"
        },
        {
         "name": "bun__measured",
         "rawType": "float64",
         "type": "float"
        },
        {
         "name": "creatinine__measured_x",
         "rawType": "float64",
         "type": "float"
        },
        {
         "name": "admission weight (kg)__measured",
         "rawType": "float64",
         "type": "float"
        },
        {
         "name": "arterial ph__measured",
         "rawType": "float64",
         "type": "float"
        },
        {
         "name": "sao2__measured",
         "rawType": "float64",
         "type": "float"
        },
        {
         "name": "arterial co2(calc)__measured",
         "rawType": "float64",
         "type": "float"
        },
        {
         "name": "arterial paco2__measured",
         "rawType": "float64",
         "type": "float"
        },
        {
         "name": "arterial pao2__measured",
         "rawType": "float64",
         "type": "float"
        },
        {
         "name": "previous weightf__measured",
         "rawType": "float64",
         "type": "float"
        },
        {
         "name": "spo2 alarm [low]__measured",
         "rawType": "float64",
         "type": "float"
        },
        {
         "name": "fingerstick glucose__measured",
         "rawType": "float64",
         "type": "float"
        },
        {
         "name": "spo2 alarm [high]__measured",
         "rawType": "float64",
         "type": "float"
        },
        {
         "name": "resp alarm [low]__measured",
         "rawType": "float64",
         "type": "float"
        },
        {
         "name": "resp alarm [high]__measured",
         "rawType": "float64",
         "type": "float"
        },
        {
         "name": "art.ph__measured",
         "rawType": "float64",
         "type": "float"
        },
        {
         "name": "arterial bp [diastolic]__measured",
         "rawType": "float64",
         "type": "float"
        },
        {
         "name": "arterial bp [systolic]__measured",
         "rawType": "float64",
         "type": "float"
        },
        {
         "name": "arterial bp mean__measured",
         "rawType": "float64",
         "type": "float"
        },
        {
         "name": "intravenous  / iv access prior to admission__measured",
         "rawType": "float64",
         "type": "float"
        },
        {
         "name": "admission weight (lbs.)__measured",
         "rawType": "float64",
         "type": "float"
        },
        {
         "name": "back care__measured",
         "rawType": "float64",
         "type": "float"
        },
        {
         "name": "skin care__measured",
         "rawType": "float64",
         "type": "float"
        },
        {
         "name": "fio2 set__measured",
         "rawType": "float64",
         "type": "float"
        },
        {
         "name": "pain level response__measured",
         "rawType": "float64",
         "type": "float"
        },
        {
         "name": "glucose finger stick__measured",
         "rawType": "float64",
         "type": "float"
        },
        {
         "name": "previous weight__measured",
         "rawType": "float64",
         "type": "float"
        },
        {
         "name": "nbp alarm [high]__measured",
         "rawType": "float64",
         "type": "float"
        },
        {
         "name": "nbp alarm [low]__measured",
         "rawType": "float64",
         "type": "float"
        },
        {
         "name": "differential-monos__measured",
         "rawType": "float64",
         "type": "float"
        },
        {
         "name": "differential-basos__measured",
         "rawType": "float64",
         "type": "float"
        },
        {
         "name": "differential-eos__measured",
         "rawType": "float64",
         "type": "float"
        },
        {
         "name": "differential-lymphs__measured",
         "rawType": "float64",
         "type": "float"
        },
        {
         "name": "resp rate (total)__measured",
         "rawType": "float64",
         "type": "float"
        },
        {
         "name": "o2 flow__measured_x",
         "rawType": "float64",
         "type": "float"
        },
        {
         "name": "minute volume(obser)__measured",
         "rawType": "float64",
         "type": "float"
        },
        {
         "name": "low exhaled min vol__measured",
         "rawType": "float64",
         "type": "float"
        },
        {
         "name": "high insp. pressure__measured",
         "rawType": "float64",
         "type": "float"
        },
        {
         "name": "sensitivity-vent__measured",
         "rawType": "float64",
         "type": "float"
        },
        {
         "name": "albumin__measured_x",
         "rawType": "float64",
         "type": "float"
        },
        {
         "name": "self adl__measured",
         "rawType": "float64",
         "type": "float"
        },
        {
         "name": "respiratory rate set__measured",
         "rawType": "float64",
         "type": "float"
        },
        {
         "name": "tidal volume (obser)__measured",
         "rawType": "float64",
         "type": "float"
        },
        {
         "name": "resp rate (spont)__measured",
         "rawType": "float64",
         "type": "float"
        },
        {
         "name": "compliance (40-60ml)__measured",
         "rawType": "float64",
         "type": "float"
        },
        {
         "name": "history of slips / falls__measured",
         "rawType": "float64",
         "type": "float"
        },
        {
         "name": "eye care__measured",
         "rawType": "float64",
         "type": "float"
        },
        {
         "name": "high resp. rate__measured",
         "rawType": "float64",
         "type": "float"
        },
        {
         "name": "pressure support__measured",
         "rawType": "float64",
         "type": "float"
        },
        {
         "name": "ldh__measured",
         "rawType": "float64",
         "type": "float"
        },
        {
         "name": "20 gauge dressing occlusive__measured",
         "rawType": "float64",
         "type": "float"
        },
        {
         "name": "20 gauge placed in outside facility__measured",
         "rawType": "float64",
         "type": "float"
        },
        {
         "name": "bed bath__measured",
         "rawType": "float64",
         "type": "float"
        },
        {
         "name": "18 gauge dressing occlusive__measured",
         "rawType": "float64",
         "type": "float"
        },
        {
         "name": "richmond-ras scale__measured",
         "rawType": "float64",
         "type": "float"
        },
        {
         "name": "etoh__measured",
         "rawType": "float64",
         "type": "float"
        },
        {
         "name": "18 gauge placed in outside facility__measured",
         "rawType": "float64",
         "type": "float"
        },
        {
         "name": "ph (arterial)__measured",
         "rawType": "float64",
         "type": "float"
        },
        {
         "name": "cpk__measured",
         "rawType": "float64",
         "type": "float"
        },
        {
         "name": "arterial co2 pressure__measured",
         "rawType": "float64",
         "type": "float"
        },
        {
         "name": "arterial o2 pressure__measured",
         "rawType": "float64",
         "type": "float"
        },
        {
         "name": "tco2 (calc) arterial__measured",
         "rawType": "float64",
         "type": "float"
        },
        {
         "name": "admit ht__measured",
         "rawType": "float64",
         "type": "float"
        },
        {
         "name": "bsa__measured",
         "rawType": "float64",
         "type": "float"
        },
        {
         "name": "difficulty swallowing__measured",
         "rawType": "float64",
         "type": "float"
        },
        {
         "name": "lactic acid(0.5-2.0)__measured",
         "rawType": "float64",
         "type": "float"
        },
        {
         "name": "visual / hearing deficit__measured",
         "rawType": "float64",
         "type": "float"
        },
        {
         "name": "total bili__measured",
         "rawType": "float64",
         "type": "float"
        },
        {
         "name": "hemoglobin__measured_x",
         "rawType": "float64",
         "type": "float"
        },
        {
         "name": "no wallet / money__measured",
         "rawType": "float64",
         "type": "float"
        },
        {
         "name": "dialysis patient__measured",
         "rawType": "float64",
         "type": "float"
        },
        {
         "name": "currently experiencing pain__measured",
         "rawType": "float64",
         "type": "float"
        },
        {
         "name": "cvp__measured",
         "rawType": "float64",
         "type": "float"
        },
        {
         "name": "weight change__measured",
         "rawType": "float64",
         "type": "float"
        },
        {
         "name": "inspired o2 fraction__measured",
         "rawType": "float64",
         "type": "float"
        },
        {
         "name": "recreational drug use__measured",
         "rawType": "float64",
         "type": "float"
        },
        {
         "name": "respiratory rate__measured",
         "rawType": "float64",
         "type": "float"
        },
        {
         "name": "is the spokesperson the health care proxy__measured",
         "rawType": "float64",
         "type": "float"
        },
        {
         "name": "inspiratory time__measured",
         "rawType": "float64",
         "type": "float"
        },
        {
         "name": "tidal volume (spont)__measured",
         "rawType": "float64",
         "type": "float"
        },
        {
         "name": "special diet__measured",
         "rawType": "float64",
         "type": "float"
        },
        {
         "name": "unintentional weight loss >10 lbs.__measured",
         "rawType": "float64",
         "type": "float"
        },
        {
         "name": "alk. phosphate__measured",
         "rawType": "float64",
         "type": "float"
        },
        {
         "name": "high risk (>51) interventions__measured",
         "rawType": "float64",
         "type": "float"
        },
        {
         "name": "any fear in relationships__measured",
         "rawType": "float64",
         "type": "float"
        },
        {
         "name": "social work consult__measured",
         "rawType": "float64",
         "type": "float"
        },
        {
         "name": "resp rate__measured",
         "rawType": "float64",
         "type": "float"
        },
        {
         "name": "albumin (>3.2)__measured",
         "rawType": "float64",
         "type": "float"
        },
        {
         "name": "total bilirubin__measured",
         "rawType": "float64",
         "type": "float"
        },
        {
         "name": "alkaline phosphate__measured",
         "rawType": "float64",
         "type": "float"
        },
        {
         "name": "bp cuff [diastolic]__measured",
         "rawType": "float64",
         "type": "float"
        },
        {
         "name": "bp cuff [systolic]__measured",
         "rawType": "float64",
         "type": "float"
        },
        {
         "name": "bp cuff [mean]__measured",
         "rawType": "float64",
         "type": "float"
        },
        {
         "name": "fibrinogen__measured",
         "rawType": "float64",
         "type": "float"
        },
        {
         "name": "apnea time interval__measured",
         "rawType": "float64",
         "type": "float"
        },
        {
         "name": "total bili (0-1.5)__measured",
         "rawType": "float64",
         "type": "float"
        },
        {
         "name": "ventilator mode__measured",
         "rawType": "float64",
         "type": "float"
        },
        {
         "name": "minute volume__measured",
         "rawType": "float64",
         "type": "float"
        },
        {
         "name": "minute volume alarm - low__measured",
         "rawType": "float64",
         "type": "float"
        },
        {
         "name": "minute volume alarm - high__measured",
         "rawType": "float64",
         "type": "float"
        },
        {
         "name": "tidal volume (observed)__measured",
         "rawType": "float64",
         "type": "float"
        },
        {
         "name": "apnea interval__measured",
         "rawType": "float64",
         "type": "float"
        },
        {
         "name": "paw high__measured",
         "rawType": "float64",
         "type": "float"
        },
        {
         "name": "arterial blood pressure alarm - low__measured",
         "rawType": "float64",
         "type": "float"
        },
        {
         "name": "arterial blood pressure alarm - high__measured",
         "rawType": "float64",
         "type": "float"
        },
        {
         "name": "abp alarm [low]__measured",
         "rawType": "float64",
         "type": "float"
        },
        {
         "name": "abp alarm [high]__measured",
         "rawType": "float64",
         "type": "float"
        },
        {
         "name": "ventilator type__measured",
         "rawType": "float64",
         "type": "float"
        },
        {
         "name": "vti high__measured",
         "rawType": "float64",
         "type": "float"
        },
        {
         "name": "height (cm)__measured",
         "rawType": "float64",
         "type": "float"
        },
        {
         "name": "height__measured",
         "rawType": "float64",
         "type": "float"
        },
        {
         "name": "arterial blood pressure mean__measured",
         "rawType": "float64",
         "type": "float"
        },
        {
         "name": "gender__measured",
         "rawType": "float64",
         "type": "float"
        },
        {
         "name": "fspn high__measured",
         "rawType": "float64",
         "type": "float"
        },
        {
         "name": "respiratory rate (spontaneous)__measured",
         "rawType": "float64",
         "type": "float"
        },
        {
         "name": "ck (cpk)__measured",
         "rawType": "float64",
         "type": "float"
        },
        {
         "name": "arterial blood pressure diastolic__measured",
         "rawType": "float64",
         "type": "float"
        },
        {
         "name": "arterial blood pressure systolic__measured",
         "rawType": "float64",
         "type": "float"
        },
        {
         "name": "cpk/mb__measured",
         "rawType": "float64",
         "type": "float"
        },
        {
         "name": "sexuality / reproductive problems__measured",
         "rawType": "float64",
         "type": "float"
        },
        {
         "name": "respiratory rate (total)__measured",
         "rawType": "float64",
         "type": "float"
        },
        {
         "name": "arterial line dressing occlusive__measured",
         "rawType": "float64",
         "type": "float"
        },
        {
         "name": "emotional / physical / sexual harm by partner or close relation__measured",
         "rawType": "float64",
         "type": "float"
        },
        {
         "name": "arterial line placed in outside facility__measured",
         "rawType": "float64",
         "type": "float"
        },
        {
         "name": "arterial line zero/calibrate__measured",
         "rawType": "float64",
         "type": "float"
        },
        {
         "name": "respiratory rate (set)__measured",
         "rawType": "float64",
         "type": "float"
        },
        {
         "name": "troponin-t__measured",
         "rawType": "float64",
         "type": "float"
        },
        {
         "name": "expiratory ratio__measured",
         "rawType": "float64",
         "type": "float"
        },
        {
         "name": "inspiratory ratio__measured",
         "rawType": "float64",
         "type": "float"
        },
        {
         "name": "cao2__measured",
         "rawType": "float64",
         "type": "float"
        },
        {
         "name": "ve high__measured",
         "rawType": "float64",
         "type": "float"
        },
        {
         "name": "amylase__measured_x",
         "rawType": "float64",
         "type": "float"
        },
        {
         "name": "hematocrit (35-51)__measured",
         "rawType": "float64",
         "type": "float"
        },
        {
         "name": "differential-neuts__measured",
         "rawType": "float64",
         "type": "float"
        },
        {
         "name": "hgb  (10.8-15.8)__measured",
         "rawType": "float64",
         "type": "float"
        },
        {
         "name": "red blood c(3.6-6.2)__measured",
         "rawType": "float64",
         "type": "float"
        },
        {
         "name": "20 gauge placed in the field__measured",
         "rawType": "float64",
         "type": "float"
        },
        {
         "name": "platelet  (150-440)__measured",
         "rawType": "float64",
         "type": "float"
        },
        {
         "name": "glucometer__measured",
         "rawType": "float64",
         "type": "float"
        },
        {
         "name": "temp/iso/warmer [temperature, degrees c]__measured",
         "rawType": "float64",
         "type": "float"
        },
        {
         "name": "rbc(3.6-6.2)__measured",
         "rawType": "float64",
         "type": "float"
        },
        {
         "name": "ph (dipstick)__measured",
         "rawType": "float64",
         "type": "float"
        },
        {
         "name": "glucose (whole blood)__measured",
         "rawType": "float64",
         "type": "float"
        },
        {
         "name": "differential-polys__measured",
         "rawType": "float64",
         "type": "float"
        },
        {
         "name": "subglottal suctioning__measured",
         "rawType": "float64",
         "type": "float"
        },
        {
         "name": "temp axillary [f]__measured",
         "rawType": "float64",
         "type": "float"
        },
        {
         "name": "18 gauge placed in the field__measured",
         "rawType": "float64",
         "type": "float"
        },
        {
         "name": "riker-sas scale__measured",
         "rawType": "float64",
         "type": "float"
        },
        {
         "name": "specific gravity (urine)__measured",
         "rawType": "float64",
         "type": "float"
        },
        {
         "name": "whitebloodc 4.0-11.0__measured",
         "rawType": "float64",
         "type": "float"
        },
        {
         "name": "ventilator tank #2__measured",
         "rawType": "float64",
         "type": "float"
        },
        {
         "name": "ventilator tank #1__measured",
         "rawType": "float64",
         "type": "float"
        },
        {
         "name": "insulin pump__measured",
         "rawType": "float64",
         "type": "float"
        },
        {
         "name": "tank a psi.__measured",
         "rawType": "float64",
         "type": "float"
        },
        {
         "name": "ck-mb__measured",
         "rawType": "float64",
         "type": "float"
        },
        {
         "name": "tank b psi.__measured",
         "rawType": "float64",
         "type": "float"
        },
        {
         "name": "tidal volume (spontaneous)__measured",
         "rawType": "float64",
         "type": "float"
        },
        {
         "name": "psv level__measured",
         "rawType": "float64",
         "type": "float"
        },
        {
         "name": "wbc 4.0-11.0__measured",
         "rawType": "float64",
         "type": "float"
        },
        {
         "name": "potassium (whole blood)__measured",
         "rawType": "float64",
         "type": "float"
        },
        {
         "name": "temp rectal [f]__measured",
         "rawType": "float64",
         "type": "float"
        },
        {
         "name": "sao2 alarm [high]__measured",
         "rawType": "float64",
         "type": "float"
        },
        {
         "name": "sao2 alarm [low]__measured",
         "rawType": "float64",
         "type": "float"
        },
        {
         "name": "differential-bands__measured",
         "rawType": "float64",
         "type": "float"
        },
        {
         "name": "temp skin [c]__measured",
         "rawType": "float64",
         "type": "float"
        },
        {
         "name": "eosinophils__measured_x",
         "rawType": "float64",
         "type": "float"
        },
        {
         "name": "basos__measured",
         "rawType": "float64",
         "type": "float"
        },
        {
         "name": "monos__measured_x",
         "rawType": "float64",
         "type": "float"
        },
        {
         "name": "neuts__measured",
         "rawType": "float64",
         "type": "float"
        },
        {
         "name": "lymphs__measured_x",
         "rawType": "float64",
         "type": "float"
        },
        {
         "name": "birth weight    (kg)__measured",
         "rawType": "float64",
         "type": "float"
        },
        {
         "name": "bands__measured_x",
         "rawType": "float64",
         "type": "float"
        },
        {
         "name": "polys__measured_x",
         "rawType": "float64",
         "type": "float"
        },
        {
         "name": "unable to assess psychological__measured",
         "rawType": "float64",
         "type": "float"
        },
        {
         "name": "goal richmond-ras scale__measured",
         "rawType": "float64",
         "type": "float"
        },
        {
         "name": "present weight  (lb)__measured",
         "rawType": "float64",
         "type": "float"
        },
        {
         "name": "present weight  (kg)__measured",
         "rawType": "float64",
         "type": "float"
        },
        {
         "name": "present weight  (oz)__measured",
         "rawType": "float64",
         "type": "float"
        },
        {
         "name": "pap [systolic]__measured",
         "rawType": "float64",
         "type": "float"
        },
        {
         "name": "pap [diastolic]__measured",
         "rawType": "float64",
         "type": "float"
        },
        {
         "name": "day of life__measured",
         "rawType": "float64",
         "type": "float"
        },
        {
         "name": "mixed venous o2% sat__measured",
         "rawType": "float64",
         "type": "float"
        },
        {
         "name": "bsa - english__measured",
         "rawType": "float64",
         "type": "float"
        },
        {
         "name": "bsa - metric__measured",
         "rawType": "float64",
         "type": "float"
        },
        {
         "name": "unable to assess nutrition / education__measured",
         "rawType": "float64",
         "type": "float"
        },
        {
         "name": "st segment monitoring on__measured",
         "rawType": "float64",
         "type": "float"
        },
        {
         "name": "cardiac index__measured",
         "rawType": "float64",
         "type": "float"
        },
        {
         "name": "cvp alarm [high]__measured",
         "rawType": "float64",
         "type": "float"
        },
        {
         "name": "fibrinogen (150-400)__measured",
         "rawType": "float64",
         "type": "float"
        },
        {
         "name": "sodium (whole blood)__measured",
         "rawType": "float64",
         "type": "float"
        },
        {
         "name": "previous weight (kg)__measured",
         "rawType": "float64",
         "type": "float"
        },
        {
         "name": "central venous pressure__measured",
         "rawType": "float64",
         "type": "float"
        },
        {
         "name": "cough/deep breath__measured",
         "rawType": "float64",
         "type": "float"
        },
        {
         "name": "weight change  (gms)__measured",
         "rawType": "float64",
         "type": "float"
        },
        {
         "name": "cvp alarm [low]__measured",
         "rawType": "float64",
         "type": "float"
        },
        {
         "name": "total peep level__measured",
         "rawType": "float64",
         "type": "float"
        },
        {
         "name": "arterial o2 saturation__measured",
         "rawType": "float64",
         "type": "float"
        },
        {
         "name": "head circ       (cm)__measured",
         "rawType": "float64",
         "type": "float"
        },
        {
         "name": "svr__measured",
         "rawType": "float64",
         "type": "float"
        },
        {
         "name": "discharge needs__measured",
         "rawType": "float64",
         "type": "float"
        },
        {
         "name": "hematocrit (whole blood - calc)__measured",
         "rawType": "float64",
         "type": "float"
        },
        {
         "name": "direct bili (0-0.3)__measured",
         "rawType": "float64",
         "type": "float"
        },
        {
         "name": "temperature f (calc)__measured",
         "rawType": "float64",
         "type": "float"
        },
        {
         "name": "temperature c__measured",
         "rawType": "float64",
         "type": "float"
        },
        {
         "name": "svri__measured",
         "rawType": "float64",
         "type": "float"
        },
        {
         "name": "cuff pressure__measured",
         "rawType": "float64",
         "type": "float"
        },
        {
         "name": "c.o.(thermodilution)__measured",
         "rawType": "float64",
         "type": "float"
        },
        {
         "name": "stroke volume__measured",
         "rawType": "float64",
         "type": "float"
        },
        {
         "name": "svi__measured",
         "rawType": "float64",
         "type": "float"
        },
        {
         "name": "unable to assess teaching / learning needs__measured",
         "rawType": "float64",
         "type": "float"
        },
        {
         "name": "lcw__measured",
         "rawType": "float64",
         "type": "float"
        },
        {
         "name": "lvsw__measured",
         "rawType": "float64",
         "type": "float"
        },
        {
         "name": "lcwi__measured",
         "rawType": "float64",
         "type": "float"
        },
        {
         "name": "lvswi__measured",
         "rawType": "float64",
         "type": "float"
        },
        {
         "name": "unable to assess activity / mobility__measured",
         "rawType": "float64",
         "type": "float"
        },
        {
         "name": "chloride (whole blood)__measured",
         "rawType": "float64",
         "type": "float"
        },
        {
         "name": "total fluids cc/kg/d__measured",
         "rawType": "float64",
         "type": "float"
        },
        {
         "name": "pa line cm mark__measured",
         "rawType": "float64",
         "type": "float"
        },
        {
         "name": "central venous pressure  alarm - low__measured",
         "rawType": "float64",
         "type": "float"
        },
        {
         "name": "central venous pressure alarm - high__measured",
         "rawType": "float64",
         "type": "float"
        },
        {
         "name": "length in cm__measured",
         "rawType": "float64",
         "type": "float"
        },
        {
         "name": "length calc inches__measured",
         "rawType": "float64",
         "type": "float"
        },
        {
         "name": "spon. vt (l) (mech.)__measured",
         "rawType": "float64",
         "type": "float"
        },
        {
         "name": "spon rr (mech.)__measured",
         "rawType": "float64",
         "type": "float"
        },
        {
         "name": "abdominal girth (cm)__measured",
         "rawType": "float64",
         "type": "float"
        },
        {
         "name": "rsbi (<200)__measured",
         "rawType": "float64",
         "type": "float"
        },
        {
         "name": "impaired skin odor #1__measured",
         "rawType": "float64",
         "type": "float"
        },
        {
         "name": "baseline pain level__measured",
         "rawType": "float64",
         "type": "float"
        },
        {
         "name": "rsbi (<100)__measured",
         "rawType": "float64",
         "type": "float"
        },
        {
         "name": "16 gauge dressing occlusive__measured",
         "rawType": "float64",
         "type": "float"
        },
        {
         "name": "unable to assess cognitive / perceptual__measured",
         "rawType": "float64",
         "type": "float"
        },
        {
         "name": "16 gauge placed in outside facility__measured",
         "rawType": "float64",
         "type": "float"
        },
        {
         "name": "pacer wires atrial__measured",
         "rawType": "float64",
         "type": "float"
        },
        {
         "name": "multi lumen dressing occlusive__measured",
         "rawType": "float64",
         "type": "float"
        },
        {
         "name": "cam-icu ms change__measured",
         "rawType": "float64",
         "type": "float"
        },
        {
         "name": "pacer rate__measured",
         "rawType": "float64",
         "type": "float"
        },
        {
         "name": "pacer wires vent__measured",
         "rawType": "float64",
         "type": "float"
        },
        {
         "name": "indirect bili(0-1.0)__measured",
         "rawType": "float64",
         "type": "float"
        },
        {
         "name": "multi lumen placed in outside facility__measured",
         "rawType": "float64",
         "type": "float"
        },
        {
         "name": "unable to assess pain__measured",
         "rawType": "float64",
         "type": "float"
        },
        {
         "name": "sodium  (135-148)__measured",
         "rawType": "float64",
         "type": "float"
        },
        {
         "name": "total co2__measured",
         "rawType": "float64",
         "type": "float"
        },
        {
         "name": "chloride  (100-112)__measured",
         "rawType": "float64",
         "type": "float"
        },
        {
         "name": "potassium  (3.5-5.3)__measured",
         "rawType": "float64",
         "type": "float"
        },
        {
         "name": "see chart for initial patient assessment__measured",
         "rawType": "float64",
         "type": "float"
        },
        {
         "name": "chg bath__measured",
         "rawType": "float64",
         "type": "float"
        },
        {
         "name": "anion gap   (8-20)__measured",
         "rawType": "float64",
         "type": "float"
        },
        {
         "name": "triglyceride__measured",
         "rawType": "float64",
         "type": "float"
        },
        {
         "name": "atrial pacemaker [ma]__measured",
         "rawType": "float64",
         "type": "float"
        },
        {
         "name": "unable to assess habits__measured",
         "rawType": "float64",
         "type": "float"
        },
        {
         "name": "atrial pacemaker [sensitivity]__measured",
         "rawType": "float64",
         "type": "float"
        },
        {
         "name": "fio2__measured",
         "rawType": "float64",
         "type": "float"
        },
        {
         "name": "spont vt__measured",
         "rawType": "float64",
         "type": "float"
        },
        {
         "name": "spont rr__measured",
         "rawType": "float64",
         "type": "float"
        },
        {
         "name": "incentive spirometry__measured",
         "rawType": "float64",
         "type": "float"
        },
        {
         "name": "icu consent signed__measured",
         "rawType": "float64",
         "type": "float"
        },
        {
         "name": "pap alarm [high]__measured",
         "rawType": "float64",
         "type": "float"
        },
        {
         "name": "cholesterol__measured",
         "rawType": "float64",
         "type": "float"
        },
        {
         "name": "called out__measured",
         "rawType": "float64",
         "type": "float"
        },
        {
         "name": "c.o. (fick)__measured",
         "rawType": "float64",
         "type": "float"
        },
        {
         "name": "lipase__measured_x",
         "rawType": "float64",
         "type": "float"
        },
        {
         "name": "pap alarm [low]__measured",
         "rawType": "float64",
         "type": "float"
        },
        {
         "name": "o2av__measured",
         "rawType": "float64",
         "type": "float"
        },
        {
         "name": "o2avi__measured",
         "rawType": "float64",
         "type": "float"
        },
        {
         "name": "multi lumen zero/calibrate__measured",
         "rawType": "float64",
         "type": "float"
        },
        {
         "name": "do2i__measured",
         "rawType": "float64",
         "type": "float"
        },
        {
         "name": "16 gauge placed in the field__measured",
         "rawType": "float64",
         "type": "float"
        },
        {
         "name": "humidity temp [meas]__measured",
         "rawType": "float64",
         "type": "float"
        },
        {
         "name": "triglyceride (0-200)__measured",
         "rawType": "float64",
         "type": "float"
        },
        {
         "name": "peep__measured_x",
         "rawType": "float64",
         "type": "float"
        },
        {
         "name": "22 gauge dressing occlusive__measured",
         "rawType": "float64",
         "type": "float"
        },
        {
         "name": "low insp. pressure__measured",
         "rawType": "float64",
         "type": "float"
        },
        {
         "name": "22 gauge placed in outside facility__measured",
         "rawType": "float64",
         "type": "float"
        },
        {
         "name": "mean paw [meas]__measured",
         "rawType": "float64",
         "type": "float"
        },
        {
         "name": "flowrate (l/m)__measured",
         "rawType": "float64",
         "type": "float"
        },
        {
         "name": "fio2 [meas]__measured",
         "rawType": "float64",
         "type": "float"
        },
        {
         "name": "peep alarm__measured",
         "rawType": "float64",
         "type": "float"
        },
        {
         "name": "ng tube taped at:__measured",
         "rawType": "float64",
         "type": "float"
        },
        {
         "name": "feeding tube size__measured",
         "rawType": "float64",
         "type": "float"
        },
        {
         "name": "og/ng residual__measured",
         "rawType": "float64",
         "type": "float"
        },
        {
         "name": "zzo2av__measured",
         "rawType": "float64",
         "type": "float"
        },
        {
         "name": "peak flow__measured",
         "rawType": "float64",
         "type": "float"
        },
        {
         "name": "ph (venous)__measured",
         "rawType": "float64",
         "type": "float"
        },
        {
         "name": "do2__measured",
         "rawType": "float64",
         "type": "float"
        },
        {
         "name": "cholesterol (<200)__measured",
         "rawType": "float64",
         "type": "float"
        },
        {
         "name": "zzo2avi__measured",
         "rawType": "float64",
         "type": "float"
        },
        {
         "name": "high pressure relief__measured",
         "rawType": "float64",
         "type": "float"
        },
        {
         "name": "fio2 alarm [low]__measured",
         "rawType": "float64",
         "type": "float"
        },
        {
         "name": "pulmonary artery pressure mean__measured",
         "rawType": "float64",
         "type": "float"
        },
        {
         "name": "venous ph__measured",
         "rawType": "float64",
         "type": "float"
        },
        {
         "name": "mdi #1 [puff]__measured",
         "rawType": "float64",
         "type": "float"
        },
        {
         "name": "post menopausal__measured",
         "rawType": "float64",
         "type": "float"
        },
        {
         "name": "serum osmolality__measured",
         "rawType": "float64",
         "type": "float"
        },
        {
         "name": "pca lockout (min)__measured",
         "rawType": "float64",
         "type": "float"
        },
        {
         "name": "pulmonary artery pressure systolic__measured",
         "rawType": "float64",
         "type": "float"
        },
        {
         "name": "pulmonary artery pressure diastolic__measured",
         "rawType": "float64",
         "type": "float"
        },
        {
         "name": "temporary pacemaker wires venticular__measured",
         "rawType": "float64",
         "type": "float"
        },
        {
         "name": "pregnant__measured",
         "rawType": "float64",
         "type": "float"
        },
        {
         "name": "cordis/introducer dressing occlusive__measured",
         "rawType": "float64",
         "type": "float"
        },
        {
         "name": "ck-mb fraction (%)__measured",
         "rawType": "float64",
         "type": "float"
        },
        {
         "name": "pulmonary artery pressure alarm - low__measured",
         "rawType": "float64",
         "type": "float"
        },
        {
         "name": "pulmonary artery pressure alarm - high__measured",
         "rawType": "float64",
         "type": "float"
        },
        {
         "name": "temporary pacemaker rate__measured",
         "rawType": "float64",
         "type": "float"
        },
        {
         "name": "atr sens thresh mv__measured",
         "rawType": "float64",
         "type": "float"
        },
        {
         "name": "atrial pacemaker sense [mv]__measured",
         "rawType": "float64",
         "type": "float"
        },
        {
         "name": "atrial pacemaker sense [ma]__measured",
         "rawType": "float64",
         "type": "float"
        },
        {
         "name": "pap mean__measured",
         "rawType": "float64",
         "type": "float"
        },
        {
         "name": "pca total dose__measured",
         "rawType": "float64",
         "type": "float"
        },
        {
         "name": "atr stim thresh ma__measured",
         "rawType": "float64",
         "type": "float"
        },
        {
         "name": "pca dose__measured",
         "rawType": "float64",
         "type": "float"
        },
        {
         "name": "temporary pacemaker wires atrial__measured",
         "rawType": "float64",
         "type": "float"
        },
        {
         "name": "bloodglucose__measured",
         "rawType": "float64",
         "type": "float"
        },
        {
         "name": "inspired gas temp__measured",
         "rawType": "float64",
         "type": "float"
        },
        {
         "name": "swan svo2__measured",
         "rawType": "float64",
         "type": "float"
        },
        {
         "name": "cordis/introducer placed in outside facility__measured",
         "rawType": "float64",
         "type": "float"
        },
        {
         "name": "temporary venticular sens threshold mv__measured",
         "rawType": "float64",
         "type": "float"
        },
        {
         "name": "vent sens thresh mv__measured",
         "rawType": "float64",
         "type": "float"
        },
        {
         "name": "o2 flow (lpm) #2__measured",
         "rawType": "float64",
         "type": "float"
        },
        {
         "name": "temporary atrial sens threshold mv__measured",
         "rawType": "float64",
         "type": "float"
        },
        {
         "name": "strength r arm__measured",
         "rawType": "float64",
         "type": "float"
        },
        {
         "name": "strength r leg__measured",
         "rawType": "float64",
         "type": "float"
        },
        {
         "name": "strength l arm__measured",
         "rawType": "float64",
         "type": "float"
        },
        {
         "name": "strength l leg__measured",
         "rawType": "float64",
         "type": "float"
        },
        {
         "name": "mixed venous o2__measured",
         "rawType": "float64",
         "type": "float"
        },
        {
         "name": "temporary atrial sens setting mv__measured",
         "rawType": "float64",
         "type": "float"
        },
        {
         "name": "vent stim thresh ma__measured",
         "rawType": "float64",
         "type": "float"
        },
        {
         "name": "differential-atyps__measured",
         "rawType": "float64",
         "type": "float"
        },
        {
         "name": "temporary venticular stim threshold ma__measured",
         "rawType": "float64",
         "type": "float"
        },
        {
         "name": "orientation to person__measured",
         "rawType": "float64",
         "type": "float"
        },
        {
         "name": "fio2 alarm [high]__measured",
         "rawType": "float64",
         "type": "float"
        },
        {
         "name": "temporary atrial stim setting ma__measured",
         "rawType": "float64",
         "type": "float"
        },
        {
         "name": "temporary atrial stim threshold ma__measured",
         "rawType": "float64",
         "type": "float"
        },
        {
         "name": "orientation to place__measured",
         "rawType": "float64",
         "type": "float"
        },
        {
         "name": "orientation to time__measured",
         "rawType": "float64",
         "type": "float"
        },
        {
         "name": "o2 flow (additional cannula)__measured",
         "rawType": "float64",
         "type": "float"
        },
        {
         "name": "i:e ratio__measured",
         "rawType": "float64",
         "type": "float"
        },
        {
         "name": "cuff pressure-airway__measured",
         "rawType": "float64",
         "type": "float"
        },
        {
         "name": "impaired skin odor #2__measured",
         "rawType": "float64",
         "type": "float"
        },
        {
         "name": "ph (other)__measured",
         "rawType": "float64",
         "type": "float"
        },
        {
         "name": "pressure ulcer stage #1__measured",
         "rawType": "float64",
         "type": "float"
        },
        {
         "name": "pco2 (other)__measured",
         "rawType": "float64",
         "type": "float"
        },
        {
         "name": "po2 (other)__measured",
         "rawType": "float64",
         "type": "float"
        },
        {
         "name": "base excess (other)__measured",
         "rawType": "float64",
         "type": "float"
        },
        {
         "name": "tco2 (other)__measured",
         "rawType": "float64",
         "type": "float"
        },
        {
         "name": "ett size__measured",
         "rawType": "float64",
         "type": "float"
        },
        {
         "name": "ph (cap)__measured",
         "rawType": "float64",
         "type": "float"
        },
        {
         "name": "pco2__measured_x",
         "rawType": "float64",
         "type": "float"
        },
        {
         "name": "tco2 (cap)__measured",
         "rawType": "float64",
         "type": "float"
        },
        {
         "name": "po2 (cap)__measured",
         "rawType": "float64",
         "type": "float"
        },
        {
         "name": "base excess (cap)__measured",
         "rawType": "float64",
         "type": "float"
        },
        {
         "name": "pco2 (cap)__measured",
         "rawType": "float64",
         "type": "float"
        },
        {
         "name": "po2__measured_x",
         "rawType": "float64",
         "type": "float"
        },
        {
         "name": "ett taped at (cm)__measured",
         "rawType": "float64",
         "type": "float"
        },
        {
         "name": "dilantin__measured",
         "rawType": "float64",
         "type": "float"
        },
        {
         "name": "temperature celsius__measured",
         "rawType": "float64",
         "type": "float"
        },
        {
         "name": "ventricular pacemaker [ma]__measured",
         "rawType": "float64",
         "type": "float"
        },
        {
         "name": "lowest sao2__measured",
         "rawType": "float64",
         "type": "float"
        },
        {
         "name": "inspired gas temp.__measured",
         "rawType": "float64",
         "type": "float"
        },
        {
         "name": "blood transfusion consent__measured",
         "rawType": "float64",
         "type": "float"
        },
        {
         "name": "act (102-142)__measured",
         "rawType": "float64",
         "type": "float"
        },
        {
         "name": "ocat - lips tongue gums palate__measured",
         "rawType": "float64",
         "type": "float"
        },
        {
         "name": "ocat - teeth__measured",
         "rawType": "float64",
         "type": "float"
        },
        {
         "name": "ocat - swallow__measured",
         "rawType": "float64",
         "type": "float"
        },
        {
         "name": "breath rate__measured",
         "rawType": "float64",
         "type": "float"
        },
        {
         "name": "pip__measured",
         "rawType": "float64",
         "type": "float"
        },
        {
         "name": "ett re-taped__measured",
         "rawType": "float64",
         "type": "float"
        },
        {
         "name": "ocat - saliva secretions, voice quality__measured",
         "rawType": "float64",
         "type": "float"
        },
        {
         "name": "impaired skin length #1__measured",
         "rawType": "float64",
         "type": "float"
        },
        {
         "name": "22 gauge placed in the field__measured",
         "rawType": "float64",
         "type": "float"
        },
        {
         "name": "svo2__measured",
         "rawType": "float64",
         "type": "float"
        },
        {
         "name": "base excess__measured_x",
         "rawType": "float64",
         "type": "float"
        },
        {
         "name": "tco2        (21-30)__measured",
         "rawType": "float64",
         "type": "float"
        },
        {
         "name": "pcwp__measured",
         "rawType": "float64",
         "type": "float"
        },
        {
         "name": "rcw__measured",
         "rawType": "float64",
         "type": "float"
        },
        {
         "name": "rvsw__measured",
         "rawType": "float64",
         "type": "float"
        },
        {
         "name": "ventricular pacemaker [sensitivity]__measured",
         "rawType": "float64",
         "type": "float"
        },
        {
         "name": "phenytoin (dilantin)__measured",
         "rawType": "float64",
         "type": "float"
        },
        {
         "name": "survanta__measured",
         "rawType": "float64",
         "type": "float"
        },
        {
         "name": "current used/ma__measured",
         "rawType": "float64",
         "type": "float"
        },
        {
         "name": "legal guardian__measured",
         "rawType": "float64",
         "type": "float"
        },
        {
         "name": "impaired skin width #1__measured",
         "rawType": "float64",
         "type": "float"
        },
        {
         "name": "pa catheter dressing occlusive__measured",
         "rawType": "float64",
         "type": "float"
        },
        {
         "name": "rcwi__measured",
         "rawType": "float64",
         "type": "float"
        },
        {
         "name": "temporary ventricular sens setting mv__measured",
         "rawType": "float64",
         "type": "float"
        },
        {
         "name": "rvswi__measured",
         "rawType": "float64",
         "type": "float"
        },
        {
         "name": "pip alarm__measured",
         "rawType": "float64",
         "type": "float"
        },
        {
         "name": "hdl__measured",
         "rawType": "float64",
         "type": "float"
        },
        {
         "name": "ph (art)__measured",
         "rawType": "float64",
         "type": "float"
        },
        {
         "name": "ventilator no.__measured",
         "rawType": "float64",
         "type": "float"
        },
        {
         "name": "pa catheter zero/calibrate__measured",
         "rawType": "float64",
         "type": "float"
        },
        {
         "name": "mdi #1 puff__measured",
         "rawType": "float64",
         "type": "float"
        },
        {
         "name": "nausea and vomiting (ciwa)__measured",
         "rawType": "float64",
         "type": "float"
        },
        {
         "name": "paroxysmal sweats__measured",
         "rawType": "float64",
         "type": "float"
        },
        {
         "name": "ldl calculated__measured",
         "rawType": "float64",
         "type": "float"
        },
        {
         "name": "anxiety__measured",
         "rawType": "float64",
         "type": "float"
        },
        {
         "name": "pa catheter placed in outside facility__measured",
         "rawType": "float64",
         "type": "float"
        },
        {
         "name": "tremor (ciwa)__measured",
         "rawType": "float64",
         "type": "float"
        },
        {
         "name": "agitation__measured",
         "rawType": "float64",
         "type": "float"
        },
        {
         "name": "tactile disturbances__measured",
         "rawType": "float64",
         "type": "float"
        },
        {
         "name": "visual disturbances__measured",
         "rawType": "float64",
         "type": "float"
        },
        {
         "name": "auditory disturbance__measured",
         "rawType": "float64",
         "type": "float"
        },
        {
         "name": "headache__measured",
         "rawType": "float64",
         "type": "float"
        },
        {
         "name": "orient/clouding sensory__measured",
         "rawType": "float64",
         "type": "float"
        },
        {
         "name": "patient controlled analgesia (pca) [attempt]__measured",
         "rawType": "float64",
         "type": "float"
        },
        {
         "name": "patient controlled analgesia (pca) [inject]__measured",
         "rawType": "float64",
         "type": "float"
        },
        {
         "name": "temporary ventricular stim setting ma__measured",
         "rawType": "float64",
         "type": "float"
        },
        {
         "name": "fio2 alarm-low__measured",
         "rawType": "float64",
         "type": "float"
        },
        {
         "name": "lowest heart rate__measured",
         "rawType": "float64",
         "type": "float"
        },
        {
         "name": "art bp mean__measured",
         "rawType": "float64",
         "type": "float"
        },
        {
         "name": "feeding weight__measured",
         "rawType": "float64",
         "type": "float"
        },
        {
         "name": "art bp systolic__measured",
         "rawType": "float64",
         "type": "float"
        },
        {
         "name": "venous co2 pressure__measured",
         "rawType": "float64",
         "type": "float"
        },
        {
         "name": "venous o2 pressure__measured",
         "rawType": "float64",
         "type": "float"
        },
        {
         "name": "tco2 (calc) venous__measured",
         "rawType": "float64",
         "type": "float"
        },
        {
         "name": "art bp diastolic__measured",
         "rawType": "float64",
         "type": "float"
        },
        {
         "name": "ett position change__measured",
         "rawType": "float64",
         "type": "float"
        },
        {
         "name": "collar care__measured",
         "rawType": "float64",
         "type": "float"
        },
        {
         "name": "cardiac output (thermodilution)__measured",
         "rawType": "float64",
         "type": "float"
        },
        {
         "name": "vancomycin/random__measured",
         "rawType": "float64",
         "type": "float"
        },
        {
         "name": "pca 1 hr limit (mg)__measured",
         "rawType": "float64",
         "type": "float"
        },
        {
         "name": "cash amount__measured",
         "rawType": "float64",
         "type": "float"
        },
        {
         "name": "stool guaiac qc__measured",
         "rawType": "float64",
         "type": "float"
        },
        {
         "name": "flowrate (cc/min)__measured",
         "rawType": "float64",
         "type": "float"
        },
        {
         "name": "mdi #2 [puff]__measured",
         "rawType": "float64",
         "type": "float"
        },
        {
         "name": "pca 1 hour limit__measured",
         "rawType": "float64",
         "type": "float"
        },
        {
         "name": "cam-icu inattention__measured",
         "rawType": "float64",
         "type": "float"
        },
        {
         "name": "atrial pacemaker threshold [value]__measured",
         "rawType": "float64",
         "type": "float"
        },
        {
         "name": "act__measured",
         "rawType": "float64",
         "type": "float"
        },
        {
         "name": "minute volume (set)__measured",
         "rawType": "float64",
         "type": "float"
        },
        {
         "name": "pca inject__measured",
         "rawType": "float64",
         "type": "float"
        },
        {
         "name": "ventricular pacemaker sense [mv]__measured",
         "rawType": "float64",
         "type": "float"
        },
        {
         "name": "baedp__measured",
         "rawType": "float64",
         "type": "float"
        },
        {
         "name": "augmented diastole__measured",
         "rawType": "float64",
         "type": "float"
        },
        {
         "name": "pca attempt__measured",
         "rawType": "float64",
         "type": "float"
        },
        {
         "name": "assisted systole__measured",
         "rawType": "float64",
         "type": "float"
        },
        {
         "name": "iabp mean__measured",
         "rawType": "float64",
         "type": "float"
        },
        {
         "name": "working pressure__measured",
         "rawType": "float64",
         "type": "float"
        },
        {
         "name": "troponin__measured",
         "rawType": "float64",
         "type": "float"
        },
        {
         "name": "cardiac output (cco)__measured",
         "rawType": "float64",
         "type": "float"
        },
        {
         "name": "fio2 (analyzed)__measured",
         "rawType": "float64",
         "type": "float"
        },
        {
         "name": "peak flow (calc)__measured",
         "rawType": "float64",
         "type": "float"
        },
        {
         "name": "blood temperature cco (c)__measured",
         "rawType": "float64",
         "type": "float"
        },
        {
         "name": "picc line dressing occlusive__measured",
         "rawType": "float64",
         "type": "float"
        },
        {
         "name": "vt [ventilator]__measured",
         "rawType": "float64",
         "type": "float"
        },
        {
         "name": "ventricular pacemaker sense [ma]__measured",
         "rawType": "float64",
         "type": "float"
        },
        {
         "name": "art blood pressure alarm - high__measured",
         "rawType": "float64",
         "type": "float"
        },
        {
         "name": "art blood pressure alarm - low__measured",
         "rawType": "float64",
         "type": "float"
        },
        {
         "name": "fio2 alarm-high__measured",
         "rawType": "float64",
         "type": "float"
        },
        {
         "name": "ciwa sum total__measured",
         "rawType": "float64",
         "type": "float"
        },
        {
         "name": "pca bolus__measured",
         "rawType": "float64",
         "type": "float"
        },
        {
         "name": "picc line placed in outside facility__measured",
         "rawType": "float64",
         "type": "float"
        },
        {
         "name": "arterial line tip cultured__measured",
         "rawType": "float64",
         "type": "float"
        },
        {
         "name": "direct bilirubin__measured",
         "rawType": "float64",
         "type": "float"
        },
        {
         "name": "vt [spontaneous]__measured",
         "rawType": "float64",
         "type": "float"
        },
        {
         "name": "pvri__measured",
         "rawType": "float64",
         "type": "float"
        },
        {
         "name": "fluid in for calc.__measured",
         "rawType": "float64",
         "type": "float"
        },
        {
         "name": "digoxin__measured_x",
         "rawType": "float64",
         "type": "float"
        },
        {
         "name": "total fluids/kg/day__measured",
         "rawType": "float64",
         "type": "float"
        },
        {
         "name": "systolic unloading__measured",
         "rawType": "float64",
         "type": "float"
        },
        {
         "name": "diastolic unloading__measured",
         "rawType": "float64",
         "type": "float"
        },
        {
         "name": "heart rate__measured",
         "rawType": "float64",
         "type": "float"
        },
        {
         "name": "impaired skin length #2__measured",
         "rawType": "float64",
         "type": "float"
        },
        {
         "name": "po2 (mixed venous)__measured",
         "rawType": "float64",
         "type": "float"
        },
        {
         "name": "impaired skin odor #3__measured",
         "rawType": "float64",
         "type": "float"
        },
        {
         "name": "weight kg__measured",
         "rawType": "float64",
         "type": "float"
        },
        {
         "name": "be__measured",
         "rawType": "float64",
         "type": "float"
        },
        {
         "name": "sensitivity__measured",
         "rawType": "float64",
         "type": "float"
        },
        {
         "name": "impaired skin width #2__measured",
         "rawType": "float64",
         "type": "float"
        },
        {
         "name": "venous pvco2__measured",
         "rawType": "float64",
         "type": "float"
        },
        {
         "name": "venous co2(calc)__measured",
         "rawType": "float64",
         "type": "float"
        },
        {
         "name": "bladder pressure__measured",
         "rawType": "float64",
         "type": "float"
        },
        {
         "name": "pvr__measured",
         "rawType": "float64",
         "type": "float"
        },
        {
         "name": "cortisol__measured_x",
         "rawType": "float64",
         "type": "float"
        },
        {
         "name": "baseline current/ma__measured",
         "rawType": "float64",
         "type": "float"
        },
        {
         "name": "cco pac dressing occlusive__measured",
         "rawType": "float64",
         "type": "float"
        },
        {
         "name": "sed rate__measured",
         "rawType": "float64",
         "type": "float"
        },
        {
         "name": "hob measurement__measured",
         "rawType": "float64",
         "type": "float"
        },
        {
         "name": "vancomycin (random)__measured",
         "rawType": "float64",
         "type": "float"
        },
        {
         "name": "d-dimer__measured_x",
         "rawType": "float64",
         "type": "float"
        },
        {
         "name": "venous pvo2__measured",
         "rawType": "float64",
         "type": "float"
        },
        {
         "name": "cam-icu altered loc__measured",
         "rawType": "float64",
         "type": "float"
        },
        {
         "name": "direct bili__measured",
         "rawType": "float64",
         "type": "float"
        },
        {
         "name": "bp left arm [systolic]__measured",
         "rawType": "float64",
         "type": "float"
        },
        {
         "name": "pressure ulcer stage #2__measured",
         "rawType": "float64",
         "type": "float"
        },
        {
         "name": "bp left arm [mean]__measured",
         "rawType": "float64",
         "type": "float"
        },
        {
         "name": "bp left arm [diastolic]__measured",
         "rawType": "float64",
         "type": "float"
        },
        {
         "name": "uric acid (2.7-7.0)__measured",
         "rawType": "float64",
         "type": "float"
        },
        {
         "name": "cco pac zero/calibrate__measured",
         "rawType": "float64",
         "type": "float"
        },
        {
         "name": "cco pac placed in outside facility__measured",
         "rawType": "float64",
         "type": "float"
        },
        {
         "name": "uric acid__measured_x",
         "rawType": "float64",
         "type": "float"
        },
        {
         "name": "ventricular pacemaker threshold [value]__measured",
         "rawType": "float64",
         "type": "float"
        },
        {
         "name": "total protein__measured",
         "rawType": "float64",
         "type": "float"
        },
        {
         "name": "parent ed/support__measured",
         "rawType": "float64",
         "type": "float"
        },
        {
         "name": "vancomycin (trough)__measured",
         "rawType": "float64",
         "type": "float"
        },
        {
         "name": "pca basal rate (ml/hour)__measured",
         "rawType": "float64",
         "type": "float"
        },
        {
         "name": "pca basal rate__measured",
         "rawType": "float64",
         "type": "float"
        },
        {
         "name": "icp__measured",
         "rawType": "float64",
         "type": "float"
        },
        {
         "name": "cpp__measured",
         "rawType": "float64",
         "type": "float"
        },
        {
         "name": "mdi #2 puff__measured",
         "rawType": "float64",
         "type": "float"
        },
        {
         "name": "glucose monitor #__measured",
         "rawType": "float64",
         "type": "float"
        },
        {
         "name": "multi lumen line tip cultured__measured",
         "rawType": "float64",
         "type": "float"
        },
        {
         "name": "brain natiuretic peptide (bnp)__measured",
         "rawType": "float64",
         "type": "float"
        },
        {
         "name": "impaired skin depth #1__measured",
         "rawType": "float64",
         "type": "float"
        },
        {
         "name": "par-respiration__measured",
         "rawType": "float64",
         "type": "float"
        },
        {
         "name": "par-activity__measured",
         "rawType": "float64",
         "type": "float"
        },
        {
         "name": "par-consciousness__measured",
         "rawType": "float64",
         "type": "float"
        },
        {
         "name": "enteral in for calc.__measured",
         "rawType": "float64",
         "type": "float"
        },
        {
         "name": "par-circulation__measured",
         "rawType": "float64",
         "type": "float"
        },
        {
         "name": "par-oxygen saturation__measured",
         "rawType": "float64",
         "type": "float"
        },
        {
         "name": "total enteral/kg/day__measured",
         "rawType": "float64",
         "type": "float"
        },
        {
         "name": "bp alarm [low]__measured",
         "rawType": "float64",
         "type": "float"
        },
        {
         "name": "family meeting__measured",
         "rawType": "float64",
         "type": "float"
        },
        {
         "name": "bp alarm [high]__measured",
         "rawType": "float64",
         "type": "float"
        },
        {
         "name": "epi infusion rate__measured",
         "rawType": "float64",
         "type": "float"
        },
        {
         "name": "d-dimer (0-500)__measured",
         "rawType": "float64",
         "type": "float"
        },
        {
         "name": "presep catheter svo2__measured",
         "rawType": "float64",
         "type": "float"
        },
        {
         "name": "high mv__measured",
         "rawType": "float64",
         "type": "float"
        },
        {
         "name": "pao2__measured",
         "rawType": "float64",
         "type": "float"
        },
        {
         "name": "bp right leg [systolic]__measured",
         "rawType": "float64",
         "type": "float"
        },
        {
         "name": "bp right leg [mean]__measured",
         "rawType": "float64",
         "type": "float"
        },
        {
         "name": "bp right leg [diastolic]__measured",
         "rawType": "float64",
         "type": "float"
        },
        {
         "name": "bp left leg [diastolic]__measured",
         "rawType": "float64",
         "type": "float"
        },
        {
         "name": "bp left leg [mean]__measured",
         "rawType": "float64",
         "type": "float"
        },
        {
         "name": "bp left leg [systolic]__measured",
         "rawType": "float64",
         "type": "float"
        },
        {
         "name": "cordis/introducer line tip cultured__measured",
         "rawType": "float64",
         "type": "float"
        },
        {
         "name": "total protein(6.5-8)__measured",
         "rawType": "float64",
         "type": "float"
        },
        {
         "name": "bp right arm [mean]__measured",
         "rawType": "float64",
         "type": "float"
        },
        {
         "name": "bp right arm [systolic]__measured",
         "rawType": "float64",
         "type": "float"
        },
        {
         "name": "gi [ph]__measured",
         "rawType": "float64",
         "type": "float"
        },
        {
         "name": "bp right arm [diastolic]__measured",
         "rawType": "float64",
         "type": "float"
        },
        {
         "name": "sheath line dressing occlusive__measured",
         "rawType": "float64",
         "type": "float"
        },
        {
         "name": "aado2__measured",
         "rawType": "float64",
         "type": "float"
        },
        {
         "name": "14 gauge dressing occlusive__measured",
         "rawType": "float64",
         "type": "float"
        },
        {
         "name": "epidural infusion rate (ml/hr)__measured",
         "rawType": "float64",
         "type": "float"
        },
        {
         "name": "creatinine   (0-0.7)__measured",
         "rawType": "float64",
         "type": "float"
        },
        {
         "name": "auto-peep level__measured",
         "rawType": "float64",
         "type": "float"
        },
        {
         "name": "bun    (6-20)__measured",
         "rawType": "float64",
         "type": "float"
        },
        {
         "name": "14 gauge placed in outside facility__measured",
         "rawType": "float64",
         "type": "float"
        },
        {
         "name": "sheath placed in outside facility__measured",
         "rawType": "float64",
         "type": "float"
        },
        {
         "name": "mix venous co2(calc)__measured",
         "rawType": "float64",
         "type": "float"
        },
        {
         "name": "mix venous po2__measured",
         "rawType": "float64",
         "type": "float"
        },
        {
         "name": "mix venous pco2__measured",
         "rawType": "float64",
         "type": "float"
        },
        {
         "name": "mix venous ph__measured",
         "rawType": "float64",
         "type": "float"
        },
        {
         "name": "bp uac [mean]__measured",
         "rawType": "float64",
         "type": "float"
        },
        {
         "name": "impaired skin odor #4__measured",
         "rawType": "float64",
         "type": "float"
        },
        {
         "name": "bp uac [diastolic]__measured",
         "rawType": "float64",
         "type": "float"
        },
        {
         "name": "bp uac [systolic]__measured",
         "rawType": "float64",
         "type": "float"
        },
        {
         "name": "intra cranial pressure__measured",
         "rawType": "float64",
         "type": "float"
        },
        {
         "name": "venous co2__measured",
         "rawType": "float64",
         "type": "float"
        },
        {
         "name": "venous base excess__measured",
         "rawType": "float64",
         "type": "float"
        },
        {
         "name": "venous o2__measured",
         "rawType": "float64",
         "type": "float"
        },
        {
         "name": "venous tco2__measured",
         "rawType": "float64",
         "type": "float"
        },
        {
         "name": "flow-by (lpm)__measured",
         "rawType": "float64",
         "type": "float"
        },
        {
         "name": "kangaroo care [time]__measured",
         "rawType": "float64",
         "type": "float"
        },
        {
         "name": "flow-by sensitivity__measured",
         "rawType": "float64",
         "type": "float"
        },
        {
         "name": "impaired skin length #3__measured",
         "rawType": "float64",
         "type": "float"
        },
        {
         "name": "par-remain sedated__measured",
         "rawType": "float64",
         "type": "float"
        },
        {
         "name": "impaired skin width #3__measured",
         "rawType": "float64",
         "type": "float"
        },
        {
         "name": "cerebral perfusion pressure__measured",
         "rawType": "float64",
         "type": "float"
        },
        {
         "name": "c reactive protein (crp)__measured",
         "rawType": "float64",
         "type": "float"
        },
        {
         "name": "pressure ulcer stage #3__measured",
         "rawType": "float64",
         "type": "float"
        },
        {
         "name": "gi guaiac qc__measured",
         "rawType": "float64",
         "type": "float"
        },
        {
         "name": "cuff volume (ml)__measured",
         "rawType": "float64",
         "type": "float"
        },
        {
         "name": "epidural bolus__measured",
         "rawType": "float64",
         "type": "float"
        },
        {
         "name": "arterial bp #2 [diastolic]__measured",
         "rawType": "float64",
         "type": "float"
        },
        {
         "name": "arterial bp #2 [systolic]__measured",
         "rawType": "float64",
         "type": "float"
        },
        {
         "name": "ventilator number__measured",
         "rawType": "float64",
         "type": "float"
        },
        {
         "name": "arterial bp mean #2__measured",
         "rawType": "float64",
         "type": "float"
        },
        {
         "name": "intra cranial pressure alarm - high__measured",
         "rawType": "float64",
         "type": "float"
        },
        {
         "name": "intra cranial pressure alarm - low__measured",
         "rawType": "float64",
         "type": "float"
        },
        {
         "name": "dialysis catheter dressing occlusive__measured",
         "rawType": "float64",
         "type": "float"
        },
        {
         "name": "dialysis catheter placed in outside facility__measured",
         "rawType": "float64",
         "type": "float"
        },
        {
         "name": "bipap - epap__measured",
         "rawType": "float64",
         "type": "float"
        },
        {
         "name": "activated clotting time__measured",
         "rawType": "float64",
         "type": "float"
        },
        {
         "name": "manual bp [systolic]__measured",
         "rawType": "float64",
         "type": "float"
        },
        {
         "name": "qtc__measured",
         "rawType": "float64",
         "type": "float"
        },
        {
         "name": "manual bp mean(calc)__measured",
         "rawType": "float64",
         "type": "float"
        },
        {
         "name": "manual bp [diastolic]__measured",
         "rawType": "float64",
         "type": "float"
        },
        {
         "name": "indwelling port (portacath) dressing occlusive__measured",
         "rawType": "float64",
         "type": "float"
        },
        {
         "name": "epidural total dose__measured",
         "rawType": "float64",
         "type": "float"
        },
        {
         "name": "central venous o2% sat__measured",
         "rawType": "float64",
         "type": "float"
        },
        {
         "name": "manual blood pressure systolic left__measured",
         "rawType": "float64",
         "type": "float"
        },
        {
         "name": "manual blood pressure systolic right__measured",
         "rawType": "float64",
         "type": "float"
        },
        {
         "name": "co (arterial)__measured",
         "rawType": "float64",
         "type": "float"
        },
        {
         "name": "epidural bolus (ml)__measured",
         "rawType": "float64",
         "type": "float"
        },
        {
         "name": "manual blood pressure diastolic left__measured",
         "rawType": "float64",
         "type": "float"
        },
        {
         "name": "manual blood pressure diastolic right__measured",
         "rawType": "float64",
         "type": "float"
        },
        {
         "name": "bipap - o2 lpm__measured",
         "rawType": "float64",
         "type": "float"
        },
        {
         "name": "icp alarm [high]__measured",
         "rawType": "float64",
         "type": "float"
        },
        {
         "name": "med wasted [amount]__measured",
         "rawType": "float64",
         "type": "float"
        },
        {
         "name": "icp alarm [low]__measured",
         "rawType": "float64",
         "type": "float"
        },
        {
         "name": "tobacco use__measured",
         "rawType": "float64",
         "type": "float"
        },
        {
         "name": "svv (arterial)__measured",
         "rawType": "float64",
         "type": "float"
        },
        {
         "name": "trach care__measured",
         "rawType": "float64",
         "type": "float"
        },
        {
         "name": "icp line placed in outside facility__measured",
         "rawType": "float64",
         "type": "float"
        },
        {
         "name": "icp line dressing occlusive__measured",
         "rawType": "float64",
         "type": "float"
        },
        {
         "name": "ndwelling port (portacath) placed in outside facility__measured",
         "rawType": "float64",
         "type": "float"
        },
        {
         "name": "impaired skin depth #2__measured",
         "rawType": "float64",
         "type": "float"
        },
        {
         "name": "temporary pacemaker wires ground__measured",
         "rawType": "float64",
         "type": "float"
        },
        {
         "name": "bipap - ipap__measured",
         "rawType": "float64",
         "type": "float"
        },
        {
         "name": "pa catheter line tip cultured__measured",
         "rawType": "float64",
         "type": "float"
        },
        {
         "name": "icp line zero/calibrate__measured",
         "rawType": "float64",
         "type": "float"
        },
        {
         "name": "high minute volume__measured",
         "rawType": "float64",
         "type": "float"
        },
        {
         "name": "cerebral perfusion pressure alarm - low__measured",
         "rawType": "float64",
         "type": "float"
        },
        {
         "name": "ph__measured_x",
         "rawType": "float64",
         "type": "float"
        },
        {
         "name": "current goal__measured",
         "rawType": "float64",
         "type": "float"
        },
        {
         "name": "cerebral perfusion pressure alarm - high__measured",
         "rawType": "float64",
         "type": "float"
        },
        {
         "name": "av interval__measured",
         "rawType": "float64",
         "type": "float"
        },
        {
         "name": "bp pal [systolic]__measured",
         "rawType": "float64",
         "type": "float"
        },
        {
         "name": "fk506__measured",
         "rawType": "float64",
         "type": "float"
        },
        {
         "name": "bp pal [diastolic]__measured",
         "rawType": "float64",
         "type": "float"
        },
        {
         "name": "bp pal [mean]__measured",
         "rawType": "float64",
         "type": "float"
        },
        {
         "name": "urine ph__measured",
         "rawType": "float64",
         "type": "float"
        },
        {
         "name": "pinsp (draeger only)__measured",
         "rawType": "float64",
         "type": "float"
        },
        {
         "name": "paedp__measured",
         "rawType": "float64",
         "type": "float"
        },
        {
         "name": "unassisted systole__measured",
         "rawType": "float64",
         "type": "float"
        },
        {
         "name": "sheath zero/calibrate__measured",
         "rawType": "float64",
         "type": "float"
        },
        {
         "name": "orthostatic hr lying__measured",
         "rawType": "float64",
         "type": "float"
        },
        {
         "name": "estimated energy needs/kg__measured",
         "rawType": "float64",
         "type": "float"
        },
        {
         "name": "ava dressing occlusive__measured",
         "rawType": "float64",
         "type": "float"
        },
        {
         "name": "ammonia__measured_x",
         "rawType": "float64",
         "type": "float"
        },
        {
         "name": "blood glucose__measured",
         "rawType": "float64",
         "type": "float"
        },
        {
         "name": "tcpcv insp. time__measured",
         "rawType": "float64",
         "type": "float"
        },
        {
         "name": "iabp zero/calibrate__measured",
         "rawType": "float64",
         "type": "float"
        },
        {
         "name": "iabp dressing occlusive__measured",
         "rawType": "float64",
         "type": "float"
        },
        {
         "name": "trauma line dressing occlusive__measured",
         "rawType": "float64",
         "type": "float"
        },
        {
         "name": "iabp placed in outside facility__measured",
         "rawType": "float64",
         "type": "float"
        },
        {
         "name": "tcpcv insp. pressure__measured",
         "rawType": "float64",
         "type": "float"
        },
        {
         "name": "iabp volume__measured",
         "rawType": "float64",
         "type": "float"
        },
        {
         "name": "14 gauge placed in the field__measured",
         "rawType": "float64",
         "type": "float"
        },
        {
         "name": "trauma line placed in outside facility__measured",
         "rawType": "float64",
         "type": "float"
        },
        {
         "name": "iabp alarms activated__measured",
         "rawType": "float64",
         "type": "float"
        },
        {
         "name": "impaired skin odor #5__measured",
         "rawType": "float64",
         "type": "float"
        },
        {
         "name": "pressure ulcer stage #4__measured",
         "rawType": "float64",
         "type": "float"
        },
        {
         "name": "neg insp force(>-25)__measured",
         "rawType": "float64",
         "type": "float"
        },
        {
         "name": "tcpcv-map__measured",
         "rawType": "float64",
         "type": "float"
        },
        {
         "name": "rec.breath time(sec)__measured",
         "rawType": "float64",
         "type": "float"
        },
        {
         "name": "estimated protein needs/kg__measured",
         "rawType": "float64",
         "type": "float"
        },
        {
         "name": "epidural total dose (ml)__measured",
         "rawType": "float64",
         "type": "float"
        },
        {
         "name": "gentamycin/random__measured",
         "rawType": "float64",
         "type": "float"
        },
        {
         "name": "gi ph__measured",
         "rawType": "float64",
         "type": "float"
        },
        {
         "name": "rec. breath pressure__measured",
         "rawType": "float64",
         "type": "float"
        },
        {
         "name": "mean paw__measured",
         "rawType": "float64",
         "type": "float"
        },
        {
         "name": "impaired skin length #4__measured",
         "rawType": "float64",
         "type": "float"
        },
        {
         "name": "ava line placed in outside facility__measured",
         "rawType": "float64",
         "type": "float"
        },
        {
         "name": "sv (arterial)__measured",
         "rawType": "float64",
         "type": "float"
        },
        {
         "name": "delta p__measured",
         "rawType": "float64",
         "type": "float"
        },
        {
         "name": "hertz__measured",
         "rawType": "float64",
         "type": "float"
        },
        {
         "name": "insp time %__measured",
         "rawType": "float64",
         "type": "float"
        },
        {
         "name": "mdi #3 [puff]__measured",
         "rawType": "float64",
         "type": "float"
        },
        {
         "name": "impaired skin width #4__measured",
         "rawType": "float64",
         "type": "float"
        },
        {
         "name": "remote alarm [d]__measured",
         "rawType": "float64",
         "type": "float"
        },
        {
         "name": "hemodialysis output__measured",
         "rawType": "float64",
         "type": "float"
        },
        {
         "name": "mawp alarm [low]__measured",
         "rawType": "float64",
         "type": "float"
        },
        {
         "name": "mawp alarm [high]__measured",
         "rawType": "float64",
         "type": "float"
        },
        {
         "name": "remote alarm [s]__measured",
         "rawType": "float64",
         "type": "float"
        },
        {
         "name": "arctic sun/alsius temp #1 c__measured",
         "rawType": "float64",
         "type": "float"
        },
        {
         "name": "ultrafiltrate output__measured",
         "rawType": "float64",
         "type": "float"
        },
        {
         "name": "calcium   (8.8-10.8)__measured",
         "rawType": "float64",
         "type": "float"
        },
        {
         "name": "permanent pacemaker rate__measured",
         "rawType": "float64",
         "type": "float"
        },
        {
         "name": "vancomycin/trough__measured",
         "rawType": "float64",
         "type": "float"
        },
        {
         "name": "abi brachial bp [right]__measured",
         "rawType": "float64",
         "type": "float"
        },
        {
         "name": "abi ankle bp [right]__measured",
         "rawType": "float64",
         "type": "float"
        },
        {
         "name": "abi (r)__measured",
         "rawType": "float64",
         "type": "float"
        },
        {
         "name": "arctic sun/alsius set temp__measured",
         "rawType": "float64",
         "type": "float"
        },
        {
         "name": "abi brachial bp [left]__measured",
         "rawType": "float64",
         "type": "float"
        },
        {
         "name": "arctic sun/alsius temp #2 c__measured",
         "rawType": "float64",
         "type": "float"
        },
        {
         "name": "abi (l)__measured",
         "rawType": "float64",
         "type": "float"
        },
        {
         "name": "abi ankle bp [left]__measured",
         "rawType": "float64",
         "type": "float"
        },
        {
         "name": "sgot__measured",
         "rawType": "float64",
         "type": "float"
        },
        {
         "name": "sgpt__measured",
         "rawType": "float64",
         "type": "float"
        },
        {
         "name": "arctic sun water temp__measured",
         "rawType": "float64",
         "type": "float"
        },
        {
         "name": "orthostat bp sitting [systolic]__measured",
         "rawType": "float64",
         "type": "float"
        },
        {
         "name": "orthostat bp sitting [diastolic]__measured",
         "rawType": "float64",
         "type": "float"
        },
        {
         "name": "gentamicin pre (0-2)__measured",
         "rawType": "float64",
         "type": "float"
        },
        {
         "name": "bipap epap__measured",
         "rawType": "float64",
         "type": "float"
        },
        {
         "name": "edvi__measured",
         "rawType": "float64",
         "type": "float"
        },
        {
         "name": "low risk (25-50) interventions__measured",
         "rawType": "float64",
         "type": "float"
        },
        {
         "name": "orthostat hr sitting__measured",
         "rawType": "float64",
         "type": "float"
        },
        {
         "name": "art lumen volume__measured",
         "rawType": "float64",
         "type": "float"
        },
        {
         "name": "bipap o2 flow__measured",
         "rawType": "float64",
         "type": "float"
        },
        {
         "name": "ven lumen volume__measured",
         "rawType": "float64",
         "type": "float"
        },
        {
         "name": "ldl measured__measured",
         "rawType": "float64",
         "type": "float"
        },
        {
         "name": "money given to hospital cashier__measured",
         "rawType": "float64",
         "type": "float"
        },
        {
         "name": "ava line zero/calibrate__measured",
         "rawType": "float64",
         "type": "float"
        },
        {
         "name": "orthostatic bp lying [systolic]__measured",
         "rawType": "float64",
         "type": "float"
        },
        {
         "name": "cam-icu disorganized thinking__measured",
         "rawType": "float64",
         "type": "float"
        },
        {
         "name": "orthostatic bp lying [diastolic]__measured",
         "rawType": "float64",
         "type": "float"
        },
        {
         "name": "access pressure__measured",
         "rawType": "float64",
         "type": "float"
        },
        {
         "name": "dialysate rate__measured",
         "rawType": "float64",
         "type": "float"
        },
        {
         "name": "hourly patient fluid removal__measured",
         "rawType": "float64",
         "type": "float"
        },
        {
         "name": "replacement rate__measured",
         "rawType": "float64",
         "type": "float"
        },
        {
         "name": "blood flow (ml/min)__measured",
         "rawType": "float64",
         "type": "float"
        },
        {
         "name": "filter pressure__measured",
         "rawType": "float64",
         "type": "float"
        },
        {
         "name": "cco pac line tip cultured__measured",
         "rawType": "float64",
         "type": "float"
        },
        {
         "name": "return pressure__measured",
         "rawType": "float64",
         "type": "float"
        },
        {
         "name": "effluent pressure__measured",
         "rawType": "float64",
         "type": "float"
        },
        {
         "name": "restraints ordered__measured",
         "rawType": "float64",
         "type": "float"
        },
        {
         "name": "length in inches__measured",
         "rawType": "float64",
         "type": "float"
        },
        {
         "name": "length   calc   (cm)__measured",
         "rawType": "float64",
         "type": "float"
        },
        {
         "name": "apnea__measured",
         "rawType": "float64",
         "type": "float"
        },
        {
         "name": "tcp02__measured",
         "rawType": "float64",
         "type": "float"
        },
        {
         "name": "sweating__measured",
         "rawType": "float64",
         "type": "float"
        },
        {
         "name": "total granulocyte count (tgc)__measured",
         "rawType": "float64",
         "type": "float"
        },
        {
         "name": "restlessness__measured",
         "rawType": "float64",
         "type": "float"
        },
        {
         "name": "nausea and vomiting (cina)__measured",
         "rawType": "float64",
         "type": "float"
        },
        {
         "name": "pupils__measured",
         "rawType": "float64",
         "type": "float"
        },
        {
         "name": "lacrimation__measured",
         "rawType": "float64",
         "type": "float"
        },
        {
         "name": "muscle aches__measured",
         "rawType": "float64",
         "type": "float"
        },
        {
         "name": "nasal congestion__measured",
         "rawType": "float64",
         "type": "float"
        },
        {
         "name": "changes in temperature__measured",
         "rawType": "float64",
         "type": "float"
        },
        {
         "name": "tremor (cina)__measured",
         "rawType": "float64",
         "type": "float"
        },
        {
         "name": "yawning__measured",
         "rawType": "float64",
         "type": "float"
        },
        {
         "name": "replace rate ml/hr__measured",
         "rawType": "float64",
         "type": "float"
        },
        {
         "name": "bipap ipap__measured",
         "rawType": "float64",
         "type": "float"
        },
        {
         "name": "goose flesh__measured",
         "rawType": "float64",
         "type": "float"
        },
        {
         "name": "high mv limit__measured",
         "rawType": "float64",
         "type": "float"
        },
        {
         "name": "blood flow ml/min__measured",
         "rawType": "float64",
         "type": "float"
        },
        {
         "name": "abdominal changes: observation__measured",
         "rawType": "float64",
         "type": "float"
        },
        {
         "name": "access mmhg__measured",
         "rawType": "float64",
         "type": "float"
        },
        {
         "name": "pulsus paradoxus__measured",
         "rawType": "float64",
         "type": "float"
        },
        {
         "name": "triglyceride (0-250)__measured",
         "rawType": "float64",
         "type": "float"
        },
        {
         "name": "filter pressure mmhg__measured",
         "rawType": "float64",
         "type": "float"
        },
        {
         "name": "high ve__measured",
         "rawType": "float64",
         "type": "float"
        },
        {
         "name": "return pressure mmhg__measured",
         "rawType": "float64",
         "type": "float"
        },
        {
         "name": "effluent press mmhg__measured",
         "rawType": "float64",
         "type": "float"
        },
        {
         "name": "tylenol__measured",
         "rawType": "float64",
         "type": "float"
        },
        {
         "name": "presep catheter placed in outside facility__measured",
         "rawType": "float64",
         "type": "float"
        },
        {
         "name": "o2 sat [pre]__measured",
         "rawType": "float64",
         "type": "float"
        },
        {
         "name": "impaired skin depth #3__measured",
         "rawType": "float64",
         "type": "float"
        },
        {
         "name": "presep catheter dressing occlusive__measured",
         "rawType": "float64",
         "type": "float"
        },
        {
         "name": "o2 sat [post]__measured",
         "rawType": "float64",
         "type": "float"
        },
        {
         "name": "dialysate flow ml/hr__measured",
         "rawType": "float64",
         "type": "float"
        },
        {
         "name": "in-line suction catheter changed__measured",
         "rawType": "float64",
         "type": "float"
        },
        {
         "name": "t low (aprv)__measured",
         "rawType": "float64",
         "type": "float"
        },
        {
         "name": "cyclosporin__measured_x",
         "rawType": "float64",
         "type": "float"
        },
        {
         "name": "bipap - bpm__measured",
         "rawType": "float64",
         "type": "float"
        },
        {
         "name": "p high (aprv)__measured",
         "rawType": "float64",
         "type": "float"
        },
        {
         "name": "impaired skin odor #6__measured",
         "rawType": "float64",
         "type": "float"
        },
        {
         "name": "alkaline phosphatase__measured_x",
         "rawType": "float64",
         "type": "float"
        },
        {
         "name": "recruitment duration__measured",
         "rawType": "float64",
         "type": "float"
        },
        {
         "name": "t high (aprv)__measured",
         "rawType": "float64",
         "type": "float"
        },
        {
         "name": "midline dressing occlusive__measured",
         "rawType": "float64",
         "type": "float"
        },
        {
         "name": "p low (aprv)__measured",
         "rawType": "float64",
         "type": "float"
        },
        {
         "name": "presep catheter zero/calibrate__measured",
         "rawType": "float64",
         "type": "float"
        },
        {
         "name": "orthostatic bps lying__measured",
         "rawType": "float64",
         "type": "float"
        },
        {
         "name": "orthostatic bps sitting__measured",
         "rawType": "float64",
         "type": "float"
        },
        {
         "name": "orthostatic bpd sitting__measured",
         "rawType": "float64",
         "type": "float"
        },
        {
         "name": "orthostatic hr sitting__measured",
         "rawType": "float64",
         "type": "float"
        },
        {
         "name": "orthostatic bpd lying__measured",
         "rawType": "float64",
         "type": "float"
        },
        {
         "name": "hourly pfr__measured",
         "rawType": "float64",
         "type": "float"
        },
        {
         "name": "recruitment press__measured",
         "rawType": "float64",
         "type": "float"
        },
        {
         "name": "transpulmonary pressure (insp. hold)__measured",
         "rawType": "float64",
         "type": "float"
        },
        {
         "name": "transpulmonary pressure (exp. hold)__measured",
         "rawType": "float64",
         "type": "float"
        },
        {
         "name": "gentamycin/trough__measured",
         "rawType": "float64",
         "type": "float"
        },
        {
         "name": "midline placed in outside facility__measured",
         "rawType": "float64",
         "type": "float"
        },
        {
         "name": "picc line tip cultured__measured",
         "rawType": "float64",
         "type": "float"
        },
        {
         "name": "pressure ulcer stage #5__measured",
         "rawType": "float64",
         "type": "float"
        },
        {
         "name": "impaired skin length #5__measured",
         "rawType": "float64",
         "type": "float"
        },
        {
         "name": "pbp (prefilter) replacement rate__measured",
         "rawType": "float64",
         "type": "float"
        },
        {
         "name": "citrate (acd-a)__measured",
         "rawType": "float64",
         "type": "float"
        },
        {
         "name": "low exhaled vt__measured",
         "rawType": "float64",
         "type": "float"
        },
        {
         "name": "impaired skin width #5__measured",
         "rawType": "float64",
         "type": "float"
        },
        {
         "name": "pulses paradoxus__measured",
         "rawType": "float64",
         "type": "float"
        },
        {
         "name": "vital cap__measured",
         "rawType": "float64",
         "type": "float"
        },
        {
         "name": "vital cap (>1.0)l__measured",
         "rawType": "float64",
         "type": "float"
        },
        {
         "name": "gentamycin/peak__measured",
         "rawType": "float64",
         "type": "float"
        },
        {
         "name": "protime__measured",
         "rawType": "float64",
         "type": "float"
        },
        {
         "name": "orthostatbp standing [diastolic]__measured",
         "rawType": "float64",
         "type": "float"
        },
        {
         "name": "phenobarbital__measured_x",
         "rawType": "float64",
         "type": "float"
        },
        {
         "name": "orthostatbp standing [systolic]__measured",
         "rawType": "float64",
         "type": "float"
        },
        {
         "name": "small volume neb dose #2__measured",
         "rawType": "float64",
         "type": "float"
        },
        {
         "name": "orthostathr standing__measured",
         "rawType": "float64",
         "type": "float"
        },
        {
         "name": "post filter replacement rate__measured",
         "rawType": "float64",
         "type": "float"
        },
        {
         "name": "abg hct__measured",
         "rawType": "float64",
         "type": "float"
        },
        {
         "name": "high exhaled min vol__measured",
         "rawType": "float64",
         "type": "float"
        },
        {
         "name": "heparin dose (per hour)__measured",
         "rawType": "float64",
         "type": "float"
        },
        {
         "name": "orthostatic bps standing__measured",
         "rawType": "float64",
         "type": "float"
        },
        {
         "name": "orthostatic bpd standing__measured",
         "rawType": "float64",
         "type": "float"
        },
        {
         "name": "patient/family informed_v1__measured",
         "rawType": "float64",
         "type": "float"
        },
        {
         "name": "low peep__measured",
         "rawType": "float64",
         "type": "float"
        },
        {
         "name": "shivering assessment__measured",
         "rawType": "float64",
         "type": "float"
        },
        {
         "name": "gentamicin post 5-10__measured",
         "rawType": "float64",
         "type": "float"
        },
        {
         "name": "negative insp. force__measured",
         "rawType": "float64",
         "type": "float"
        },
        {
         "name": "orthostatic hr standing__measured",
         "rawType": "float64",
         "type": "float"
        },
        {
         "name": "cardiac index (ci nicom)__measured",
         "rawType": "float64",
         "type": "float"
        },
        {
         "name": "apnea [duration]__measured",
         "rawType": "float64",
         "type": "float"
        },
        {
         "name": "flow rate (l/min)__measured",
         "rawType": "float64",
         "type": "float"
        },
        {
         "name": "temporary av interval__measured",
         "rawType": "float64",
         "type": "float"
        },
        {
         "name": "pacer wires ground__measured",
         "rawType": "float64",
         "type": "float"
        },
        {
         "name": "stroke volume variation (svv nicom)__measured",
         "rawType": "float64",
         "type": "float"
        },
        {
         "name": "emesis [ph]__measured",
         "rawType": "float64",
         "type": "float"
        },
        {
         "name": "pericardial drain aspiration__measured",
         "rawType": "float64",
         "type": "float"
        },
        {
         "name": "high min vol__measured",
         "rawType": "float64",
         "type": "float"
        },
        {
         "name": "medication infusion rate - adjunctive pain management__measured",
         "rawType": "float64",
         "type": "float"
        },
        {
         "name": "stroke volume index (svi nicom)__measured",
         "rawType": "float64",
         "type": "float"
        },
        {
         "name": "thrombin__measured_x",
         "rawType": "float64",
         "type": "float"
        },
        {
         "name": "cvo2__measured",
         "rawType": "float64",
         "type": "float"
        },
        {
         "name": "hi mv__measured",
         "rawType": "float64",
         "type": "float"
        },
        {
         "name": "passive leg raise performed__measured",
         "rawType": "float64",
         "type": "float"
        },
        {
         "name": "hi/minute/vol__measured",
         "rawType": "float64",
         "type": "float"
        },
        {
         "name": "hi/minute/vol/alarm__measured",
         "rawType": "float64",
         "type": "float"
        },
        {
         "name": "pericardial drain flush__measured",
         "rawType": "float64",
         "type": "float"
        },
        {
         "name": "ethanol__measured_x",
         "rawType": "float64",
         "type": "float"
        },
        {
         "name": "cardiac output (co nicom)__measured",
         "rawType": "float64",
         "type": "float"
        },
        {
         "name": "pin care__measured",
         "rawType": "float64",
         "type": "float"
        },
        {
         "name": "high/min/vent__measured",
         "rawType": "float64",
         "type": "float"
        },
        {
         "name": "intra aortic ballon pump setting__measured",
         "rawType": "float64",
         "type": "float"
        },
        {
         "name": "iv drip dose #1__measured",
         "rawType": "float64",
         "type": "float"
        },
        {
         "name": "impaired skin depth #4__measured",
         "rawType": "float64",
         "type": "float"
        },
        {
         "name": "scvo2 (presep)__measured",
         "rawType": "float64",
         "type": "float"
        },
        {
         "name": "impaired skin odor #7__measured",
         "rawType": "float64",
         "type": "float"
        },
        {
         "name": "impaired skin width #6__measured",
         "rawType": "float64",
         "type": "float"
        },
        {
         "name": "mdi #3 puff__measured",
         "rawType": "float64",
         "type": "float"
        },
        {
         "name": "impaired skin length #6__measured",
         "rawType": "float64",
         "type": "float"
        },
        {
         "name": "pcv set insp. press__measured",
         "rawType": "float64",
         "type": "float"
        },
        {
         "name": "pressure ulcer stage #6__measured",
         "rawType": "float64",
         "type": "float"
        },
        {
         "name": "stroke volume (sv nicom)__measured",
         "rawType": "float64",
         "type": "float"
        },
        {
         "name": "vision - epap__measured",
         "rawType": "float64",
         "type": "float"
        },
        {
         "name": "ric dressing occlusive__measured",
         "rawType": "float64",
         "type": "float"
        },
        {
         "name": "abg potassium__measured",
         "rawType": "float64",
         "type": "float"
        },
        {
         "name": "ric placed in outside facility__measured",
         "rawType": "float64",
         "type": "float"
        },
        {
         "name": "ci (picco)__measured",
         "rawType": "float64",
         "type": "float"
        },
        {
         "name": "vision - ipap__measured",
         "rawType": "float64",
         "type": "float"
        },
        {
         "name": "tunneled (hickman) placed in outside facility__measured",
         "rawType": "float64",
         "type": "float"
        },
        {
         "name": "skeletal traction #1 - pounds__measured",
         "rawType": "float64",
         "type": "float"
        },
        {
         "name": "tunneled (hickman) dressing occlusive__measured",
         "rawType": "float64",
         "type": "float"
        },
        {
         "name": "vision fio2__measured",
         "rawType": "float64",
         "type": "float"
        },
        {
         "name": "gentamicin (trough)__measured",
         "rawType": "float64",
         "type": "float"
        },
        {
         "name": "high mv.__measured",
         "rawType": "float64",
         "type": "float"
        },
        {
         "name": "bipap - est. vt__measured",
         "rawType": "float64",
         "type": "float"
        },
        {
         "name": "high minute vent.__measured",
         "rawType": "float64",
         "type": "float"
        },
        {
         "name": "svi (picco)__measured",
         "rawType": "float64",
         "type": "float"
        },
        {
         "name": "ion calcium__measured",
         "rawType": "float64",
         "type": "float"
        },
        {
         "name": "co (picco)__measured",
         "rawType": "float64",
         "type": "float"
        },
        {
         "name": "vancomycin/peak__measured",
         "rawType": "float64",
         "type": "float"
        },
        {
         "name": "avdo2__measured",
         "rawType": "float64",
         "type": "float"
        },
        {
         "name": "driving pressure__measured",
         "rawType": "float64",
         "type": "float"
        },
        {
         "name": "gentamicin (random)__measured",
         "rawType": "float64",
         "type": "float"
        },
        {
         "name": "svi change__measured",
         "rawType": "float64",
         "type": "float"
        },
        {
         "name": "sheath line tip cultured__measured",
         "rawType": "float64",
         "type": "float"
        },
        {
         "name": "protonix__measured",
         "rawType": "float64",
         "type": "float"
        },
        {
         "name": "peak exp flow rate__measured",
         "rawType": "float64",
         "type": "float"
        },
        {
         "name": "rest o2 sat - aerobic activity response__measured",
         "rawType": "float64",
         "type": "float"
        },
        {
         "name": "rest hr -  aerobic activity response__measured",
         "rawType": "float64",
         "type": "float"
        },
        {
         "name": "rest o2 sat - aerobic capacity__measured",
         "rawType": "float64",
         "type": "float"
        },
        {
         "name": "vision rate__measured",
         "rawType": "float64",
         "type": "float"
        },
        {
         "name": "rest hr - aerobic capacity__measured",
         "rawType": "float64",
         "type": "float"
        },
        {
         "name": "pcv level (avea)__measured",
         "rawType": "float64",
         "type": "float"
        },
        {
         "name": "high min vent__measured",
         "rawType": "float64",
         "type": "float"
        },
        {
         "name": "re-admit < 48 hours__measured",
         "rawType": "float64",
         "type": "float"
        },
        {
         "name": "dialysis catheter tip cultured__measured",
         "rawType": "float64",
         "type": "float"
        },
        {
         "name": "o2 sat w/seizure__measured",
         "rawType": "float64",
         "type": "float"
        },
        {
         "name": "doppler bp__measured",
         "rawType": "float64",
         "type": "float"
        },
        {
         "name": "o2er__measured",
         "rawType": "float64",
         "type": "float"
        },
        {
         "name": "activity hr - aerobic activity response__measured",
         "rawType": "float64",
         "type": "float"
        },
        {
         "name": "albumin  (3.9-4.8)__measured",
         "rawType": "float64",
         "type": "float"
        },
        {
         "name": "solumedrol__measured",
         "rawType": "float64",
         "type": "float"
        },
        {
         "name": "phenytoin (free)__measured",
         "rawType": "float64",
         "type": "float"
        },
        {
         "name": "rest rr - aerobic activity response__measured",
         "rawType": "float64",
         "type": "float"
        },
        {
         "name": "rest rr - aerobic capacity__measured",
         "rawType": "float64",
         "type": "float"
        },
        {
         "name": "impaired skin length #7__measured",
         "rawType": "float64",
         "type": "float"
        },
        {
         "name": "impaired skin width #7__measured",
         "rawType": "float64",
         "type": "float"
        },
        {
         "name": "triple introducer placed in outside facility__measured",
         "rawType": "float64",
         "type": "float"
        },
        {
         "name": "volume in (pd)__measured",
         "rawType": "float64",
         "type": "float"
        },
        {
         "name": "activity o2 sat - aerobic activity response__measured",
         "rawType": "float64",
         "type": "float"
        },
        {
         "name": "trauma line tip cultured__measured",
         "rawType": "float64",
         "type": "float"
        },
        {
         "name": "theophylline__measured_x",
         "rawType": "float64",
         "type": "float"
        },
        {
         "name": "co / ci change__measured",
         "rawType": "float64",
         "type": "float"
        },
        {
         "name": "phenobarbitol(15-40)__measured",
         "rawType": "float64",
         "type": "float"
        },
        {
         "name": "calibrated (picco)__measured",
         "rawType": "float64",
         "type": "float"
        },
        {
         "name": "total peripheral resistance index (tpri) (nicom)__measured",
         "rawType": "float64",
         "type": "float"
        },
        {
         "name": "pheresis catheter dressing occlusive__measured",
         "rawType": "float64",
         "type": "float"
        },
        {
         "name": "pheresis catheter placed in outside facility__measured",
         "rawType": "float64",
         "type": "float"
        },
        {
         "name": "activity rr - aerobic activity response__measured",
         "rawType": "float64",
         "type": "float"
        },
        {
         "name": "activity o2 sat - aerobic capacity__measured",
         "rawType": "float64",
         "type": "float"
        },
        {
         "name": "gedi (picco)__measured",
         "rawType": "float64",
         "type": "float"
        },
        {
         "name": "vo2i__measured",
         "rawType": "float64",
         "type": "float"
        },
        {
         "name": "activity hr - aerobic capacity__measured",
         "rawType": "float64",
         "type": "float"
        },
        {
         "name": "recovery o2 sat - aerobic capacity__measured",
         "rawType": "float64",
         "type": "float"
        },
        {
         "name": "recovery o2 sat - aerobic activity response__measured",
         "rawType": "float64",
         "type": "float"
        },
        {
         "name": "medication bolus - adjunctive pain management__measured",
         "rawType": "float64",
         "type": "float"
        },
        {
         "name": "recovery hr - aerobic activity response__measured",
         "rawType": "float64",
         "type": "float"
        },
        {
         "name": "elwi (picco)__measured",
         "rawType": "float64",
         "type": "float"
        },
        {
         "name": "triple introducer dressing occlusive__measured",
         "rawType": "float64",
         "type": "float"
        },
        {
         "name": "vo2__measured",
         "rawType": "float64",
         "type": "float"
        },
        {
         "name": "thrombin (16-21)__measured",
         "rawType": "float64",
         "type": "float"
        },
        {
         "name": "svv (picco)__measured",
         "rawType": "float64",
         "type": "float"
        },
        {
         "name": "abg chloirde__measured",
         "rawType": "float64",
         "type": "float"
        },
        {
         "name": "abg chloride__measured",
         "rawType": "float64",
         "type": "float"
        },
        {
         "name": "high mv alarm__measured",
         "rawType": "float64",
         "type": "float"
        },
        {
         "name": "high min. vol__measured",
         "rawType": "float64",
         "type": "float"
        },
        {
         "name": "atc %__measured",
         "rawType": "float64",
         "type": "float"
        },
        {
         "name": "svri (picco)__measured",
         "rawType": "float64",
         "type": "float"
        },
        {
         "name": "volume out (pd)__measured",
         "rawType": "float64",
         "type": "float"
        },
        {
         "name": "tcpcv i:e ratio__measured",
         "rawType": "float64",
         "type": "float"
        },
        {
         "name": "additional gas (lpm)__measured",
         "rawType": "float64",
         "type": "float"
        },
        {
         "name": "activity rr - aerobic capacity__measured",
         "rawType": "float64",
         "type": "float"
        },
        {
         "name": "aprotinin cc/hr__measured",
         "rawType": "float64",
         "type": "float"
        },
        {
         "name": "recovery rr - aerobic capacity__measured",
         "rawType": "float64",
         "type": "float"
        },
        {
         "name": "pressure ulcer stage #7__measured",
         "rawType": "float64",
         "type": "float"
        },
        {
         "name": "recovery hr - aerobic capacity__measured",
         "rawType": "float64",
         "type": "float"
        },
        {
         "name": "enema administration__measured",
         "rawType": "float64",
         "type": "float"
        },
        {
         "name": "ostomy care__measured",
         "rawType": "float64",
         "type": "float"
        },
        {
         "name": "impaired skin odor #8__measured",
         "rawType": "float64",
         "type": "float"
        },
        {
         "name": "hi ve__measured",
         "rawType": "float64",
         "type": "float"
        },
        {
         "name": "gentamicin (peak)__measured",
         "rawType": "float64",
         "type": "float"
        },
        {
         "name": "ava line tip cultured__measured",
         "rawType": "float64",
         "type": "float"
        },
        {
         "name": "abi brachial bp l__measured",
         "rawType": "float64",
         "type": "float"
        },
        {
         "name": "abi ankle bp r__measured",
         "rawType": "float64",
         "type": "float"
        },
        {
         "name": "impaired skin depth #6__measured",
         "rawType": "float64",
         "type": "float"
        },
        {
         "name": "dwell time (peritoneal dialysis)__measured",
         "rawType": "float64",
         "type": "float"
        },
        {
         "name": "cfi (picco)__measured",
         "rawType": "float64",
         "type": "float"
        },
        {
         "name": "presep catheter line tip cultured__measured",
         "rawType": "float64",
         "type": "float"
        },
        {
         "name": "total peripheral resistance (tpr) (nicom)__measured",
         "rawType": "float64",
         "type": "float"
        },
        {
         "name": "solumedrol mg/kg/hr__measured",
         "rawType": "float64",
         "type": "float"
        },
        {
         "name": "seizure [duration, seconds]__measured",
         "rawType": "float64",
         "type": "float"
        },
        {
         "name": "hi min vol__measured",
         "rawType": "float64",
         "type": "float"
        },
        {
         "name": "icp line tip cultured__measured",
         "rawType": "float64",
         "type": "float"
        },
        {
         "name": "pcv insp vt (obser)__measured",
         "rawType": "float64",
         "type": "float"
        },
        {
         "name": "bipap bpm (s/t -back up)__measured",
         "rawType": "float64",
         "type": "float"
        },
        {
         "name": "transcut pacer rate__measured",
         "rawType": "float64",
         "type": "float"
        },
        {
         "name": "nitric oxide__measured",
         "rawType": "float64",
         "type": "float"
        },
        {
         "name": "impaired skin depth #5__measured",
         "rawType": "float64",
         "type": "float"
        },
        {
         "name": "pantoprazole__measured",
         "rawType": "float64",
         "type": "float"
        },
        {
         "name": "recovery rr - aerobic activity response__measured",
         "rawType": "float64",
         "type": "float"
        },
        {
         "name": "high min. vol.__measured",
         "rawType": "float64",
         "type": "float"
        },
        {
         "name": "tco2 [value]__measured",
         "rawType": "float64",
         "type": "float"
        },
        {
         "name": "impaired skin width #8__measured",
         "rawType": "float64",
         "type": "float"
        },
        {
         "name": "impaired skin length #8__measured",
         "rawType": "float64",
         "type": "float"
        },
        {
         "name": "nitric oxide tank pressure__measured",
         "rawType": "float64",
         "type": "float"
        },
        {
         "name": "impaired skin odor #9__measured",
         "rawType": "float64",
         "type": "float"
        },
        {
         "name": "replogle irrigation__measured",
         "rawType": "float64",
         "type": "float"
        },
        {
         "name": "patient agrees with the above goals and is willing to participate in the rehabilitation program__measured",
         "rawType": "float64",
         "type": "float"
        },
        {
         "name": "protonix mg/hr__measured",
         "rawType": "float64",
         "type": "float"
        },
        {
         "name": "aprotinin__measured",
         "rawType": "float64",
         "type": "float"
        },
        {
         "name": "tobramycin (random)__measured",
         "rawType": "float64",
         "type": "float"
        },
        {
         "name": "apnea time__measured",
         "rawType": "float64",
         "type": "float"
        },
        {
         "name": "triple introducer zero/calibrate__measured",
         "rawType": "float64",
         "type": "float"
        },
        {
         "name": "zzzgth   calc   (cm)__measured",
         "rawType": "float64",
         "type": "float"
        },
        {
         "name": "zzzzth in centimeter__measured",
         "rawType": "float64",
         "type": "float"
        },
        {
         "name": "abg sodium__measured",
         "rawType": "float64",
         "type": "float"
        },
        {
         "name": "abdominal girth__measured",
         "rawType": "float64",
         "type": "float"
        },
        {
         "name": "heparin dose__measured",
         "rawType": "float64",
         "type": "float"
        },
        {
         "name": "xigris__measured",
         "rawType": "float64",
         "type": "float"
        },
        {
         "name": "abi ankle bp l (impella)__measured",
         "rawType": "float64",
         "type": "float"
        },
        {
         "name": "abi brachial bp r (impella)__measured",
         "rawType": "float64",
         "type": "float"
        },
        {
         "name": "spont. resp. rate__measured",
         "rawType": "float64",
         "type": "float"
        },
        {
         "name": "vad beat rate [left]__measured",
         "rawType": "float64",
         "type": "float"
        },
        {
         "name": "vd/vt ratio (40-60%)__measured",
         "rawType": "float64",
         "type": "float"
        },
        {
         "name": "zzz stim thresh ma [value]__measured",
         "rawType": "float64",
         "type": "float"
        },
        {
         "name": "micro-neb treatment__measured",
         "rawType": "float64",
         "type": "float"
        }
       ],
       "ref": "cda59aff-f803-4765-b48e-093950a58ba2",
       "rows": [
        [
         "1000",
         null,
         null,
         null,
         null,
         null,
         null,
         null,
         null,
         null,
         null,
         null,
         "14.900001525878906",
         "47.900001525878906",
         null,
         null,
         null,
         null,
         "10.53589211863888",
         "69.70294318959617",
         "20",
         "1",
         "1",
         "0",
         "0",
         "1",
         "1",
         "0",
         "0",
         "0",
         "1.0",
         "0.0",
         "0.0",
         "0.0",
         "0.0",
         "0.0",
         "0.0",
         "0.0",
         "0.0",
         "0.0",
         "1.0",
         "1.0",
         "0.0",
         "0.0",
         "1.0",
         "1.0",
         "0.0",
         "1.0",
         "0.0",
         "0.0",
         "0.0",
         "0.0",
         "0.0",
         "0.0",
         "0.0",
         "0.0",
         "1.0",
         "0.0",
         "1.0",
         "1.0",
         "1.0",
         "0.0",
         "1.0",
         "0.0",
         "0.0",
         "0.0",
         "0.0",
         "0.0",
         "0.0",
         "0.0",
         "0.0",
         "1.0",
         "0.0",
         "0.0",
         "0.0",
         "0.0",
         "0.0",
         "1.0",
         "1.0",
         "1.0",
         "0.0",
         "0.0",
         "0.0",
         "0.0",
         "0.0",
         "0.0",
         "0.0",
         "0.0",
         "0.0",
         "0.0",
         "0.0",
         "0.0",
         "0.0",
         "0.0",
         "0.0",
         "1.0",
         "0.0",
         "0.0",
         "1.0",
         "1.0",
         "1.0",
         "0.0",
         "1.0",
         "0.0",
         "0.0",
         "0.0",
         "0.0",
         "0.0",
         "0.0",
         "0.0",
         "0.0",
         "0.0",
         "0.0",
         "0.0",
         "0.0",
         "0.0",
         "1.0",
         "0.0",
         "0.0",
         "0.0",
         "0.0",
         "0.0",
         "0.0",
         "0.0",
         "1.0",
         "1.0",
         "1.0",
         "1.0",
         "1.0",
         "1.0",
         "1.0",
         "0.0",
         "1.0",
         "1.0",
         "0.0",
         "0.0",
         "0.0",
         "0.0",
         "0.0",
         "1.0",
         "0.0",
         "0.0",
         "0.0",
         "0.0",
         "0.0",
         "0.0",
         "0.0",
         "0.0",
         "0.0",
         "0.0",
         "0.0",
         "0.0",
         "0.0",
         "0.0",
         "0.0",
         "0.0",
         "0.0",
         "0.0",
         "0.0",
         "0.0",
         "0.0",
         "0.0",
         "0.0",
         "0.0",
         "0.0",
         "0.0",
         "0.0",
         "0.0",
         "0.0",
         "0.0",
         "0.0",
         "0.0",
         "0.0",
         "0.0",
         "0.0",
         "0.0",
         "0.0",
         "0.0",
         "0.0",
         "0.0",
         "0.0",
         "0.0",
         "0.0",
         "0.0",
         "0.0",
         "0.0",
         "0.0",
         "0.0",
         "0.0",
         "0.0",
         "0.0",
         "0.0",
         "0.0",
         "0.0",
         "0.0",
         "0.0",
         "0.0",
         "0.0",
         "0.0",
         "0.0",
         "0.0",
         "0.0",
         "0.0",
         "0.0",
         "0.0",
         "0.0",
         "0.0",
         "0.0",
         "0.0",
         "0.0",
         "0.0",
         "0.0",
         "0.0",
         "0.0",
         "0.0",
         "0.0",
         "0.0",
         "0.0",
         "0.0",
         "0.0",
         "0.0",
         "0.0",
         "0.0",
         "0.0",
         "0.0",
         "0.0",
         "0.0",
         "0.0",
         "0.0",
         "0.0",
         "0.0",
         "0.0",
         "0.0",
         "0.0",
         "0.0",
         "0.0",
         "0.0",
         "0.0",
         "0.0",
         "0.0",
         "0.0",
         "0.0",
         "0.0",
         "0.0",
         "0.0",
         "0.0",
         "0.0",
         "0.0",
         "0.0",
         "0.0",
         "0.0",
         "0.0",
         "0.0",
         "0.0",
         "0.0",
         "0.0",
         "0.0",
         "0.0",
         "0.0",
         "0.0",
         "0.0",
         "0.0",
         "0.0",
         "0.0",
         "0.0",
         "0.0",
         "0.0",
         "0.0",
         "0.0",
         "0.0",
         "0.0",
         "0.0",
         "0.0",
         "0.0",
         "0.0",
         "0.0",
         "0.0",
         "0.0",
         "0.0",
         "0.0",
         "0.0",
         "0.0",
         "0.0",
         "0.0",
         "0.0",
         "0.0",
         "0.0",
         "0.0",
         "0.0",
         "0.0",
         "0.0",
         "0.0",
         "0.0",
         "0.0",
         "0.0",
         "0.0",
         "0.0",
         "0.0",
         "0.0",
         "0.0",
         "0.0",
         "0.0",
         "0.0",
         "0.0",
         "0.0",
         "0.0",
         "0.0",
         "0.0",
         "0.0",
         "0.0",
         "0.0",
         "0.0",
         "0.0",
         "0.0",
         "0.0",
         "0.0",
         "0.0",
         "0.0",
         "0.0",
         "0.0",
         "0.0",
         "0.0",
         "0.0",
         "0.0",
         "0.0",
         "0.0",
         "0.0",
         "0.0",
         "0.0",
         "0.0",
         "0.0",
         "0.0",
         "0.0",
         "0.0",
         "0.0",
         "0.0",
         "0.0",
         "0.0",
         "0.0",
         "0.0",
         "0.0",
         "0.0",
         "0.0",
         "0.0",
         "0.0",
         "0.0",
         "0.0",
         "0.0",
         "0.0",
         "0.0",
         "0.0",
         "0.0",
         "0.0",
         "0.0",
         "0.0",
         "0.0",
         "0.0",
         "0.0",
         "0.0",
         "0.0",
         "0.0",
         "22.8",
         "31.9",
         "28.5",
         "33.7",
         "10.900000000000002",
         "6.0",
         "344.0",
         "326.0",
         "332.6666666666667",
         "326.0",
         "18.0",
         "3.0",
         "8.1",
         "3.0",
         "11.6",
         "11.6",
         "9.466666666666667",
         "3.5",
         "15.4",
         "12.266666666666666",
         "15.4",
         "9.8",
         "5.6",
         "3.0",
         "3.0",
         "35.4",
         "34.5",
         "34.5",
         "34.833333333333336",
         "0.8999999999999986",
         "84.0",
         "85.33333333333333",
         "84.0",
         "86.0",
         "29.1",
         "29.766666666666666",
         "29.1",
         "30.4",
         "2.0",
         "3.0",
         "3.0",
         "3.0",
         "2.65",
         "1.2999999999999972",
         "3.99",
         "3.186666666666667",
         "3.99",
         "1.3400000000000003",
         "13.8",
         "13.8",
         "13.4",
         "13.2",
         "3.0",
         "0.6000000000000014",
         "40.45000076293945",
         "2.0",
         "4.5",
         "0.40000000000000036",
         "4.3",
         "4.1",
         "4.5",
         "95.0",
         "89.0",
         "95.0",
         "92.0",
         "6.0",
         "2.0",
         "130.0",
         "133.0",
         "133.0",
         "131.5",
         "3.0",
         "2.0",
         "27.0",
         "27.0",
         "30.0",
         "28.5",
         "3.0",
         "2.0",
         "16.0",
         "16.0",
         "15.0",
         "15.5",
         "1.0",
         "2.0",
         null,
         null,
         "1.0",
         "1.0",
         "1.0",
         "1.0",
         "1.0",
         "1.0",
         "1.0",
         "1.0",
         "1.0",
         "1.0",
         "1.0",
         "1.0",
         "1.0",
         "1.0",
         "1.0",
         "1.0",
         "1.0",
         "0.0",
         "1.0",
         "1.0",
         "1.0",
         "1.0",
         "1.0",
         "0.0",
         "1.0",
         "1.0",
         "1.0",
         "0.0",
         "0.0",
         "1.0",
         "1.0",
         "1.0",
         "1.0",
         "1.0",
         "0.0",
         "0.0",
         "1.0",
         "1.0",
         "0.0",
         "0.0",
         "1.0",
         "0.0",
         "0.0",
         "0.0",
         "0.0",
         "0.0",
         "0.0",
         "0.0",
         "0.0",
         "0.0",
         "1.0",
         "0.0",
         "0.0",
         "0.0",
         "0.0",
         "0.0",
         "1.0",
         "0.0",
         "0.0",
         "1.0",
         "0.0",
         "0.0",
         "0.0",
         "0.0",
         "0.0",
         "0.0",
         "0.0",
         "0.0",
         "0.0",
         "0.0",
         "0.0",
         "0.0",
         "0.0",
         "0.0",
         "0.0",
         "0.0",
         "0.0",
         "0.0",
         "0.0",
         "0.0",
         "0.0",
         "0.0",
         "0.0",
         "0.0",
         "0.0",
         "0.0",
         "0.0",
         "0.0",
         "0.0",
         "0.0",
         "0.0",
         "0.0",
         "0.0",
         "1.0",
         "1.0",
         "0.0",
         "0.0",
         "0.0",
         "0.0",
         "0.0",
         "0.0",
         "0.0",
         "0.0",
         "0.0",
         "0.0",
         "0.0",
         "0.0",
         "0.0",
         "0.0",
         "0.0",
         "0.0",
         "0.0",
         "0.0",
         "0.0",
         "0.0",
         "0.0",
         "0.0",
         "1.0",
         "1.0",
         "1.0",
         "0.0",
         "0.0",
         "0.0",
         "0.0",
         "1.0",
         "0.0",
         "0.0",
         "0.0",
         "0.0",
         "0.0",
         "0.0",
         "0.0",
         "0.0",
         "0.0",
         "1.0",
         "0.0",
         "1.0",
         "1.0",
         "1.0",
         "1.0",
         "0.0",
         "0.0",
         "1.0",
         "1.0",
         "1.0",
         "1.0",
         "0.0",
         "0.0",
         "1.0",
         "1.0",
         "0.0",
         "0.0",
         "0.0",
         "0.0",
         "0.0",
         "0.0",
         "0.0",
         "0.0",
         "0.0",
         "1.0",
         "0.0",
         "0.0",
         "0.0",
         "0.0",
         "0.0",
         "0.0",
         "0.0",
         "0.0",
         "0.0",
         "1.0",
         "0.0",
         "0.0",
         "0.0",
         "0.0",
         "0.0",
         "0.0",
         "0.0",
         "1.0",
         "0.0",
         "0.0",
         "0.0",
         "0.0",
         "0.0",
         "1.0",
         "0.0",
         "0.0",
         "0.0",
         "0.0",
         "1.0",
         "0.0",
         "0.0",
         "0.0",
         "0.0",
         "0.0",
         "0.0",
         "0.0",
         "1.0",
         "0.0",
         "0.0",
         "0.0",
         "0.0",
         "0.0",
         "0.0",
         "0.0",
         "0.0",
         "0.0",
         "0.0",
         "0.0",
         "0.0",
         "0.0",
         "0.0",
         "0.0",
         "0.0",
         "0.0",
         "0.0",
         "0.0",
         "0.0",
         "0.0",
         "0.0",
         "0.0",
         "0.0",
         "0.0",
         "0.0",
         "0.0",
         "0.0",
         "0.0",
         "0.0",
         "0.0",
         "0.0",
         "0.0",
         "0.0",
         "0.0",
         "0.0",
         "0.0",
         "0.0",
         "0.0",
         "0.0",
         "0.0",
         "0.0",
         "0.0",
         "0.0",
         "0.0",
         "0.0",
         "0.0",
         "0.0",
         "0.0",
         "0.0",
         "0.0",
         "0.0",
         "0.0",
         "0.0",
         "0.0",
         "0.0",
         "0.0",
         "0.0",
         "0.0",
         "0.0",
         "0.0",
         "0.0",
         "0.0",
         "0.0",
         "0.0",
         "0.0",
         "0.0",
         "0.0",
         "0.0",
         "0.0",
         "0.0",
         "0.0",
         "0.0",
         "0.0",
         "0.0",
         "0.0",
         "0.0",
         "0.0",
         "0.0",
         "0.0",
         "0.0",
         "0.0",
         "0.0",
         "0.0",
         "0.0",
         "0.0",
         "0.0",
         "0.0",
         "0.0",
         "0.0",
         "0.0",
         "0.0",
         "0.0",
         "0.0",
         "0.0",
         "0.0",
         "0.0",
         "0.0",
         "0.0",
         "0.0",
         "0.0",
         "0.0",
         "0.0",
         "0.0",
         "0.0",
         "0.0",
         "0.0",
         "0.0",
         "0.0",
         "0.0",
         "0.0",
         "0.0",
         "0.0",
         "0.0",
         "0.0",
         "0.0",
         "0.0",
         "0.0",
         "0.0",
         "0.0",
         "0.0",
         "0.0",
         "0.0",
         "0.0",
         "0.0",
         "0.0",
         "0.0",
         "0.0",
         "0.0",
         "0.0",
         "0.0",
         "0.0",
         "0.0",
         "0.0",
         "0.0",
         "0.0",
         "0.0",
         "0.0",
         "0.0",
         "0.0",
         "0.0",
         "0.0",
         "0.0",
         "0.0",
         "0.0",
         "0.0",
         "0.0",
         "0.0",
         "0.0",
         "0.0",
         "0.0",
         "0.0",
         "0.0",
         "0.0",
         "0.0",
         "0.0",
         "0.0",
         "0.0",
         "0.0",
         "0.0",
         "0.0",
         "0.0",
         "0.0",
         "0.0",
         "0.0",
         "0.0",
         "0.0",
         "0.0",
         "0.0",
         "0.0",
         "0.0",
         "0.0",
         "0.0",
         "0.0",
         "0.0",
         "1.0",
         "0.0",
         "0.0",
         "0.0",
         "0.0",
         "0.0",
         "0.0",
         "0.0",
         "0.0",
         "0.0",
         "1.0",
         "0.0",
         "0.0",
         "0.0",
         "0.0",
         "0.0",
         "0.0",
         "0.0",
         "0.0",
         "0.0",
         "0.0",
         "0.0",
         "0.0",
         "0.0",
         "0.0",
         "0.0",
         "0.0",
         "0.0",
         "0.0",
         "0.0",
         "0.0",
         "0.0",
         "0.0",
         "0.0",
         "0.0",
         "0.0",
         "0.0",
         "0.0",
         "0.0",
         "0.0",
         "0.0",
         "1.0",
         "0.0",
         "0.0",
         "0.0",
         "0.0",
         "0.0",
         "0.0",
         "0.0",
         "0.0",
         "0.0",
         "0.0",
         "0.0",
         "0.0",
         "0.0",
         "0.0",
         "0.0",
         "0.0",
         "0.0",
         "0.0",
         "0.0",
         "0.0",
         "0.0",
         "0.0",
         "0.0",
         "0.0",
         "0.0",
         "0.0",
         "0.0",
         "0.0",
         "0.0",
         "0.0",
         "0.0",
         "0.0",
         "0.0",
         "0.0",
         "0.0",
         "0.0",
         "0.0",
         "0.0",
         "0.0",
         "0.0",
         "0.0",
         "0.0",
         "0.0",
         "0.0",
         "0.0",
         "0.0",
         "0.0",
         "0.0",
         "0.0",
         "0.0",
         "0.0",
         "0.0",
         "0.0",
         "0.0",
         "0.0",
         "0.0",
         "0.0",
         "0.0",
         "0.0",
         "0.0",
         "0.0",
         "0.0",
         "0.0",
         "0.0",
         "0.0",
         "0.0",
         "0.0",
         "0.0",
         "0.0",
         "0.0",
         "0.0",
         "0.0",
         "0.0",
         "0.0",
         "0.0",
         "0.0",
         "0.0",
         "0.0",
         "0.0",
         "0.0",
         "0.0",
         "0.0",
         "0.0",
         "0.0",
         "0.0",
         "0.0",
         "0.0",
         "0.0",
         "0.0",
         "0.0",
         "0.0",
         "0.0",
         "0.0",
         "0.0",
         "0.0",
         "0.0",
         "0.0",
         "0.0",
         "0.0",
         "0.0",
         "0.0",
         "0.0",
         "0.0",
         "0.0",
         "0.0",
         "0.0",
         "0.0",
         "0.0",
         "0.0",
         "0.0",
         "0.0",
         "0.0",
         "0.0",
         "0.0",
         "0.0",
         "0.0",
         "0.0",
         "0.0",
         "0.0",
         "0.0",
         "0.0",
         "0.0",
         "0.0",
         "0.0",
         "1.0",
         "0.0",
         "0.0",
         "0.0",
         "0.0",
         "0.0",
         "0.0",
         "0.0",
         "0.0",
         "0.0",
         "0.0",
         "0.0",
         "0.0",
         "0.0",
         "0.0",
         "0.0",
         "0.0",
         "0.0",
         "0.0",
         "0.0",
         "0.0",
         "0.0",
         "0.0",
         "1.0",
         "0.0",
         "0.0",
         "0.0",
         "0.0",
         "0.0",
         "0.0",
         "0.0",
         "0.0",
         "0.0",
         "0.0",
         "0.0",
         "0.0",
         "0.0",
         "0.0",
         "0.0",
         "0.0",
         "0.0",
         "0.0",
         "0.0",
         "0.0",
         "0.0",
         "0.0",
         "0.0",
         "0.0",
         "0.0",
         "0.0",
         "0.0",
         "0.0",
         "0.0",
         "0.0",
         "0.0",
         "0.0",
         "0.0",
         "0.0",
         "0.0",
         "0.0",
         "0.0",
         "0.0",
         "0.0",
         "0.0",
         "0.0",
         "0.0",
         "0.0",
         "0.0",
         "0.0",
         "0.0",
         "0.0",
         "0.0",
         "0.0",
         "0.0",
         "0.0",
         "0.0",
         "0.0",
         "0.0",
         "0.0",
         "0.0",
         "0.0",
         "0.0",
         "0.0",
         "0.0",
         "0.0",
         "0.0",
         "0.0",
         "0.0",
         "0.0",
         "0.0",
         "0.0",
         "0.0",
         "0.0",
         "0.0",
         "0.0",
         "0.0",
         "0.0",
         "0.0",
         "0.0",
         "0.0",
         "0.0",
         "0.0",
         "0.0",
         "0.0",
         "0.0",
         "0.0",
         "0.0",
         "0.0",
         "0.0",
         "0.0",
         "0.0",
         "0.0",
         "0.0",
         "0.0",
         "0.0",
         "0.0",
         "0.0",
         "0.0",
         "0.0",
         "0.0",
         "0.0",
         "0.0",
         "0.0",
         "0.0",
         "0.0",
         "0.0",
         "0.0",
         "0.0",
         "0.0",
         "0.0",
         "0.0",
         "0.0",
         "0.0",
         "0.0",
         "0.0",
         "0.0",
         "0.0",
         "0.0",
         "0.0",
         "0.0",
         "0.0",
         "0.0",
         "0.0",
         "0.0",
         "0.0",
         "0.0",
         "0.0",
         "0.0",
         "0.0",
         "0.0",
         "0.0",
         "0.0",
         "0.0",
         "0.0",
         "0.0",
         "0.0",
         "0.0",
         "0.0",
         "0.0",
         "0.0",
         "0.0",
         "0.0",
         "0.0",
         "0.0",
         "0.0",
         "0.0",
         "0.0",
         "0.0",
         "0.0",
         "0.0",
         "0.0",
         "0.0",
         "0.0",
         "0.0",
         "0.0",
         "0.0",
         "0.0",
         "0.0",
         "0.0",
         "0.0",
         "1.0",
         "0.0",
         "0.0",
         "0.0",
         "0.0",
         "0.0",
         "0.0",
         "0.0",
         "0.0",
         "0.0",
         "0.0",
         "0.0",
         "0.0",
         "0.0",
         "0.0",
         "0.0",
         "0.0",
         "0.0",
         "0.0",
         "0.0",
         "0.0",
         "0.0",
         "0.0",
         "0.0",
         "0.0",
         "0.0",
         "0.0",
         "0.0",
         "0.0",
         "0.0",
         "0.0",
         "0.0",
         "0.0",
         "0.0",
         "0.0",
         "0.0",
         "0.0",
         "0.0",
         "0.0",
         "0.0",
         "0.0",
         "0.0",
         "0.0",
         "0.0",
         "0.0",
         "0.0",
         "0.0",
         "0.0",
         "0.0",
         "0.0",
         "0.0",
         "0.0",
         "0.0",
         "0.0",
         "0.0",
         "1.0",
         "1.0",
         "0.0",
         "0.0",
         "0.0",
         "0.0",
         "1.0",
         "0.0",
         "0.0",
         "0.0",
         "0.0",
         "0.0",
         "0.0",
         "1.0",
         "0.0",
         "1.0",
         "0.0",
         "0.0",
         "0.0",
         "0.0",
         "0.0",
         "0.0",
         "0.0",
         "0.0",
         "0.0",
         "0.0",
         "0.0",
         "0.0",
         "0.0",
         "0.0",
         "0.0",
         "0.0",
         "0.0",
         "0.0",
         "0.0",
         "0.0",
         "0.0",
         "0.0",
         "0.0",
         "0.0",
         "0.0",
         "0.0",
         "0.0",
         "0.0",
         "0.0",
         "0.0",
         "0.0",
         "0.0",
         "0.0",
         "0.0",
         "0.0",
         "0.0",
         "0.0",
         "0.0",
         "0.0",
         "0.0",
         "0.0",
         "0.0",
         "0.0",
         "0.0",
         "0.0",
         "0.0",
         "0.0",
         "0.0",
         "0.0",
         "0.0",
         "0.0",
         "0.0",
         "0.0",
         "0.0",
         "0.0",
         "0.0",
         "0.0",
         "0.0",
         "0.0",
         "0.0",
         "0.0",
         "0.0",
         "0.0",
         "0.0",
         "0.0",
         "0.0",
         "0.0",
         "0.0",
         "0.0",
         "0.0",
         "0.0",
         "0.0",
         "0.0",
         "0.0",
         "0.0",
         "0.0",
         "0.0",
         "0.0",
         "0.0",
         "0.0",
         "0.0",
         "0.0",
         "0.0",
         "0.0",
         "0.0",
         "0.0",
         "0.0",
         "0.0",
         "0.0",
         "0.0",
         "0.0",
         "0.0",
         "0.0",
         "0.0",
         "0.0",
         "0.0",
         "0.0",
         "0.0",
         "0.0",
         "0.0",
         "0.0",
         "0.0",
         "0.0",
         "0.0",
         "0.0",
         "0.0",
         "0.0",
         "0.0",
         "0.0",
         "0.0",
         "0.0",
         "0.0",
         "0.0",
         "0.0",
         "0.0",
         "0.0",
         "0.0",
         "0.0",
         "0.0",
         "0.0",
         "0.0",
         "0.0",
         "0.0",
         "0.0",
         "0.0",
         "0.0",
         "0.0",
         "0.0",
         "0.0",
         "0.0",
         "0.0",
         "0.0",
         "0.0",
         "0.0",
         "0.0",
         "0.0",
         "0.0",
         "0.0",
         "0.0",
         "0.0",
         "0.0",
         "0.0",
         "0.0",
         "0.0",
         "0.0",
         "0.0",
         "0.0",
         "0.0",
         "0.0",
         "0.0",
         "0.0",
         "0.0",
         "0.0",
         "0.0",
         "0.0",
         "0.0",
         "0.0",
         "0.0",
         "0.0",
         "0.0",
         "0.0",
         "0.0",
         "0.0",
         "0.0",
         "0.0",
         "0.0",
         "0.0",
         "0.0",
         "0.0",
         "0.0",
         "0.0",
         "0.0",
         "0.0",
         "0.0",
         "0.0",
         "0.0",
         "0.0",
         "0.0",
         "0.0",
         "0.0",
         "0.0",
         "0.0",
         "0.0",
         "0.0",
         "0.0",
         "0.0",
         "0.0",
         "0.0",
         "0.0",
         "0.0",
         "0.0",
         "0.0",
         "0.0",
         "0.0",
         "0.0",
         "0.0",
         "0.0",
         "0.0",
         "0.0",
         "0.0",
         "0.0",
         "0.0",
         "0.0",
         "0.0",
         "0.0",
         "0.0",
         "0.0",
         "0.0",
         "0.0",
         "0.0",
         "0.0",
         "0.0",
         "0.0",
         "0.0",
         "0.0",
         "0.0",
         "0.0",
         "0.0",
         "0.0",
         "0.0",
         "0.0",
         "0.0",
         "0.0",
         "0.0",
         "0.0",
         "0.0",
         "0.0",
         "0.0",
         "0.0",
         "0.0",
         "0.0",
         "0.0",
         "0.0",
         "0.0",
         "0.0",
         "0.0",
         "0.0",
         "0.0",
         "0.0",
         "0.0",
         "0.0",
         "0.0",
         "0.0",
         "0.0",
         "0.0",
         "0.0",
         "0.0",
         "0.0",
         "0.0",
         "0.0",
         "0.0",
         "0.0",
         "0.0",
         "0.0",
         "0.0",
         "0.0",
         "0.0",
         "0.0",
         "0.0",
         "0.0",
         "0.0",
         "0.0",
         "0.0",
         "0.0"
        ],
        [
         "10000",
         null,
         null,
         null,
         null,
         null,
         null,
         null,
         null,
         null,
         null,
         null,
         null,
         null,
         null,
         null,
         null,
         null,
         null,
         "49.659137577002056",
         "21",
         "8",
         "1",
         "0",
         "0",
         "0",
         "0",
         "0",
         "1",
         "0",
         "1.0",
         "1.0",
         "1.0",
         "1.0",
         "1.0",
         "1.0",
         "1.0",
         "1.0",
         "1.0",
         "1.0",
         "1.0",
         "1.0",
         "1.0",
         "0.0",
         "1.0",
         "0.0",
         "1.0",
         "1.0",
         "0.0",
         "1.0",
         "0.0",
         "0.0",
         "0.0",
         "1.0",
         "0.0",
         "0.0",
         "1.0",
         "1.0",
         "1.0",
         "1.0",
         "1.0",
         "1.0",
         "1.0",
         "0.0",
         "0.0",
         "0.0",
         "0.0",
         "0.0",
         "0.0",
         "0.0",
         "1.0",
         "1.0",
         "1.0",
         "1.0",
         "0.0",
         "0.0",
         "0.0",
         "1.0",
         "1.0",
         "1.0",
         "0.0",
         "0.0",
         "1.0",
         "0.0",
         "1.0",
         "0.0",
         "1.0",
         "0.0",
         "0.0",
         "0.0",
         "0.0",
         "0.0",
         "0.0",
         "0.0",
         "0.0",
         "1.0",
         "0.0",
         "1.0",
         "1.0",
         "1.0",
         "1.0",
         "0.0",
         "1.0",
         "0.0",
         "0.0",
         "0.0",
         "1.0",
         "0.0",
         "0.0",
         "0.0",
         "0.0",
         "0.0",
         "0.0",
         "0.0",
         "0.0",
         "0.0",
         "0.0",
         "0.0",
         "0.0",
         "0.0",
         "0.0",
         "0.0",
         "0.0",
         "1.0",
         "1.0",
         "1.0",
         "1.0",
         "1.0",
         "1.0",
         "1.0",
         "0.0",
         "0.0",
         "1.0",
         "1.0",
         "0.0",
         "0.0",
         "0.0",
         "0.0",
         "0.0",
         "1.0",
         "0.0",
         "0.0",
         "0.0",
         "0.0",
         "0.0",
         "0.0",
         "0.0",
         "0.0",
         "0.0",
         "0.0",
         "0.0",
         "0.0",
         "0.0",
         "0.0",
         "0.0",
         "0.0",
         "0.0",
         "0.0",
         "0.0",
         "0.0",
         "0.0",
         "0.0",
         "0.0",
         "0.0",
         "0.0",
         "0.0",
         "0.0",
         "0.0",
         "0.0",
         "0.0",
         "0.0",
         "0.0",
         "0.0",
         "0.0",
         "0.0",
         "0.0",
         "1.0",
         "0.0",
         "1.0",
         "0.0",
         "0.0",
         "0.0",
         "0.0",
         "0.0",
         "0.0",
         "0.0",
         "0.0",
         "0.0",
         "0.0",
         "0.0",
         "0.0",
         "0.0",
         "0.0",
         "0.0",
         "0.0",
         "0.0",
         "0.0",
         "0.0",
         "0.0",
         "0.0",
         "0.0",
         "0.0",
         "0.0",
         "0.0",
         "0.0",
         "0.0",
         "0.0",
         "0.0",
         "0.0",
         "0.0",
         "0.0",
         "0.0",
         "0.0",
         "0.0",
         "0.0",
         "0.0",
         "0.0",
         "0.0",
         "0.0",
         "0.0",
         "0.0",
         "0.0",
         "0.0",
         "0.0",
         "0.0",
         "0.0",
         "0.0",
         "0.0",
         "0.0",
         "0.0",
         "0.0",
         "0.0",
         "0.0",
         "0.0",
         "0.0",
         "0.0",
         "0.0",
         "0.0",
         "0.0",
         "0.0",
         "0.0",
         "0.0",
         "0.0",
         "0.0",
         "0.0",
         "0.0",
         "0.0",
         "0.0",
         "0.0",
         "0.0",
         "0.0",
         "0.0",
         "0.0",
         "0.0",
         "0.0",
         "0.0",
         "0.0",
         "0.0",
         "0.0",
         "0.0",
         "0.0",
         "0.0",
         "0.0",
         "0.0",
         "0.0",
         "0.0",
         "0.0",
         "0.0",
         "0.0",
         "0.0",
         "0.0",
         "0.0",
         "0.0",
         "0.0",
         "0.0",
         "0.0",
         "0.0",
         "0.0",
         "0.0",
         "0.0",
         "0.0",
         "0.0",
         "0.0",
         "0.0",
         "0.0",
         "0.0",
         "0.0",
         "0.0",
         "0.0",
         "0.0",
         "0.0",
         "0.0",
         "0.0",
         "0.0",
         "0.0",
         "0.0",
         "0.0",
         "0.0",
         "0.0",
         "0.0",
         "0.0",
         "0.0",
         "0.0",
         "0.0",
         "0.0",
         "0.0",
         "0.0",
         "0.0",
         "0.0",
         "0.0",
         "0.0",
         "0.0",
         "0.0",
         "0.0",
         "0.0",
         "0.0",
         "0.0",
         "0.0",
         "0.0",
         "0.0",
         "0.0",
         "0.0",
         "0.0",
         "0.0",
         "0.0",
         "0.0",
         "0.0",
         "0.0",
         "0.0",
         "0.0",
         "0.0",
         "0.0",
         "0.0",
         "0.0",
         "0.0",
         "0.0",
         "0.0",
         "0.0",
         "0.0",
         "0.0",
         "0.0",
         "0.0",
         "0.0",
         "0.0",
         "0.0",
         "0.0",
         "0.0",
         "0.0",
         "0.0",
         "0.0",
         "0.0",
         "0.0",
         "0.0",
         "0.0",
         "0.0",
         "0.0",
         "0.0",
         "0.0",
         "0.0",
         "0.0",
         "0.0",
         "22.6",
         "23.8",
         "24.725",
         "27.4",
         "4.799999999999997",
         "4.0",
         "91.0",
         "61.0",
         "67.25",
         "52.0",
         "39.0",
         "4.0",
         "8.1",
         "4.0",
         "8.3",
         "9.7",
         "8.825",
         "1.5999999999999996",
         "11.2",
         "8.075",
         "6.2",
         "5.8",
         "5.3999999999999995",
         "4.0",
         "4.0",
         "36.7",
         "35.0",
         "35.0",
         "35.725",
         "1.7000000000000028",
         "94.0",
         "95.5",
         "96.0",
         "96.0",
         "33.6",
         "34.075",
         "33.6",
         "34.4",
         "2.0",
         "4.0",
         "4.0",
         "4.0",
         "2.35",
         "0.7999999999999972",
         "2.48",
         "2.5925000000000002",
         "2.86",
         "0.5099999999999998",
         "16.6",
         "16.6",
         "16.4",
         "16.1",
         "4.0",
         "0.5",
         null,
         "3.0",
         "4.0",
         "0.10000000000000009",
         "3.9333333333333336",
         "3.9",
         "3.9",
         "104.0",
         "102.0",
         "102.0",
         "103.0",
         "2.0",
         "3.0",
         "135.0",
         "138.0",
         "137.0",
         "136.66666666666666",
         "3.0",
         "3.0",
         "14.0",
         "19.0",
         "19.0",
         "17.333333333333332",
         "5.0",
         "3.0",
         "21.0",
         "20.0",
         "20.0",
         "20.333333333333332",
         "1.0",
         "3.0",
         null,
         null,
         null,
         null,
         null,
         null,
         null,
         null,
         null,
         null,
         null,
         null,
         null,
         null,
         null,
         null,
         null,
         null,
         null,
         null,
         null,
         null,
         null,
         null,
         null,
         null,
         null,
         null,
         null,
         null,
         null,
         null,
         null,
         null,
         null,
         null,
         null,
         null,
         null,
         null,
         null,
         null,
         null,
         null,
         null,
         null,
         null,
         null,
         null,
         null,
         null,
         null,
         null,
         null,
         null,
         null,
         null,
         null,
         null,
         null,
         null,
         null,
         null,
         null,
         null,
         null,
         null,
         null,
         null,
         null,
         null,
         null,
         null,
         null,
         null,
         null,
         null,
         null,
         null,
         null,
         null,
         null,
         null,
         null,
         null,
         null,
         null,
         null,
         null,
         null,
         null,
         null,
         null,
         null,
         null,
         null,
         null,
         null,
         null,
         null,
         null,
         null,
         null,
         null,
         null,
         null,
         null,
         null,
         null,
         null,
         null,
         null,
         null,
         null,
         null,
         null,
         null,
         null,
         null,
         null,
         null,
         null,
         null,
         null,
         null,
         null,
         null,
         null,
         null,
         null,
         null,
         null,
         null,
         null,
         null,
         null,
         null,
         null,
         null,
         null,
         null,
         null,
         null,
         null,
         null,
         null,
         null,
         null,
         null,
         null,
         null,
         null,
         null,
         null,
         null,
         null,
         null,
         null,
         null,
         null,
         null,
         null,
         null,
         null,
         null,
         null,
         null,
         null,
         null,
         null,
         null,
         null,
         null,
         null,
         null,
         null,
         null,
         null,
         null,
         null,
         null,
         null,
         null,
         null,
         null,
         null,
         null,
         null,
         null,
         null,
         null,
         null,
         null,
         null,
         null,
         null,
         null,
         null,
         null,
         null,
         null,
         null,
         null,
         null,
         null,
         null,
         null,
         null,
         null,
         null,
         null,
         null,
         null,
         null,
         null,
         null,
         null,
         null,
         null,
         null,
         null,
         null,
         null,
         null,
         null,
         null,
         null,
         null,
         null,
         null,
         null,
         null,
         null,
         null,
         null,
         null,
         null,
         null,
         null,
         null,
         null,
         null,
         null,
         null,
         null,
         null,
         null,
         null,
         null,
         null,
         null,
         null,
         null,
         null,
         null,
         null,
         null,
         null,
         null,
         null,
         null,
         null,
         null,
         null,
         null,
         null,
         null,
         null,
         null,
         null,
         null,
         null,
         null,
         null,
         null,
         null,
         null,
         null,
         null,
         null,
         null,
         null,
         null,
         null,
         null,
         null,
         null,
         null,
         null,
         null,
         null,
         null,
         null,
         null,
         null,
         null,
         null,
         null,
         null,
         null,
         null,
         null,
         null,
         null,
         null,
         null,
         null,
         null,
         null,
         null,
         null,
         null,
         null,
         null,
         null,
         null,
         null,
         null,
         null,
         null,
         null,
         null,
         null,
         null,
         null,
         null,
         null,
         null,
         null,
         null,
         null,
         null,
         null,
         null,
         null,
         null,
         null,
         null,
         null,
         null,
         null,
         null,
         null,
         null,
         null,
         null,
         null,
         null,
         null,
         null,
         null,
         null,
         null,
         null,
         null,
         null,
         null,
         null,
         null,
         null,
         null,
         null,
         null,
         null,
         null,
         null,
         null,
         null,
         null,
         null,
         null,
         null,
         null,
         null,
         null,
         null,
         null,
         null,
         null,
         null,
         null,
         null,
         null,
         null,
         null,
         null,
         null,
         null,
         null,
         null,
         null,
         null,
         null,
         null,
         null,
         null,
         null,
         null,
         null,
         null,
         null,
         null,
         null,
         null,
         null,
         null,
         null,
         null,
         null,
         null,
         null,
         null,
         null,
         null,
         null,
         null,
         null,
         null,
         null,
         null,
         null,
         null,
         null,
         null,
         null,
         null,
         null,
         null,
         null,
         null,
         null,
         null,
         null,
         null,
         null,
         null,
         null,
         null,
         null,
         null,
         null,
         null,
         null,
         null,
         null,
         null,
         null,
         null,
         null,
         null,
         null,
         null,
         null,
         null,
         null,
         null,
         null,
         null,
         null,
         null,
         null,
         null,
         null,
         null,
         null,
         null,
         null,
         null,
         null,
         null,
         null,
         null,
         null,
         null,
         null,
         null,
         null,
         null,
         null,
         null,
         null,
         null,
         null,
         null,
         null,
         null,
         null,
         null,
         null,
         null,
         null,
         null,
         null,
         null,
         null,
         null,
         null,
         null,
         null,
         null,
         null,
         null,
         null,
         null,
         null,
         null,
         null,
         null,
         null,
         null,
         null,
         null,
         null,
         null,
         null,
         null,
         null,
         null,
         null,
         null,
         null,
         null,
         null,
         null,
         null,
         null,
         null,
         null,
         null,
         null,
         null,
         null,
         null,
         null,
         null,
         null,
         null,
         null,
         null,
         null,
         null,
         null,
         null,
         null,
         null,
         null,
         null,
         null,
         null,
         null,
         null,
         null,
         null,
         null,
         null,
         null,
         null,
         null,
         null,
         null,
         null,
         null,
         null,
         null,
         null,
         null,
         null,
         null,
         null,
         null,
         null,
         null,
         null,
         null,
         null,
         null,
         null,
         null,
         null,
         null,
         null,
         null,
         null,
         null,
         null,
         null,
         null,
         null,
         null,
         null,
         null,
         null,
         null,
         null,
         null,
         null,
         null,
         null,
         null,
         null,
         null,
         null,
         null,
         null,
         null,
         null,
         null,
         null,
         null,
         null,
         null,
         null,
         null,
         null,
         null,
         null,
         null,
         null,
         null,
         null,
         null,
         null,
         null,
         null,
         null,
         null,
         null,
         null,
         null,
         null,
         null,
         null,
         null,
         null,
         null,
         null,
         null,
         null,
         null,
         null,
         null,
         null,
         null,
         null,
         null,
         null,
         null,
         null,
         null,
         null,
         null,
         null,
         null,
         null,
         null,
         null,
         null,
         null,
         null,
         null,
         null,
         null,
         null,
         null,
         null,
         null,
         null,
         null,
         null,
         null,
         null,
         null,
         null,
         null,
         null,
         null,
         null,
         null,
         null,
         null,
         null,
         null,
         null,
         null,
         null,
         null,
         null,
         null,
         null,
         null,
         null,
         null,
         null,
         null,
         null,
         null,
         null,
         null,
         null,
         null,
         null,
         null,
         null,
         null,
         null,
         null,
         null,
         null,
         null,
         null,
         null,
         null,
         null,
         null,
         null,
         null,
         null,
         null,
         null,
         null,
         null,
         null,
         null,
         null,
         null,
         null,
         null,
         null,
         null,
         null,
         null,
         null,
         null,
         null,
         null,
         null,
         null,
         null,
         null,
         null,
         null,
         null,
         null,
         null,
         null,
         null,
         null,
         null,
         null,
         null,
         null,
         null,
         null,
         null,
         null,
         null,
         null,
         null,
         null,
         null,
         null,
         null,
         null,
         null,
         null,
         null,
         null,
         null,
         null,
         null,
         null,
         null,
         null,
         null,
         null,
         null,
         null,
         null,
         null,
         null,
         null,
         null,
         null,
         null,
         null,
         null,
         null,
         null,
         null,
         null,
         null,
         null,
         null,
         null,
         null,
         null,
         null,
         null,
         null,
         null,
         null,
         null,
         null,
         null,
         null,
         null,
         null,
         null,
         null,
         null,
         null,
         null,
         null,
         null,
         null,
         null,
         null,
         null,
         null,
         null,
         null,
         null,
         null,
         null,
         null,
         null,
         null,
         null,
         null,
         null,
         null,
         null,
         null,
         null,
         null,
         null,
         null,
         null,
         null,
         null,
         null,
         null,
         null,
         null,
         null,
         null,
         null,
         null,
         null,
         null,
         null,
         null,
         null,
         null,
         null,
         null,
         null,
         null,
         null,
         null,
         null,
         null,
         null,
         null,
         null,
         null,
         null,
         null,
         null,
         null,
         null,
         null,
         null,
         null,
         null,
         null,
         null,
         null,
         null,
         null,
         null,
         null,
         null,
         null,
         null,
         null,
         null,
         null,
         null,
         null,
         null,
         null,
         null,
         null,
         null,
         null,
         null,
         null,
         null,
         null,
         null,
         null,
         null,
         null,
         null,
         null,
         null,
         null,
         null,
         null,
         null,
         null,
         null,
         null,
         null,
         null,
         null,
         null,
         null,
         null,
         null,
         null,
         null,
         null,
         null,
         null,
         null,
         null,
         null,
         null,
         null,
         null,
         null,
         null,
         null,
         null,
         null,
         null,
         null,
         null,
         null,
         null,
         null,
         null,
         null,
         null,
         null,
         null,
         null,
         null,
         null,
         null,
         null,
         null,
         null,
         null,
         null,
         null,
         null,
         null,
         null,
         null,
         null,
         null,
         null,
         null,
         null,
         null,
         null,
         null,
         null,
         null,
         null,
         null,
         null,
         null,
         null,
         null,
         null,
         null,
         null,
         null,
         null,
         null,
         null,
         null,
         null,
         null,
         null,
         null,
         null,
         null,
         null,
         null,
         null,
         null,
         null,
         null,
         null,
         null,
         null,
         null,
         null,
         null,
         null,
         null,
         null,
         null,
         null,
         null,
         null,
         null,
         null,
         null,
         null,
         null,
         null,
         null,
         null,
         null,
         null,
         null,
         null,
         null,
         null,
         null,
         null,
         null,
         null,
         null,
         null,
         null,
         null,
         null,
         null,
         null,
         null,
         null,
         null,
         null,
         null,
         null,
         null,
         null,
         null,
         null,
         null,
         null,
         null,
         null,
         null,
         null,
         null,
         null,
         null
        ],
        [
         "10003",
         null,
         null,
         null,
         null,
         null,
         null,
         null,
         null,
         null,
         null,
         null,
         "14.0",
         "46.0",
         null,
         null,
         null,
         null,
         "7.810249675906654",
         "41.073237508555785",
         "23",
         "11",
         "1",
         "0",
         "0",
         "1",
         "0",
         "1",
         "0",
         "0",
         "1.0",
         "1.0",
         "1.0",
         "1.0",
         "1.0",
         "0.0",
         "0.0",
         "0.0",
         "0.0",
         "0.0",
         "1.0",
         "1.0",
         "1.0",
         "1.0",
         "1.0",
         "0.0",
         "0.0",
         "0.0",
         "1.0",
         "1.0",
         "1.0",
         "1.0",
         "0.0",
         "0.0",
         "1.0",
         "1.0",
         "1.0",
         "0.0",
         "1.0",
         "1.0",
         "1.0",
         "1.0",
         "1.0",
         "0.0",
         "0.0",
         "0.0",
         "0.0",
         "1.0",
         "0.0",
         "0.0",
         "0.0",
         "1.0",
         "0.0",
         "0.0",
         "0.0",
         "0.0",
         "0.0",
         "1.0",
         "1.0",
         "1.0",
         "0.0",
         "0.0",
         "0.0",
         "0.0",
         "0.0",
         "0.0",
         "0.0",
         "1.0",
         "1.0",
         "0.0",
         "0.0",
         "0.0",
         "0.0",
         "0.0",
         "0.0",
         "1.0",
         "0.0",
         "0.0",
         "1.0",
         "1.0",
         "1.0",
         "0.0",
         "1.0",
         "0.0",
         "0.0",
         "0.0",
         "0.0",
         "0.0",
         "0.0",
         "0.0",
         "0.0",
         "0.0",
         "0.0",
         "0.0",
         "0.0",
         "0.0",
         "0.0",
         "0.0",
         "0.0",
         "0.0",
         "0.0",
         "0.0",
         "0.0",
         "0.0",
         "1.0",
         "1.0",
         "1.0",
         "1.0",
         "1.0",
         "1.0",
         "0.0",
         "0.0",
         "1.0",
         "1.0",
         "0.0",
         "0.0",
         "0.0",
         "0.0",
         "0.0",
         "1.0",
         "0.0",
         "0.0",
         "0.0",
         "0.0",
         "0.0",
         "0.0",
         "0.0",
         "0.0",
         "0.0",
         "0.0",
         "0.0",
         "0.0",
         "0.0",
         "0.0",
         "0.0",
         "0.0",
         "0.0",
         "0.0",
         "0.0",
         "0.0",
         "0.0",
         "0.0",
         "0.0",
         "0.0",
         "0.0",
         "0.0",
         "0.0",
         "0.0",
         "0.0",
         "0.0",
         "0.0",
         "0.0",
         "0.0",
         "0.0",
         "0.0",
         "0.0",
         "0.0",
         "0.0",
         "0.0",
         "0.0",
         "0.0",
         "0.0",
         "0.0",
         "0.0",
         "0.0",
         "0.0",
         "0.0",
         "0.0",
         "0.0",
         "0.0",
         "0.0",
         "0.0",
         "0.0",
         "0.0",
         "0.0",
         "0.0",
         "0.0",
         "0.0",
         "0.0",
         "0.0",
         "0.0",
         "0.0",
         "0.0",
         "0.0",
         "0.0",
         "0.0",
         "0.0",
         "0.0",
         "0.0",
         "0.0",
         "0.0",
         "0.0",
         "0.0",
         "0.0",
         "0.0",
         "0.0",
         "0.0",
         "0.0",
         "0.0",
         "0.0",
         "0.0",
         "0.0",
         "0.0",
         "0.0",
         "0.0",
         "0.0",
         "0.0",
         "0.0",
         "0.0",
         "0.0",
         "0.0",
         "0.0",
         "0.0",
         "0.0",
         "0.0",
         "0.0",
         "0.0",
         "0.0",
         "0.0",
         "0.0",
         "0.0",
         "1.0",
         "0.0",
         "0.0",
         "0.0",
         "0.0",
         "0.0",
         "0.0",
         "0.0",
         "0.0",
         "0.0",
         "0.0",
         "0.0",
         "0.0",
         "0.0",
         "0.0",
         "0.0",
         "0.0",
         "0.0",
         "0.0",
         "0.0",
         "0.0",
         "0.0",
         "0.0",
         "0.0",
         "0.0",
         "0.0",
         "0.0",
         "0.0",
         "0.0",
         "0.0",
         "0.0",
         "0.0",
         "0.0",
         "0.0",
         "0.0",
         "0.0",
         "0.0",
         "0.0",
         "0.0",
         "0.0",
         "0.0",
         "0.0",
         "0.0",
         "0.0",
         "0.0",
         "0.0",
         "0.0",
         "0.0",
         "0.0",
         "0.0",
         "0.0",
         "0.0",
         "0.0",
         "0.0",
         "0.0",
         "0.0",
         "0.0",
         "0.0",
         "0.0",
         "0.0",
         "0.0",
         "0.0",
         "0.0",
         "1.0",
         "0.0",
         "0.0",
         "0.0",
         "0.0",
         "1.0",
         "0.0",
         "0.0",
         "0.0",
         "0.0",
         "0.0",
         "0.0",
         "0.0",
         "0.0",
         "0.0",
         "0.0",
         "0.0",
         "0.0",
         "0.0",
         "0.0",
         "0.0",
         "0.0",
         "0.0",
         "0.0",
         "0.0",
         "0.0",
         "0.0",
         "0.0",
         "0.0",
         "0.0",
         "0.0",
         "0.0",
         "0.0",
         "0.0",
         "0.0",
         "0.0",
         "0.0",
         "0.0",
         "0.0",
         "0.0",
         "0.0",
         "0.0",
         "0.0",
         "0.0",
         "0.0",
         "0.0",
         "0.0",
         "1.0",
         "0.0",
         "0.0",
         "0.0",
         "0.0",
         "0.0",
         "0.0",
         "0.0",
         "0.0",
         "0.0",
         "24.4",
         "37.0",
         "33.983333333333334",
         "37.7",
         "13.300000000000004",
         "6.0",
         "253.0",
         "172.0",
         "223.66666666666666",
         "172.0",
         "81.0",
         "3.0",
         "8.0",
         "5.0",
         "13.0",
         "13.0",
         "10.440000000000001",
         "5.0",
         "10.3",
         "7.5",
         "10.3",
         "4.5",
         "5.800000000000001",
         "3.0",
         "3.0",
         "35.7",
         "35.7",
         "32.0",
         "33.53333333333333",
         "3.700000000000003",
         "79.0",
         "80.0",
         "81.0",
         "81.0",
         "25.2",
         "26.7",
         "28.7",
         "28.7",
         "2.0",
         "3.0",
         "3.0",
         "3.0",
         "3.07",
         "3.5",
         "4.52",
         "3.9233333333333333",
         "4.52",
         "1.4499999999999997",
         "17.8",
         "15.6",
         "17.066666666666666",
         "15.6",
         "3.0",
         "2.200000000000001",
         "37.0",
         "3.0",
         "5.1",
         "1.2999999999999998",
         "4.3",
         "3.8",
         "3.8",
         "104.0",
         "102.0",
         "102.0",
         "103.0",
         "2.0",
         "2.0",
         "134.0",
         "139.0",
         "134.0",
         "136.5",
         "5.0",
         "2.0",
         "22.0",
         "22.0",
         "26.0",
         "24.0",
         "4.0",
         "2.0",
         "14.0",
         "14.0",
         "13.0",
         "13.5",
         "1.0",
         "2.0",
         null,
         null,
         "1.0",
         "1.0",
         "1.0",
         "1.0",
         "1.0",
         "1.0",
         "1.0",
         "1.0",
         "1.0",
         "1.0",
         "1.0",
         "1.0",
         "1.0",
         "1.0",
         "1.0",
         "1.0",
         "1.0",
         "1.0",
         "1.0",
         "1.0",
         "1.0",
         "1.0",
         "1.0",
         "0.0",
         "0.0",
         "0.0",
         "0.0",
         "0.0",
         "0.0",
         "1.0",
         "1.0",
         "1.0",
         "1.0",
         "1.0",
         "0.0",
         "0.0",
         "1.0",
         "1.0",
         "0.0",
         "1.0",
         "1.0",
         "0.0",
         "0.0",
         "0.0",
         "0.0",
         "0.0",
         "0.0",
         "0.0",
         "0.0",
         "0.0",
         "1.0",
         "0.0",
         "0.0",
         "0.0",
         "0.0",
         "0.0",
         "1.0",
         "0.0",
         "0.0",
         "1.0",
         "0.0",
         "0.0",
         "0.0",
         "0.0",
         "0.0",
         "0.0",
         "0.0",
         "0.0",
         "0.0",
         "0.0",
         "0.0",
         "0.0",
         "0.0",
         "0.0",
         "0.0",
         "0.0",
         "0.0",
         "0.0",
         "0.0",
         "0.0",
         "0.0",
         "0.0",
         "0.0",
         "0.0",
         "0.0",
         "0.0",
         "0.0",
         "1.0",
         "0.0",
         "0.0",
         "0.0",
         "0.0",
         "0.0",
         "0.0",
         "0.0",
         "0.0",
         "0.0",
         "0.0",
         "0.0",
         "0.0",
         "0.0",
         "0.0",
         "0.0",
         "0.0",
         "0.0",
         "1.0",
         "1.0",
         "1.0",
         "1.0",
         "1.0",
         "0.0",
         "0.0",
         "0.0",
         "0.0",
         "0.0",
         "0.0",
         "1.0",
         "1.0",
         "1.0",
         "1.0",
         "0.0",
         "0.0",
         "0.0",
         "0.0",
         "1.0",
         "0.0",
         "0.0",
         "0.0",
         "0.0",
         "0.0",
         "0.0",
         "0.0",
         "0.0",
         "0.0",
         "1.0",
         "0.0",
         "1.0",
         "1.0",
         "1.0",
         "1.0",
         "0.0",
         "0.0",
         "1.0",
         "1.0",
         "1.0",
         "1.0",
         "0.0",
         "0.0",
         "1.0",
         "1.0",
         "0.0",
         "0.0",
         "0.0",
         "0.0",
         "0.0",
         "0.0",
         "0.0",
         "0.0",
         "0.0",
         "0.0",
         "0.0",
         "0.0",
         "0.0",
         "1.0",
         "1.0",
         "0.0",
         "0.0",
         "0.0",
         "0.0",
         "1.0",
         "0.0",
         "0.0",
         "0.0",
         "0.0",
         "0.0",
         "0.0",
         "0.0",
         "1.0",
         "0.0",
         "0.0",
         "0.0",
         "0.0",
         "0.0",
         "0.0",
         "0.0",
         "0.0",
         "0.0",
         "0.0",
         "0.0",
         "0.0",
         "0.0",
         "0.0",
         "0.0",
         "0.0",
         "0.0",
         "0.0",
         "0.0",
         "0.0",
         "0.0",
         "0.0",
         "0.0",
         "0.0",
         "0.0",
         "0.0",
         "0.0",
         "0.0",
         "0.0",
         "0.0",
         "0.0",
         "0.0",
         "0.0",
         "0.0",
         "0.0",
         "0.0",
         "0.0",
         "0.0",
         "0.0",
         "0.0",
         "0.0",
         "0.0",
         "0.0",
         "0.0",
         "0.0",
         "0.0",
         "0.0",
         "0.0",
         "0.0",
         "0.0",
         "0.0",
         "0.0",
         "1.0",
         "0.0",
         "0.0",
         "0.0",
         "0.0",
         "0.0",
         "0.0",
         "0.0",
         "0.0",
         "0.0",
         "0.0",
         "0.0",
         "0.0",
         "0.0",
         "0.0",
         "0.0",
         "0.0",
         "0.0",
         "0.0",
         "0.0",
         "0.0",
         "0.0",
         "0.0",
         "0.0",
         "0.0",
         "0.0",
         "0.0",
         "0.0",
         "0.0",
         "0.0",
         "0.0",
         "0.0",
         "0.0",
         "0.0",
         "0.0",
         "0.0",
         "0.0",
         "0.0",
         "0.0",
         "0.0",
         "0.0",
         "0.0",
         "0.0",
         "0.0",
         "0.0",
         "0.0",
         "0.0",
         "0.0",
         "0.0",
         "0.0",
         "0.0",
         "0.0",
         "0.0",
         "0.0",
         "0.0",
         "0.0",
         "0.0",
         "0.0",
         "0.0",
         "0.0",
         "0.0",
         "0.0",
         "0.0",
         "0.0",
         "0.0",
         "0.0",
         "0.0",
         "0.0",
         "0.0",
         "0.0",
         "0.0",
         "0.0",
         "0.0",
         "0.0",
         "0.0",
         "0.0",
         "0.0",
         "0.0",
         "0.0",
         "0.0",
         "0.0",
         "0.0",
         "0.0",
         "0.0",
         "0.0",
         "0.0",
         "0.0",
         "0.0",
         "0.0",
         "0.0",
         "0.0",
         "0.0",
         "0.0",
         "1.0",
         "1.0",
         "0.0",
         "1.0",
         "0.0",
         "0.0",
         "0.0",
         "0.0",
         "0.0",
         "0.0",
         "0.0",
         "0.0",
         "0.0",
         "0.0",
         "0.0",
         "0.0",
         "0.0",
         "0.0",
         "0.0",
         "0.0",
         "0.0",
         "0.0",
         "0.0",
         "0.0",
         "0.0",
         "0.0",
         "0.0",
         "0.0",
         "0.0",
         "0.0",
         "0.0",
         "0.0",
         "0.0",
         "0.0",
         "0.0",
         "0.0",
         "0.0",
         "0.0",
         "0.0",
         "0.0",
         "0.0",
         "0.0",
         "0.0",
         "0.0",
         "0.0",
         "0.0",
         "0.0",
         "0.0",
         "0.0",
         "1.0",
         "0.0",
         "0.0",
         "0.0",
         "0.0",
         "0.0",
         "0.0",
         "0.0",
         "0.0",
         "0.0",
         "1.0",
         "0.0",
         "0.0",
         "0.0",
         "0.0",
         "0.0",
         "0.0",
         "0.0",
         "0.0",
         "0.0",
         "0.0",
         "0.0",
         "1.0",
         "0.0",
         "0.0",
         "0.0",
         "0.0",
         "0.0",
         "0.0",
         "0.0",
         "0.0",
         "0.0",
         "0.0",
         "0.0",
         "0.0",
         "0.0",
         "1.0",
         "0.0",
         "1.0",
         "0.0",
         "0.0",
         "0.0",
         "0.0",
         "0.0",
         "0.0",
         "0.0",
         "0.0",
         "0.0",
         "0.0",
         "0.0",
         "0.0",
         "0.0",
         "0.0",
         "0.0",
         "0.0",
         "0.0",
         "0.0",
         "0.0",
         "0.0",
         "0.0",
         "0.0",
         "0.0",
         "0.0",
         "0.0",
         "0.0",
         "0.0",
         "0.0",
         "0.0",
         "0.0",
         "0.0",
         "0.0",
         "0.0",
         "0.0",
         "0.0",
         "0.0",
         "0.0",
         "0.0",
         "0.0",
         "0.0",
         "0.0",
         "0.0",
         "0.0",
         "0.0",
         "0.0",
         "0.0",
         "0.0",
         "0.0",
         "0.0",
         "0.0",
         "0.0",
         "0.0",
         "0.0",
         "0.0",
         "0.0",
         "0.0",
         "0.0",
         "0.0",
         "0.0",
         "0.0",
         "0.0",
         "0.0",
         "0.0",
         "0.0",
         "0.0",
         "0.0",
         "0.0",
         "0.0",
         "0.0",
         "0.0",
         "0.0",
         "0.0",
         "0.0",
         "0.0",
         "0.0",
         "0.0",
         "0.0",
         "0.0",
         "0.0",
         "0.0",
         "0.0",
         "0.0",
         "0.0",
         "0.0",
         "0.0",
         "0.0",
         "0.0",
         "0.0",
         "0.0",
         "0.0",
         "0.0",
         "0.0",
         "0.0",
         "1.0",
         "1.0",
         "0.0",
         "0.0",
         "0.0",
         "0.0",
         "0.0",
         "0.0",
         "0.0",
         "0.0",
         "0.0",
         "0.0",
         "0.0",
         "0.0",
         "0.0",
         "0.0",
         "1.0",
         "0.0",
         "0.0",
         "0.0",
         "0.0",
         "0.0",
         "0.0",
         "0.0",
         "0.0",
         "0.0",
         "0.0",
         "0.0",
         "0.0",
         "0.0",
         "0.0",
         "0.0",
         "0.0",
         "0.0",
         "0.0",
         "0.0",
         "0.0",
         "0.0",
         "0.0",
         "0.0",
         "0.0",
         "0.0",
         "0.0",
         "0.0",
         "0.0",
         "0.0",
         "1.0",
         "0.0",
         "0.0",
         "0.0",
         "0.0",
         "0.0",
         "0.0",
         "0.0",
         "0.0",
         "0.0",
         "0.0",
         "1.0",
         "0.0",
         "0.0",
         "0.0",
         "0.0",
         "0.0",
         "0.0",
         "0.0",
         "0.0",
         "0.0",
         "0.0",
         "0.0",
         "0.0",
         "0.0",
         "0.0",
         "0.0",
         "0.0",
         "0.0",
         "0.0",
         "0.0",
         "0.0",
         "0.0",
         "0.0",
         "0.0",
         "0.0",
         "0.0",
         "0.0",
         "0.0",
         "0.0",
         "0.0",
         "0.0",
         "0.0",
         "0.0",
         "0.0",
         "0.0",
         "1.0",
         "0.0",
         "0.0",
         "0.0",
         "0.0",
         "0.0",
         "0.0",
         "0.0",
         "0.0",
         "0.0",
         "0.0",
         "0.0",
         "0.0",
         "0.0",
         "0.0",
         "0.0",
         "0.0",
         "0.0",
         "0.0",
         "0.0",
         "0.0",
         "0.0",
         "0.0",
         "0.0",
         "0.0",
         "0.0",
         "0.0",
         "0.0",
         "0.0",
         "0.0",
         "0.0",
         "0.0",
         "0.0",
         "0.0",
         "0.0",
         "0.0",
         "0.0",
         "0.0",
         "0.0",
         "0.0",
         "0.0",
         "0.0",
         "0.0",
         "0.0",
         "0.0",
         "0.0",
         "0.0",
         "0.0",
         "0.0",
         "0.0",
         "0.0",
         "0.0",
         "0.0",
         "0.0",
         "0.0",
         "0.0",
         "0.0",
         "0.0",
         "0.0",
         "0.0",
         "0.0",
         "0.0",
         "0.0",
         "0.0",
         "0.0",
         "0.0",
         "0.0",
         "0.0",
         "0.0",
         "0.0",
         "0.0",
         "0.0",
         "0.0",
         "0.0",
         "0.0",
         "0.0",
         "0.0",
         "0.0",
         "0.0",
         "0.0",
         "0.0",
         "0.0",
         "0.0",
         "0.0",
         "0.0",
         "0.0",
         "0.0",
         "0.0",
         "0.0",
         "0.0",
         "0.0",
         "0.0",
         "0.0",
         "0.0",
         "1.0",
         "0.0",
         "0.0",
         "0.0",
         "0.0",
         "0.0",
         "0.0",
         "0.0",
         "0.0",
         "0.0",
         "0.0",
         "0.0",
         "0.0",
         "0.0",
         "0.0",
         "0.0",
         "0.0",
         "0.0",
         "0.0",
         "0.0",
         "0.0",
         "0.0",
         "0.0",
         "0.0",
         "0.0",
         "0.0",
         "0.0",
         "0.0",
         "0.0",
         "0.0",
         "0.0",
         "0.0",
         "0.0",
         "0.0",
         "0.0",
         "0.0",
         "0.0",
         "0.0",
         "0.0",
         "0.0",
         "0.0",
         "0.0",
         "0.0",
         "0.0",
         "0.0",
         "0.0",
         "0.0",
         "0.0",
         "0.0",
         "0.0",
         "0.0",
         "0.0",
         "0.0",
         "0.0",
         "0.0",
         "0.0",
         "0.0",
         "0.0",
         "0.0",
         "0.0",
         "0.0",
         "0.0",
         "0.0",
         "0.0",
         "0.0",
         "0.0",
         "0.0",
         "0.0",
         "0.0",
         "0.0",
         "0.0",
         "0.0",
         "0.0",
         "0.0",
         "0.0",
         "0.0",
         "0.0",
         "0.0",
         "0.0",
         "0.0",
         "0.0",
         "0.0",
         "0.0",
         "0.0",
         "0.0",
         "0.0",
         "0.0",
         "0.0",
         "0.0",
         "0.0",
         "0.0",
         "0.0",
         "0.0",
         "0.0",
         "0.0",
         "0.0",
         "0.0",
         "0.0",
         "0.0",
         "0.0",
         "0.0",
         "0.0",
         "0.0",
         "0.0",
         "0.0",
         "0.0",
         "0.0",
         "0.0",
         "0.0",
         "0.0",
         "0.0",
         "0.0",
         "0.0",
         "0.0",
         "0.0",
         "0.0",
         "0.0",
         "0.0",
         "0.0",
         "0.0",
         "0.0",
         "0.0",
         "0.0",
         "0.0",
         "0.0",
         "0.0",
         "0.0",
         "0.0",
         "0.0",
         "0.0",
         "0.0",
         "0.0",
         "0.0",
         "0.0",
         "0.0",
         "0.0",
         "0.0",
         "0.0",
         "0.0",
         "0.0",
         "0.0",
         "0.0",
         "0.0",
         "0.0",
         "0.0",
         "0.0",
         "0.0",
         "0.0",
         "0.0",
         "0.0",
         "0.0",
         "0.0",
         "0.0",
         "0.0",
         "0.0",
         "0.0",
         "0.0",
         "0.0",
         "0.0",
         "0.0",
         "0.0",
         "0.0",
         "0.0",
         "0.0",
         "0.0",
         "0.0",
         "0.0",
         "0.0",
         "0.0",
         "0.0",
         "0.0",
         "0.0",
         "0.0",
         "0.0",
         "0.0",
         "0.0",
         "0.0",
         "0.0",
         "0.0",
         "0.0",
         "0.0",
         "0.0",
         "0.0",
         "0.0",
         "0.0",
         "0.0",
         "0.0",
         "0.0",
         "0.0",
         "0.0",
         "0.0",
         "0.0",
         "0.0",
         "0.0",
         "0.0",
         "0.0",
         "0.0",
         "0.0",
         "0.0",
         "0.0",
         "0.0",
         "0.0",
         "0.0",
         "0.0",
         "0.0",
         "0.0",
         "0.0",
         "0.0",
         "0.0",
         "0.0",
         "0.0",
         "0.0",
         "0.0",
         "0.0",
         "0.0",
         "0.0",
         "0.0",
         "0.0",
         "0.0",
         "0.0",
         "0.0",
         "0.0",
         "0.0",
         "0.0",
         "0.0",
         "0.0",
         "0.0",
         "0.0",
         "0.0",
         "0.0",
         "0.0",
         "0.0",
         "0.0",
         "0.0",
         "0.0",
         "0.0",
         "0.0",
         "0.0",
         "0.0",
         "0.0",
         "0.0",
         "0.0",
         "0.0",
         "0.0",
         "0.0",
         "0.0",
         "0.0",
         "0.0",
         "0.0",
         "0.0",
         "0.0",
         "0.0",
         "0.0",
         "0.0",
         "0.0",
         "0.0",
         "0.0",
         "0.0",
         "0.0",
         "0.0",
         "0.0",
         "0.0",
         "0.0",
         "0.0",
         "0.0",
         "0.0",
         "0.0",
         "0.0",
         "0.0",
         "0.0",
         "0.0",
         "0.0",
         "0.0",
         "0.0",
         "0.0",
         "0.0",
         "0.0",
         "0.0",
         "0.0",
         "0.0",
         "0.0",
         "0.0",
         "0.0",
         "0.0",
         "0.0",
         "0.0",
         "0.0",
         "0.0",
         "0.0",
         "0.0",
         "0.0",
         "0.0",
         "0.0",
         "0.0",
         "0.0",
         "0.0",
         "0.0",
         "0.0",
         "0.0",
         "0.0",
         "0.0",
         "0.0",
         "0.0",
         "0.0",
         "0.0",
         "0.0",
         "0.0",
         "0.0",
         "0.0",
         "0.0",
         "0.0",
         "0.0",
         "0.0",
         "0.0",
         "0.0",
         "0.0",
         "0.0",
         "0.0",
         "0.0",
         "0.0",
         "0.0",
         "0.0",
         "0.0",
         "0.0",
         "0.0",
         "0.0",
         "0.0",
         "0.0",
         "0.0",
         "0.0",
         "0.0",
         "0.0",
         "0.0",
         "0.0",
         "0.0",
         "0.0",
         "0.0",
         "0.0",
         "0.0",
         "0.0",
         "0.0",
         "0.0",
         "0.0",
         "0.0",
         "0.0",
         "0.0",
         "0.0",
         "0.0",
         "0.0",
         "0.0",
         "0.0",
         "0.0",
         "0.0",
         "0.0",
         "0.0",
         "0.0",
         "0.0",
         "0.0",
         "0.0",
         "0.0",
         "0.0",
         "0.0",
         "0.0"
        ]
       ],
       "shape": {
        "columns": 1500,
        "rows": 3
       }
      },
      "text/html": [
       "<div>\n",
       "<style scoped>\n",
       "    .dataframe tbody tr th:only-of-type {\n",
       "        vertical-align: middle;\n",
       "    }\n",
       "\n",
       "    .dataframe tbody tr th {\n",
       "        vertical-align: top;\n",
       "    }\n",
       "\n",
       "    .dataframe thead th {\n",
       "        text-align: right;\n",
       "    }\n",
       "</style>\n",
       "<table border=\"1\" class=\"dataframe\">\n",
       "  <thead>\n",
       "    <tr style=\"text-align: right;\">\n",
       "      <th></th>\n",
       "      <th>hematocrit (serum)__range</th>\n",
       "      <th>hematocrit (serum)__max</th>\n",
       "      <th>rbc, other fluid__min</th>\n",
       "      <th>rbc, other fluid__last</th>\n",
       "      <th>rbc, other fluid__mean</th>\n",
       "      <th>rbc, other fluid__max</th>\n",
       "      <th>hematocrit (serum)__std</th>\n",
       "      <th>rbc, pleural__max</th>\n",
       "      <th>rbc, pleural__mean</th>\n",
       "      <th>rbc, pleural__last</th>\n",
       "      <th>...</th>\n",
       "      <th>abdominal girth__measured</th>\n",
       "      <th>heparin dose__measured</th>\n",
       "      <th>xigris__measured</th>\n",
       "      <th>abi ankle bp l (impella)__measured</th>\n",
       "      <th>abi brachial bp r (impella)__measured</th>\n",
       "      <th>spont. resp. rate__measured</th>\n",
       "      <th>vad beat rate [left]__measured</th>\n",
       "      <th>vd/vt ratio (40-60%)__measured</th>\n",
       "      <th>zzz stim thresh ma [value]__measured</th>\n",
       "      <th>micro-neb treatment__measured</th>\n",
       "    </tr>\n",
       "    <tr>\n",
       "      <th>subject_id</th>\n",
       "      <th></th>\n",
       "      <th></th>\n",
       "      <th></th>\n",
       "      <th></th>\n",
       "      <th></th>\n",
       "      <th></th>\n",
       "      <th></th>\n",
       "      <th></th>\n",
       "      <th></th>\n",
       "      <th></th>\n",
       "      <th></th>\n",
       "      <th></th>\n",
       "      <th></th>\n",
       "      <th></th>\n",
       "      <th></th>\n",
       "      <th></th>\n",
       "      <th></th>\n",
       "      <th></th>\n",
       "      <th></th>\n",
       "      <th></th>\n",
       "      <th></th>\n",
       "    </tr>\n",
       "  </thead>\n",
       "  <tbody>\n",
       "    <tr>\n",
       "      <th>1000</th>\n",
       "      <td>NaN</td>\n",
       "      <td>NaN</td>\n",
       "      <td>NaN</td>\n",
       "      <td>NaN</td>\n",
       "      <td>NaN</td>\n",
       "      <td>NaN</td>\n",
       "      <td>NaN</td>\n",
       "      <td>NaN</td>\n",
       "      <td>NaN</td>\n",
       "      <td>NaN</td>\n",
       "      <td>...</td>\n",
       "      <td>0.0</td>\n",
       "      <td>0.0</td>\n",
       "      <td>0.0</td>\n",
       "      <td>0.0</td>\n",
       "      <td>0.0</td>\n",
       "      <td>0.0</td>\n",
       "      <td>0.0</td>\n",
       "      <td>0.0</td>\n",
       "      <td>0.0</td>\n",
       "      <td>0.0</td>\n",
       "    </tr>\n",
       "    <tr>\n",
       "      <th>10000</th>\n",
       "      <td>NaN</td>\n",
       "      <td>NaN</td>\n",
       "      <td>NaN</td>\n",
       "      <td>NaN</td>\n",
       "      <td>NaN</td>\n",
       "      <td>NaN</td>\n",
       "      <td>NaN</td>\n",
       "      <td>NaN</td>\n",
       "      <td>NaN</td>\n",
       "      <td>NaN</td>\n",
       "      <td>...</td>\n",
       "      <td>NaN</td>\n",
       "      <td>NaN</td>\n",
       "      <td>NaN</td>\n",
       "      <td>NaN</td>\n",
       "      <td>NaN</td>\n",
       "      <td>NaN</td>\n",
       "      <td>NaN</td>\n",
       "      <td>NaN</td>\n",
       "      <td>NaN</td>\n",
       "      <td>NaN</td>\n",
       "    </tr>\n",
       "    <tr>\n",
       "      <th>10003</th>\n",
       "      <td>NaN</td>\n",
       "      <td>NaN</td>\n",
       "      <td>NaN</td>\n",
       "      <td>NaN</td>\n",
       "      <td>NaN</td>\n",
       "      <td>NaN</td>\n",
       "      <td>NaN</td>\n",
       "      <td>NaN</td>\n",
       "      <td>NaN</td>\n",
       "      <td>NaN</td>\n",
       "      <td>...</td>\n",
       "      <td>0.0</td>\n",
       "      <td>0.0</td>\n",
       "      <td>0.0</td>\n",
       "      <td>0.0</td>\n",
       "      <td>0.0</td>\n",
       "      <td>0.0</td>\n",
       "      <td>0.0</td>\n",
       "      <td>0.0</td>\n",
       "      <td>0.0</td>\n",
       "      <td>0.0</td>\n",
       "    </tr>\n",
       "  </tbody>\n",
       "</table>\n",
       "<p>3 rows × 1500 columns</p>\n",
       "</div>"
      ],
      "text/plain": [
       "            hematocrit (serum)__range  hematocrit (serum)__max  \\\n",
       "subject_id                                                       \n",
       "1000                              NaN                      NaN   \n",
       "10000                             NaN                      NaN   \n",
       "10003                             NaN                      NaN   \n",
       "\n",
       "            rbc, other fluid__min  rbc, other fluid__last  \\\n",
       "subject_id                                                  \n",
       "1000                          NaN                     NaN   \n",
       "10000                         NaN                     NaN   \n",
       "10003                         NaN                     NaN   \n",
       "\n",
       "            rbc, other fluid__mean  rbc, other fluid__max  \\\n",
       "subject_id                                                  \n",
       "1000                           NaN                    NaN   \n",
       "10000                          NaN                    NaN   \n",
       "10003                          NaN                    NaN   \n",
       "\n",
       "            hematocrit (serum)__std  rbc, pleural__max  rbc, pleural__mean  \\\n",
       "subject_id                                                                   \n",
       "1000                            NaN                NaN                 NaN   \n",
       "10000                           NaN                NaN                 NaN   \n",
       "10003                           NaN                NaN                 NaN   \n",
       "\n",
       "            rbc, pleural__last  ...  abdominal girth__measured  \\\n",
       "subject_id                      ...                              \n",
       "1000                       NaN  ...                        0.0   \n",
       "10000                      NaN  ...                        NaN   \n",
       "10003                      NaN  ...                        0.0   \n",
       "\n",
       "            heparin dose__measured  xigris__measured  \\\n",
       "subject_id                                             \n",
       "1000                           0.0               0.0   \n",
       "10000                          NaN               NaN   \n",
       "10003                          0.0               0.0   \n",
       "\n",
       "            abi ankle bp l (impella)__measured  \\\n",
       "subject_id                                       \n",
       "1000                                       0.0   \n",
       "10000                                      NaN   \n",
       "10003                                      0.0   \n",
       "\n",
       "            abi brachial bp r (impella)__measured  \\\n",
       "subject_id                                          \n",
       "1000                                          0.0   \n",
       "10000                                         NaN   \n",
       "10003                                         0.0   \n",
       "\n",
       "            spont. resp. rate__measured  vad beat rate [left]__measured  \\\n",
       "subject_id                                                                \n",
       "1000                                0.0                             0.0   \n",
       "10000                               NaN                             NaN   \n",
       "10003                               0.0                             0.0   \n",
       "\n",
       "            vd/vt ratio (40-60%)__measured  \\\n",
       "subject_id                                   \n",
       "1000                                   0.0   \n",
       "10000                                  NaN   \n",
       "10003                                  0.0   \n",
       "\n",
       "            zzz stim thresh ma [value]__measured  \\\n",
       "subject_id                                         \n",
       "1000                                         0.0   \n",
       "10000                                        NaN   \n",
       "10003                                        0.0   \n",
       "\n",
       "            micro-neb treatment__measured  \n",
       "subject_id                                 \n",
       "1000                                  0.0  \n",
       "10000                                 NaN  \n",
       "10003                                 0.0  \n",
       "\n",
       "[3 rows x 1500 columns]"
      ]
     },
     "execution_count": 5,
     "metadata": {},
     "output_type": "execute_result"
    }
   ],
   "source": [
    "# Unified extraction + feature build (replaces manual admissions + modality cells)\n",
    "import importlib\n",
    "import project.pipelines as pc\n",
    "pc = importlib.reload(pc)\n",
    "from project.pipelines import run_training_side_pipeline\n",
    "\n",
    "subject_ids_all = cohort['subject_id'].astype(int).tolist()\n",
    "print('Subjects in cohort (pre optional sample):', len(subject_ids_all))\n",
    "\n",
    "debug = True\n",
    "\n",
    "features, labels, dbg = run_training_side_pipeline(\n",
    "        con,\n",
    "        cohort_subject_ids=subject_ids_all,\n",
    "        debug=True,\n",
    "    )\n",
    "\n",
    "if debug:\n",
    "    print('--- Pipeline Debug Stats ---')\n",
    "    for k, v in dbg.items():\n",
    "        print(f\"{k}: {v}\")\n",
    "\n",
    "print('Unified features shape:', features.shape)\n",
    "features.head(3)"
   ]
  },
  {
   "cell_type": "markdown",
   "id": "769be70b",
   "metadata": {},
   "source": [
    "## 4. Demographics\n",
    "Pull patient-level gender, DOB, death date."
   ]
  },
  {
   "cell_type": "code",
   "execution_count": 6,
   "id": "81b5bb45",
   "metadata": {},
   "outputs": [
    {
     "name": "stdout",
     "output_type": "stream",
     "text": [
      "[pre-persist-guard] columns=1500 zero/constant=0 (0.00%)\n",
      "Current feature count: 1500\n",
      "[pre-persist-guard] post-clean constant columns: 0 / 1500\n",
      "[pre-persist-guard] post-clean constant columns: 0 / 1500\n",
      "Saved:\n",
      "  - C:\\Users\\Almog Luz\\Documents\\GitHub\\mlhc-final-project\\project\\artifacts\\features_full.parquet\n",
      "  - C:\\Users\\Almog Luz\\Documents\\GitHub\\mlhc-final-project\\project\\artifacts\\feature_provenance.json\n",
      "  - C:\\Users\\Almog Luz\\Documents\\GitHub\\mlhc-final-project\\project\\artifacts\\feature_columns.json\n",
      "Saved:\n",
      "  - C:\\Users\\Almog Luz\\Documents\\GitHub\\mlhc-final-project\\project\\artifacts\\features_full.parquet\n",
      "  - C:\\Users\\Almog Luz\\Documents\\GitHub\\mlhc-final-project\\project\\artifacts\\feature_provenance.json\n",
      "  - C:\\Users\\Almog Luz\\Documents\\GitHub\\mlhc-final-project\\project\\artifacts\\feature_columns.json\n"
     ]
    }
   ],
   "source": [
    "# Persist artifacts from unified feature matrix with schema guard (no mode flags)\n",
    "import json, math\n",
    "if features is None or features.empty:\n",
    "    raise RuntimeError('No features produced; cannot persist artifacts.')\n",
    "\n",
    "# Pre-persist variance guard (stronger than downstream):\n",
    "_nuniq = features.nunique(dropna=True)\n",
    "_zero_var = (_nuniq <= 1)\n",
    "zero_var_count = int(_zero_var.sum())\n",
    "zero_frac = zero_var_count / len(_nuniq) if len(_nuniq) else 0\n",
    "print(f'[pre-persist-guard] columns={len(_nuniq)} zero/constant={zero_var_count} ({zero_frac:.2%})')\n",
    "if zero_var_count == len(_nuniq):\n",
    "    raise RuntimeError('Refusing to persist: all features are constant (flat matrix).')\n",
    "if zero_frac > 0.50:\n",
    "    raise RuntimeError(f'Refusing to persist: >50% ({zero_frac:.1%}) of columns constant; investigate extraction/pruning path.')\n",
    "\n",
    "feat_path = ARTIFACTS_DIR / 'features_full.parquet'\n",
    "prov_path = ARTIFACTS_DIR / 'feature_provenance.json'\n",
    "cols_path = ARTIFACTS_DIR / 'feature_columns.json'\n",
    "legacy_cols_path = (PROJECT_ROOT / 'project' / 'artifacts2' / 'feature_columns.json')\n",
    "\n",
    "from project.features import build_feature_provenance\n",
    "\n",
    "prev_cols = None\n",
    "if cols_path.exists():\n",
    "    try:\n",
    "        prev_cols = json.loads(cols_path.read_text())\n",
    "    except Exception:\n",
    "        prev_cols = None\n",
    "legacy_cols = None\n",
    "if legacy_cols_path.exists():\n",
    "    try:\n",
    "        legacy_cols = json.loads(legacy_cols_path.read_text())\n",
    "    except Exception:\n",
    "        legacy_cols = None\n",
    "\n",
    "current_cols = list(features.columns)\n",
    "print(f'Current feature count: {len(current_cols)}')\n",
    "if legacy_cols is not None:\n",
    "    inter = len(set(current_cols) & set(legacy_cols))\n",
    "    jacc = inter / len(set(current_cols) | set(legacy_cols))\n",
    "    print(f'Legacy comparison -> intersection={inter} jaccard={jacc:.4f} legacy_count={len(legacy_cols)}')\n",
    "    if len(current_cols) < 0.9 * len(legacy_cols):\n",
    "        raise RuntimeError('Refusing to overwrite artifacts: feature schema size <90% of legacy (bug likely).')\n",
    "\n",
    "numeric_only = [c for c in current_cols if str(c).isdigit()]\n",
    "if numeric_only:\n",
    "    print('Dropping numeric-only columns:', numeric_only)\n",
    "    features = features.drop(columns=numeric_only, errors='ignore')\n",
    "    current_cols = [c for c in current_cols if c not in numeric_only]\n",
    "\n",
    "# Final variance snapshot after any drops\n",
    "_nuniq2 = features.nunique(dropna=True)\n",
    "print(f'[pre-persist-guard] post-clean constant columns: {int((_nuniq2<=1).sum())} / {len(_nuniq2)}')\n",
    "\n",
    "features.to_parquet(feat_path)\n",
    "prov = build_feature_provenance(features)\n",
    "prov_path.write_text(json.dumps(prov, indent=2))\n",
    "cols_path.write_text(json.dumps(current_cols, indent=2))\n",
    "print('Saved:')\n",
    "for p in [feat_path, prov_path, cols_path]:\n",
    "    print('  -', p.resolve())"
   ]
  },
  {
   "cell_type": "code",
   "execution_count": 7,
   "id": "978e053f",
   "metadata": {},
   "outputs": [
    {
     "name": "stdout",
     "output_type": "stream",
     "text": [
      "Saved labels to: C:\\Users\\Almog Luz\\Documents\\GitHub\\mlhc-final-project\\project\\artifacts\\labels.csv\n",
      "Label columns summary:\n",
      "  mortality_label: prevalence=0.1052 (n=28340)\n",
      "  prolonged_los_label: prevalence=0.5249 (n=28340)\n",
      "  readmission_label: prevalence=0.0435 (n=28340)\n",
      "Labels persistence complete.\n"
     ]
    }
   ],
   "source": [
    "# Persist labels (parallels feature artifact persistence)\n",
    "if labels is None or labels.empty:\n",
    "    raise RuntimeError('No labels dataframe returned from pipeline; cannot persist.')\n",
    "\n",
    "labels_path = ARTIFACTS_DIR / 'labels.csv'\n",
    "labels.to_csv(labels_path, index=False)\n",
    "print('Saved labels to:', labels_path.resolve())\n",
    "\n",
    "# If debug metadata about labels was returned, persist it\n",
    "if isinstance(dbg, dict) and 'labels_meta' in dbg:\n",
    "    import json\n",
    "    meta_path = ARTIFACTS_DIR / 'labels_meta.json'\n",
    "    try:\n",
    "        meta_path.write_text(json.dumps(dbg['labels_meta'], indent=2))\n",
    "        print('Saved labels meta to:', meta_path.resolve())\n",
    "    except Exception as e:\n",
    "        print('WARNING: could not persist labels_meta.json ->', e)\n",
    "\n",
    "# Quick prevalence / integrity summary\n",
    "id_cols = {'subject_id','hadm_id'}\n",
    "print('Label columns summary:')\n",
    "for col in labels.columns:\n",
    "    if col in id_cols:\n",
    "        continue\n",
    "    series = labels[col]\n",
    "    # Binary prevalence if values are 0/1\n",
    "    if series.dropna().isin([0,1]).all():\n",
    "        prev = float(series.mean()) if len(series) else float('nan')\n",
    "        print(f'  {col}: prevalence={prev:.4f} (n={len(series)})')\n",
    "    else:\n",
    "        print(f'  {col}: non-binary or mixed values; describe -> min={series.min()} max={series.max()} nonnull={series.notna().sum()}')\n",
    "print('Labels persistence complete.')"
   ]
  },
  {
   "cell_type": "markdown",
   "id": "719ca00e",
   "metadata": {},
   "source": [
    "## 5. 48h Modalities\n",
    "Vitals, labs, prescriptions, procedures within 0–48h window."
   ]
  },
  {
   "cell_type": "markdown",
   "id": "7fc4ff39",
   "metadata": {},
   "source": [
    "## 6. Summary Snapshots\n",
    "Preview shape and sample rows for validation."
   ]
  },
  {
   "cell_type": "code",
   "execution_count": 9,
   "id": "b1ac9f89",
   "metadata": {},
   "outputs": [
    {
     "name": "stdout",
     "output_type": "stream",
     "text": [
      "Parity check passed: feature column order matches saved schema.\n"
     ]
    }
   ],
   "source": [
    "# 5. Parity check: ensure saved feature_columns.json matches in-memory ordering\n",
    "import json\n",
    "schema_path = ARTIFACTS_DIR / 'feature_columns.json'\n",
    "if schema_path.exists():\n",
    "    saved_cols = json.loads(schema_path.read_text())\n",
    "    if list(features.columns) != saved_cols:\n",
    "        raise AssertionError('Feature column ordering drift detected between in-memory features and saved schema.')\n",
    "    else:\n",
    "        print('Parity check passed: feature column order matches saved schema.')\n",
    "else:\n",
    "    print('WARNING: feature_columns.json missing; parity check skipped.')"
   ]
  },
  {
   "cell_type": "markdown",
   "id": "7adfb56e",
   "metadata": {},
   "source": [
    "## 7. Next Steps\n",
    "- Integrate with feature builder\n",
    "- Persist cached parquet extracts (optional)\n",
    "- Proceed to training pipeline notebook"
   ]
  }
 ],
 "metadata": {
  "kernelspec": {
   "display_name": ".venv (3.13.3)",
   "language": "python",
   "name": "python3"
  },
  "language_info": {
   "codemirror_mode": {
    "name": "ipython",
    "version": 3
   },
   "file_extension": ".py",
   "mimetype": "text/x-python",
   "name": "python",
   "nbconvert_exporter": "python",
   "pygments_lexer": "ipython3",
   "version": "3.13.3"
  }
 },
 "nbformat": 4,
 "nbformat_minor": 5
}
