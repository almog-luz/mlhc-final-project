{
 "cells": [
  {
   "cell_type": "markdown",
   "metadata": {},
   "source": [
    "# Minimal Local Tester Notebook\n",
    "#### Mirrors original Tester_Notebook; only difference: local path variable instead of Colab drive."
   ]
  },
  {
   "cell_type": "code",
   "execution_count": null,
   "metadata": {},
   "outputs": [],
   "source": [
    "import pathlib, sys\n",
    "\n",
    "# Add project root to path if notebook is under notebooks/\n",
    "ROOT = pathlib.Path(__file__).resolve().parents[1] if '__file__' in globals() else pathlib.Path.cwd().parents[0]\n",
    "if str(ROOT) not in sys.path: sys.path.insert(0, str(ROOT))\n",
    "\n",
    "\n",
    "# Imports (minimal, like original)\n",
    "from project import run_pipeline_on_unseen_data\n",
    "import duckdb\n",
    "import pandas as pd\n",
    "import numpy as np\n",
    "import matplotlib.pyplot as plt"
   ]
  },
  {
   "cell_type": "code",
   "execution_count": null,
   "metadata": {},
   "outputs": [],
   "source": [
    "# Local path to mimiciii.duckdb (replace if stored elsewhere)\n",
    "mimic_path = '../data/mimiciii.duckdb'\n",
    "con = duckdb.connect(mimic_path)"
   ]
  },
  {
   "cell_type": "code",
   "execution_count": null,
   "metadata": {},
   "outputs": [],
   "source": [
    "# Run pipeline (mirrors original)\n",
    "test = pd.read_csv('../data/test_example.csv')\n",
    "predction_df = run_pipeline_on_unseen_data(test['subject_id'].to_list(), con)"
   ]
  },
  {
   "cell_type": "code",
   "execution_count": null,
   "metadata": {},
   "outputs": [],
   "source": [
    "# Validate Shape\n",
    "assert(isinstance(predction_df, pd.DataFrame))\n",
    "assert(predction_df.shape[1] == 4)\n",
    "assert(set(predction_df.columns) == set(['subject_id', 'mortality_proba', 'prolonged_LOS_proba', 'readmission_proba']))"
   ]
  },
  {
   "cell_type": "code",
   "execution_count": null,
   "metadata": {},
   "outputs": [],
   "source": [
    "# Show Data Sample\n",
    "predction_df.head()"
   ]
  },
  {
   "cell_type": "code",
   "execution_count": null,
   "metadata": {},
   "outputs": [],
   "source": [
    "# Probability Plots\n",
    "fig, ax = plt.subplots()\n",
    "ax.hist(predction_df['mortality_proba'], range=(0, 1), bins=10)\n",
    "ax.set_xlabel('Mortality Probabilities')\n",
    "ax.set_ylabel('Count')\n",
    "\n",
    "fig, ax = plt.subplots()\n",
    "ax.hist(predction_df['prolonged_LOS_proba'], range=(0, 1), bins=10)\n",
    "ax.set_xlabel('Prolonged Length of Stay Probabilities')\n",
    "ax.set_ylabel('Count')\n",
    "\n",
    "fig, ax = plt.subplots()\n",
    "ax.hist(predction_df['readmission_proba'], range=(0, 1), bins=10)\n",
    "ax.set_xlabel('Readmission Probabilities')\n",
    "ax.set_ylabel('Count')\n",
    "plt.show()"
   ]
  }
 ],
 "metadata": {
  "colab": {
   "provenance": []
  },
  "kernelspec": {
   "display_name": ".venv (3.13.3)",
   "language": "python",
   "name": "python3"
  },
  "language_info": {
   "codemirror_mode": {
    "name": "ipython",
    "version": 3
   },
   "file_extension": ".py",
   "mimetype": "text/x-python",
   "name": "python",
   "nbconvert_exporter": "python",
   "pygments_lexer": "ipython3",
   "version": "3.13.3"
  }
 },
 "nbformat": 4,
 "nbformat_minor": 0
}
