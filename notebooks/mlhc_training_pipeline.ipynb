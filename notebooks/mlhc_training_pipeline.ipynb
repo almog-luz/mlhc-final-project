{
 "cells": [
  {
   "cell_type": "markdown",
   "id": "791201e3",
   "metadata": {},
   "source": [
    "# MLHC Training Pipeline\n",
    "\n",
    "Objective: build features, train models, evaluate performance, and persist artifacts for mortality, prolonged LOS, and readmission.\n",
    "\n",
    "## Workflow\n",
    "1. Configure environment & paths\n",
    "2. Connect to data source (DuckDB or BigQuery equivalent)\n",
    "3. Extract cohort + modalities (first admissions + 48h windows)\n",
    "4. Build raw features and prune\n",
    "5. Train models (mortality, prolonged LOS, readmission)\n",
    "6. Calibrate and persist artifacts\n",
    "7. Evaluate metrics and inspect distributions\n",
    "\n"
   ]
  },
  {
   "cell_type": "code",
   "execution_count": 1,
   "id": "e63c1e87",
   "metadata": {},
   "outputs": [
    {
     "name": "stdout",
     "output_type": "stream",
     "text": [
      "Project root: c:\\Users\\Almog Luz\\Documents\\GitHub\\mlhc-final-project\n",
      "Data dir exists: True\n",
      "Versions: {\n",
      "  \"python\": \"3.13.3\",\n",
      "  \"platform\": \"Windows-10-10.0.19045-SP0\",\n",
      "  \"xgboost\": \"2.1.1\",\n",
      "  \"optuna\": \"4.5.0\",\n",
      "  \"shap\": \"0.48.0\",\n",
      "  \"sklearn\": \"1.7.1\",\n",
      "  \"pandas\": \"2.3.1\",\n",
      "  \"numpy\": \"2.2.6\"\n",
      "}\n",
      "Versions: {\n",
      "  \"python\": \"3.13.3\",\n",
      "  \"platform\": \"Windows-10-10.0.19045-SP0\",\n",
      "  \"xgboost\": \"2.1.1\",\n",
      "  \"optuna\": \"4.5.0\",\n",
      "  \"shap\": \"0.48.0\",\n",
      "  \"sklearn\": \"1.7.1\",\n",
      "  \"pandas\": \"2.3.1\",\n",
      "  \"numpy\": \"2.2.6\"\n",
      "}\n"
     ]
    }
   ],
   "source": [
    "# Environment & core imports\n",
    "import os, sys, json, random, platform, importlib, datetime, pathlib\n",
    "from pathlib import Path\n",
    "import numpy as np, pandas as pd\n",
    "\n",
    "# Add project root to path if notebook is under notebooks/\n",
    "ROOT = pathlib.Path(__file__).resolve().parents[1] if '__file__' in globals() else pathlib.Path.cwd().parents[0]\n",
    "if str(ROOT) not in sys.path: sys.path.insert(0, str(ROOT))\n",
    "\n",
    "\n",
    "SEED = 42\n",
    "random.seed(SEED); np.random.seed(SEED)\n",
    "PROJECT_ROOT = (Path.cwd().parent if Path.cwd().name == 'notebooks' else Path.cwd())\n",
    "DATA_DIR = PROJECT_ROOT / 'data'\n",
    "ARTIFACTS_DIR = PROJECT_ROOT / 'project/artifacts'\n",
    "RUNS_ROOT = PROJECT_ROOT / 'runs'\n",
    "print(f\"Project root: {PROJECT_ROOT}\")\n",
    "print(f\"Data dir exists: {(DATA_DIR).exists()}\")\n",
    "VERSIONS = {'python': sys.version.split()[0], 'platform': platform.platform()}\n",
    "for pkg in ['xgboost','optuna','shap','sklearn','pandas','numpy']:\n",
    "    try:\n",
    "        m = importlib.import_module(pkg if pkg != 'sklearn' else 'sklearn')\n",
    "        VERSIONS[pkg] = getattr(m,'__version__','?')\n",
    "    except Exception as e:\n",
    "        VERSIONS[pkg] = f'NA({e})'\n",
    "print('Versions:', json.dumps(VERSIONS, indent=2))"
   ]
  },
  {
   "cell_type": "markdown",
   "id": "c560f373",
   "metadata": {},
   "source": [
    "## 1. Environment Setup\n",
    "Configure base paths and basic dependencies."
   ]
  },
  {
   "cell_type": "code",
   "execution_count": 2,
   "id": "17c3dfd0",
   "metadata": {},
   "outputs": [
    {
     "name": "stdout",
     "output_type": "stream",
     "text": [
      "Labels source: c:\\Users\\Almog Luz\\Documents\\GitHub\\mlhc-final-project\\project\\artifacts\\labels.csv | shape=(28340, 5) | readmission_prevalence=0.0435\n"
     ]
    }
   ],
   "source": [
    "# Load canonical labels produced by duckdb_extraction notebook\n",
    "import pandas as pd, random\n",
    "from pathlib import Path\n",
    "\n",
    "# Force single authoritative path (output of duckdb_extraction)\n",
    "LABELS_PATH = (PROJECT_ROOT / 'project' / 'artifacts' / 'labels.csv')\n",
    "if not LABELS_PATH.exists():\n",
    "    raise FileNotFoundError(f'Expected labels at {LABELS_PATH}. Run duckdb_extraction notebook first to generate labels.csv there.')\n",
    "\n",
    "labels_df = pd.read_csv(LABELS_PATH)\n",
    "# Normalize required columns\n",
    "required_cols = {'subject_id','hadm_id','readmission_label','mortality_label','prolonged_los_label'}\n",
    "missing = required_cols - set(labels_df.columns)\n",
    "if missing:\n",
    "    raise ValueError(f'Missing expected label columns in {LABELS_PATH}: {missing}')\n",
    "\n",
    "labels_df = labels_df.drop_duplicates('subject_id')\n",
    "for col in ['readmission_label','mortality_label','prolonged_los_label']:\n",
    "    labels_df[col] = labels_df[col].astype(int)\n",
    "assert labels_df['subject_id'].isna().sum()==0\n",
    "prev_readmit = labels_df['readmission_label'].mean()\n",
    "print(f'Labels source: {LABELS_PATH} | shape={labels_df.shape} | readmission_prevalence={prev_readmit:.4f}')"
   ]
  },
  {
   "cell_type": "markdown",
   "id": "34d4f32a",
   "metadata": {},
   "source": [
    "## 2. Cohort & Admissions\n",
    "Extract first admissions and enforce LOS >=54h."
   ]
  },
  {
   "cell_type": "code",
   "execution_count": 3,
   "id": "65c9d838",
   "metadata": {},
   "outputs": [
    {
     "name": "stdout",
     "output_type": "stream",
     "text": [
      "[cohort-diff] label_subjects=28340 feature_subjects=28340\n",
      "[cohort-diff] missing_in_features=0 extra_in_features=0\n",
      "[align] overlap_frac=1.0000\n",
      "[align] Variance preserved.\n",
      "Features aligned shape: (28340, 1500) \n",
      "[align] Variance preserved.\n",
      "Features aligned shape: (28340, 1500) \n"
     ]
    }
   ],
   "source": [
    "# Load feature matrix (regenerate if tiny/corrupt) + strict safe alignment\n",
    "import pandas as pd, numpy as np, json, os\n",
    "from pathlib import Path\n",
    "\n",
    "feature_path = ARTIFACTS_DIR / 'features_full.parquet'\n",
    "if not feature_path.exists():\n",
    "    raise FileNotFoundError(f'Missing feature parquet: {feature_path}')\n",
    "\n",
    "feature_df = pd.read_parquet(feature_path)\n",
    "regenerated = False  # placeholder if regeneration logic later added\n",
    "\n",
    "# Ensure subject_id index\n",
    "if 'subject_id' in feature_df.columns:\n",
    "    if feature_df['subject_id'].duplicated().any():\n",
    "        raise RuntimeError('Duplicate subject_id rows in feature parquet.')\n",
    "    feature_df = feature_df.set_index('subject_id')\n",
    "\n",
    "# Canonical integer index (fix KeyError mismatch from mixed string/int earlier)\n",
    "try:\n",
    "    feature_df.index = feature_df.index.astype(int)\n",
    "except Exception as e:\n",
    "    raise RuntimeError(f'Failed to coerce feature index to int: {e}')\n",
    "if feature_df.index.has_duplicates:\n",
    "    raise RuntimeError('Feature index has duplicates after int coercion.')\n",
    "\n",
    "# Labels already loaded upstream into labels_df\n",
    "label_subjects = labels_df['subject_id'].astype(int)\n",
    "\n",
    "feat_ids = feature_df.index\n",
    "missing_in_features = set(label_subjects) - set(feat_ids)\n",
    "extra_in_features = set(feat_ids) - set(label_subjects)\n",
    "overlap_frac = 1 - (len(missing_in_features)/len(label_subjects)) if len(label_subjects) else 0\n",
    "print(f\"[cohort-diff] label_subjects={len(label_subjects)} feature_subjects={len(feat_ids)}\")\n",
    "print(f\"[cohort-diff] missing_in_features={len(missing_in_features)} extra_in_features={len(extra_in_features)}\")\n",
    "print(f\"[align] overlap_frac={overlap_frac:.4f}\")\n",
    "\n",
    "if missing_in_features:\n",
    "    raise RuntimeError(f'Missing {len(missing_in_features)} subjects (sample: {list(missing_in_features)[:10]})')\n",
    "\n",
    "# Pre-alignment variance snapshot (for collapse detection)\n",
    "pre_var = feature_df.var(numeric_only=True, ddof=0)\n",
    "\n",
    "# Strict ordering alignment\n",
    "feature_df_aligned = feature_df.loc[label_subjects.values]\n",
    "\n",
    "post_var = feature_df_aligned.var(numeric_only=True, ddof=0)\n",
    "collapsed = [c for c in pre_var.index if pre_var[c] > 0 and post_var[c] == 0]\n",
    "if collapsed:\n",
    "    print(f'WARNING: {len(collapsed)} columns lost variance post-alignment (e.g. {collapsed[:5]}).')\n",
    "else:\n",
    "    print('[align] Variance preserved.')\n",
    "\n",
    "print('Features aligned shape:', feature_df_aligned.shape, '| regenerated' if regenerated else '')\n",
    "\n",
    "# Expose for downstream cells\n",
    "features_loaded = feature_df_aligned"
   ]
  },
  {
   "cell_type": "markdown",
   "id": "6fa08550",
   "metadata": {},
   "source": [
    "## 3. Modalities Extraction\n",
    "Pull demographics, vitals, labs, prescriptions, procedures (0-48h window)."
   ]
  },
  {
   "cell_type": "code",
   "execution_count": 4,
   "id": "d05e9534",
   "metadata": {},
   "outputs": [
    {
     "name": "stdout",
     "output_type": "stream",
     "text": [
      "Split -> train (17004, 1500) valid (5668, 1500) test (5668, 1500) | pos_rate_train=0.0435 | spw≈22.01\n"
     ]
    }
   ],
   "source": [
    "# Train/valid/test split (60/20/20) + class weight factor\n",
    "from sklearn.model_selection import train_test_split\n",
    "readmit_y = labels_df['readmission_label'].astype(int).to_numpy()\n",
    "subject_index = feature_df.index.to_numpy()\n",
    "X = feature_df.values\n",
    "X_tr, X_temp, y_tr, y_temp, sid_tr, sid_temp = train_test_split(\n",
    "    X, readmit_y, subject_index, test_size=0.4, stratify=readmit_y, random_state=SEED)\n",
    "X_val, X_te, y_val, y_te, sid_val, sid_te = train_test_split(\n",
    "    X_temp, y_temp, sid_temp, test_size=0.5, stratify=y_temp, random_state=SEED)\n",
    "pos_rate = y_tr.mean(); scale_pos_weight = (1-pos_rate)/max(pos_rate,1e-6)\n",
    "print(f'Split -> train {X_tr.shape} valid {X_val.shape} test {X_te.shape} | pos_rate_train={pos_rate:.4f} | spw≈{scale_pos_weight:.2f}')"
   ]
  },
  {
   "cell_type": "markdown",
   "id": "281cc739",
   "metadata": {},
   "source": [
    "## 4. Feature Engineering\n",
    "Aggregate time-series stats + counts/missingness; drop leakage columns."
   ]
  },
  {
   "cell_type": "code",
   "execution_count": 5,
   "id": "cfb41202",
   "metadata": {},
   "outputs": [],
   "source": [
    "from sklearn.metrics import roc_auc_score, average_precision_score, f1_score, confusion_matrix\n",
    "import numpy as np\n",
    "C_FP = 1.0; C_FN = 5.0\n",
    "beta = 2.0\n",
    "\n",
    "def metrics_at(proba, y, thr):\n",
    "    pred = (proba >= thr).astype(int)\n",
    "    tn, fp, fn, tp = confusion_matrix(y, pred).ravel()\n",
    "    cost = C_FP*fp + C_FN*fn\n",
    "    f1 = f1_score(y, pred)\n",
    "    prec = tp/(tp+fp+1e-9); rec = tp/(tp+fn+1e-9)\n",
    "    fbeta = (1+beta**2)*prec*rec/(beta**2*prec+rec+1e-9)\n",
    "    return dict(f1=f1, precision=prec, recall=rec, cost=cost, fbeta=fbeta)"
   ]
  },
  {
   "cell_type": "markdown",
   "id": "c739ba7d",
   "metadata": {},
   "source": [
    "## 5. Pruning & Schema\n",
    "Variance/support pruning; capture provenance & persist feature columns."
   ]
  },
  {
   "cell_type": "code",
   "execution_count": 6,
   "id": "7ea02b18",
   "metadata": {},
   "outputs": [
    {
     "name": "stdout",
     "output_type": "stream",
     "text": [
      "Shared split shapes -> train (17004, 1500) val (5668, 1500) test (5668, 1500)\n"
     ]
    }
   ],
   "source": [
    "\n",
    "SEED = 42\n",
    "rng_global = np.random.default_rng(SEED)\n",
    "\n",
    "TARGET_SPECS = [\n",
    "    ('readmission','readmission_label'),\n",
    "    ('mortality','mortality_label'),\n",
    "    ('prolonged_los','prolonged_los_label'),\n",
    "]\n",
    "\n",
    "\n",
    "# Verify presence of target columns\n",
    "missing_targets = [lbl for _,lbl in TARGET_SPECS if lbl not in labels_df.columns]\n",
    "if missing_targets:\n",
    "    raise ValueError(f\"Missing target label columns: {missing_targets}\")\n",
    "\n",
    "# Shared subject index + base split for comparability\n",
    "subject_index = feature_df.index.to_numpy()\n",
    "X = feature_df.values\n",
    "primary_y = labels_df[TARGET_SPECS[0][1]].astype(int).to_numpy()  # stratify on first target\n",
    "X_tr, X_temp, y_tr_primary, y_temp_primary, sid_tr, sid_temp = train_test_split(X, primary_y, subject_index, test_size=0.4, stratify=primary_y, random_state=SEED)\n",
    "X_val, X_te, y_val_primary, y_te_primary, sid_val, sid_te = train_test_split(X_temp, y_temp_primary, sid_temp, test_size=0.5, stratify=y_temp_primary, random_state=SEED)\n",
    "print(f'Shared split shapes -> train {X_tr.shape} val {X_val.shape} test {X_te.shape}')\n",
    "\n",
    "subj_to_pos = {sid:i for i,sid in enumerate(subject_index)}\n",
    "idx_tr = np.array([subj_to_pos[s] for s in sid_tr])\n",
    "idx_val = np.array([subj_to_pos[s] for s in sid_val])\n",
    "idx_te = np.array([subj_to_pos[s] for s in sid_te])\n",
    "metrics_all = {}\n"
   ]
  },
  {
   "cell_type": "code",
   "execution_count": 7,
   "id": "30cb85ec",
   "metadata": {},
   "outputs": [
    {
     "name": "stdout",
     "output_type": "stream",
     "text": [
      "Persisted split subject id artifacts -> C:\\Users\\Almog Luz\\Documents\\GitHub\\mlhc-final-project\\project\\artifacts\\data_split_manifest.json\n"
     ]
    }
   ],
   "source": [
    "# Persist authoritative split subject IDs for downstream fairness / reproducibility\n",
    "import json, time\n",
    "ARTIFACTS_DIR.mkdir(exist_ok=True)\n",
    "\n",
    "split_manifest = {\n",
    "    'created_utc': time.time(),\n",
    "    'seed': SEED,\n",
    "    'counts': {\n",
    "        'train': int(len(sid_tr)),\n",
    "        'val': int(len(sid_val)),\n",
    "        'test': int(len(sid_te)),\n",
    "        'total': int(len(subject_index)),\n",
    "    },\n",
    "    'subject_ids': {\n",
    "        'train': [int(x) for x in sid_tr.tolist()],\n",
    "        'val': [int(x) for x in sid_val.tolist()],\n",
    "        'test': [int(x) for x in sid_te.tolist()],\n",
    "    },\n",
    "}\n",
    "# Lightweight plain‑text convenience files (one id per line)\n",
    "with open(ARTIFACTS_DIR / 'train_subject_ids.txt','w') as f:\n",
    "    f.write('\\n'.join(str(int(x)) for x in sid_tr))\n",
    "with open(ARTIFACTS_DIR / 'val_subject_ids.txt','w') as f:\n",
    "    f.write('\\n'.join(str(int(x)) for x in sid_val))\n",
    "with open(ARTIFACTS_DIR / 'test_subject_ids.txt','w') as f:\n",
    "    f.write('\\n'.join(str(int(x)) for x in sid_te))\n",
    "with open(ARTIFACTS_DIR / 'data_split_manifest.json','w') as f:\n",
    "    json.dump(split_manifest, f, indent=2)\n",
    "print('Persisted split subject id artifacts ->', (ARTIFACTS_DIR / 'data_split_manifest.json').resolve())"
   ]
  },
  {
   "cell_type": "markdown",
   "id": "ce642105",
   "metadata": {},
   "source": [
    "## 6. Label Join & Sanity Checks\n",
    "Align features with labels; assert subject ID match and ordering."
   ]
  },
  {
   "cell_type": "code",
   "execution_count": 7,
   "id": "6c9c9b0d",
   "metadata": {},
   "outputs": [
    {
     "name": "stdout",
     "output_type": "stream",
     "text": [
      "Baseline logistic validation AUCs per target: {'readmission': 0.5874388623638617, 'mortality': 0.7923202360995261, 'prolonged_los': 0.8021389673674395}\n"
     ]
    }
   ],
   "source": [
    "# Multi-target baseline (logistic) for reference per target\n",
    "from sklearn.linear_model import LogisticRegression\n",
    "from sklearn.impute import SimpleImputer\n",
    "from sklearn.preprocessing import StandardScaler\n",
    "from sklearn.pipeline import Pipeline\n",
    "from sklearn.metrics import roc_auc_score\n",
    "\n",
    "baseline_results = {}\n",
    "X_base = X_tr  # using training split from shared split\n",
    "X_val_base = X_val\n",
    "\n",
    "for tgt_name, label_col in TARGET_SPECS:\n",
    "    y_tr_t = labels_df[label_col].astype(int).to_numpy()[idx_tr]\n",
    "    y_val_t = labels_df[label_col].astype(int).to_numpy()[idx_val]\n",
    "    pipe = Pipeline([\n",
    "        (\"imp\", SimpleImputer(strategy='median')),\n",
    "        (\"sc\", StandardScaler(with_mean=False)),\n",
    "        (\"lr\", LogisticRegression(max_iter=500, class_weight='balanced', solver='liblinear'))\n",
    "    ])\n",
    "    pipe.fit(X_base, y_tr_t)\n",
    "    val_proba = pipe.predict_proba(X_val_base)[:,1]\n",
    "    auc_val = roc_auc_score(y_val_t, val_proba)\n",
    "    baseline_results[tgt_name] = float(auc_val)\n",
    "print('Baseline logistic validation AUCs per target:', baseline_results)"
   ]
  },
  {
   "cell_type": "markdown",
   "id": "aa49c3de",
   "metadata": {},
   "source": [
    "## 7. Model Training\n",
    "Train classifiers for each target with consistent preprocessing."
   ]
  },
  {
   "cell_type": "code",
   "execution_count": 8,
   "id": "2550bc76",
   "metadata": {},
   "outputs": [
    {
     "name": "stderr",
     "output_type": "stream",
     "text": [
      "[I 2025-09-19 16:40:32,604] A new study created in memory with name: no-name-14766039-c517-429e-a2fc-c896cbee2566\n"
     ]
    },
    {
     "name": "stdout",
     "output_type": "stream",
     "text": [
      "\n",
      "==== Target: readmission (readmission_label) ====\n",
      "Pos rate train: 0.0435 -> spw 22.01\n"
     ]
    },
    {
     "name": "stderr",
     "output_type": "stream",
     "text": [
      "[I 2025-09-19 16:40:57,944] Trial 0 finished with value: 0.6255218696679327 and parameters: {'learning_rate': 0.030710573677773714, 'max_depth': 7, 'min_child_weight': 6.123957592679836, 'subsample': 0.8394633936788146, 'colsample_bytree': 0.6624074561769746, 'lambda': 0.003775887545682684, 'alpha': 0.0015550191654264875, 'gamma': 3.4647045830997407, 'n_estimators': 288}. Best is trial 0 with value: 0.6255218696679327.\n",
      "[I 2025-09-19 16:41:14,114] Trial 1 finished with value: 0.6223374599214484 and parameters: {'learning_rate': 0.08341106432362087, 'max_depth': 3, 'min_child_weight': 7.78936896513396, 'subsample': 0.9329770563201687, 'colsample_bytree': 0.6849356442713105, 'lambda': 0.004705059281907645, 'alpha': 0.004031102009377833, 'gamma': 1.216968971838151, 'n_estimators': 267}. Best is trial 0 with value: 0.6255218696679327.\n",
      "[I 2025-09-19 16:41:28,219] Trial 2 finished with value: 0.6317212273033272 and parameters: {'learning_rate': 0.03647316284911211, 'max_depth': 4, 'min_child_weight': 5.282970263056656, 'subsample': 0.6557975442608167, 'colsample_bytree': 0.7168578594140873, 'lambda': 0.022654864504851786, 'alpha': 0.03202585241999402, 'gamma': 3.1407038455720544, 'n_estimators': 176}. Best is trial 2 with value: 0.6317212273033272.\n",
      "[I 2025-09-19 16:41:52,359] Trial 3 finished with value: 0.6076722396405326 and parameters: {'learning_rate': 0.04666963767236924, 'max_depth': 5, 'min_child_weight': 1.325152889039984, 'subsample': 0.8430179407605753, 'colsample_bytree': 0.6682096494749166, 'lambda': 0.0017402990823522548, 'alpha': 1.356124683738338, 'gamma': 3.8625281322982374, 'n_estimators': 347}. Best is trial 2 with value: 0.6317212273033272.\n",
      "[I 2025-09-19 16:42:06,243] Trial 4 finished with value: 0.6395249280410231 and parameters: {'learning_rate': 0.0249064396938244, 'max_depth': 3, 'min_child_weight': 5.789631185585098, 'subsample': 0.7760609974958406, 'colsample_bytree': 0.6488152939379115, 'lambda': 0.06786479434196534, 'alpha': 0.0012987260139887713, 'gamma': 3.6372816083151283, 'n_estimators': 192}. Best is trial 4 with value: 0.6395249280410231.\n",
      "[I 2025-09-19 16:42:31,438] Trial 5 finished with value: 0.608623709784177 and parameters: {'learning_rate': 0.07277150634170934, 'max_depth': 4, 'min_child_weight': 4.640476148244676, 'subsample': 0.8186841117373118, 'colsample_bytree': 0.6739417822102108, 'lambda': 3.8589082671053854, 'alpha': 0.36202344812619097, 'gamma': 3.7579957662567565, 'n_estimators': 371}. Best is trial 4 with value: 0.6395249280410231.\n",
      "[I 2025-09-19 16:43:11,239] Trial 6 finished with value: 0.599123105677495 and parameters: {'learning_rate': 0.059963338824126605, 'max_depth': 7, 'min_child_weight': 1.6194475143634364, 'subsample': 0.6783931449676581, 'colsample_bytree': 0.6180909155642152, 'lambda': 0.01597302366130558, 'alpha': 0.019188251048398993, 'gamma': 1.0853961270955836, 'n_estimators': 352}. Best is trial 4 with value: 0.6395249280410231.\n",
      "[I 2025-09-19 16:43:30,101] Trial 7 finished with value: 0.6355197801489139 and parameters: {'learning_rate': 0.02911701023242742, 'max_depth': 4, 'min_child_weight': 4.798872582107739, 'subsample': 0.6563696899899051, 'colsample_bytree': 0.9208787923016158, 'lambda': 0.0018869508789698256, 'alpha': 1.8102701073330132, 'gamma': 3.0889790771866297, 'n_estimators': 175}. Best is trial 4 with value: 0.6395249280410231.\n",
      "[I 2025-09-19 16:44:16,563] Trial 8 finished with value: 0.6324996381350955 and parameters: {'learning_rate': 0.010166803740022877, 'max_depth': 7, 'min_child_weight': 5.94800140693332, 'subsample': 0.8916028672163949, 'colsample_bytree': 0.9085081386743783, 'lambda': 0.0018788363146234185, 'alpha': 0.015251273957388432, 'gamma': 0.46347623810051886, 'n_estimators': 362}. Best is trial 4 with value: 0.6395249280410231.\n",
      "[I 2025-09-19 16:44:40,934] Trial 9 finished with value: 0.6073798680579234 and parameters: {'learning_rate': 0.06470376604234768, 'max_depth': 4, 'min_child_weight': 1.4449084520021653, 'subsample': 0.7243929286862649, 'colsample_bytree': 0.7300733288106989, 'lambda': 0.49979438035802604, 'alpha': 0.12723199497805338, 'gamma': 3.548850970305306, 'n_estimators': 252}. Best is trial 4 with value: 0.6395249280410231.\n",
      "[I 2025-09-19 16:44:56,123] Trial 10 finished with value: 0.6205476811906042 and parameters: {'learning_rate': 0.1696879465047448, 'max_depth': 3, 'min_child_weight': 3.1538594801518376, 'subsample': 0.751180619986081, 'colsample_bytree': 0.8144754354791038, 'lambda': 0.17647430612955295, 'alpha': 0.001121848142170188, 'gamma': 2.4542488780162923, 'n_estimators': 133}. Best is trial 4 with value: 0.6395249280410231.\n",
      "[I 2025-09-19 16:45:23,435] Trial 11 finished with value: 0.6367152879712715 and parameters: {'learning_rate': 0.02000741035725636, 'max_depth': 5, 'min_child_weight': 3.492638563344957, 'subsample': 0.6262819889747966, 'colsample_bytree': 0.964464452832595, 'lambda': 0.06307075650968366, 'alpha': 1.307479029029111, 'gamma': 2.4287370961329025, 'n_estimators': 198}. Best is trial 4 with value: 0.6395249280410231.\n",
      "[I 2025-09-19 16:45:44,506] Trial 12 finished with value: 0.6307014210707504 and parameters: {'learning_rate': 0.01582342154864109, 'max_depth': 6, 'min_child_weight': 3.3884681621784263, 'subsample': 0.6045568839938718, 'colsample_bytree': 0.9978705270890192, 'lambda': 0.09552606094495163, 'alpha': 0.20632828067375816, 'gamma': 2.2914123225093443, 'n_estimators': 214}. Best is trial 4 with value: 0.6395249280410231.\n",
      "[I 2025-09-19 16:46:00,669] Trial 13 finished with value: 0.6346001967889456 and parameters: {'learning_rate': 0.019747615715224928, 'max_depth': 5, 'min_child_weight': 3.4584683031827876, 'subsample': 0.9997449754566203, 'colsample_bytree': 0.8010926842846069, 'lambda': 0.5683568393771302, 'alpha': 0.0062716249528685115, 'gamma': 1.6634109245786277, 'n_estimators': 207}. Best is trial 4 with value: 0.6395249280410231.\n",
      "[I 2025-09-19 16:46:15,720] Trial 14 finished with value: 0.6384001499005232 and parameters: {'learning_rate': 0.01949187033094548, 'max_depth': 6, 'min_child_weight': 7.3952181015832466, 'subsample': 0.7664125867669591, 'colsample_bytree': 0.8612905186013975, 'lambda': 0.020040866299739824, 'alpha': 0.08630689087598152, 'gamma': 2.7566232919394493, 'n_estimators': 137}. Best is trial 4 with value: 0.6395249280410231.\n",
      "[I 2025-09-19 16:46:30,585] Trial 15 finished with value: 0.6386809152421115 and parameters: {'learning_rate': 0.010947701340165894, 'max_depth': 6, 'min_child_weight': 7.784888964341025, 'subsample': 0.7608733859538345, 'colsample_bytree': 0.8561711433906496, 'lambda': 0.015326108267706076, 'alpha': 0.07735577400550739, 'gamma': 3.0442436759909466, 'n_estimators': 133}. Best is trial 4 with value: 0.6395249280410231.\n",
      "[I 2025-09-19 16:46:45,835] Trial 16 finished with value: 0.6378262951810446 and parameters: {'learning_rate': 0.010143014301898283, 'max_depth': 6, 'min_child_weight': 6.876774886379089, 'subsample': 0.7143361425166723, 'colsample_bytree': 0.7596931749915968, 'lambda': 0.009784853352536045, 'alpha': 0.0072347550383344275, 'gamma': 2.9078590071521777, 'n_estimators': 123}. Best is trial 4 with value: 0.6395249280410231.\n",
      "[I 2025-09-19 16:47:00,157] Trial 17 finished with value: 0.6396673510590334 and parameters: {'learning_rate': 0.014005039599085955, 'max_depth': 3, 'min_child_weight': 6.456102692429001, 'subsample': 0.7807341107718284, 'colsample_bytree': 0.8515962168298972, 'lambda': 0.056865874101381095, 'alpha': 0.057395984926747634, 'gamma': 3.998099030781524, 'n_estimators': 161}. Best is trial 17 with value: 0.6396673510590334.\n",
      "[I 2025-09-19 16:47:18,688] Trial 18 finished with value: 0.6406735968953262 and parameters: {'learning_rate': 0.01584447099797825, 'max_depth': 3, 'min_child_weight': 6.539446672633847, 'subsample': 0.8862717025528952, 'colsample_bytree': 0.6073546158663807, 'lambda': 0.4199551128439528, 'alpha': 0.5043602852359996, 'gamma': 3.841376285518305, 'n_estimators': 232}. Best is trial 18 with value: 0.6406735968953262.\n",
      "[I 2025-09-19 16:47:39,573] Trial 19 finished with value: 0.6392105874012686 and parameters: {'learning_rate': 0.014909958273217326, 'max_depth': 3, 'min_child_weight': 6.715746876073756, 'subsample': 0.8988342640678241, 'colsample_bytree': 0.7640881690357239, 'lambda': 1.7347827833248237, 'alpha': 0.47989858147976994, 'gamma': 3.9946221782443385, 'n_estimators': 243}. Best is trial 18 with value: 0.6406735968953262.\n",
      "[I 2025-09-19 16:48:05,420] Trial 20 finished with value: 0.6042822861067558 and parameters: {'learning_rate': 0.1159883325844431, 'max_depth': 3, 'min_child_weight': 6.770477896797989, 'subsample': 0.9749182192183783, 'colsample_bytree': 0.6060084846502748, 'lambda': 0.341849128425985, 'alpha': 0.5917484531857142, 'gamma': 0.04648384651021309, 'n_estimators': 321}. Best is trial 18 with value: 0.6406735968953262.\n",
      "[I 2025-09-19 16:48:23,677] Trial 21 finished with value: 0.6383949699054436 and parameters: {'learning_rate': 0.02444564489664804, 'max_depth': 3, 'min_child_weight': 5.612691435963566, 'subsample': 0.795795163509494, 'colsample_bytree': 0.6366021102832348, 'lambda': 0.06450683819734454, 'alpha': 0.0463529057969694, 'gamma': 3.4253492656731956, 'n_estimators': 171}. Best is trial 18 with value: 0.6406735968953262.\n",
      "[I 2025-09-19 16:48:51,045] Trial 22 finished with value: 0.6396683260171908 and parameters: {'learning_rate': 0.014801997382250132, 'max_depth': 4, 'min_child_weight': 6.326898809861159, 'subsample': 0.873036303858507, 'colsample_bytree': 0.8859431969449821, 'lambda': 0.1545442564405977, 'alpha': 0.2054829090629286, 'gamma': 3.9898793139238933, 'n_estimators': 229}. Best is trial 18 with value: 0.6406735968953262.\n",
      "[I 2025-09-19 16:49:17,981] Trial 23 finished with value: 0.6366262898343177 and parameters: {'learning_rate': 0.013985080825811751, 'max_depth': 4, 'min_child_weight': 6.409422238862579, 'subsample': 0.8679691188626477, 'colsample_bytree': 0.8607999152819676, 'lambda': 1.3211239776871375, 'alpha': 0.24601294081767988, 'gamma': 3.2593089620235407, 'n_estimators': 221}. Best is trial 18 with value: 0.6406735968953262.\n",
      "[I 2025-09-19 16:49:51,287] Trial 24 finished with value: 0.6417372508112924 and parameters: {'learning_rate': 0.012906601464206026, 'max_depth': 4, 'min_child_weight': 7.20824188288384, 'subsample': 0.9438808931823901, 'colsample_bytree': 0.903973965680937, 'lambda': 0.179639402488422, 'alpha': 0.8242100931781825, 'gamma': 3.9722250796863166, 'n_estimators': 291}. Best is trial 24 with value: 0.6417372508112924.\n"
     ]
    },
    {
     "name": "stdout",
     "output_type": "stream",
     "text": [
      "Best CV mean AUC: 0.6417\n",
      "Best Params: {'learning_rate': 0.012906601464206026, 'max_depth': 4, 'min_child_weight': 7.20824188288384, 'subsample': 0.9438808931823901, 'colsample_bytree': 0.903973965680937, 'lambda': 0.179639402488422, 'alpha': 0.8242100931781825, 'gamma': 3.9722250796863166, 'n_estimators': 291}\n"
     ]
    },
    {
     "name": "stderr",
     "output_type": "stream",
     "text": [
      "[I 2025-09-19 16:50:10,483] A new study created in memory with name: no-name-81299488-54f6-4955-affe-048b482fc343\n"
     ]
    },
    {
     "name": "stdout",
     "output_type": "stream",
     "text": [
      "Selected threshold (validation calibrated): 0.05762541806020067 {'precision': 0.08047105004898875, 'recall': 0.3319838056666721, 'f1': 0.12954186382474064}\n",
      "Test metrics: {\n",
      "  \"auc\": 0.6382679867927414,\n",
      "  \"pr_auc\": 0.06882812828306656,\n",
      "  \"brier\": 0.041069304683666145,\n",
      "  \"threshold\": 0.05762541806020067,\n",
      "  \"f1_at_threshold\": 0.12928970439292511,\n",
      "  \"precision_at_threshold\": 0.08043694141004921,\n",
      "  \"recall_at_threshold\": 0.32926829268158836,\n",
      "  \"validation_threshold_info\": {\n",
      "    \"precision\": 0.08047105004898875,\n",
      "    \"recall\": 0.3319838056666721,\n",
      "    \"f1\": 0.12954186382474064,\n",
      "    \"threshold\": 0.05762541806020067\n",
      "  },\n",
      "  \"optuna_best_value_cv_mean_auc\": 0.6417372508112924,\n",
      "  \"optuna_best_params\": {\n",
      "    \"learning_rate\": 0.012906601464206026,\n",
      "    \"max_depth\": 4,\n",
      "    \"min_child_weight\": 7.20824188288384,\n",
      "    \"subsample\": 0.9438808931823901,\n",
      "    \"colsample_bytree\": 0.903973965680937,\n",
      "    \"lambda\": 0.179639402488422,\n",
      "    \"alpha\": 0.8242100931781825,\n",
      "    \"gamma\": 3.9722250796863166,\n",
      "    \"n_estimators\": 291\n",
      "  },\n",
      "  \"train_rows\": 17004,\n",
      "  \"val_rows\": 5668,\n",
      "  \"test_rows\": 5668\n",
      "}\n",
      "Artifact paths (readmission):\n",
      "  - C:\\Users\\Almog Luz\\Documents\\GitHub\\mlhc-final-project\\project\\artifacts\\model_full_readmission.joblib\n",
      "  - C:\\Users\\Almog Luz\\Documents\\GitHub\\mlhc-final-project\\project\\artifacts\\model_readmission.joblib\n",
      "  - C:\\Users\\Almog Luz\\Documents\\GitHub\\mlhc-final-project\\project\\artifacts\\isotonic_readmission.joblib\n",
      "  - C:\\Users\\Almog Luz\\Documents\\GitHub\\mlhc-final-project\\project\\artifacts\\metrics_readmission.json\n",
      "  - C:\\Users\\Almog Luz\\Documents\\GitHub\\mlhc-final-project\\project\\artifacts\\threshold_readmission.txt\n",
      "  - C:\\Users\\Almog Luz\\Documents\\GitHub\\mlhc-final-project\\project\\artifacts\\best_params_readmission.json\n",
      "\n",
      "==== Target: mortality (mortality_label) ====\n",
      "Pos rate train: 0.1044 -> spw 8.57\n"
     ]
    },
    {
     "name": "stderr",
     "output_type": "stream",
     "text": [
      "[I 2025-09-19 16:50:46,703] Trial 0 finished with value: 0.856844026800133 and parameters: {'learning_rate': 0.030710573677773714, 'max_depth': 7, 'min_child_weight': 6.123957592679836, 'subsample': 0.8394633936788146, 'colsample_bytree': 0.6624074561769746, 'lambda': 0.003775887545682684, 'alpha': 0.0015550191654264875, 'gamma': 3.4647045830997407, 'n_estimators': 288}. Best is trial 0 with value: 0.856844026800133.\n",
      "[I 2025-09-19 16:51:03,237] Trial 1 finished with value: 0.8545400944180246 and parameters: {'learning_rate': 0.08341106432362087, 'max_depth': 3, 'min_child_weight': 7.78936896513396, 'subsample': 0.9329770563201687, 'colsample_bytree': 0.6849356442713105, 'lambda': 0.004705059281907645, 'alpha': 0.004031102009377833, 'gamma': 1.216968971838151, 'n_estimators': 267}. Best is trial 0 with value: 0.856844026800133.\n",
      "[I 2025-09-19 16:51:18,558] Trial 2 finished with value: 0.8541198377131082 and parameters: {'learning_rate': 0.03647316284911211, 'max_depth': 4, 'min_child_weight': 5.282970263056656, 'subsample': 0.6557975442608167, 'colsample_bytree': 0.7168578594140873, 'lambda': 0.022654864504851786, 'alpha': 0.03202585241999402, 'gamma': 3.1407038455720544, 'n_estimators': 176}. Best is trial 0 with value: 0.856844026800133.\n",
      "[I 2025-09-19 16:51:45,870] Trial 3 finished with value: 0.8549401550564564 and parameters: {'learning_rate': 0.04666963767236924, 'max_depth': 5, 'min_child_weight': 1.325152889039984, 'subsample': 0.8430179407605753, 'colsample_bytree': 0.6682096494749166, 'lambda': 0.0017402990823522548, 'alpha': 1.356124683738338, 'gamma': 3.8625281322982374, 'n_estimators': 347}. Best is trial 0 with value: 0.856844026800133.\n",
      "[I 2025-09-19 16:52:01,653] Trial 4 finished with value: 0.8458620973042581 and parameters: {'learning_rate': 0.0249064396938244, 'max_depth': 3, 'min_child_weight': 5.789631185585098, 'subsample': 0.7760609974958406, 'colsample_bytree': 0.6488152939379115, 'lambda': 0.06786479434196534, 'alpha': 0.0012987260139887713, 'gamma': 3.6372816083151283, 'n_estimators': 192}. Best is trial 0 with value: 0.856844026800133.\n",
      "[I 2025-09-19 16:52:31,801] Trial 5 finished with value: 0.8542689086901927 and parameters: {'learning_rate': 0.07277150634170934, 'max_depth': 4, 'min_child_weight': 4.640476148244676, 'subsample': 0.8186841117373118, 'colsample_bytree': 0.6739417822102108, 'lambda': 3.8589082671053854, 'alpha': 0.36202344812619097, 'gamma': 3.7579957662567565, 'n_estimators': 371}. Best is trial 0 with value: 0.856844026800133.\n",
      "[I 2025-09-19 16:53:16,564] Trial 6 finished with value: 0.8443522928988862 and parameters: {'learning_rate': 0.059963338824126605, 'max_depth': 7, 'min_child_weight': 1.6194475143634364, 'subsample': 0.6783931449676581, 'colsample_bytree': 0.6180909155642152, 'lambda': 0.01597302366130558, 'alpha': 0.019188251048398993, 'gamma': 1.0853961270955836, 'n_estimators': 352}. Best is trial 0 with value: 0.856844026800133.\n",
      "[I 2025-09-19 16:53:38,424] Trial 7 finished with value: 0.8518028969646515 and parameters: {'learning_rate': 0.02911701023242742, 'max_depth': 4, 'min_child_weight': 4.798872582107739, 'subsample': 0.6563696899899051, 'colsample_bytree': 0.9208787923016158, 'lambda': 0.0018869508789698256, 'alpha': 1.8102701073330132, 'gamma': 3.0889790771866297, 'n_estimators': 175}. Best is trial 0 with value: 0.856844026800133.\n",
      "[I 2025-09-19 16:54:40,375] Trial 8 finished with value: 0.852066987638263 and parameters: {'learning_rate': 0.010166803740022877, 'max_depth': 7, 'min_child_weight': 5.94800140693332, 'subsample': 0.8916028672163949, 'colsample_bytree': 0.9085081386743783, 'lambda': 0.0018788363146234185, 'alpha': 0.015251273957388432, 'gamma': 0.46347623810051886, 'n_estimators': 362}. Best is trial 0 with value: 0.856844026800133.\n",
      "[I 2025-09-19 16:55:08,014] Trial 9 finished with value: 0.8528798699515667 and parameters: {'learning_rate': 0.06470376604234768, 'max_depth': 4, 'min_child_weight': 1.4449084520021653, 'subsample': 0.7243929286862649, 'colsample_bytree': 0.7300733288106989, 'lambda': 0.49979438035802604, 'alpha': 0.12723199497805338, 'gamma': 3.548850970305306, 'n_estimators': 252}. Best is trial 0 with value: 0.856844026800133.\n",
      "[I 2025-09-19 16:55:39,187] Trial 10 finished with value: 0.8414715070868419 and parameters: {'learning_rate': 0.1696879465047448, 'max_depth': 6, 'min_child_weight': 3.1538594801518376, 'subsample': 0.9729161367647149, 'colsample_bytree': 0.8085360047450805, 'lambda': 0.35744005701785764, 'alpha': 0.0011219967035034624, 'gamma': 2.4935060745178617, 'n_estimators': 280}. Best is trial 0 with value: 0.856844026800133.\n",
      "[I 2025-09-19 16:56:10,044] Trial 11 finished with value: 0.8559256651039678 and parameters: {'learning_rate': 0.017118359454668372, 'max_depth': 6, 'min_child_weight': 7.088521263762595, 'subsample': 0.8374631863167907, 'colsample_bytree': 0.8038214018237079, 'lambda': 0.00118625021680049, 'alpha': 1.3098493882610238, 'gamma': 2.2931639106049166, 'n_estimators': 319}. Best is trial 0 with value: 0.856844026800133.\n",
      "[I 2025-09-19 16:56:39,504] Trial 12 finished with value: 0.8553532401416561 and parameters: {'learning_rate': 0.015881886331894596, 'max_depth': 6, 'min_child_weight': 7.3834170625255595, 'subsample': 0.8758146404482569, 'colsample_bytree': 0.8293510738193376, 'lambda': 0.010358853302180919, 'alpha': 0.20632828067375816, 'gamma': 2.1266732606588437, 'n_estimators': 308}. Best is trial 0 with value: 0.856844026800133.\n",
      "[I 2025-09-19 16:57:02,890] Trial 13 finished with value: 0.8534840679341213 and parameters: {'learning_rate': 0.017913158992917264, 'max_depth': 6, 'min_child_weight': 6.853944233585444, 'subsample': 0.7631435327819819, 'colsample_bytree': 0.7667698433310002, 'lambda': 0.0012431021423963786, 'alpha': 0.0062716249528685115, 'gamma': 2.7048968343398103, 'n_estimators': 225}. Best is trial 0 with value: 0.856844026800133.\n",
      "[I 2025-09-19 16:57:42,722] Trial 14 finished with value: 0.8471328130295073 and parameters: {'learning_rate': 0.01040149931722761, 'max_depth': 7, 'min_child_weight': 6.65646224113015, 'subsample': 0.9984067957444853, 'colsample_bytree': 0.9973611932373386, 'lambda': 0.006735431263753835, 'alpha': 0.08016390660834292, 'gamma': 1.59992279753486, 'n_estimators': 315}. Best is trial 0 with value: 0.856844026800133.\n",
      "[I 2025-09-19 16:58:27,179] Trial 15 finished with value: 0.8549974714353274 and parameters: {'learning_rate': 0.021934254888351604, 'max_depth': 6, 'min_child_weight': 3.685186720665954, 'subsample': 0.6043956756975085, 'colsample_bytree': 0.8561711433906496, 'lambda': 0.06471682991898552, 'alpha': 0.5652649006062668, 'gamma': 1.8379866190610503, 'n_estimators': 394}. Best is trial 0 with value: 0.856844026800133.\n",
      "[I 2025-09-19 16:58:48,138] Trial 16 finished with value: 0.8419199824946567 and parameters: {'learning_rate': 0.015368784871225748, 'max_depth': 5, 'min_child_weight': 6.407168597093878, 'subsample': 0.869308716305864, 'colsample_bytree': 0.7629296156403403, 'lambda': 0.0041772405866638065, 'alpha': 0.003997910853116408, 'gamma': 0.108876105564788, 'n_estimators': 123}. Best is trial 0 with value: 0.856844026800133.\n",
      "[I 2025-09-19 16:59:34,922] Trial 17 finished with value: 0.852896799014121 and parameters: {'learning_rate': 0.038774964540378584, 'max_depth': 7, 'min_child_weight': 7.752678729419121, 'subsample': 0.9214439563441964, 'colsample_bytree': 0.8758697700847069, 'lambda': 0.02966613047472882, 'alpha': 0.053729271522352316, 'gamma': 2.55791074502428, 'n_estimators': 313}. Best is trial 0 with value: 0.856844026800133.\n",
      "[I 2025-09-19 17:00:06,609] Trial 18 finished with value: 0.8439798373218075 and parameters: {'learning_rate': 0.13721505616406968, 'max_depth': 6, 'min_child_weight': 3.6389717953646477, 'subsample': 0.7877385071054384, 'colsample_bytree': 0.6075934324519439, 'lambda': 0.2671077352451494, 'alpha': 0.5043602852359996, 'gamma': 3.1002446735380405, 'n_estimators': 232}. Best is trial 0 with value: 0.856844026800133.\n",
      "[I 2025-09-19 17:00:49,375] Trial 19 finished with value: 0.8512356734077491 and parameters: {'learning_rate': 0.10437477628622302, 'max_depth': 7, 'min_child_weight': 7.088193201039884, 'subsample': 0.828958691053765, 'colsample_bytree': 0.7739020034937255, 'lambda': 0.0010722259975051963, 'alpha': 0.00998560925506292, 'gamma': 2.068578953109573, 'n_estimators': 293}. Best is trial 0 with value: 0.856844026800133.\n",
      "[I 2025-09-19 17:01:32,978] Trial 20 finished with value: 0.855689924950517 and parameters: {'learning_rate': 0.0292724203928869, 'max_depth': 5, 'min_child_weight': 5.99900314987057, 'subsample': 0.7266324336737502, 'colsample_bytree': 0.7140797471051911, 'lambda': 0.0035233253311162506, 'alpha': 0.0021400676654875776, 'gamma': 1.3991531711858667, 'n_estimators': 338}. Best is trial 0 with value: 0.856844026800133.\n",
      "[I 2025-09-19 17:02:12,940] Trial 21 finished with value: 0.8547175855449914 and parameters: {'learning_rate': 0.029766396391891707, 'max_depth': 5, 'min_child_weight': 6.075721175086567, 'subsample': 0.7218570715352457, 'colsample_bytree': 0.7190904639977291, 'lambda': 0.0036426392361677434, 'alpha': 0.0017507804778758773, 'gamma': 1.2977907260905406, 'n_estimators': 333}. Best is trial 0 with value: 0.856844026800133.\n",
      "[I 2025-09-19 17:02:46,523] Trial 22 finished with value: 0.855267864189259 and parameters: {'learning_rate': 0.020567322589201954, 'max_depth': 6, 'min_child_weight': 5.195778173184274, 'subsample': 0.7395712129016055, 'colsample_bytree': 0.7291301031726001, 'lambda': 0.0031096782828817253, 'alpha': 0.003198390914934945, 'gamma': 0.9497546910304857, 'n_estimators': 392}. Best is trial 0 with value: 0.856844026800133.\n",
      "[I 2025-09-19 17:03:14,566] Trial 23 finished with value: 0.8537590613021253 and parameters: {'learning_rate': 0.013985080825811751, 'max_depth': 5, 'min_child_weight': 5.58522891681897, 'subsample': 0.7958323478732952, 'colsample_bytree': 0.6397670014526669, 'lambda': 0.010374092308112622, 'alpha': 0.0022295256474218752, 'gamma': 0.6788361492668246, 'n_estimators': 331}. Best is trial 0 with value: 0.856844026800133.\n",
      "[I 2025-09-19 17:03:41,748] Trial 24 finished with value: 0.8539487952285161 and parameters: {'learning_rate': 0.05189429889427861, 'max_depth': 5, 'min_child_weight': 7.151152940830989, 'subsample': 0.8461189175490832, 'colsample_bytree': 0.6926903308451663, 'lambda': 0.006798237030550873, 'alpha': 0.007100149091378851, 'gamma': 1.5597025532819027, 'n_estimators': 291}. Best is trial 0 with value: 0.856844026800133.\n"
     ]
    },
    {
     "name": "stdout",
     "output_type": "stream",
     "text": [
      "Best CV mean AUC: 0.8568\n",
      "Best Params: {'learning_rate': 0.030710573677773714, 'max_depth': 7, 'min_child_weight': 6.123957592679836, 'subsample': 0.8394633936788146, 'colsample_bytree': 0.6624074561769746, 'lambda': 0.003775887545682684, 'alpha': 0.0015550191654264875, 'gamma': 3.4647045830997407, 'n_estimators': 288}\n"
     ]
    },
    {
     "name": "stderr",
     "output_type": "stream",
     "text": [
      "[I 2025-09-19 17:04:04,507] A new study created in memory with name: no-name-de21867d-364d-4329-99ab-fcf2716582a4\n"
     ]
    },
    {
     "name": "stdout",
     "output_type": "stream",
     "text": [
      "Selected threshold (validation calibrated): 0.20645484949832776 {'precision': 0.40312876052899743, 'recall': 0.5537190082635476, 'f1': 0.46657381566772355}\n",
      "Test metrics: {\n",
      "  \"auc\": 0.861057802986565,\n",
      "  \"pr_auc\": 0.40082378929727874,\n",
      "  \"brier\": 0.07499164910501352,\n",
      "  \"threshold\": 0.20645484949832776,\n",
      "  \"f1_at_threshold\": 0.44975404027082827,\n",
      "  \"precision_at_threshold\": 0.3883495145626355,\n",
      "  \"recall_at_threshold\": 0.5342237061760697,\n",
      "  \"validation_threshold_info\": {\n",
      "    \"precision\": 0.40312876052899743,\n",
      "    \"recall\": 0.5537190082635476,\n",
      "    \"f1\": 0.46657381566772355,\n",
      "    \"threshold\": 0.20645484949832776\n",
      "  },\n",
      "  \"optuna_best_value_cv_mean_auc\": 0.856844026800133,\n",
      "  \"optuna_best_params\": {\n",
      "    \"learning_rate\": 0.030710573677773714,\n",
      "    \"max_depth\": 7,\n",
      "    \"min_child_weight\": 6.123957592679836,\n",
      "    \"subsample\": 0.8394633936788146,\n",
      "    \"colsample_bytree\": 0.6624074561769746,\n",
      "    \"lambda\": 0.003775887545682684,\n",
      "    \"alpha\": 0.0015550191654264875,\n",
      "    \"gamma\": 3.4647045830997407,\n",
      "    \"n_estimators\": 288\n",
      "  },\n",
      "  \"train_rows\": 17004,\n",
      "  \"val_rows\": 5668,\n",
      "  \"test_rows\": 5668\n",
      "}\n",
      "Artifact paths (mortality):\n",
      "  - C:\\Users\\Almog Luz\\Documents\\GitHub\\mlhc-final-project\\project\\artifacts\\model_full_mortality.joblib\n",
      "  - C:\\Users\\Almog Luz\\Documents\\GitHub\\mlhc-final-project\\project\\artifacts\\model_mortality.joblib\n",
      "  - C:\\Users\\Almog Luz\\Documents\\GitHub\\mlhc-final-project\\project\\artifacts\\isotonic_mortality.joblib\n",
      "  - C:\\Users\\Almog Luz\\Documents\\GitHub\\mlhc-final-project\\project\\artifacts\\metrics_mortality.json\n",
      "  - C:\\Users\\Almog Luz\\Documents\\GitHub\\mlhc-final-project\\project\\artifacts\\threshold_mortality.txt\n",
      "  - C:\\Users\\Almog Luz\\Documents\\GitHub\\mlhc-final-project\\project\\artifacts\\best_params_mortality.json\n",
      "\n",
      "==== Target: prolonged_los (prolonged_los_label) ====\n",
      "Pos rate train: 0.5261 -> spw 0.90\n"
     ]
    },
    {
     "name": "stderr",
     "output_type": "stream",
     "text": [
      "[I 2025-09-19 17:04:38,897] Trial 0 finished with value: 0.8263834243743731 and parameters: {'learning_rate': 0.030710573677773714, 'max_depth': 7, 'min_child_weight': 6.123957592679836, 'subsample': 0.8394633936788146, 'colsample_bytree': 0.6624074561769746, 'lambda': 0.003775887545682684, 'alpha': 0.0015550191654264875, 'gamma': 3.4647045830997407, 'n_estimators': 288}. Best is trial 0 with value: 0.8263834243743731.\n",
      "[I 2025-09-19 17:05:03,997] Trial 1 finished with value: 0.8227334915130197 and parameters: {'learning_rate': 0.08341106432362087, 'max_depth': 3, 'min_child_weight': 7.78936896513396, 'subsample': 0.9329770563201687, 'colsample_bytree': 0.6849356442713105, 'lambda': 0.004705059281907645, 'alpha': 0.004031102009377833, 'gamma': 1.216968971838151, 'n_estimators': 267}. Best is trial 0 with value: 0.8263834243743731.\n",
      "[I 2025-09-19 17:05:25,943] Trial 2 finished with value: 0.8211858083435818 and parameters: {'learning_rate': 0.03647316284911211, 'max_depth': 4, 'min_child_weight': 5.282970263056656, 'subsample': 0.6557975442608167, 'colsample_bytree': 0.7168578594140873, 'lambda': 0.022654864504851786, 'alpha': 0.03202585241999402, 'gamma': 3.1407038455720544, 'n_estimators': 176}. Best is trial 0 with value: 0.8263834243743731.\n",
      "[I 2025-09-19 17:06:00,940] Trial 3 finished with value: 0.8251193998030631 and parameters: {'learning_rate': 0.04666963767236924, 'max_depth': 5, 'min_child_weight': 1.325152889039984, 'subsample': 0.8430179407605753, 'colsample_bytree': 0.6682096494749166, 'lambda': 0.0017402990823522548, 'alpha': 1.356124683738338, 'gamma': 3.8625281322982374, 'n_estimators': 347}. Best is trial 0 with value: 0.8263834243743731.\n",
      "[I 2025-09-19 17:06:23,393] Trial 4 finished with value: 0.8137005427853033 and parameters: {'learning_rate': 0.0249064396938244, 'max_depth': 3, 'min_child_weight': 5.789631185585098, 'subsample': 0.7760609974958406, 'colsample_bytree': 0.6488152939379115, 'lambda': 0.06786479434196534, 'alpha': 0.0012987260139887713, 'gamma': 3.6372816083151283, 'n_estimators': 192}. Best is trial 0 with value: 0.8263834243743731.\n",
      "[I 2025-09-19 17:06:59,020] Trial 5 finished with value: 0.8247041728313237 and parameters: {'learning_rate': 0.07277150634170934, 'max_depth': 4, 'min_child_weight': 4.640476148244676, 'subsample': 0.8186841117373118, 'colsample_bytree': 0.6739417822102108, 'lambda': 3.8589082671053854, 'alpha': 0.36202344812619097, 'gamma': 3.7579957662567565, 'n_estimators': 371}. Best is trial 0 with value: 0.8263834243743731.\n",
      "[I 2025-09-19 17:07:52,385] Trial 6 finished with value: 0.8203749185487041 and parameters: {'learning_rate': 0.059963338824126605, 'max_depth': 7, 'min_child_weight': 1.6194475143634364, 'subsample': 0.6783931449676581, 'colsample_bytree': 0.6180909155642152, 'lambda': 0.01597302366130558, 'alpha': 0.019188251048398993, 'gamma': 1.0853961270955836, 'n_estimators': 352}. Best is trial 0 with value: 0.8263834243743731.\n",
      "[I 2025-09-19 17:08:10,465] Trial 7 finished with value: 0.8192221120272654 and parameters: {'learning_rate': 0.02911701023242742, 'max_depth': 4, 'min_child_weight': 4.798872582107739, 'subsample': 0.6563696899899051, 'colsample_bytree': 0.9208787923016158, 'lambda': 0.0018869508789698256, 'alpha': 1.8102701073330132, 'gamma': 3.0889790771866297, 'n_estimators': 175}. Best is trial 0 with value: 0.8263834243743731.\n",
      "[I 2025-09-19 17:08:47,502] Trial 8 finished with value: 0.8249546794193371 and parameters: {'learning_rate': 0.010166803740022877, 'max_depth': 7, 'min_child_weight': 5.94800140693332, 'subsample': 0.8916028672163949, 'colsample_bytree': 0.9085081386743783, 'lambda': 0.0018788363146234185, 'alpha': 0.015251273957388432, 'gamma': 0.46347623810051886, 'n_estimators': 362}. Best is trial 0 with value: 0.8263834243743731.\n",
      "[I 2025-09-19 17:09:05,997] Trial 9 finished with value: 0.8243855459594103 and parameters: {'learning_rate': 0.06470376604234768, 'max_depth': 4, 'min_child_weight': 1.4449084520021653, 'subsample': 0.7243929286862649, 'colsample_bytree': 0.7300733288106989, 'lambda': 0.49979438035802604, 'alpha': 0.12723199497805338, 'gamma': 3.548850970305306, 'n_estimators': 252}. Best is trial 0 with value: 0.8263834243743731.\n",
      "[I 2025-09-19 17:09:23,303] Trial 10 finished with value: 0.8201509650502269 and parameters: {'learning_rate': 0.1696879465047448, 'max_depth': 6, 'min_child_weight': 3.1538594801518376, 'subsample': 0.9729161367647149, 'colsample_bytree': 0.8085360047450805, 'lambda': 0.35744005701785764, 'alpha': 0.0011219967035034624, 'gamma': 2.4935060745178617, 'n_estimators': 280}. Best is trial 0 with value: 0.8263834243743731.\n",
      "[I 2025-09-19 17:09:56,091] Trial 11 finished with value: 0.8246956062020837 and parameters: {'learning_rate': 0.017118359454668372, 'max_depth': 6, 'min_child_weight': 7.088521263762595, 'subsample': 0.8374631863167907, 'colsample_bytree': 0.8038214018237079, 'lambda': 0.00118625021680049, 'alpha': 1.3098493882610238, 'gamma': 2.2931639106049166, 'n_estimators': 319}. Best is trial 0 with value: 0.8263834243743731.\n",
      "[I 2025-09-19 17:10:33,159] Trial 12 finished with value: 0.8260963218878882 and parameters: {'learning_rate': 0.01883815493245277, 'max_depth': 6, 'min_child_weight': 3.1602279240379443, 'subsample': 0.8758146404482569, 'colsample_bytree': 0.7461054284803088, 'lambda': 0.0075327986384147085, 'alpha': 0.11799624551738404, 'gamma': 3.977546831336119, 'n_estimators': 312}. Best is trial 0 with value: 0.8263834243743731.\n",
      "[I 2025-09-19 17:11:14,976] Trial 13 finished with value: 0.825842974587039 and parameters: {'learning_rate': 0.017001807209261185, 'max_depth': 6, 'min_child_weight': 3.348910199147751, 'subsample': 0.8923645209213664, 'colsample_bytree': 0.7635759593728008, 'lambda': 0.009478499962013298, 'alpha': 0.11767721036141988, 'gamma': 2.843518116731622, 'n_estimators': 304}. Best is trial 0 with value: 0.8263834243743731.\n",
      "[I 2025-09-19 17:11:53,958] Trial 14 finished with value: 0.8260349009784852 and parameters: {'learning_rate': 0.018828042930976313, 'max_depth': 7, 'min_child_weight': 3.990532966848914, 'subsample': 0.7656966395518466, 'colsample_bytree': 0.8524337374155859, 'lambda': 0.05667906177917434, 'alpha': 0.008524078072927278, 'gamma': 1.869880243803768, 'n_estimators': 233}. Best is trial 0 with value: 0.8263834243743731.\n",
      "[I 2025-09-19 17:12:48,005] Trial 15 finished with value: 0.8247477327025396 and parameters: {'learning_rate': 0.010899690117248029, 'max_depth': 6, 'min_child_weight': 2.507179898722581, 'subsample': 0.8955422140438892, 'colsample_bytree': 0.6153276310190674, 'lambda': 0.0061063062787787515, 'alpha': 0.0945324242911083, 'gamma': 3.9945842239682454, 'n_estimators': 394}. Best is trial 0 with value: 0.8263834243743731.\n",
      "[I 2025-09-19 17:13:07,875] Trial 16 finished with value: 0.8237260422430255 and parameters: {'learning_rate': 0.1163659260393688, 'max_depth': 5, 'min_child_weight': 6.567320273352928, 'subsample': 0.9918585998724915, 'colsample_bytree': 0.7541860017859953, 'lambda': 0.004623000806695191, 'alpha': 0.4576959712631425, 'gamma': 3.255107790255547, 'n_estimators': 123}. Best is trial 0 with value: 0.8263834243743731.\n",
      "[I 2025-09-19 17:13:58,377] Trial 17 finished with value: 0.8268524649429019 and parameters: {'learning_rate': 0.027141395702268697, 'max_depth': 7, 'min_child_weight': 4.013164580325276, 'subsample': 0.7138167047485052, 'colsample_bytree': 0.8505915654206465, 'lambda': 0.025484991969112997, 'alpha': 0.003479783665997521, 'gamma': 2.3021341227732366, 'n_estimators': 308}. Best is trial 17 with value: 0.8268524649429019.\n",
      "[I 2025-09-19 17:14:30,814] Trial 18 finished with value: 0.8251474052233683 and parameters: {'learning_rate': 0.03833910084643848, 'max_depth': 7, 'min_child_weight': 4.037562117658012, 'subsample': 0.6026168324121943, 'colsample_bytree': 0.8581687049459029, 'lambda': 0.25658455243398487, 'alpha': 0.0031452152832156656, 'gamma': 1.76015301769061, 'n_estimators': 218}. Best is trial 17 with value: 0.8268524649429019.\n",
      "[I 2025-09-19 17:14:58,395] Trial 19 finished with value: 0.8270718767490353 and parameters: {'learning_rate': 0.02464868343784626, 'max_depth': 7, 'min_child_weight': 6.715746876073756, 'subsample': 0.7204121973301068, 'colsample_bytree': 0.9789078891936575, 'lambda': 0.03635278851106783, 'alpha': 0.004720784357478351, 'gamma': 2.6155358517018836, 'n_estimators': 289}. Best is trial 19 with value: 0.8270718767490353.\n",
      "[I 2025-09-19 17:15:26,490] Trial 20 finished with value: 0.8218284337353223 and parameters: {'learning_rate': 0.01291483690989417, 'max_depth': 5, 'min_child_weight': 7.9735776908367155, 'subsample': 0.7269944668963086, 'colsample_bytree': 0.9994395693748084, 'lambda': 0.14416797804976417, 'alpha': 0.0045152626439146845, 'gamma': 2.628966265550309, 'n_estimators': 326}. Best is trial 19 with value: 0.8270718767490353.\n",
      "[I 2025-09-19 17:15:59,895] Trial 21 finished with value: 0.8262030922635676 and parameters: {'learning_rate': 0.02738207708942092, 'max_depth': 7, 'min_child_weight': 6.71703923777828, 'subsample': 0.7166941801381359, 'colsample_bytree': 0.9893716564113967, 'lambda': 0.03198073454239212, 'alpha': 0.002334492863689053, 'gamma': 1.5265976463912556, 'n_estimators': 293}. Best is trial 19 with value: 0.8270718767490353.\n",
      "[I 2025-09-19 17:16:35,043] Trial 22 finished with value: 0.8264479859592878 and parameters: {'learning_rate': 0.024143901096264745, 'max_depth': 7, 'min_child_weight': 5.788849131501367, 'subsample': 0.7866135783538144, 'colsample_bytree': 0.951927343523332, 'lambda': 0.03647352193033109, 'alpha': 0.007984708935460653, 'gamma': 2.3756563548482044, 'n_estimators': 253}. Best is trial 19 with value: 0.8270718767490353.\n",
      "[I 2025-09-19 17:17:14,266] Trial 23 finished with value: 0.8262750902796607 and parameters: {'learning_rate': 0.02262170270708469, 'max_depth': 7, 'min_child_weight': 5.366740729959922, 'subsample': 0.7628009665775098, 'colsample_bytree': 0.9520104938890753, 'lambda': 0.03881244785075039, 'alpha': 0.007520763501392971, 'gamma': 2.3611830164713306, 'n_estimators': 247}. Best is trial 19 with value: 0.8270718767490353.\n",
      "[I 2025-09-19 17:17:45,511] Trial 24 finished with value: 0.8242418948541677 and parameters: {'learning_rate': 0.05189429889427861, 'max_depth': 6, 'min_child_weight': 7.287958697320154, 'subsample': 0.6902514033712439, 'colsample_bytree': 0.9495607192603724, 'lambda': 0.11368964500396599, 'alpha': 0.00700013660793954, 'gamma': 2.1492302342360103, 'n_estimators': 217}. Best is trial 19 with value: 0.8270718767490353.\n"
     ]
    },
    {
     "name": "stdout",
     "output_type": "stream",
     "text": [
      "Best CV mean AUC: 0.8271\n",
      "Best Params: {'learning_rate': 0.02464868343784626, 'max_depth': 7, 'min_child_weight': 6.715746876073756, 'subsample': 0.7204121973301068, 'colsample_bytree': 0.9789078891936575, 'lambda': 0.03635278851106783, 'alpha': 0.004720784357478351, 'gamma': 2.6155358517018836, 'n_estimators': 289}\n",
      "Selected threshold (validation calibrated): 0.38505016722408025 {'precision': 0.7229124530480431, 'recall': 0.8432760364001203, 'f1': 0.7784691967646898}\n",
      "Test metrics: {\n",
      "  \"auc\": 0.8220015983739258,\n",
      "  \"pr_auc\": 0.8065178047151135,\n",
      "  \"brier\": 0.17108614081722098,\n",
      "  \"threshold\": 0.38505016722408025,\n",
      "  \"f1_at_threshold\": 0.7691595985782128,\n",
      "  \"precision_at_threshold\": 0.708522727272526,\n",
      "  \"recall_at_threshold\": 0.8411467116354667,\n",
      "  \"validation_threshold_info\": {\n",
      "    \"precision\": 0.7229124530480431,\n",
      "    \"recall\": 0.8432760364001203,\n",
      "    \"f1\": 0.7784691967646898,\n",
      "    \"threshold\": 0.38505016722408025\n",
      "  },\n",
      "  \"optuna_best_value_cv_mean_auc\": 0.8270718767490353,\n",
      "  \"optuna_best_params\": {\n",
      "    \"learning_rate\": 0.02464868343784626,\n",
      "    \"max_depth\": 7,\n",
      "    \"min_child_weight\": 6.715746876073756,\n",
      "    \"subsample\": 0.7204121973301068,\n",
      "    \"colsample_bytree\": 0.9789078891936575,\n",
      "    \"lambda\": 0.03635278851106783,\n",
      "    \"alpha\": 0.004720784357478351,\n",
      "    \"gamma\": 2.6155358517018836,\n",
      "    \"n_estimators\": 289\n",
      "  },\n",
      "  \"train_rows\": 17004,\n",
      "  \"val_rows\": 5668,\n",
      "  \"test_rows\": 5668\n",
      "}\n",
      "Artifact paths (prolonged_los):\n",
      "  - C:\\Users\\Almog Luz\\Documents\\GitHub\\mlhc-final-project\\project\\artifacts\\model_full_prolonged_los.joblib\n",
      "  - C:\\Users\\Almog Luz\\Documents\\GitHub\\mlhc-final-project\\project\\artifacts\\model_prolonged_los.joblib\n",
      "  - C:\\Users\\Almog Luz\\Documents\\GitHub\\mlhc-final-project\\project\\artifacts\\isotonic_prolonged_los.joblib\n",
      "  - C:\\Users\\Almog Luz\\Documents\\GitHub\\mlhc-final-project\\project\\artifacts\\metrics_prolonged_los.json\n",
      "  - C:\\Users\\Almog Luz\\Documents\\GitHub\\mlhc-final-project\\project\\artifacts\\threshold_prolonged_los.txt\n",
      "  - C:\\Users\\Almog Luz\\Documents\\GitHub\\mlhc-final-project\\project\\artifacts\\best_params_prolonged_los.json\n"
     ]
    }
   ],
   "source": [
    "# Multi-target tuning & training pipeline (updated to persist final_model + artifact paths)\n",
    "import optuna, numpy as np, json, joblib\n",
    "from sklearn.model_selection import train_test_split, StratifiedKFold\n",
    "from sklearn.isotonic import IsotonicRegression\n",
    "from sklearn.metrics import roc_auc_score, average_precision_score, brier_score_loss\n",
    "from xgboost import XGBClassifier\n",
    "\n",
    "\n",
    "# Hyperparameter search configuration\n",
    "N_TRIALS_PER_TARGET = 25  # increase for better tuning\n",
    "N_FOLDS = 5\n",
    "MAX_ROUNDS = 400\n",
    "SPEED_SAMPLE_MAX = 12000\n",
    "\n",
    "def make_objective(X_train_full, y_train_full):\n",
    "    def objective(trial: optuna.Trial):\n",
    "        params = {\n",
    "            'learning_rate': trial.suggest_float('learning_rate', 0.01, 0.2, log=True),\n",
    "            'max_depth': trial.suggest_int('max_depth', 3, 7),\n",
    "            'min_child_weight': trial.suggest_float('min_child_weight', 1.0, 8.0),\n",
    "            'subsample': trial.suggest_float('subsample', 0.6, 1.0),\n",
    "            'colsample_bytree': trial.suggest_float('colsample_bytree', 0.6, 1.0),\n",
    "            'reg_lambda': trial.suggest_float('lambda', 1e-3, 5.0, log=True),\n",
    "            'reg_alpha': trial.suggest_float('alpha', 1e-3, 2.0, log=True),\n",
    "            'gamma': trial.suggest_float('gamma', 0.0, 4.0),\n",
    "            'n_estimators': trial.suggest_int('n_estimators', 120, MAX_ROUNDS),\n",
    "        }\n",
    "        fold_aucs = []\n",
    "        skf = StratifiedKFold(n_splits=N_FOLDS, shuffle=True, random_state=SEED)\n",
    "        for fold,(tr_idx_local, va_idx_local) in enumerate(skf.split(X_train_full, y_train_full), 1):\n",
    "            Xtr_f, Xva_f = X_train_full[tr_idx_local], X_train_full[va_idx_local]\n",
    "            ytr_f, yva_f = y_train_full[tr_idx_local], y_train_full[va_idx_local]\n",
    "            if Xtr_f.shape[0] > SPEED_SAMPLE_MAX:\n",
    "                pos_idx = np.where(ytr_f==1)[0]\n",
    "                neg_idx = np.where(ytr_f==0)[0]\n",
    "                keep_pos = pos_idx\n",
    "                remaining = SPEED_SAMPLE_MAX - len(keep_pos)\n",
    "                if remaining < len(neg_idx):\n",
    "                    keep_neg = np.random.default_rng(SEED+fold).choice(neg_idx, size=remaining, replace=False)\n",
    "                else:\n",
    "                    keep_neg = neg_idx\n",
    "                keep = np.concatenate([keep_pos, keep_neg])\n",
    "                np.random.default_rng(SEED+fold).shuffle(keep)\n",
    "                Xtr_f = Xtr_f[keep]; ytr_f = ytr_f[keep]\n",
    "            pos_rate_fold = ytr_f.mean(); spw = (1-pos_rate_fold)/max(pos_rate_fold,1e-6)\n",
    "            model = XGBClassifier(objective='binary:logistic', tree_method='hist', scale_pos_weight=spw, eval_metric='auc', verbosity=0, **params)\n",
    "            model.fit(Xtr_f, ytr_f, verbose=False)\n",
    "            proba = model.predict_proba(Xva_f)[:,1]\n",
    "            fold_auc = roc_auc_score(yva_f, proba)\n",
    "            fold_aucs.append(fold_auc)\n",
    "        mean_auc = float(np.mean(fold_aucs))\n",
    "        trial.set_user_attr('fold_aucs', fold_aucs)\n",
    "        trial.set_user_attr('cv_mean_auc', mean_auc)\n",
    "        return mean_auc\n",
    "    return objective\n",
    "\n",
    "for tgt_name, label_col in TARGET_SPECS:\n",
    "    print('\\n==== Target:', tgt_name, '('+label_col+') ====')\n",
    "    y_all = labels_df[label_col].astype(int).to_numpy()\n",
    "    y_tr_t = y_all[idx_tr]; y_val_t = y_all[idx_val]; y_te_t = y_all[idx_te]\n",
    "    pos_rate = y_tr_t.mean(); scale_pos_weight = (1-pos_rate)/max(pos_rate,1e-6)\n",
    "    print(f'Pos rate train: {pos_rate:.4f} -> spw {scale_pos_weight:.2f}')\n",
    "    sampler = optuna.samplers.TPESampler(seed=SEED)\n",
    "    study = optuna.create_study(direction='maximize', sampler=sampler)\n",
    "    objective = make_objective(X_tr, y_tr_t)\n",
    "    study.optimize(objective, n_trials=N_TRIALS_PER_TARGET, show_progress_bar=False)\n",
    "    best_params = study.best_params.copy()\n",
    "    print('Best CV mean AUC:', round(study.best_value,4))\n",
    "    print('Best Params:', best_params)\n",
    "    # Final model retrained on train + validation (for potential deployment / ensembling)\n",
    "    X_tr_full_t = np.vstack([X_tr, X_val])\n",
    "    y_tr_full_t = np.concatenate([y_tr_t, y_val_t])\n",
    "    final_model = XGBClassifier(objective='binary:logistic', tree_method='hist', learning_rate=best_params['learning_rate'], n_estimators=best_params['n_estimators'], max_depth=best_params['max_depth'], min_child_weight=best_params['min_child_weight'], subsample=best_params['subsample'], colsample_bytree=best_params['colsample_bytree'], reg_lambda=best_params['lambda'], reg_alpha=best_params['alpha'], gamma=best_params['gamma'], scale_pos_weight=scale_pos_weight, eval_metric='auc', verbosity=0)\n",
    "    final_model.fit(X_tr_full_t, y_tr_full_t)\n",
    "    # Calibration base model (train-only) to avoid leaking validation into both model weights and calibrator\n",
    "    base_model = XGBClassifier(objective='binary:logistic', tree_method='hist', learning_rate=best_params['learning_rate'], n_estimators=best_params['n_estimators'], max_depth=best_params['max_depth'], min_child_weight=best_params['min_child_weight'], subsample=best_params['subsample'], colsample_bytree=best_params['colsample_bytree'], reg_lambda=best_params['lambda'], reg_alpha=best_params['alpha'], gamma=best_params['gamma'], scale_pos_weight=scale_pos_weight, eval_metric='logloss', verbosity=0)\n",
    "    base_model.fit(X_tr, y_tr_t)\n",
    "    val_raw = base_model.predict_proba(X_val)[:,1]\n",
    "    iso = IsotonicRegression(out_of_bounds='clip'); iso.fit(val_raw, y_val_t)\n",
    "    val_cal = iso.transform(val_raw)\n",
    "    # Threshold selection on calibrated validation probabilities (maximize F1)\n",
    "    ths = np.linspace(0.01,0.9,300)\n",
    "    best_thr = None; best_f1 = -1; best_val_metrics = None\n",
    "    def _metrics_at(proba, y, thr):\n",
    "        pred = (proba >= thr).astype(int)\n",
    "        tp = ((pred==1)&(y==1)).sum(); fp = ((pred==1)&(y==0)).sum(); fn = ((pred==0)&(y==1)).sum()\n",
    "        prec = tp/(tp+fp+1e-9); rec = tp/(tp+fn+1e-9)\n",
    "        f1 = 2*prec*rec/(prec+rec+1e-9)\n",
    "        return dict(precision=float(prec), recall=float(rec), f1=float(f1))\n",
    "    for t in ths:\n",
    "        m = _metrics_at(val_cal, y_val_t, t)\n",
    "        if m['f1'] > best_f1:\n",
    "            best_f1 = m['f1']; best_thr = float(t); best_val_metrics = m\n",
    "    print('Selected threshold (validation calibrated):', best_thr, best_val_metrics)\n",
    "    # Test evaluation using calibrated base model\n",
    "    test_cal = iso.transform(base_model.predict_proba(X_te)[:,1])\n",
    "    auc = roc_auc_score(y_te_t, test_cal)\n",
    "    pr_auc = average_precision_score(y_te_t, test_cal)\n",
    "    brier = brier_score_loss(y_te_t, test_cal)\n",
    "    test_pred = (test_cal >= best_thr).astype(int)\n",
    "    tp = ((test_pred==1)&(y_te_t==1)).sum(); fp = ((test_pred==1)&(y_te_t==0)).sum(); fn = ((test_pred==0)&(y_te_t==1)).sum()\n",
    "    prec_test = tp/(tp+fp+1e-9); rec_test = tp/(tp+fn+1e-9)\n",
    "    f1_test = 2*prec_test*rec_test/(prec_test+rec_test+1e-9)\n",
    "    metrics = {'auc': float(auc), 'pr_auc': float(pr_auc), 'brier': float(brier), 'threshold': best_thr, 'f1_at_threshold': float(f1_test), 'precision_at_threshold': float(prec_test), 'recall_at_threshold': float(rec_test), 'validation_threshold_info': {**best_val_metrics, 'threshold': best_thr}, 'optuna_best_value_cv_mean_auc': float(study.best_value), 'optuna_best_params': best_params, 'train_rows': int(X_tr.shape[0]), 'val_rows': int(X_val.shape[0]), 'test_rows': int(X_te.shape[0])}\n",
    "    metrics_all[tgt_name] = metrics\n",
    "    print('Test metrics:', json.dumps(metrics, indent=2))\n",
    "    # Persist artifacts (both final_model and calibration pipeline components)\n",
    "    ARTIFACTS_DIR.mkdir(exist_ok=True)\n",
    "    final_path = ARTIFACTS_DIR / f'model_full_{tgt_name}.joblib'  # trained on train+val\n",
    "    base_path = ARTIFACTS_DIR / f'model_{tgt_name}.joblib'        # train-only (paired with isotonic)\n",
    "    iso_path = ARTIFACTS_DIR / f'isotonic_{tgt_name}.joblib'\n",
    "    joblib.dump(final_model, final_path)\n",
    "    joblib.dump(base_model, base_path)\n",
    "    joblib.dump(iso, iso_path)\n",
    "    with open(ARTIFACTS_DIR / f'metrics_{tgt_name}.json','w') as f: json.dump(metrics, f, indent=2)\n",
    "    with open(ARTIFACTS_DIR / f'threshold_{tgt_name}.txt','w') as f: f.write(str(best_thr))\n",
    "    with open(ARTIFACTS_DIR / f'best_params_{tgt_name}.json','w') as f: json.dump(best_params, f, indent=2)\n",
    "    print(f'Artifact paths ({tgt_name}):')\n",
    "    for p in [final_path, base_path, iso_path, ARTIFACTS_DIR / f'metrics_{tgt_name}.json', ARTIFACTS_DIR / f'threshold_{tgt_name}.txt', ARTIFACTS_DIR / f'best_params_{tgt_name}.json']:\n",
    "        print('  -', p.resolve())\n"
   ]
  },
  {
   "cell_type": "markdown",
   "id": "64c0043b",
   "metadata": {},
   "source": [
    "## 8. Evaluation\n",
    "Compute ROC AUC, PR AUC; inspect score distributions."
   ]
  },
  {
   "cell_type": "code",
   "execution_count": 9,
   "id": "c9caa9de",
   "metadata": {},
   "outputs": [
    {
     "name": "stdout",
     "output_type": "stream",
     "text": [
      "All target metrics written -> C:\\Users\\Almog Luz\\Documents\\GitHub\\mlhc-final-project\\project\\artifacts\\metrics_all.json\n",
      "Artifact index written -> C:\\Users\\Almog Luz\\Documents\\GitHub\\mlhc-final-project\\project\\artifacts\\artifact_index.json\n"
     ]
    }
   ],
   "source": [
    "\n",
    "        \n",
    "# Combined metrics + artifact index\n",
    "with open(ARTIFACTS_DIR / 'metrics_all.json','w') as f: json.dump(metrics_all, f, indent=2)\n",
    "artifact_index = {}\n",
    "for tgt_name,_ in TARGET_SPECS:\n",
    "    artifact_index[tgt_name] = {\n",
    "        'final_model': str((ARTIFACTS_DIR / f'model_full_{tgt_name}.joblib').resolve()),\n",
    "        'base_model': str((ARTIFACTS_DIR / f'model_{tgt_name}.joblib').resolve()),\n",
    "        'isotonic': str((ARTIFACTS_DIR / f'isotonic_{tgt_name}.joblib').resolve()),\n",
    "        'metrics': str((ARTIFACTS_DIR / f'metrics_{tgt_name}.json').resolve()),\n",
    "        'threshold': str((ARTIFACTS_DIR / f'threshold_{tgt_name}.txt').resolve()),\n",
    "        'best_params': str((ARTIFACTS_DIR / f'best_params_{tgt_name}.json').resolve())\n",
    "    }\n",
    "with open(ARTIFACTS_DIR / 'artifact_index.json','w') as f: json.dump(artifact_index, f, indent=2)\n",
    "print('All target metrics written ->', (ARTIFACTS_DIR / 'metrics_all.json').resolve())\n",
    "print('Artifact index written ->', (ARTIFACTS_DIR / 'artifact_index.json').resolve())"
   ]
  },
  {
   "cell_type": "code",
   "execution_count": 10,
   "id": "6d964627",
   "metadata": {},
   "outputs": [
    {
     "name": "stdout",
     "output_type": "stream",
     "text": [
      "{\n",
      "  \"readmission\": [\n",
      "    \"best_params_readmission.json\",\n",
      "    \"isotonic_readmission.joblib\",\n",
      "    \"metrics_readmission.json\",\n",
      "    \"model_readmission.joblib\",\n",
      "    \"threshold_readmission.txt\"\n",
      "  ],\n",
      "  \"mortality\": [\n",
      "    \"best_params_mortality.json\",\n",
      "    \"isotonic_mortality.joblib\",\n",
      "    \"metrics_mortality.json\",\n",
      "    \"model_mortality.joblib\",\n",
      "    \"threshold_mortality.txt\"\n",
      "  ],\n",
      "  \"prolonged_los\": [\n",
      "    \"best_params_prolonged_los.json\",\n",
      "    \"isotonic_prolonged_los.joblib\",\n",
      "    \"metrics_prolonged_los.json\",\n",
      "    \"model_prolonged_los.joblib\",\n",
      "    \"threshold_prolonged_los.txt\"\n",
      "  ]\n",
      "}\n"
     ]
    }
   ],
   "source": [
    "# Summarize saved artifacts for all targets\n",
    "import json, os\n",
    "artifact_summary = {}\n",
    "for tgt_name, _ in TARGET_SPECS:\n",
    "    tgt_files = [f for f in os.listdir(ARTIFACTS_DIR) if f.startswith(('model_'+tgt_name,'isotonic_'+tgt_name,'metrics_'+tgt_name,'threshold_'+tgt_name,'best_params_'+tgt_name))]\n",
    "    artifact_summary[tgt_name] = tgt_files\n",
    "print(json.dumps(artifact_summary, indent=2))"
   ]
  },
  {
   "cell_type": "markdown",
   "id": "0ed5bedf",
   "metadata": {},
   "source": [
    "## 9. Calibration\n",
    "Fit isotonic calibrators if desired; apply to validation predictions."
   ]
  },
  {
   "cell_type": "code",
   "execution_count": 11,
   "id": "16676a0c",
   "metadata": {},
   "outputs": [
    {
     "data": {
      "image/png": "[encoded data removed]",
      "text/plain": [
       "<Figure size 1200x500 with 2 Axes>"
      ]
     },
     "metadata": {},
     "output_type": "display_data"
    }
   ],
   "source": [
    "# ROC & PR curves (calibrated) for all targets\n",
    "import json\n",
    "import matplotlib.pyplot as plt\n",
    "from sklearn.metrics import roc_curve, precision_recall_curve, auc as sk_auc\n",
    "from joblib import load as jobload\n",
    "\n",
    "roc_data = {}\n",
    "pr_data = {}\n",
    "for tgt_name, label_col in TARGET_SPECS:\n",
    "    model_path = ARTIFACTS_DIR / f'model_{tgt_name}.joblib'\n",
    "    iso_path = ARTIFACTS_DIR / f'isotonic_{tgt_name}.joblib'\n",
    "    if not (model_path.exists() and iso_path.exists()):\n",
    "        print('Missing artifacts for', tgt_name)\n",
    "        continue\n",
    "    model = jobload(model_path)\n",
    "    iso = jobload(iso_path)\n",
    "    y_all = labels_df[label_col].astype(int).to_numpy()\n",
    "    y_te_t = y_all[idx_te]\n",
    "    raw = model.predict_proba(X_te)[:,1]\n",
    "    cal = iso.transform(raw)\n",
    "    fpr,tpr,_ = roc_curve(y_te_t, cal)\n",
    "    prec,rec,_ = precision_recall_curve(y_te_t, cal)\n",
    "    roc_auc = sk_auc(fpr,tpr)\n",
    "    pr_auc = sk_auc(rec,prec)\n",
    "    roc_data[tgt_name] = (fpr,tpr,roc_auc)\n",
    "    pr_data[tgt_name] = (rec,prec,pr_auc)\n",
    "\n",
    "fig, axes = plt.subplots(1,2, figsize=(12,5))\n",
    "for tgt,(fpr,tpr,roc_auc) in roc_data.items():\n",
    "    axes[0].plot(fpr,tpr,label=f\"{tgt} AUC={roc_auc:.3f}\")\n",
    "axes[0].plot([0,1],[0,1],'--',color='grey'); axes[0].set_title('ROC (Calibrated)'); axes[0].legend(); axes[0].set_xlabel('FPR'); axes[0].set_ylabel('TPR')\n",
    "for tgt,(rec,prec,pr_auc) in pr_data.items():\n",
    "    axes[1].plot(rec,prec,label=f\"{tgt} PR AUC={pr_auc:.3f}\")\n",
    "axes[1].set_title('PR (Calibrated)'); axes[1].legend(); axes[1].set_xlabel('Recall'); axes[1].set_ylabel('Precision')\n",
    "plt.tight_layout(); plt.show()"
   ]
  },
  {
   "cell_type": "markdown",
   "id": "1b693a61",
   "metadata": {},
   "source": [
    "## 10. Feature Importance\n",
    "Plot model-specific or permutation-based importance for audit."
   ]
  },
  {
   "cell_type": "code",
   "execution_count": 12,
   "id": "7400eecd",
   "metadata": {},
   "outputs": [
    {
     "data": {
      "image/png": "[encoded data removed]",
      "text/plain": [
       "<Figure size 1500x400 with 3 Axes>"
      ]
     },
     "metadata": {},
     "output_type": "display_data"
    },
    {
     "name": "stdout",
     "output_type": "stream",
     "text": [
      "readmission: mean |raw-cal| = 0.36637\n",
      "mortality: mean |raw-cal| = 0.13024\n",
      "prolonged_los: mean |raw-cal| = 0.02790\n"
     ]
    }
   ],
   "source": [
    "# Calibration curves for all targets (using shared_inference unified loading)\n",
    "from project.inference import get_model_and_calibrator, apply_calibration, _resolve_models_dir\n",
    "import matplotlib.pyplot as plt\n",
    "from sklearn.calibration import calibration_curve\n",
    "import numpy as np\n",
    "\n",
    "ARTIFACTS_DIR = _resolve_models_dir()\n",
    "\n",
    "calibration_targets = []  # (tgt_name, y_true_test, raw_probs, calibrated_probs)\n",
    "for tgt_name, label_col in TARGET_SPECS:\n",
    "    try:\n",
    "        model, calibrator = get_model_and_calibrator(tgt_name, models_dir=ARTIFACTS_DIR)\n",
    "    except FileNotFoundError:\n",
    "        print('Skip (missing artifacts):', tgt_name)\n",
    "        continue\n",
    "    y_all = labels_df[label_col].astype(int).to_numpy(); y_te_t = y_all[idx_te]\n",
    "    raw = model.predict_proba(X_te)[:,1]\n",
    "    cal = apply_calibration(raw, calibrator)\n",
    "    calibration_targets.append((tgt_name, y_te_t, raw, cal))\n",
    "\n",
    "if not calibration_targets:\n",
    "    raise RuntimeError('No targets available for calibration plotting.')\n",
    "\n",
    "fig, axes = plt.subplots(1, len(calibration_targets), figsize=(5*len(calibration_targets),4), sharey=True)\n",
    "if len(calibration_targets) == 1:\n",
    "    axes = [axes]\n",
    "\n",
    "for ax,(tgt,y_true,raw,cal) in zip(axes, calibration_targets):\n",
    "    fr_raw, mp_raw = calibration_curve(y_true, raw, n_bins=15, strategy='quantile')\n",
    "    fr_cal, mp_cal = calibration_curve(y_true, cal, n_bins=15, strategy='quantile')\n",
    "    ax.plot(mp_raw, fr_raw, 'o-', label='Raw', alpha=0.7)\n",
    "    ax.plot(mp_cal, fr_cal, 'o-', label='Calibrated', alpha=0.7)\n",
    "    ax.plot([0,1],[0,1], '--', color='gray')\n",
    "    ax.set_title(f'Calibration: {tgt}')\n",
    "    ax.set_xlabel('Predicted'); ax.set_ylabel('Observed')\n",
    "    ax.legend()\n",
    "plt.tight_layout(); plt.show()\n",
    "\n",
    "# Report average absolute calibration shift per target\n",
    "for tgt, y_true, raw, cal in calibration_targets:\n",
    "    shift = float(np.mean(np.abs(raw - cal)))\n",
    "    print(f\"{tgt}: mean |raw-cal| = {shift:.5f}\")"
   ]
  },
  {
   "cell_type": "markdown",
   "id": "432add8f",
   "metadata": {},
   "source": [
    "## 11. Distribution Checks\n",
    "Visualize probability distributions by outcome class."
   ]
  },
  {
   "cell_type": "code",
   "execution_count": 13,
   "id": "612ab5ac",
   "metadata": {},
   "outputs": [
    {
     "name": "stdout",
     "output_type": "stream",
     "text": [
      "Isotonic calibration fitted on validation set.\n",
      "Selected threshold (calibrated validation): {'f1': 0.11981566820276497, 'precision': np.float64(0.07756563245814133), 'recall': np.float64(0.2631578947357767), 'cost': np.float64(1683.0), 'fbeta': np.float64(0.17798466562559456), 'threshold': 0.05762541806020067}\n"
     ]
    }
   ],
   "source": [
    "# Manual isotonic calibration (sklearn XGBClassifier base, no DMatrix)\n",
    "from xgboost import XGBClassifier\n",
    "from sklearn.isotonic import IsotonicRegression\n",
    "import numpy as np\n",
    "\n",
    "# Base model: train-only (exclude validation for calibration fairness)\n",
    "params = study.best_params.copy()\n",
    "base_model = XGBClassifier(\n",
    "    objective='binary:logistic', tree_method='hist',\n",
    "    learning_rate=params['learning_rate'],\n",
    "    n_estimators=params['n_estimators'],\n",
    "    max_depth=params['max_depth'],\n",
    "    min_child_weight=params['min_child_weight'],\n",
    "    subsample=params['subsample'],\n",
    "    colsample_bytree=params['colsample_bytree'],\n",
    "    reg_lambda=params['lambda'],\n",
    "    reg_alpha=params['alpha'],\n",
    "    gamma=params['gamma'],\n",
    "    scale_pos_weight=scale_pos_weight,\n",
    "    eval_metric='logloss',\n",
    "    verbosity=0\n",
    ")\n",
    "base_model.fit(X_tr, y_tr)\n",
    "val_proba_raw = base_model.predict_proba(X_val)[:,1]\n",
    "iso = IsotonicRegression(out_of_bounds='clip')\n",
    "iso.fit(val_proba_raw, y_val)\n",
    "print('Isotonic calibration fitted on validation set.')\n",
    "\n",
    "def predict_calibrated(X):\n",
    "    return iso.transform(base_model.predict_proba(X)[:,1])\n",
    "\n",
    "# Derive operating threshold on calibrated validation probabilities\n",
    "val_cal = predict_calibrated(X_val)\n",
    "ths = np.linspace(0.01,0.9,300)\n",
    "threshold_info = None\n",
    "for t in ths:\n",
    "    m = metrics_at(val_cal, y_val, t)\n",
    "    if (threshold_info is None) or (m['f1'] > threshold_info['f1']):\n",
    "        threshold_info = {**m, 'threshold': float(t)}\n",
    "print('Selected threshold (calibrated validation):', threshold_info)"
   ]
  },
  {
   "cell_type": "markdown",
   "id": "23ffa2fb",
   "metadata": {},
   "source": [
    "## 12. Artifact Persistence\n",
    "Save models, feature columns, provenance, (optional) calibrators."
   ]
  },
  {
   "cell_type": "code",
   "execution_count": 14,
   "id": "c48d96bd",
   "metadata": {},
   "outputs": [
    {
     "name": "stdout",
     "output_type": "stream",
     "text": [
      "          target       auc    pr_auc     brier  threshold  f1_at_threshold  precision_at_threshold  recall_at_threshold  baseline_val_auc\n",
      "1      mortality  0.861058  0.400824  0.074992   0.206455         0.449754                0.388350             0.534224          0.792320\n",
      "2  prolonged_los  0.822002  0.806518  0.171086   0.385050         0.769160                0.708523             0.841147          0.802139\n",
      "0    readmission  0.638268  0.068828  0.041069   0.057625         0.129290                0.080437             0.329268          0.587439\n",
      "Wrote metrics_summary.csv\n"
     ]
    }
   ],
   "source": [
    "# Unified summary table: tuned vs baseline metrics per target\n",
    "import json, pandas as pd\n",
    "rows = []\n",
    "for tgt_name, _ in TARGET_SPECS:\n",
    "    metrics_path = ARTIFACTS_DIR / f'metrics_{tgt_name}.json'\n",
    "    if not metrics_path.exists():\n",
    "        continue\n",
    "    with open(metrics_path) as f:\n",
    "        m = json.load(f)\n",
    "    rows.append({\n",
    "        'target': tgt_name,\n",
    "        'auc': m['auc'],\n",
    "        'pr_auc': m['pr_auc'],\n",
    "        'brier': m['brier'],\n",
    "        'threshold': m['threshold'],\n",
    "        'f1_at_threshold': m['f1_at_threshold'],\n",
    "        'precision_at_threshold': m['precision_at_threshold'],\n",
    "        'recall_at_threshold': m['recall_at_threshold'],\n",
    "        'baseline_val_auc': baseline_results.get(tgt_name)\n",
    "    })\n",
    "summary_df = pd.DataFrame(rows)\n",
    "print(summary_df.sort_values('target'))\n",
    "summary_df.to_csv(ARTIFACTS_DIR / 'metrics_summary.csv', index=False)\n",
    "print('Wrote metrics_summary.csv')"
   ]
  },
  {
   "cell_type": "code",
   "execution_count": 15,
   "id": "f42bb1e8",
   "metadata": {},
   "outputs": [
    {
     "data": {
      "application/vnd.microsoft.datawrangler.viewer.v0+json": {
       "columns": [
        {
         "name": "index",
         "rawType": "int64",
         "type": "integer"
        },
        {
         "name": "target",
         "rawType": "object",
         "type": "string"
        },
        {
         "name": "full_raw_auc",
         "rawType": "float64",
         "type": "float"
        },
        {
         "name": "full_raw_pr_auc",
         "rawType": "float64",
         "type": "float"
        },
        {
         "name": "base_raw_auc",
         "rawType": "float64",
         "type": "float"
        },
        {
         "name": "base_cal_auc",
         "rawType": "float64",
         "type": "float"
        },
        {
         "name": "base_cal_pr_auc",
         "rawType": "float64",
         "type": "float"
        },
        {
         "name": "base_cal_brier",
         "rawType": "float64",
         "type": "float"
        }
       ],
       "ref": "5b0fd7ef-9f75-4222-a751-39fb0299ff2c",
       "rows": [
        [
         "1",
         "mortality",
         "0.8642585409825214",
         "0.4288639226217046",
         "0.8626045711090127",
         "0.861057802986565",
         "0.40082378929727874",
         "0.07499164910501352"
        ],
        [
         "2",
         "prolonged_los",
         "0.8235340284575441",
         "0.8174052434036033",
         "0.8232364389326954",
         "0.8220015983739258",
         "0.8065178047151135",
         "0.17108614081722098"
        ],
        [
         "0",
         "readmission",
         "0.6567690948949327",
         "0.07275475673587438",
         "0.641395489019442",
         "0.6382679867927414",
         "0.06882812828306656",
         "0.041069304683666145"
        ]
       ],
       "shape": {
        "columns": 7,
        "rows": 3
       }
      },
      "text/html": [
       "<div>\n",
       "<style scoped>\n",
       "    .dataframe tbody tr th:only-of-type {\n",
       "        vertical-align: middle;\n",
       "    }\n",
       "\n",
       "    .dataframe tbody tr th {\n",
       "        vertical-align: top;\n",
       "    }\n",
       "\n",
       "    .dataframe thead th {\n",
       "        text-align: right;\n",
       "    }\n",
       "</style>\n",
       "<table border=\"1\" class=\"dataframe\">\n",
       "  <thead>\n",
       "    <tr style=\"text-align: right;\">\n",
       "      <th></th>\n",
       "      <th>target</th>\n",
       "      <th>full_raw_auc</th>\n",
       "      <th>full_raw_pr_auc</th>\n",
       "      <th>base_raw_auc</th>\n",
       "      <th>base_cal_auc</th>\n",
       "      <th>base_cal_pr_auc</th>\n",
       "      <th>base_cal_brier</th>\n",
       "    </tr>\n",
       "  </thead>\n",
       "  <tbody>\n",
       "    <tr>\n",
       "      <th>1</th>\n",
       "      <td>mortality</td>\n",
       "      <td>0.864259</td>\n",
       "      <td>0.428864</td>\n",
       "      <td>0.862605</td>\n",
       "      <td>0.861058</td>\n",
       "      <td>0.400824</td>\n",
       "      <td>0.074992</td>\n",
       "    </tr>\n",
       "    <tr>\n",
       "      <th>2</th>\n",
       "      <td>prolonged_los</td>\n",
       "      <td>0.823534</td>\n",
       "      <td>0.817405</td>\n",
       "      <td>0.823236</td>\n",
       "      <td>0.822002</td>\n",
       "      <td>0.806518</td>\n",
       "      <td>0.171086</td>\n",
       "    </tr>\n",
       "    <tr>\n",
       "      <th>0</th>\n",
       "      <td>readmission</td>\n",
       "      <td>0.656769</td>\n",
       "      <td>0.072755</td>\n",
       "      <td>0.641395</td>\n",
       "      <td>0.638268</td>\n",
       "      <td>0.068828</td>\n",
       "      <td>0.041069</td>\n",
       "    </tr>\n",
       "  </tbody>\n",
       "</table>\n",
       "</div>"
      ],
      "text/plain": [
       "          target  full_raw_auc  full_raw_pr_auc  base_raw_auc  base_cal_auc  base_cal_pr_auc  base_cal_brier\n",
       "1      mortality      0.864259         0.428864      0.862605      0.861058         0.400824        0.074992\n",
       "2  prolonged_los      0.823534         0.817405      0.823236      0.822002         0.806518        0.171086\n",
       "0    readmission      0.656769         0.072755      0.641395      0.638268         0.068828        0.041069"
      ]
     },
     "metadata": {},
     "output_type": "display_data"
    },
    {
     "name": "stdout",
     "output_type": "stream",
     "text": [
      "Wrote full_vs_calibrated_comparison.csv\n"
     ]
    }
   ],
   "source": [
    "# Compare full (train+val) vs base calibrated models on test\n",
    "from joblib import load as jobload\n",
    "import pandas as pd\n",
    "from sklearn.metrics import roc_auc_score, average_precision_score, brier_score_loss\n",
    "\n",
    "comparison_rows = []\n",
    "missing_any = False\n",
    "for tgt_name, label_col in TARGET_SPECS:\n",
    "    y_all = labels_df[label_col].astype(int).to_numpy()\n",
    "    y_te_t = y_all[idx_te]\n",
    "    full_path = ARTIFACTS_DIR / f'model_full_{tgt_name}.joblib'\n",
    "    base_path = ARTIFACTS_DIR / f'model_{tgt_name}.joblib'\n",
    "    iso_path = ARTIFACTS_DIR / f'isotonic_{tgt_name}.joblib'\n",
    "    if not (full_path.exists() and base_path.exists() and iso_path.exists()):\n",
    "        print('Skipping', tgt_name, 'missing one of required artifacts')\n",
    "        missing_any = True\n",
    "        continue\n",
    "    full_model = jobload(full_path)\n",
    "    base_model = jobload(base_path)\n",
    "    iso = jobload(iso_path)\n",
    "    raw_full = full_model.predict_proba(X_te)[:,1]\n",
    "    raw_base = base_model.predict_proba(X_te)[:,1]\n",
    "    cal_base = iso.transform(raw_base)\n",
    "    row = {\n",
    "        'target': tgt_name,\n",
    "        'full_raw_auc': roc_auc_score(y_te_t, raw_full),\n",
    "        'full_raw_pr_auc': average_precision_score(y_te_t, raw_full),\n",
    "        'base_raw_auc': roc_auc_score(y_te_t, raw_base),\n",
    "        'base_cal_auc': roc_auc_score(y_te_t, cal_base),\n",
    "        'base_cal_pr_auc': average_precision_score(y_te_t, cal_base),\n",
    "        'base_cal_brier': brier_score_loss(y_te_t, cal_base)\n",
    "    }\n",
    "    comparison_rows.append(row)\n",
    "\n",
    "comparison_df = pd.DataFrame(comparison_rows)\n",
    "if len(comparison_df):\n",
    "    display(comparison_df.sort_values('target'))\n",
    "    comparison_df.to_csv(ARTIFACTS_DIR / 'full_vs_calibrated_comparison.csv', index=False)\n",
    "    print('Wrote full_vs_calibrated_comparison.csv')\n",
    "else:\n",
    "    print('No comparison rows generated.')"
   ]
  },
  {
   "cell_type": "markdown",
   "id": "f9cd5b50",
   "metadata": {},
   "source": [
    "## 13. Inference Preview\n",
    "Load artifacts and score a small sample for sanity."
   ]
  },
  {
   "cell_type": "code",
   "execution_count": 16,
   "id": "655c8b4e",
   "metadata": {},
   "outputs": [
    {
     "name": "stdout",
     "output_type": "stream",
     "text": [
      "Wrote metrics_summary_enriched.csv\n"
     ]
    },
    {
     "data": {
      "application/vnd.microsoft.datawrangler.viewer.v0+json": {
       "columns": [
        {
         "name": "index",
         "rawType": "int64",
         "type": "integer"
        },
        {
         "name": "target",
         "rawType": "object",
         "type": "string"
        },
        {
         "name": "auc",
         "rawType": "float64",
         "type": "float"
        },
        {
         "name": "pr_auc",
         "rawType": "float64",
         "type": "float"
        },
        {
         "name": "brier",
         "rawType": "float64",
         "type": "float"
        },
        {
         "name": "threshold",
         "rawType": "float64",
         "type": "float"
        },
        {
         "name": "f1_at_threshold",
         "rawType": "float64",
         "type": "float"
        },
        {
         "name": "precision_at_threshold",
         "rawType": "float64",
         "type": "float"
        },
        {
         "name": "recall_at_threshold",
         "rawType": "float64",
         "type": "float"
        },
        {
         "name": "baseline_val_auc",
         "rawType": "float64",
         "type": "float"
        },
        {
         "name": "full_raw_auc",
         "rawType": "float64",
         "type": "float"
        },
        {
         "name": "full_raw_pr_auc",
         "rawType": "float64",
         "type": "float"
        },
        {
         "name": "base_raw_auc",
         "rawType": "float64",
         "type": "float"
        },
        {
         "name": "base_cal_auc",
         "rawType": "float64",
         "type": "float"
        },
        {
         "name": "base_cal_pr_auc",
         "rawType": "float64",
         "type": "float"
        },
        {
         "name": "base_cal_brier",
         "rawType": "float64",
         "type": "float"
        }
       ],
       "ref": "6315f861-8d11-49cb-929c-87114ebf3f4f",
       "rows": [
        [
         "1",
         "mortality",
         "0.861057802986565",
         "0.4008237892972787",
         "0.0749916491050135",
         "0.2064548494983277",
         "0.4497540402708282",
         "0.3883495145626355",
         "0.5342237061760697",
         "0.7923202360995261",
         "0.8642585409825214",
         "0.4288639226217046",
         "0.8626045711090127",
         "0.861057802986565",
         "0.4008237892972787",
         "0.0749916491050135"
        ],
        [
         "2",
         "prolonged_los",
         "0.8220015983739258",
         "0.8065178047151135",
         "0.1710861408172209",
         "0.3850501672240802",
         "0.7691595985782128",
         "0.708522727272526",
         "0.8411467116354667",
         "0.8021389673674395",
         "0.8235340284575441",
         "0.8174052434036033",
         "0.8232364389326954",
         "0.8220015983739258",
         "0.8065178047151135",
         "0.1710861408172209"
        ],
        [
         "0",
         "readmission",
         "0.6382679867927414",
         "0.0688281282830665",
         "0.0410693046836661",
         "0.0576254180602006",
         "0.1292897043929251",
         "0.0804369414100492",
         "0.3292682926815883",
         "0.5874388623638617",
         "0.6567690948949327",
         "0.0727547567358743",
         "0.641395489019442",
         "0.6382679867927414",
         "0.0688281282830665",
         "0.0410693046836661"
        ]
       ],
       "shape": {
        "columns": 15,
        "rows": 3
       }
      },
      "text/html": [
       "<div>\n",
       "<style scoped>\n",
       "    .dataframe tbody tr th:only-of-type {\n",
       "        vertical-align: middle;\n",
       "    }\n",
       "\n",
       "    .dataframe tbody tr th {\n",
       "        vertical-align: top;\n",
       "    }\n",
       "\n",
       "    .dataframe thead th {\n",
       "        text-align: right;\n",
       "    }\n",
       "</style>\n",
       "<table border=\"1\" class=\"dataframe\">\n",
       "  <thead>\n",
       "    <tr style=\"text-align: right;\">\n",
       "      <th></th>\n",
       "      <th>target</th>\n",
       "      <th>auc</th>\n",
       "      <th>pr_auc</th>\n",
       "      <th>brier</th>\n",
       "      <th>threshold</th>\n",
       "      <th>f1_at_threshold</th>\n",
       "      <th>precision_at_threshold</th>\n",
       "      <th>recall_at_threshold</th>\n",
       "      <th>baseline_val_auc</th>\n",
       "      <th>full_raw_auc</th>\n",
       "      <th>full_raw_pr_auc</th>\n",
       "      <th>base_raw_auc</th>\n",
       "      <th>base_cal_auc</th>\n",
       "      <th>base_cal_pr_auc</th>\n",
       "      <th>base_cal_brier</th>\n",
       "    </tr>\n",
       "  </thead>\n",
       "  <tbody>\n",
       "    <tr>\n",
       "      <th>1</th>\n",
       "      <td>mortality</td>\n",
       "      <td>0.861058</td>\n",
       "      <td>0.400824</td>\n",
       "      <td>0.074992</td>\n",
       "      <td>0.206455</td>\n",
       "      <td>0.449754</td>\n",
       "      <td>0.388350</td>\n",
       "      <td>0.534224</td>\n",
       "      <td>0.792320</td>\n",
       "      <td>0.864259</td>\n",
       "      <td>0.428864</td>\n",
       "      <td>0.862605</td>\n",
       "      <td>0.861058</td>\n",
       "      <td>0.400824</td>\n",
       "      <td>0.074992</td>\n",
       "    </tr>\n",
       "    <tr>\n",
       "      <th>2</th>\n",
       "      <td>prolonged_los</td>\n",
       "      <td>0.822002</td>\n",
       "      <td>0.806518</td>\n",
       "      <td>0.171086</td>\n",
       "      <td>0.385050</td>\n",
       "      <td>0.769160</td>\n",
       "      <td>0.708523</td>\n",
       "      <td>0.841147</td>\n",
       "      <td>0.802139</td>\n",
       "      <td>0.823534</td>\n",
       "      <td>0.817405</td>\n",
       "      <td>0.823236</td>\n",
       "      <td>0.822002</td>\n",
       "      <td>0.806518</td>\n",
       "      <td>0.171086</td>\n",
       "    </tr>\n",
       "    <tr>\n",
       "      <th>0</th>\n",
       "      <td>readmission</td>\n",
       "      <td>0.638268</td>\n",
       "      <td>0.068828</td>\n",
       "      <td>0.041069</td>\n",
       "      <td>0.057625</td>\n",
       "      <td>0.129290</td>\n",
       "      <td>0.080437</td>\n",
       "      <td>0.329268</td>\n",
       "      <td>0.587439</td>\n",
       "      <td>0.656769</td>\n",
       "      <td>0.072755</td>\n",
       "      <td>0.641395</td>\n",
       "      <td>0.638268</td>\n",
       "      <td>0.068828</td>\n",
       "      <td>0.041069</td>\n",
       "    </tr>\n",
       "  </tbody>\n",
       "</table>\n",
       "</div>"
      ],
      "text/plain": [
       "          target       auc    pr_auc     brier  threshold  f1_at_threshold  precision_at_threshold  recall_at_threshold  baseline_val_auc  full_raw_auc  full_raw_pr_auc  base_raw_auc  base_cal_auc  base_cal_pr_auc  base_cal_brier\n",
       "1      mortality  0.861058  0.400824  0.074992   0.206455         0.449754                0.388350             0.534224          0.792320      0.864259         0.428864      0.862605      0.861058         0.400824        0.074992\n",
       "2  prolonged_los  0.822002  0.806518  0.171086   0.385050         0.769160                0.708523             0.841147          0.802139      0.823534         0.817405      0.823236      0.822002         0.806518        0.171086\n",
       "0    readmission  0.638268  0.068828  0.041069   0.057625         0.129290                0.080437             0.329268          0.587439      0.656769         0.072755      0.641395      0.638268         0.068828        0.041069"
      ]
     },
     "metadata": {},
     "output_type": "display_data"
    }
   ],
   "source": [
    "# Merge comparison with metrics summary (enriched)\n",
    "import pandas as pd, json\n",
    "summary_path = ARTIFACTS_DIR / 'metrics_summary.csv'\n",
    "comp_path = ARTIFACTS_DIR / 'full_vs_calibrated_comparison.csv'\n",
    "if summary_path.exists() and comp_path.exists():\n",
    "    summary_df = pd.read_csv(summary_path)\n",
    "    comp_df = pd.read_csv(comp_path)\n",
    "    merged = summary_df.merge(comp_df, on='target', how='left')\n",
    "    merged.to_csv(ARTIFACTS_DIR / 'metrics_summary_enriched.csv', index=False)\n",
    "    print('Wrote metrics_summary_enriched.csv')\n",
    "    display(merged.sort_values('target'))\n",
    "else:\n",
    "    print('Missing one of summary or comparison CSV; skip enrichment.')"
   ]
  },
  {
   "cell_type": "code",
   "execution_count": 17,
   "id": "88049aaa",
   "metadata": {},
   "outputs": [
    {
     "data": {
      "application/vnd.microsoft.datawrangler.viewer.v0+json": {
       "columns": [
        {
         "name": "index",
         "rawType": "int64",
         "type": "integer"
        },
        {
         "name": "target",
         "rawType": "object",
         "type": "string"
        },
        {
         "name": "auc_full_raw",
         "rawType": "float64",
         "type": "float"
        },
        {
         "name": "auc_base_cal",
         "rawType": "float64",
         "type": "float"
        },
        {
         "name": "diff_full_minus_cal",
         "rawType": "float64",
         "type": "float"
        },
        {
         "name": "ci_95_lower",
         "rawType": "float64",
         "type": "float"
        },
        {
         "name": "ci_95_upper",
         "rawType": "float64",
         "type": "float"
        },
        {
         "name": "approx_p_two_sided",
         "rawType": "float64",
         "type": "float"
        },
        {
         "name": "n_test",
         "rawType": "int64",
         "type": "integer"
        },
        {
         "name": "n_boot_effective",
         "rawType": "int64",
         "type": "integer"
        }
       ],
       "ref": "e967ccf0-e57a-4c80-b266-540aca48c4c4",
       "rows": [
        [
         "1",
         "mortality",
         "0.8642585409825214",
         "0.861057802986565",
         "0.0032007379959564375",
         "-0.001591100439747131",
         "0.007945082074811594",
         "0.191904047976012",
         "5668",
         "2000"
        ],
        [
         "2",
         "prolonged_los",
         "0.8235340284575441",
         "0.8220015983739258",
         "0.0015324300836182525",
         "-0.000680390111046475",
         "0.003759898475601114",
         "0.18490754622688654",
         "5668",
         "2000"
        ],
        [
         "0",
         "readmission",
         "0.6567690948949327",
         "0.6382679867927414",
         "0.0185011081021913",
         "0.001551838928765975",
         "0.035946806381813724",
         "0.031984007996002",
         "5668",
         "2000"
        ]
       ],
       "shape": {
        "columns": 9,
        "rows": 3
       }
      },
      "text/html": [
       "<div>\n",
       "<style scoped>\n",
       "    .dataframe tbody tr th:only-of-type {\n",
       "        vertical-align: middle;\n",
       "    }\n",
       "\n",
       "    .dataframe tbody tr th {\n",
       "        vertical-align: top;\n",
       "    }\n",
       "\n",
       "    .dataframe thead th {\n",
       "        text-align: right;\n",
       "    }\n",
       "</style>\n",
       "<table border=\"1\" class=\"dataframe\">\n",
       "  <thead>\n",
       "    <tr style=\"text-align: right;\">\n",
       "      <th></th>\n",
       "      <th>target</th>\n",
       "      <th>auc_full_raw</th>\n",
       "      <th>auc_base_cal</th>\n",
       "      <th>diff_full_minus_cal</th>\n",
       "      <th>ci_95_lower</th>\n",
       "      <th>ci_95_upper</th>\n",
       "      <th>approx_p_two_sided</th>\n",
       "      <th>n_test</th>\n",
       "      <th>n_boot_effective</th>\n",
       "    </tr>\n",
       "  </thead>\n",
       "  <tbody>\n",
       "    <tr>\n",
       "      <th>1</th>\n",
       "      <td>mortality</td>\n",
       "      <td>0.864259</td>\n",
       "      <td>0.861058</td>\n",
       "      <td>0.003201</td>\n",
       "      <td>-0.001591</td>\n",
       "      <td>0.007945</td>\n",
       "      <td>0.191904</td>\n",
       "      <td>5668</td>\n",
       "      <td>2000</td>\n",
       "    </tr>\n",
       "    <tr>\n",
       "      <th>2</th>\n",
       "      <td>prolonged_los</td>\n",
       "      <td>0.823534</td>\n",
       "      <td>0.822002</td>\n",
       "      <td>0.001532</td>\n",
       "      <td>-0.000680</td>\n",
       "      <td>0.003760</td>\n",
       "      <td>0.184908</td>\n",
       "      <td>5668</td>\n",
       "      <td>2000</td>\n",
       "    </tr>\n",
       "    <tr>\n",
       "      <th>0</th>\n",
       "      <td>readmission</td>\n",
       "      <td>0.656769</td>\n",
       "      <td>0.638268</td>\n",
       "      <td>0.018501</td>\n",
       "      <td>0.001552</td>\n",
       "      <td>0.035947</td>\n",
       "      <td>0.031984</td>\n",
       "      <td>5668</td>\n",
       "      <td>2000</td>\n",
       "    </tr>\n",
       "  </tbody>\n",
       "</table>\n",
       "</div>"
      ],
      "text/plain": [
       "          target  auc_full_raw  auc_base_cal  diff_full_minus_cal  ci_95_lower  ci_95_upper  approx_p_two_sided  n_test  n_boot_effective\n",
       "1      mortality      0.864259      0.861058             0.003201    -0.001591     0.007945            0.191904    5668              2000\n",
       "2  prolonged_los      0.823534      0.822002             0.001532    -0.000680     0.003760            0.184908    5668              2000\n",
       "0    readmission      0.656769      0.638268             0.018501     0.001552     0.035947            0.031984    5668              2000"
      ]
     },
     "metadata": {},
     "output_type": "display_data"
    },
    {
     "name": "stdout",
     "output_type": "stream",
     "text": [
      "Wrote auc_diff_significance.csv\n"
     ]
    }
   ],
   "source": [
    "# AUC Difference Significance (Bootstrap between full_raw and base_cal)\n",
    "import numpy as np, pandas as pd\n",
    "from joblib import load as jobload\n",
    "from sklearn.metrics import roc_auc_score\n",
    "\n",
    "RESULTS = []\n",
    "N_BOOT = 2000  # increase for tighter CI (runtime ~ O(N_BOOT))\n",
    "RNG = np.random.default_rng(42)\n",
    "\n",
    "for tgt_name, label_col in TARGET_SPECS:\n",
    "    full_path = ARTIFACTS_DIR / f'model_full_{tgt_name}.joblib'\n",
    "    base_path = ARTIFACTS_DIR / f'model_{tgt_name}.joblib'\n",
    "    iso_path = ARTIFACTS_DIR / f'isotonic_{tgt_name}.joblib'\n",
    "    if not (full_path.exists() and base_path.exists() and iso_path.exists()):\n",
    "        print('Skip significance for', tgt_name, '(missing artifacts)')\n",
    "        continue\n",
    "    y_all = labels_df[label_col].astype(int).to_numpy()\n",
    "    y_te_t = y_all[idx_te]\n",
    "    full_model = jobload(full_path)\n",
    "    base_model = jobload(base_path)\n",
    "    iso = jobload(iso_path)\n",
    "    raw_full = full_model.predict_proba(X_te)[:,1]\n",
    "    cal_base = iso.transform(base_model.predict_proba(X_te)[:,1])\n",
    "    auc_full = roc_auc_score(y_te_t, raw_full)\n",
    "    auc_cal = roc_auc_score(y_te_t, cal_base)\n",
    "    diff = auc_full - auc_cal\n",
    "    n = len(y_te_t)\n",
    "    # Bootstrap\n",
    "    diffs = np.empty(N_BOOT)\n",
    "    for b in range(N_BOOT):\n",
    "        idx = RNG.integers(0, n, size=n)\n",
    "        y_b = y_te_t[idx]\n",
    "        rf_b = raw_full[idx]\n",
    "        cb_b = cal_base[idx]\n",
    "        try:\n",
    "            diffs[b] = roc_auc_score(y_b, rf_b) - roc_auc_score(y_b, cb_b)\n",
    "        except ValueError:\n",
    "            # In rare case bootstrap sample has only one class\n",
    "            diffs[b] = np.nan\n",
    "    diffs = diffs[~np.isnan(diffs)]\n",
    "    if len(diffs) < N_BOOT * 0.9:\n",
    "        print('Warning: many degenerate bootstrap samples for', tgt_name)\n",
    "    lower, upper = np.percentile(diffs, [2.5, 97.5])\n",
    "    # Two-sided p-value: proportion of bootstrap diffs with opposite sign or more extreme\n",
    "    if diff >= 0:\n",
    "        p = (np.sum(diffs <= 0) + 1) / (len(diffs) + 1)\n",
    "    else:\n",
    "        p = (np.sum(diffs >= 0) + 1) / (len(diffs) + 1)\n",
    "    RESULTS.append({\n",
    "        'target': tgt_name,\n",
    "        'auc_full_raw': auc_full,\n",
    "        'auc_base_cal': auc_cal,\n",
    "        'diff_full_minus_cal': diff,\n",
    "        'ci_95_lower': lower,\n",
    "        'ci_95_upper': upper,\n",
    "        'approx_p_two_sided': p * 2 if p * 2 <= 1 else 1.0,\n",
    "        'n_test': n,\n",
    "        'n_boot_effective': int(len(diffs))\n",
    "    })\n",
    "\n",
    "if RESULTS:\n",
    "    sig_df = pd.DataFrame(RESULTS).sort_values('target')\n",
    "    display(sig_df)\n",
    "    sig_df.to_csv(ARTIFACTS_DIR / 'auc_diff_significance.csv', index=False)\n",
    "    print('Wrote auc_diff_significance.csv')\n",
    "else:\n",
    "    print('No targets processed for significance analysis.')"
   ]
  }
 ],
 "metadata": {
  "kernelspec": {
   "display_name": ".venv (3.13.3)",
   "language": "python",
   "name": "python3"
  },
  "language_info": {
   "codemirror_mode": {
    "name": "ipython",
    "version": 3
   },
   "file_extension": ".py",
   "mimetype": "text/x-python",
   "name": "python",
   "nbconvert_exporter": "python",
   "pygments_lexer": "ipython3",
   "version": "3.13.3"
  }
 },
 "nbformat": 4,
 "nbformat_minor": 5
}
